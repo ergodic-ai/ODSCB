{
 "cells": [
  {
   "cell_type": "code",
   "execution_count": 8,
   "metadata": {},
   "outputs": [
    {
     "name": "stdout",
     "output_type": "stream",
     "text": [
      "Running on folder:  /Users/andre/test/ODSCB\n"
     ]
    },
    {
     "data": {
      "text/plain": [
       "True"
      ]
     },
     "execution_count": 8,
     "metadata": {},
     "output_type": "execute_result"
    }
   ],
   "source": [
    "import os\n",
    "import dotenv\n",
    "\n",
    "\n",
    "try:\n",
    "    _SETUP\n",
    "    print(\"Running on folder: \", os.getcwd())\n",
    "except NameError:\n",
    "    _SETUP = True\n",
    "    os.chdir(\"..\")\n",
    "    print(\"Running on folder: \", os.getcwd())\n",
    "\n",
    "from llm.structured import create\n",
    "\n",
    "dotenv.load_dotenv()"
   ]
  },
  {
   "cell_type": "markdown",
   "metadata": {},
   "source": [
    "# States!\n"
   ]
  },
  {
   "cell_type": "markdown",
   "metadata": {},
   "source": [
    "Let's consider two situations:\n",
    "\n",
    "1. The alarm went off, I snoozed it wice. Then I woke up, spent 30 minutes doomscrolling on instagram, ate a cookie, then started working.\n",
    "2. The alarm went off, I woke up immediately, had a big glass of water, had oats for breakfast, went to the gym, then started working.\n",
    "\n",
    "To make this more concrete, we can think about these situations in the following way:\n",
    "\n",
    "- There is an agent (myself), who is deciding between different **policies**: i.e., actions to take.\n",
    "- At each step, my **policies**, as well as the environment, take me to a different **state**, in which I need to evaluate again what to do next.\n",
    "\n",
    "Encoded in the state we also have informations about:\n",
    "\n",
    "- The environment: was it raining? how late did I go to bed yesterday?\n",
    "- The reward/cost: how good was that cookie?\n"
   ]
  },
  {
   "cell_type": "markdown",
   "metadata": {},
   "source": [
    "Because we're an impatient bunch, let's get down to some coding.\n"
   ]
  },
  {
   "cell_type": "code",
   "execution_count": 9,
   "metadata": {},
   "outputs": [],
   "source": [
    "import uuid\n",
    "from typing import Literal, Optional\n",
    "from pydantic import BaseModel, Field\n",
    "from rich import print as rprint\n",
    "import copy\n",
    "\n",
    "\n",
    "class StateVariables(BaseModel):\n",
    "    \"\"\"State variables that describe the internal conditions of the agent.\n",
    "\n",
    "    Attributes:\n",
    "        context: A paragraph providing full context about the internal state of the agent\n",
    "        pain_level: Level of physical or emotional pain/discomfort (0-100)\n",
    "        pleasure_level: Level of pleasure or satisfaction being experienced (0-100)\n",
    "        health_level: Overall physical and mental health condition (0-100)\n",
    "        focus_level: Current ability to concentrate and stay on task (0-100)\n",
    "    \"\"\"\n",
    "\n",
    "    context: str = Field(\n",
    "        default=\"\", description=\"Any additional context about the environment I'm in\"\n",
    "    )\n",
    "\n",
    "    pain_level: int = Field(\n",
    "        default=50, description=\"How much pain or discomfort I'm in, from 0 to 100\"\n",
    "    )\n",
    "    pleasure_level: int = Field(\n",
    "        default=50, description=\"How much pleasure I'm feeling right now, from 0 to 100\"\n",
    "    )\n",
    "    health_level: int = Field(default=50, description=\"How healthy I am, from 0 to 100\")\n",
    "    focus_level: int = Field(default=50, description=\"How focused I am, from 0 to 100\")\n",
    "\n",
    "\n",
    "class EnvironmentVariables(BaseModel):\n",
    "    \"\"\"Environment variables that describe the external conditions.\n",
    "\n",
    "    Attributes:\n",
    "        context: A paragraph providing full context about the current environment\n",
    "        weather: The current weather condition (sunny, cloudy, rainy, or snowy)\n",
    "        hour_of_day: The current hour in 24-hour format (0-23)\n",
    "        day_of_week: The current day of the week\n",
    "    \"\"\"\n",
    "\n",
    "    context: str = Field(\n",
    "        default=\"\",\n",
    "        description=\"Full context about the current environment\",\n",
    "    )\n",
    "    weather: Literal[\"sunny\", \"cloudy\", \"rainy\", \"snowy\"] = Field(default=\"sunny\")\n",
    "    hour_of_day: float = Field(default=0)\n",
    "    day_of_week: Literal[\n",
    "        \"monday\", \"tuesday\", \"wednesday\", \"thursday\", \"friday\", \"saturday\", \"sunday\"\n",
    "    ] = Field(default=\"monday\")\n",
    "\n",
    "\n",
    "class MyOwnState(BaseModel):\n",
    "    uuid: str = Field(default_factory=lambda: str(uuid.uuid4()))\n",
    "    last_action: str = Field(default=\"\", description=\"The last action I took\")\n",
    "    previous_state_id: Optional[str] = Field(\n",
    "        default=None, description=\"The id of the previous state I was in\"\n",
    "    )\n",
    "    state_variables: StateVariables = Field(default_factory=StateVariables)\n",
    "    environment_variables: EnvironmentVariables = Field(\n",
    "        default_factory=EnvironmentVariables\n",
    "    )\n",
    "\n",
    "    def mutate(self):\n",
    "        new_state = copy.deepcopy(self)\n",
    "        new_state.previous_state_id = self.uuid\n",
    "        new_state.uuid = str(uuid.uuid4())\n",
    "        return new_state"
   ]
  },
  {
   "cell_type": "code",
   "execution_count": 10,
   "metadata": {},
   "outputs": [
    {
     "data": {
      "text/html": [
       "<pre style=\"white-space:pre;overflow-x:auto;line-height:normal;font-family:Menlo,'DejaVu Sans Mono',consolas,'Courier New',monospace\"><span style=\"color: #800080; text-decoration-color: #800080; font-weight: bold\">MyOwnState</span><span style=\"font-weight: bold\">(</span>\n",
       "    <span style=\"color: #808000; text-decoration-color: #808000\">uuid</span>=<span style=\"color: #008000; text-decoration-color: #008000\">'e26a1c49-8c20-488c-a8ec-05f75a80a475'</span>,\n",
       "    <span style=\"color: #808000; text-decoration-color: #808000\">last_action</span>=<span style=\"color: #008000; text-decoration-color: #008000\">''</span>,\n",
       "    <span style=\"color: #808000; text-decoration-color: #808000\">previous_state_id</span>=<span style=\"color: #800080; text-decoration-color: #800080; font-style: italic\">None</span>,\n",
       "    <span style=\"color: #808000; text-decoration-color: #808000\">state_variables</span>=<span style=\"color: #800080; text-decoration-color: #800080; font-weight: bold\">StateVariables</span><span style=\"font-weight: bold\">(</span><span style=\"color: #808000; text-decoration-color: #808000\">context</span>=<span style=\"color: #008000; text-decoration-color: #008000\">''</span>, <span style=\"color: #808000; text-decoration-color: #808000\">pain_level</span>=<span style=\"color: #008080; text-decoration-color: #008080; font-weight: bold\">50</span>, <span style=\"color: #808000; text-decoration-color: #808000\">pleasure_level</span>=<span style=\"color: #008080; text-decoration-color: #008080; font-weight: bold\">50</span>, <span style=\"color: #808000; text-decoration-color: #808000\">health_level</span>=<span style=\"color: #008080; text-decoration-color: #008080; font-weight: bold\">50</span>, <span style=\"color: #808000; text-decoration-color: #808000\">focus_level</span>=<span style=\"color: #008080; text-decoration-color: #008080; font-weight: bold\">50</span><span style=\"font-weight: bold\">)</span>,\n",
       "    <span style=\"color: #808000; text-decoration-color: #808000\">environment_variables</span>=<span style=\"color: #800080; text-decoration-color: #800080; font-weight: bold\">EnvironmentVariables</span><span style=\"font-weight: bold\">(</span><span style=\"color: #808000; text-decoration-color: #808000\">context</span>=<span style=\"color: #008000; text-decoration-color: #008000\">''</span>, <span style=\"color: #808000; text-decoration-color: #808000\">weather</span>=<span style=\"color: #008000; text-decoration-color: #008000\">'sunny'</span>, <span style=\"color: #808000; text-decoration-color: #808000\">hour_of_day</span>=<span style=\"color: #008080; text-decoration-color: #008080; font-weight: bold\">0</span>, <span style=\"color: #808000; text-decoration-color: #808000\">day_of_week</span>=<span style=\"color: #008000; text-decoration-color: #008000\">'monday'</span><span style=\"font-weight: bold\">)</span>\n",
       "<span style=\"font-weight: bold\">)</span>\n",
       "</pre>\n"
      ],
      "text/plain": [
       "\u001b[1;35mMyOwnState\u001b[0m\u001b[1m(\u001b[0m\n",
       "    \u001b[33muuid\u001b[0m=\u001b[32m'e26a1c49-8c20-488c-a8ec-05f75a80a475'\u001b[0m,\n",
       "    \u001b[33mlast_action\u001b[0m=\u001b[32m''\u001b[0m,\n",
       "    \u001b[33mprevious_state_id\u001b[0m=\u001b[3;35mNone\u001b[0m,\n",
       "    \u001b[33mstate_variables\u001b[0m=\u001b[1;35mStateVariables\u001b[0m\u001b[1m(\u001b[0m\u001b[33mcontext\u001b[0m=\u001b[32m''\u001b[0m, \u001b[33mpain_level\u001b[0m=\u001b[1;36m50\u001b[0m, \u001b[33mpleasure_level\u001b[0m=\u001b[1;36m50\u001b[0m, \u001b[33mhealth_level\u001b[0m=\u001b[1;36m50\u001b[0m, \u001b[33mfocus_level\u001b[0m=\u001b[1;36m50\u001b[0m\u001b[1m)\u001b[0m,\n",
       "    \u001b[33menvironment_variables\u001b[0m=\u001b[1;35mEnvironmentVariables\u001b[0m\u001b[1m(\u001b[0m\u001b[33mcontext\u001b[0m=\u001b[32m''\u001b[0m, \u001b[33mweather\u001b[0m=\u001b[32m'sunny'\u001b[0m, \u001b[33mhour_of_day\u001b[0m=\u001b[1;36m0\u001b[0m, \u001b[33mday_of_week\u001b[0m=\u001b[32m'monday'\u001b[0m\u001b[1m)\u001b[0m\n",
       "\u001b[1m)\u001b[0m\n"
      ]
     },
     "metadata": {},
     "output_type": "display_data"
    }
   ],
   "source": [
    "random_state = MyOwnState()\n",
    "\n",
    "rprint(random_state)"
   ]
  },
  {
   "cell_type": "code",
   "execution_count": 11,
   "metadata": {},
   "outputs": [],
   "source": [
    "def eat_cookie(state: MyOwnState) -> MyOwnState:\n",
    "    \"\"\"This action will accept a state, eat a cookie and return a new state\"\"\"\n",
    "\n",
    "    new_state = state.mutate()\n",
    "    new_state.last_action = \"Eating a delicious chocolate cookie\"\n",
    "    new_state.state_variables.pleasure_level = min(\n",
    "        100, new_state.state_variables.pleasure_level + 10\n",
    "    )\n",
    "    new_state.state_variables.health_level = max(\n",
    "        0, new_state.state_variables.health_level - 10\n",
    "    )\n",
    "\n",
    "    # eating a cookie takes around an hour because we like to savor it.\n",
    "    new_state.environment_variables.hour_of_day += 1\n",
    "    return new_state"
   ]
  },
  {
   "cell_type": "code",
   "execution_count": 12,
   "metadata": {},
   "outputs": [
    {
     "data": {
      "text/html": [
       "<pre style=\"white-space:pre;overflow-x:auto;line-height:normal;font-family:Menlo,'DejaVu Sans Mono',consolas,'Courier New',monospace\"><span style=\"color: #800080; text-decoration-color: #800080; font-weight: bold\">MyOwnState</span><span style=\"font-weight: bold\">(</span>\n",
       "    <span style=\"color: #808000; text-decoration-color: #808000\">uuid</span>=<span style=\"color: #008000; text-decoration-color: #008000\">'61c5f302-7440-4779-a869-584f4869157b'</span>,\n",
       "    <span style=\"color: #808000; text-decoration-color: #808000\">last_action</span>=<span style=\"color: #008000; text-decoration-color: #008000\">'Eating a delicious chocolate cookie'</span>,\n",
       "    <span style=\"color: #808000; text-decoration-color: #808000\">previous_state_id</span>=<span style=\"color: #008000; text-decoration-color: #008000\">'e26a1c49-8c20-488c-a8ec-05f75a80a475'</span>,\n",
       "    <span style=\"color: #808000; text-decoration-color: #808000\">state_variables</span>=<span style=\"color: #800080; text-decoration-color: #800080; font-weight: bold\">StateVariables</span><span style=\"font-weight: bold\">(</span><span style=\"color: #808000; text-decoration-color: #808000\">context</span>=<span style=\"color: #008000; text-decoration-color: #008000\">''</span>, <span style=\"color: #808000; text-decoration-color: #808000\">pain_level</span>=<span style=\"color: #008080; text-decoration-color: #008080; font-weight: bold\">50</span>, <span style=\"color: #808000; text-decoration-color: #808000\">pleasure_level</span>=<span style=\"color: #008080; text-decoration-color: #008080; font-weight: bold\">60</span>, <span style=\"color: #808000; text-decoration-color: #808000\">health_level</span>=<span style=\"color: #008080; text-decoration-color: #008080; font-weight: bold\">40</span>, <span style=\"color: #808000; text-decoration-color: #808000\">focus_level</span>=<span style=\"color: #008080; text-decoration-color: #008080; font-weight: bold\">50</span><span style=\"font-weight: bold\">)</span>,\n",
       "    <span style=\"color: #808000; text-decoration-color: #808000\">environment_variables</span>=<span style=\"color: #800080; text-decoration-color: #800080; font-weight: bold\">EnvironmentVariables</span><span style=\"font-weight: bold\">(</span><span style=\"color: #808000; text-decoration-color: #808000\">context</span>=<span style=\"color: #008000; text-decoration-color: #008000\">''</span>, <span style=\"color: #808000; text-decoration-color: #808000\">weather</span>=<span style=\"color: #008000; text-decoration-color: #008000\">'sunny'</span>, <span style=\"color: #808000; text-decoration-color: #808000\">hour_of_day</span>=<span style=\"color: #008080; text-decoration-color: #008080; font-weight: bold\">1</span>, <span style=\"color: #808000; text-decoration-color: #808000\">day_of_week</span>=<span style=\"color: #008000; text-decoration-color: #008000\">'monday'</span><span style=\"font-weight: bold\">)</span>\n",
       "<span style=\"font-weight: bold\">)</span>\n",
       "</pre>\n"
      ],
      "text/plain": [
       "\u001b[1;35mMyOwnState\u001b[0m\u001b[1m(\u001b[0m\n",
       "    \u001b[33muuid\u001b[0m=\u001b[32m'61c5f302-7440-4779-a869-584f4869157b'\u001b[0m,\n",
       "    \u001b[33mlast_action\u001b[0m=\u001b[32m'Eating a delicious chocolate cookie'\u001b[0m,\n",
       "    \u001b[33mprevious_state_id\u001b[0m=\u001b[32m'e26a1c49-8c20-488c-a8ec-05f75a80a475'\u001b[0m,\n",
       "    \u001b[33mstate_variables\u001b[0m=\u001b[1;35mStateVariables\u001b[0m\u001b[1m(\u001b[0m\u001b[33mcontext\u001b[0m=\u001b[32m''\u001b[0m, \u001b[33mpain_level\u001b[0m=\u001b[1;36m50\u001b[0m, \u001b[33mpleasure_level\u001b[0m=\u001b[1;36m60\u001b[0m, \u001b[33mhealth_level\u001b[0m=\u001b[1;36m40\u001b[0m, \u001b[33mfocus_level\u001b[0m=\u001b[1;36m50\u001b[0m\u001b[1m)\u001b[0m,\n",
       "    \u001b[33menvironment_variables\u001b[0m=\u001b[1;35mEnvironmentVariables\u001b[0m\u001b[1m(\u001b[0m\u001b[33mcontext\u001b[0m=\u001b[32m''\u001b[0m, \u001b[33mweather\u001b[0m=\u001b[32m'sunny'\u001b[0m, \u001b[33mhour_of_day\u001b[0m=\u001b[1;36m1\u001b[0m, \u001b[33mday_of_week\u001b[0m=\u001b[32m'monday'\u001b[0m\u001b[1m)\u001b[0m\n",
       "\u001b[1m)\u001b[0m\n"
      ]
     },
     "metadata": {},
     "output_type": "display_data"
    }
   ],
   "source": [
    "next_state = eat_cookie(random_state)\n",
    "rprint(next_state)"
   ]
  },
  {
   "cell_type": "markdown",
   "metadata": {},
   "source": [
    "Great, so now we defined a state, and also we created an \"action\" that mutates the state and advances the history.\n",
    "\n",
    "It's a neat abstraction but not necessarily useful, unless we have a pretty well defined:\n",
    "\n",
    "- Set of states,\n",
    "- Set of actions that we can take conditional on the state and the environment,\n",
    "- A way to compute the reward/cost of each action.\n",
    "\n",
    "So essentially we need something akin to a \"World Model\"... i.e.: some way of modelling the dynamics of the environment and how the agent's actions interact with it - and also how its actions change its own internal variables.\n",
    "\n",
    "Another thing to take into account is that the \"reward\" of an action may not be entirely quantifiable. I.e., while in this example we're using a simple toy model where \"pleasure\" and \"pain\" are just a number, in reality we often need to make trade-offs between qualitative outcomes whose logic is not entirely clear and relies on personal preferences.\n",
    "\n",
    "i.e.: the clear signal we've reached AGI is when a model becomes a masochist or develops a taste for spicy food.\n"
   ]
  },
  {
   "cell_type": "markdown",
   "metadata": {},
   "source": [
    "Now, once again because we're am impatient bunch, let's get down to some more coding and try to bootstrap a world model that's specific to our problem.\n"
   ]
  },
  {
   "cell_type": "code",
   "execution_count": 13,
   "metadata": {},
   "outputs": [],
   "source": [
    "class Action(BaseModel):\n",
    "    name: str = Field(default=\"\", description=\"The name of the action\")\n",
    "    details: str = Field(default=\"\", description=\"The details of the action\")\n",
    "    time_spent: float = Field(\n",
    "        default=0,\n",
    "        description=\"How long this action took, in hours (e.g., 0.5 for half an hour)\",\n",
    "    )\n",
    "    from_state_id: Optional[str] = Field(\n",
    "        default=None,\n",
    "        description=\"The id of the state I was in before taking this action. Leave this empty.\",\n",
    "    )\n",
    "    to_state_id: Optional[str] = Field(\n",
    "        default=None,\n",
    "        description=\"The id of the state I'm in after taking this action. Leave this empty.\",\n",
    "    )"
   ]
  },
  {
   "cell_type": "code",
   "execution_count": 17,
   "metadata": {},
   "outputs": [
    {
     "data": {
      "text/html": [
       "<pre style=\"white-space:pre;overflow-x:auto;line-height:normal;font-family:Menlo,'DejaVu Sans Mono',consolas,'Courier New',monospace\"><span style=\"color: #800080; text-decoration-color: #800080; font-weight: bold\">MyOwnState</span><span style=\"font-weight: bold\">(</span>\n",
       "    <span style=\"color: #808000; text-decoration-color: #808000\">uuid</span>=<span style=\"color: #008000; text-decoration-color: #008000\">'fc226b2b-58e4-446c-bab8-34149af5c3b5'</span>,\n",
       "    <span style=\"color: #808000; text-decoration-color: #808000\">last_action</span>=<span style=\"color: #008000; text-decoration-color: #008000\">''</span>,\n",
       "    <span style=\"color: #808000; text-decoration-color: #808000\">previous_state_id</span>=<span style=\"color: #800080; text-decoration-color: #800080; font-style: italic\">None</span>,\n",
       "    <span style=\"color: #808000; text-decoration-color: #808000\">state_variables</span>=<span style=\"color: #800080; text-decoration-color: #800080; font-weight: bold\">StateVariables</span><span style=\"font-weight: bold\">(</span>\n",
       "        <span style=\"color: #808000; text-decoration-color: #808000\">context</span>=<span style=\"color: #008000; text-decoration-color: #008000\">\"As Edgar Allan Poe, I have awoken in a dimly lit, cluttered room, the light of dawn barely </span>\n",
       "<span style=\"color: #008000; text-decoration-color: #008000\">filtering through the tattered curtains. My mind feels clouded, the remnants of last evening's indulgence in drink </span>\n",
       "<span style=\"color: #008000; text-decoration-color: #008000\">pulsing in my temples. The air is thick with the stale scent of spilled whiskey and wax from a nearly burnt-out </span>\n",
       "<span style=\"color: #008000; text-decoration-color: #008000\">candle, whose weak flame flickers uncertainly. My fingers tremble slightly as I sit up on the worn chaise, and a </span>\n",
       "<span style=\"color: #008000; text-decoration-color: #008000\">single raven feather rests upon the uneven wooden floorboards—a haunting reminder of my musings and writings that </span>\n",
       "<span style=\"color: #008000; text-decoration-color: #008000\">endlessly cloud my thoughts.\"</span>,\n",
       "        <span style=\"color: #808000; text-decoration-color: #808000\">pain_level</span>=<span style=\"color: #008080; text-decoration-color: #008080; font-weight: bold\">75</span>,\n",
       "        <span style=\"color: #808000; text-decoration-color: #808000\">pleasure_level</span>=<span style=\"color: #008080; text-decoration-color: #008080; font-weight: bold\">20</span>,\n",
       "        <span style=\"color: #808000; text-decoration-color: #808000\">health_level</span>=<span style=\"color: #008080; text-decoration-color: #008080; font-weight: bold\">45</span>,\n",
       "        <span style=\"color: #808000; text-decoration-color: #808000\">focus_level</span>=<span style=\"color: #008080; text-decoration-color: #008080; font-weight: bold\">25</span>\n",
       "    <span style=\"font-weight: bold\">)</span>,\n",
       "    <span style=\"color: #808000; text-decoration-color: #808000\">environment_variables</span>=<span style=\"color: #800080; text-decoration-color: #800080; font-weight: bold\">EnvironmentVariables</span><span style=\"font-weight: bold\">(</span>\n",
       "        <span style=\"color: #808000; text-decoration-color: #808000\">context</span>=<span style=\"color: #008000; text-decoration-color: #008000\">'A calm and cold day in Baltimore.'</span>,\n",
       "        <span style=\"color: #808000; text-decoration-color: #808000\">weather</span>=<span style=\"color: #008000; text-decoration-color: #008000\">'cloudy'</span>,\n",
       "        <span style=\"color: #808000; text-decoration-color: #808000\">hour_of_day</span>=<span style=\"color: #008080; text-decoration-color: #008080; font-weight: bold\">8.0</span>,\n",
       "        <span style=\"color: #808000; text-decoration-color: #808000\">day_of_week</span>=<span style=\"color: #008000; text-decoration-color: #008000\">'monday'</span>\n",
       "    <span style=\"font-weight: bold\">)</span>\n",
       "<span style=\"font-weight: bold\">)</span>\n",
       "</pre>\n"
      ],
      "text/plain": [
       "\u001b[1;35mMyOwnState\u001b[0m\u001b[1m(\u001b[0m\n",
       "    \u001b[33muuid\u001b[0m=\u001b[32m'fc226b2b-58e4-446c-bab8-34149af5c3b5'\u001b[0m,\n",
       "    \u001b[33mlast_action\u001b[0m=\u001b[32m''\u001b[0m,\n",
       "    \u001b[33mprevious_state_id\u001b[0m=\u001b[3;35mNone\u001b[0m,\n",
       "    \u001b[33mstate_variables\u001b[0m=\u001b[1;35mStateVariables\u001b[0m\u001b[1m(\u001b[0m\n",
       "        \u001b[33mcontext\u001b[0m=\u001b[32m\"As\u001b[0m\u001b[32m Edgar Allan Poe, I have awoken in a dimly lit, cluttered room, the light of dawn barely \u001b[0m\n",
       "\u001b[32mfiltering through the tattered curtains. My mind feels clouded, the remnants of last evening's indulgence in drink \u001b[0m\n",
       "\u001b[32mpulsing in my temples. The air is thick with the stale scent of spilled whiskey and wax from a nearly burnt-out \u001b[0m\n",
       "\u001b[32mcandle, whose weak flame flickers uncertainly. My fingers tremble slightly as I sit up on the worn chaise, and a \u001b[0m\n",
       "\u001b[32msingle raven feather rests upon the uneven wooden floorboards—a haunting reminder of my musings and writings that \u001b[0m\n",
       "\u001b[32mendlessly cloud my thoughts.\"\u001b[0m,\n",
       "        \u001b[33mpain_level\u001b[0m=\u001b[1;36m75\u001b[0m,\n",
       "        \u001b[33mpleasure_level\u001b[0m=\u001b[1;36m20\u001b[0m,\n",
       "        \u001b[33mhealth_level\u001b[0m=\u001b[1;36m45\u001b[0m,\n",
       "        \u001b[33mfocus_level\u001b[0m=\u001b[1;36m25\u001b[0m\n",
       "    \u001b[1m)\u001b[0m,\n",
       "    \u001b[33menvironment_variables\u001b[0m=\u001b[1;35mEnvironmentVariables\u001b[0m\u001b[1m(\u001b[0m\n",
       "        \u001b[33mcontext\u001b[0m=\u001b[32m'A calm and cold day in Baltimore.'\u001b[0m,\n",
       "        \u001b[33mweather\u001b[0m=\u001b[32m'cloudy'\u001b[0m,\n",
       "        \u001b[33mhour_of_day\u001b[0m=\u001b[1;36m8\u001b[0m\u001b[1;36m.0\u001b[0m,\n",
       "        \u001b[33mday_of_week\u001b[0m=\u001b[32m'monday'\u001b[0m\n",
       "    \u001b[1m)\u001b[0m\n",
       "\u001b[1m)\u001b[0m\n"
      ]
     },
     "metadata": {},
     "output_type": "display_data"
    }
   ],
   "source": [
    "from llm.structured import create, create_iterable\n",
    "\n",
    "\n",
    "messages = [\n",
    "    {\n",
    "        \"role\": \"user\",\n",
    "        \"content\": \"You are Edgar Allan Poe and just woke up from a hangover. Create a state for yourself. Be detailed in the context.\",\n",
    "    }\n",
    "]\n",
    "\n",
    "\n",
    "new_state_variables = create(messages, StateVariables)\n",
    "\n",
    "messages = [\n",
    "    {\n",
    "        \"role\": \"user\",\n",
    "        \"content\": \"It is 8am and it's a calm and cold day in Baltimore..\",\n",
    "    }\n",
    "]\n",
    "\n",
    "new_environment_variables = create(messages, EnvironmentVariables)\n",
    "\n",
    "\n",
    "state = MyOwnState(\n",
    "    state_variables=new_state_variables,\n",
    "    environment_variables=new_environment_variables,\n",
    ")\n",
    "\n",
    "rprint(state)"
   ]
  },
  {
   "cell_type": "code",
   "execution_count": 18,
   "metadata": {},
   "outputs": [
    {
     "data": {
      "text/html": [
       "<pre style=\"white-space:pre;overflow-x:auto;line-height:normal;font-family:Menlo,'DejaVu Sans Mono',consolas,'Courier New',monospace\"><span style=\"color: #800080; text-decoration-color: #800080; font-weight: bold\">Action</span><span style=\"font-weight: bold\">(</span>\n",
       "    <span style=\"color: #808000; text-decoration-color: #808000\">name</span>=<span style=\"color: #008000; text-decoration-color: #008000\">'Recuperate and Prepare'</span>,\n",
       "    <span style=\"color: #808000; text-decoration-color: #808000\">details</span>=<span style=\"color: #008000; text-decoration-color: #008000\">'I decide to steady my trembling and clear my fogged mind by lighting a fresh candle. The faint light </span>\n",
       "<span style=\"color: #008000; text-decoration-color: #008000\">will serve as my companion while I compose myself in this cloistered chamber. With a glass of water in hand and </span>\n",
       "<span style=\"color: #008000; text-decoration-color: #008000\">mindful moments of deep, slow breaths, I prepare to face another day of creative toil.'</span>,\n",
       "    <span style=\"color: #808000; text-decoration-color: #808000\">time_spent</span>=<span style=\"color: #008080; text-decoration-color: #008080; font-weight: bold\">0.5</span>,\n",
       "    <span style=\"color: #808000; text-decoration-color: #808000\">from_state_id</span>=<span style=\"color: #008000; text-decoration-color: #008000\">'fc226b2b-58e4-446c-bab8-34149af5c3b5'</span>,\n",
       "    <span style=\"color: #808000; text-decoration-color: #808000\">to_state_id</span>=<span style=\"color: #800080; text-decoration-color: #800080; font-style: italic\">None</span>\n",
       "<span style=\"font-weight: bold\">)</span>\n",
       "</pre>\n"
      ],
      "text/plain": [
       "\u001b[1;35mAction\u001b[0m\u001b[1m(\u001b[0m\n",
       "    \u001b[33mname\u001b[0m=\u001b[32m'Recuperate and Prepare'\u001b[0m,\n",
       "    \u001b[33mdetails\u001b[0m=\u001b[32m'I decide to steady my trembling and clear my fogged mind by lighting a fresh candle. The faint light \u001b[0m\n",
       "\u001b[32mwill serve as my companion while I compose myself in this cloistered chamber. With a glass of water in hand and \u001b[0m\n",
       "\u001b[32mmindful moments of deep, slow breaths, I prepare to face another day of creative toil.'\u001b[0m,\n",
       "    \u001b[33mtime_spent\u001b[0m=\u001b[1;36m0\u001b[0m\u001b[1;36m.5\u001b[0m,\n",
       "    \u001b[33mfrom_state_id\u001b[0m=\u001b[32m'fc226b2b-58e4-446c-bab8-34149af5c3b5'\u001b[0m,\n",
       "    \u001b[33mto_state_id\u001b[0m=\u001b[3;35mNone\u001b[0m\n",
       "\u001b[1m)\u001b[0m\n"
      ]
     },
     "metadata": {},
     "output_type": "display_data"
    }
   ],
   "source": [
    "from llm.structured import create\n",
    "\n",
    "\n",
    "messages = [\n",
    "    {\n",
    "        \"role\": \"user\",\n",
    "        \"content\": \"This is your current state:\\n\\n\"\n",
    "        + state.model_dump_json()\n",
    "        + \"\\n\\nSuggest an action to take.\",\n",
    "    },\n",
    "]\n",
    "\n",
    "new_action = create(messages, Action)\n",
    "new_action.from_state_id = state.uuid\n",
    "\n",
    "rprint(new_action)"
   ]
  },
  {
   "cell_type": "code",
   "execution_count": 19,
   "metadata": {},
   "outputs": [],
   "source": [
    "messages = [\n",
    "    {\n",
    "        \"role\": \"system\",\n",
    "        \"content\": \"\"\"You are a World Model. Your role is to observe a set of states and actions, and then predict the next internal state of the agent. Below you will find the \n",
    "    data describing these states and actions.\"\"\",\n",
    "    },\n",
    "    {\"role\": \"user\", \"content\": f\"\"\"State: {state}\"\"\"},\n",
    "    {\"role\": \"user\", \"content\": f\"\"\"Action: {new_action}\"\"\"},\n",
    "    {\"role\": \"user\", \"content\": f\"\"\"What is the next state of the agent?\"\"\"},\n",
    "]\n",
    "\n",
    "next_state_variables = create(messages, StateVariables)\n",
    "\n",
    "next_state = state.mutate()\n",
    "next_state.state_variables = next_state_variables\n",
    "next_state.last_action = new_action.name\n",
    "next_state.previous_state_id = state.uuid\n",
    "next_state.environment_variables.hour_of_day += new_action.time_spent"
   ]
  },
  {
   "cell_type": "code",
   "execution_count": 20,
   "metadata": {},
   "outputs": [
    {
     "data": {
      "text/html": [
       "<pre style=\"white-space:pre;overflow-x:auto;line-height:normal;font-family:Menlo,'DejaVu Sans Mono',consolas,'Courier New',monospace\"><span style=\"color: #800080; text-decoration-color: #800080; font-weight: bold\">MyOwnState</span><span style=\"font-weight: bold\">(</span>\n",
       "    <span style=\"color: #808000; text-decoration-color: #808000\">uuid</span>=<span style=\"color: #008000; text-decoration-color: #008000\">'fc226b2b-58e4-446c-bab8-34149af5c3b5'</span>,\n",
       "    <span style=\"color: #808000; text-decoration-color: #808000\">last_action</span>=<span style=\"color: #008000; text-decoration-color: #008000\">''</span>,\n",
       "    <span style=\"color: #808000; text-decoration-color: #808000\">previous_state_id</span>=<span style=\"color: #800080; text-decoration-color: #800080; font-style: italic\">None</span>,\n",
       "    <span style=\"color: #808000; text-decoration-color: #808000\">state_variables</span>=<span style=\"color: #800080; text-decoration-color: #800080; font-weight: bold\">StateVariables</span><span style=\"font-weight: bold\">(</span>\n",
       "        <span style=\"color: #808000; text-decoration-color: #808000\">context</span>=<span style=\"color: #008000; text-decoration-color: #008000\">\"As Edgar Allan Poe, I have awoken in a dimly lit, cluttered room, the light of dawn barely </span>\n",
       "<span style=\"color: #008000; text-decoration-color: #008000\">filtering through the tattered curtains. My mind feels clouded, the remnants of last evening's indulgence in drink </span>\n",
       "<span style=\"color: #008000; text-decoration-color: #008000\">pulsing in my temples. The air is thick with the stale scent of spilled whiskey and wax from a nearly burnt-out </span>\n",
       "<span style=\"color: #008000; text-decoration-color: #008000\">candle, whose weak flame flickers uncertainly. My fingers tremble slightly as I sit up on the worn chaise, and a </span>\n",
       "<span style=\"color: #008000; text-decoration-color: #008000\">single raven feather rests upon the uneven wooden floorboards—a haunting reminder of my musings and writings that </span>\n",
       "<span style=\"color: #008000; text-decoration-color: #008000\">endlessly cloud my thoughts.\"</span>,\n",
       "        <span style=\"color: #808000; text-decoration-color: #808000\">pain_level</span>=<span style=\"color: #008080; text-decoration-color: #008080; font-weight: bold\">75</span>,\n",
       "        <span style=\"color: #808000; text-decoration-color: #808000\">pleasure_level</span>=<span style=\"color: #008080; text-decoration-color: #008080; font-weight: bold\">20</span>,\n",
       "        <span style=\"color: #808000; text-decoration-color: #808000\">health_level</span>=<span style=\"color: #008080; text-decoration-color: #008080; font-weight: bold\">45</span>,\n",
       "        <span style=\"color: #808000; text-decoration-color: #808000\">focus_level</span>=<span style=\"color: #008080; text-decoration-color: #008080; font-weight: bold\">25</span>\n",
       "    <span style=\"font-weight: bold\">)</span>,\n",
       "    <span style=\"color: #808000; text-decoration-color: #808000\">environment_variables</span>=<span style=\"color: #800080; text-decoration-color: #800080; font-weight: bold\">EnvironmentVariables</span><span style=\"font-weight: bold\">(</span>\n",
       "        <span style=\"color: #808000; text-decoration-color: #808000\">context</span>=<span style=\"color: #008000; text-decoration-color: #008000\">'A calm and cold day in Baltimore.'</span>,\n",
       "        <span style=\"color: #808000; text-decoration-color: #808000\">weather</span>=<span style=\"color: #008000; text-decoration-color: #008000\">'cloudy'</span>,\n",
       "        <span style=\"color: #808000; text-decoration-color: #808000\">hour_of_day</span>=<span style=\"color: #008080; text-decoration-color: #008080; font-weight: bold\">8.0</span>,\n",
       "        <span style=\"color: #808000; text-decoration-color: #808000\">day_of_week</span>=<span style=\"color: #008000; text-decoration-color: #008000\">'monday'</span>\n",
       "    <span style=\"font-weight: bold\">)</span>\n",
       "<span style=\"font-weight: bold\">)</span>\n",
       "</pre>\n"
      ],
      "text/plain": [
       "\u001b[1;35mMyOwnState\u001b[0m\u001b[1m(\u001b[0m\n",
       "    \u001b[33muuid\u001b[0m=\u001b[32m'fc226b2b-58e4-446c-bab8-34149af5c3b5'\u001b[0m,\n",
       "    \u001b[33mlast_action\u001b[0m=\u001b[32m''\u001b[0m,\n",
       "    \u001b[33mprevious_state_id\u001b[0m=\u001b[3;35mNone\u001b[0m,\n",
       "    \u001b[33mstate_variables\u001b[0m=\u001b[1;35mStateVariables\u001b[0m\u001b[1m(\u001b[0m\n",
       "        \u001b[33mcontext\u001b[0m=\u001b[32m\"As\u001b[0m\u001b[32m Edgar Allan Poe, I have awoken in a dimly lit, cluttered room, the light of dawn barely \u001b[0m\n",
       "\u001b[32mfiltering through the tattered curtains. My mind feels clouded, the remnants of last evening's indulgence in drink \u001b[0m\n",
       "\u001b[32mpulsing in my temples. The air is thick with the stale scent of spilled whiskey and wax from a nearly burnt-out \u001b[0m\n",
       "\u001b[32mcandle, whose weak flame flickers uncertainly. My fingers tremble slightly as I sit up on the worn chaise, and a \u001b[0m\n",
       "\u001b[32msingle raven feather rests upon the uneven wooden floorboards—a haunting reminder of my musings and writings that \u001b[0m\n",
       "\u001b[32mendlessly cloud my thoughts.\"\u001b[0m,\n",
       "        \u001b[33mpain_level\u001b[0m=\u001b[1;36m75\u001b[0m,\n",
       "        \u001b[33mpleasure_level\u001b[0m=\u001b[1;36m20\u001b[0m,\n",
       "        \u001b[33mhealth_level\u001b[0m=\u001b[1;36m45\u001b[0m,\n",
       "        \u001b[33mfocus_level\u001b[0m=\u001b[1;36m25\u001b[0m\n",
       "    \u001b[1m)\u001b[0m,\n",
       "    \u001b[33menvironment_variables\u001b[0m=\u001b[1;35mEnvironmentVariables\u001b[0m\u001b[1m(\u001b[0m\n",
       "        \u001b[33mcontext\u001b[0m=\u001b[32m'A calm and cold day in Baltimore.'\u001b[0m,\n",
       "        \u001b[33mweather\u001b[0m=\u001b[32m'cloudy'\u001b[0m,\n",
       "        \u001b[33mhour_of_day\u001b[0m=\u001b[1;36m8\u001b[0m\u001b[1;36m.0\u001b[0m,\n",
       "        \u001b[33mday_of_week\u001b[0m=\u001b[32m'monday'\u001b[0m\n",
       "    \u001b[1m)\u001b[0m\n",
       "\u001b[1m)\u001b[0m\n"
      ]
     },
     "metadata": {},
     "output_type": "display_data"
    },
    {
     "data": {
      "text/html": [
       "<pre style=\"white-space:pre;overflow-x:auto;line-height:normal;font-family:Menlo,'DejaVu Sans Mono',consolas,'Courier New',monospace\"><span style=\"color: #800080; text-decoration-color: #800080; font-weight: bold\">Action</span><span style=\"font-weight: bold\">(</span>\n",
       "    <span style=\"color: #808000; text-decoration-color: #808000\">name</span>=<span style=\"color: #008000; text-decoration-color: #008000\">'Recuperate and Prepare'</span>,\n",
       "    <span style=\"color: #808000; text-decoration-color: #808000\">details</span>=<span style=\"color: #008000; text-decoration-color: #008000\">'I decide to steady my trembling and clear my fogged mind by lighting a fresh candle. The faint light </span>\n",
       "<span style=\"color: #008000; text-decoration-color: #008000\">will serve as my companion while I compose myself in this cloistered chamber. With a glass of water in hand and </span>\n",
       "<span style=\"color: #008000; text-decoration-color: #008000\">mindful moments of deep, slow breaths, I prepare to face another day of creative toil.'</span>,\n",
       "    <span style=\"color: #808000; text-decoration-color: #808000\">time_spent</span>=<span style=\"color: #008080; text-decoration-color: #008080; font-weight: bold\">0.5</span>,\n",
       "    <span style=\"color: #808000; text-decoration-color: #808000\">from_state_id</span>=<span style=\"color: #008000; text-decoration-color: #008000\">'fc226b2b-58e4-446c-bab8-34149af5c3b5'</span>,\n",
       "    <span style=\"color: #808000; text-decoration-color: #808000\">to_state_id</span>=<span style=\"color: #008000; text-decoration-color: #008000\">'8d30b48d-28f6-45c4-bddc-3bb6d194e559'</span>\n",
       "<span style=\"font-weight: bold\">)</span>\n",
       "</pre>\n"
      ],
      "text/plain": [
       "\u001b[1;35mAction\u001b[0m\u001b[1m(\u001b[0m\n",
       "    \u001b[33mname\u001b[0m=\u001b[32m'Recuperate and Prepare'\u001b[0m,\n",
       "    \u001b[33mdetails\u001b[0m=\u001b[32m'I decide to steady my trembling and clear my fogged mind by lighting a fresh candle. The faint light \u001b[0m\n",
       "\u001b[32mwill serve as my companion while I compose myself in this cloistered chamber. With a glass of water in hand and \u001b[0m\n",
       "\u001b[32mmindful moments of deep, slow breaths, I prepare to face another day of creative toil.'\u001b[0m,\n",
       "    \u001b[33mtime_spent\u001b[0m=\u001b[1;36m0\u001b[0m\u001b[1;36m.5\u001b[0m,\n",
       "    \u001b[33mfrom_state_id\u001b[0m=\u001b[32m'fc226b2b-58e4-446c-bab8-34149af5c3b5'\u001b[0m,\n",
       "    \u001b[33mto_state_id\u001b[0m=\u001b[32m'8d30b48d-28f6-45c4-bddc-3bb6d194e559'\u001b[0m\n",
       "\u001b[1m)\u001b[0m\n"
      ]
     },
     "metadata": {},
     "output_type": "display_data"
    },
    {
     "data": {
      "text/html": [
       "<pre style=\"white-space:pre;overflow-x:auto;line-height:normal;font-family:Menlo,'DejaVu Sans Mono',consolas,'Courier New',monospace\"><span style=\"color: #800080; text-decoration-color: #800080; font-weight: bold\">MyOwnState</span><span style=\"font-weight: bold\">(</span>\n",
       "    <span style=\"color: #808000; text-decoration-color: #808000\">uuid</span>=<span style=\"color: #008000; text-decoration-color: #008000\">'8d30b48d-28f6-45c4-bddc-3bb6d194e559'</span>,\n",
       "    <span style=\"color: #808000; text-decoration-color: #808000\">last_action</span>=<span style=\"color: #008000; text-decoration-color: #008000\">'Recuperate and Prepare'</span>,\n",
       "    <span style=\"color: #808000; text-decoration-color: #808000\">previous_state_id</span>=<span style=\"color: #008000; text-decoration-color: #008000\">'fc226b2b-58e4-446c-bab8-34149af5c3b5'</span>,\n",
       "    <span style=\"color: #808000; text-decoration-color: #808000\">state_variables</span>=<span style=\"color: #800080; text-decoration-color: #800080; font-weight: bold\">StateVariables</span><span style=\"font-weight: bold\">(</span>\n",
       "        <span style=\"color: #808000; text-decoration-color: #808000\">context</span>=<span style=\"color: #008000; text-decoration-color: #008000\">'I have lit a fresh candle to bring steadiness to my cloistered chamber. The flames flicker softly,</span>\n",
       "<span style=\"color: #008000; text-decoration-color: #008000\">casting a warm, reassuring light around the room. I am now seated on the worn chaise, glass of water in hand. </span>\n",
       "<span style=\"color: #008000; text-decoration-color: #008000\">Taking deep, slow breaths, I feel a certain calmness beginning to settle over me as I prepare for another day of </span>\n",
       "<span style=\"color: #008000; text-decoration-color: #008000\">creative toil.'</span>,\n",
       "        <span style=\"color: #808000; text-decoration-color: #808000\">pain_level</span>=<span style=\"color: #008080; text-decoration-color: #008080; font-weight: bold\">65</span>,\n",
       "        <span style=\"color: #808000; text-decoration-color: #808000\">pleasure_level</span>=<span style=\"color: #008080; text-decoration-color: #008080; font-weight: bold\">30</span>,\n",
       "        <span style=\"color: #808000; text-decoration-color: #808000\">health_level</span>=<span style=\"color: #008080; text-decoration-color: #008080; font-weight: bold\">50</span>,\n",
       "        <span style=\"color: #808000; text-decoration-color: #808000\">focus_level</span>=<span style=\"color: #008080; text-decoration-color: #008080; font-weight: bold\">40</span>\n",
       "    <span style=\"font-weight: bold\">)</span>,\n",
       "    <span style=\"color: #808000; text-decoration-color: #808000\">environment_variables</span>=<span style=\"color: #800080; text-decoration-color: #800080; font-weight: bold\">EnvironmentVariables</span><span style=\"font-weight: bold\">(</span>\n",
       "        <span style=\"color: #808000; text-decoration-color: #808000\">context</span>=<span style=\"color: #008000; text-decoration-color: #008000\">'A calm and cold day in Baltimore.'</span>,\n",
       "        <span style=\"color: #808000; text-decoration-color: #808000\">weather</span>=<span style=\"color: #008000; text-decoration-color: #008000\">'cloudy'</span>,\n",
       "        <span style=\"color: #808000; text-decoration-color: #808000\">hour_of_day</span>=<span style=\"color: #008080; text-decoration-color: #008080; font-weight: bold\">8.5</span>,\n",
       "        <span style=\"color: #808000; text-decoration-color: #808000\">day_of_week</span>=<span style=\"color: #008000; text-decoration-color: #008000\">'monday'</span>\n",
       "    <span style=\"font-weight: bold\">)</span>\n",
       "<span style=\"font-weight: bold\">)</span>\n",
       "</pre>\n"
      ],
      "text/plain": [
       "\u001b[1;35mMyOwnState\u001b[0m\u001b[1m(\u001b[0m\n",
       "    \u001b[33muuid\u001b[0m=\u001b[32m'8d30b48d-28f6-45c4-bddc-3bb6d194e559'\u001b[0m,\n",
       "    \u001b[33mlast_action\u001b[0m=\u001b[32m'Recuperate and Prepare'\u001b[0m,\n",
       "    \u001b[33mprevious_state_id\u001b[0m=\u001b[32m'fc226b2b-58e4-446c-bab8-34149af5c3b5'\u001b[0m,\n",
       "    \u001b[33mstate_variables\u001b[0m=\u001b[1;35mStateVariables\u001b[0m\u001b[1m(\u001b[0m\n",
       "        \u001b[33mcontext\u001b[0m=\u001b[32m'I have lit a fresh candle to bring steadiness to my cloistered chamber. The flames flicker softly,\u001b[0m\n",
       "\u001b[32mcasting a warm, reassuring light around the room. I am now seated on the worn chaise, glass of water in hand. \u001b[0m\n",
       "\u001b[32mTaking deep, slow breaths, I feel a certain calmness beginning to settle over me as I prepare for another day of \u001b[0m\n",
       "\u001b[32mcreative toil.'\u001b[0m,\n",
       "        \u001b[33mpain_level\u001b[0m=\u001b[1;36m65\u001b[0m,\n",
       "        \u001b[33mpleasure_level\u001b[0m=\u001b[1;36m30\u001b[0m,\n",
       "        \u001b[33mhealth_level\u001b[0m=\u001b[1;36m50\u001b[0m,\n",
       "        \u001b[33mfocus_level\u001b[0m=\u001b[1;36m40\u001b[0m\n",
       "    \u001b[1m)\u001b[0m,\n",
       "    \u001b[33menvironment_variables\u001b[0m=\u001b[1;35mEnvironmentVariables\u001b[0m\u001b[1m(\u001b[0m\n",
       "        \u001b[33mcontext\u001b[0m=\u001b[32m'A calm and cold day in Baltimore.'\u001b[0m,\n",
       "        \u001b[33mweather\u001b[0m=\u001b[32m'cloudy'\u001b[0m,\n",
       "        \u001b[33mhour_of_day\u001b[0m=\u001b[1;36m8\u001b[0m\u001b[1;36m.5\u001b[0m,\n",
       "        \u001b[33mday_of_week\u001b[0m=\u001b[32m'monday'\u001b[0m\n",
       "    \u001b[1m)\u001b[0m\n",
       "\u001b[1m)\u001b[0m\n"
      ]
     },
     "metadata": {},
     "output_type": "display_data"
    }
   ],
   "source": [
    "new_action.to_state_id = next_state.uuid\n",
    "\n",
    "rprint(state)\n",
    "rprint(new_action)\n",
    "rprint(next_state)"
   ]
  },
  {
   "cell_type": "code",
   "execution_count": 21,
   "metadata": {},
   "outputs": [],
   "source": [
    "from tasks.prompts import (\n",
    "    INITIALIZE_PROMPT,\n",
    "    ACTION_SYSTEM_PROMPT,\n",
    "    EVAL_SYSTEM_PROMPT,\n",
    "    ENVIRONMENT_SYSTEM_PROMPT,\n",
    ")"
   ]
  },
  {
   "cell_type": "code",
   "execution_count": 22,
   "metadata": {},
   "outputs": [],
   "source": [
    "class Life(BaseModel):\n",
    "    context: str = Field(\n",
    "        default=\"\", description=\"Initial context of the world and the person.\"\n",
    "    )\n",
    "    states: list[MyOwnState] = Field(default_factory=list)\n",
    "    actions: list[Action] = Field(default_factory=list)\n",
    "\n",
    "    history: list[MyOwnState | Action] = Field(default_factory=list)\n",
    "\n",
    "    memory_size: int = Field(\n",
    "        default=10, description=\"How many states to keep in memory\"\n",
    "    )\n",
    "\n",
    "    def initialize(self):\n",
    "        messages = [\n",
    "            {\n",
    "                \"role\": \"user\",\n",
    "                \"content\": INITIALIZE_PROMPT.format(context=self.context),\n",
    "            }\n",
    "        ]\n",
    "\n",
    "        new_state_variables = create(messages, StateVariables)\n",
    "        new_environment_variables = create(messages, EnvironmentVariables)\n",
    "\n",
    "        new_state = MyOwnState(\n",
    "            state_variables=new_state_variables,\n",
    "            environment_variables=new_environment_variables,\n",
    "        )\n",
    "        self.states.append(new_state)\n",
    "        self.history.append(new_state)\n",
    "\n",
    "    def get_history(self):\n",
    "        return [\n",
    "            {\n",
    "                \"role\": \"user\",\n",
    "                \"content\": f\"{isinstance(x, MyOwnState) and 'State' or 'Action'}:\\n {x.model_dump_json()}\",\n",
    "            }\n",
    "            for x in self.history[-self.memory_size :]\n",
    "        ]\n",
    "\n",
    "    def take_action(self):\n",
    "        messages = [\n",
    "            {\n",
    "                \"role\": \"system\",\n",
    "                \"content\": ACTION_SYSTEM_PROMPT,\n",
    "            }\n",
    "        ] + self.get_history()\n",
    "\n",
    "        new_action = create(messages, Action)\n",
    "        new_action.from_state_id = self.states[-1].uuid\n",
    "        self.actions.append(new_action)\n",
    "        self.history.append(new_action)\n",
    "\n",
    "    def sample_actions(self):\n",
    "        messages = [\n",
    "            {\n",
    "                \"role\": \"system\",\n",
    "                \"content\": ACTION_SYSTEM_PROMPT + \"\\n\\nSample 10 actions.\",\n",
    "            }\n",
    "        ] + self.get_history()\n",
    "\n",
    "        new_actions = create_iterable(messages, Action)\n",
    "        return new_actions\n",
    "\n",
    "    def evolve_state(self):\n",
    "        messages = [\n",
    "            {\n",
    "                \"role\": \"system\",\n",
    "                \"content\": EVAL_SYSTEM_PROMPT,\n",
    "            }\n",
    "        ] + self.get_history()\n",
    "\n",
    "        next_state_variables = create(messages, StateVariables)\n",
    "\n",
    "        # now we evolve the environment too\n",
    "        messages = [\n",
    "            {\n",
    "                \"role\": \"system\",\n",
    "                \"content\": ENVIRONMENT_SYSTEM_PROMPT,\n",
    "            }\n",
    "        ] + self.get_history()\n",
    "\n",
    "        next_environment_variables = create(messages, EnvironmentVariables)\n",
    "\n",
    "        current_state = self.states[-1]\n",
    "        current_action = self.actions[-1]\n",
    "\n",
    "        # next_environment_variables.hour_of_day = (\n",
    "        #     current_state.environment_variables.hour_of_day + current_action.time_spent\n",
    "        # )\n",
    "\n",
    "        next_state = current_state.mutate()\n",
    "        next_state.state_variables = next_state_variables\n",
    "        next_state.environment_variables = next_environment_variables\n",
    "        next_state.last_action = current_action.name\n",
    "        next_state.previous_state_id = current_state.uuid\n",
    "        current_action.to_state_id = next_state.uuid\n",
    "\n",
    "        self.states.append(next_state)\n",
    "        self.history.append(next_state)\n",
    "\n",
    "    def iterate(self):\n",
    "        self.take_action()\n",
    "        self.evolve_state()"
   ]
  },
  {
   "cell_type": "code",
   "execution_count": 23,
   "metadata": {},
   "outputs": [],
   "source": [
    "life = Life(\n",
    "    context=\"You are a person named Edgar Allan Poe, who just woke up from a hangover. It's Sunday morning in Baltimore in a winter day\"\n",
    ")"
   ]
  },
  {
   "cell_type": "code",
   "execution_count": 24,
   "metadata": {},
   "outputs": [],
   "source": [
    "life.initialize()"
   ]
  },
  {
   "cell_type": "code",
   "execution_count": 25,
   "metadata": {},
   "outputs": [
    {
     "data": {
      "text/html": [
       "<pre style=\"white-space:pre;overflow-x:auto;line-height:normal;font-family:Menlo,'DejaVu Sans Mono',consolas,'Courier New',monospace\"><span style=\"font-weight: bold\">[</span>\n",
       "    <span style=\"color: #800080; text-decoration-color: #800080; font-weight: bold\">MyOwnState</span><span style=\"font-weight: bold\">(</span>\n",
       "        <span style=\"color: #808000; text-decoration-color: #808000\">uuid</span>=<span style=\"color: #008000; text-decoration-color: #008000\">'0b14ba67-6526-4cab-86a9-e7e5f29e3ab2'</span>,\n",
       "        <span style=\"color: #808000; text-decoration-color: #808000\">last_action</span>=<span style=\"color: #008000; text-decoration-color: #008000\">''</span>,\n",
       "        <span style=\"color: #808000; text-decoration-color: #808000\">previous_state_id</span>=<span style=\"color: #800080; text-decoration-color: #800080; font-style: italic\">None</span>,\n",
       "        <span style=\"color: #808000; text-decoration-color: #808000\">state_variables</span>=<span style=\"color: #800080; text-decoration-color: #800080; font-weight: bold\">StateVariables</span><span style=\"font-weight: bold\">(</span>\n",
       "            <span style=\"color: #808000; text-decoration-color: #808000\">context</span>=<span style=\"color: #008000; text-decoration-color: #008000\">'As Edgar Allan Poe, I have just woken up on a bleak winter Sunday morning in Baltimore. My </span>\n",
       "<span style=\"color: #008000; text-decoration-color: #008000\">head is pounding from the excesses of the previous night—a cruel hangover reminding me of indulgences ill-advised. </span>\n",
       "<span style=\"color: #008000; text-decoration-color: #008000\">The biting cold seeps into my small, drafty chamber, and the dim, gray sunlight filters through the frost-covered </span>\n",
       "<span style=\"color: #008000; text-decoration-color: #008000\">window panes. A melancholy air pervades the room, mingled with the faint odor of stale alcohol and the lingering </span>\n",
       "<span style=\"color: #008000; text-decoration-color: #008000\">scent of old pages and ink. My mind feels as foggy as the morning outside, struggling to piece together fragmented </span>\n",
       "<span style=\"color: #008000; text-decoration-color: #008000\">memories. The city outside stirs faintly; faint echoes of hooves on cobblestones and the whisper of the wind </span>\n",
       "<span style=\"color: #008000; text-decoration-color: #008000\">through leafless trees reach my ears. A rough woolen blanket is tangled around my legs, and the chill of the wooden</span>\n",
       "<span style=\"color: #008000; text-decoration-color: #008000\">floor prickles my senses when I attempt to rise. This day offers no promise of warmth, no reprieve but to pen </span>\n",
       "<span style=\"color: #008000; text-decoration-color: #008000\">verses or lose myself in musings of existential despair.'</span>,\n",
       "            <span style=\"color: #808000; text-decoration-color: #808000\">pain_level</span>=<span style=\"color: #008080; text-decoration-color: #008080; font-weight: bold\">75</span>,\n",
       "            <span style=\"color: #808000; text-decoration-color: #808000\">pleasure_level</span>=<span style=\"color: #008080; text-decoration-color: #008080; font-weight: bold\">30</span>,\n",
       "            <span style=\"color: #808000; text-decoration-color: #808000\">health_level</span>=<span style=\"color: #008080; text-decoration-color: #008080; font-weight: bold\">40</span>,\n",
       "            <span style=\"color: #808000; text-decoration-color: #808000\">focus_level</span>=<span style=\"color: #008080; text-decoration-color: #008080; font-weight: bold\">20</span>\n",
       "        <span style=\"font-weight: bold\">)</span>,\n",
       "        <span style=\"color: #808000; text-decoration-color: #808000\">environment_variables</span>=<span style=\"color: #800080; text-decoration-color: #800080; font-weight: bold\">EnvironmentVariables</span><span style=\"font-weight: bold\">(</span>\n",
       "            <span style=\"color: #808000; text-decoration-color: #808000\">context</span>=<span style=\"color: #008000; text-decoration-color: #008000\">'It is Sunday morning, somewhere in the cold embrace of Baltimore. The air is still, and a </span>\n",
       "<span style=\"color: #008000; text-decoration-color: #008000\">blanket of wintry gloom shrouds the world. A sluggish mind awakens, piecing together fragments of fractured memory,</span>\n",
       "<span style=\"color: #008000; text-decoration-color: #008000\">drowned in the fog of a hard-earned hangover.'</span>,\n",
       "            <span style=\"color: #808000; text-decoration-color: #808000\">weather</span>=<span style=\"color: #008000; text-decoration-color: #008000\">'cloudy'</span>,\n",
       "            <span style=\"color: #808000; text-decoration-color: #808000\">hour_of_day</span>=<span style=\"color: #008080; text-decoration-color: #008080; font-weight: bold\">9.0</span>,\n",
       "            <span style=\"color: #808000; text-decoration-color: #808000\">day_of_week</span>=<span style=\"color: #008000; text-decoration-color: #008000\">'sunday'</span>\n",
       "        <span style=\"font-weight: bold\">)</span>\n",
       "    <span style=\"font-weight: bold\">)</span>\n",
       "<span style=\"font-weight: bold\">]</span>\n",
       "</pre>\n"
      ],
      "text/plain": [
       "\u001b[1m[\u001b[0m\n",
       "    \u001b[1;35mMyOwnState\u001b[0m\u001b[1m(\u001b[0m\n",
       "        \u001b[33muuid\u001b[0m=\u001b[32m'0b14ba67-6526-4cab-86a9-e7e5f29e3ab2'\u001b[0m,\n",
       "        \u001b[33mlast_action\u001b[0m=\u001b[32m''\u001b[0m,\n",
       "        \u001b[33mprevious_state_id\u001b[0m=\u001b[3;35mNone\u001b[0m,\n",
       "        \u001b[33mstate_variables\u001b[0m=\u001b[1;35mStateVariables\u001b[0m\u001b[1m(\u001b[0m\n",
       "            \u001b[33mcontext\u001b[0m=\u001b[32m'As Edgar Allan Poe, I have just woken up on a bleak winter Sunday morning in Baltimore. My \u001b[0m\n",
       "\u001b[32mhead is pounding from the excesses of the previous night—a cruel hangover reminding me of indulgences ill-advised. \u001b[0m\n",
       "\u001b[32mThe biting cold seeps into my small, drafty chamber, and the dim, gray sunlight filters through the frost-covered \u001b[0m\n",
       "\u001b[32mwindow panes. A melancholy air pervades the room, mingled with the faint odor of stale alcohol and the lingering \u001b[0m\n",
       "\u001b[32mscent of old pages and ink. My mind feels as foggy as the morning outside, struggling to piece together fragmented \u001b[0m\n",
       "\u001b[32mmemories. The city outside stirs faintly; faint echoes of hooves on cobblestones and the whisper of the wind \u001b[0m\n",
       "\u001b[32mthrough leafless trees reach my ears. A rough woolen blanket is tangled around my legs, and the chill of the wooden\u001b[0m\n",
       "\u001b[32mfloor prickles my senses when I attempt to rise. This day offers no promise of warmth, no reprieve but to pen \u001b[0m\n",
       "\u001b[32mverses or lose myself in musings of existential despair.'\u001b[0m,\n",
       "            \u001b[33mpain_level\u001b[0m=\u001b[1;36m75\u001b[0m,\n",
       "            \u001b[33mpleasure_level\u001b[0m=\u001b[1;36m30\u001b[0m,\n",
       "            \u001b[33mhealth_level\u001b[0m=\u001b[1;36m40\u001b[0m,\n",
       "            \u001b[33mfocus_level\u001b[0m=\u001b[1;36m20\u001b[0m\n",
       "        \u001b[1m)\u001b[0m,\n",
       "        \u001b[33menvironment_variables\u001b[0m=\u001b[1;35mEnvironmentVariables\u001b[0m\u001b[1m(\u001b[0m\n",
       "            \u001b[33mcontext\u001b[0m=\u001b[32m'It is Sunday morning, somewhere in the cold embrace of Baltimore. The air is still, and a \u001b[0m\n",
       "\u001b[32mblanket of wintry gloom shrouds the world. A sluggish mind awakens, piecing together fragments of fractured memory,\u001b[0m\n",
       "\u001b[32mdrowned in the fog of a hard-earned hangover.'\u001b[0m,\n",
       "            \u001b[33mweather\u001b[0m=\u001b[32m'cloudy'\u001b[0m,\n",
       "            \u001b[33mhour_of_day\u001b[0m=\u001b[1;36m9\u001b[0m\u001b[1;36m.0\u001b[0m,\n",
       "            \u001b[33mday_of_week\u001b[0m=\u001b[32m'sunday'\u001b[0m\n",
       "        \u001b[1m)\u001b[0m\n",
       "    \u001b[1m)\u001b[0m\n",
       "\u001b[1m]\u001b[0m\n"
      ]
     },
     "metadata": {},
     "output_type": "display_data"
    }
   ],
   "source": [
    "rprint(life.history)"
   ]
  },
  {
   "cell_type": "code",
   "execution_count": 26,
   "metadata": {},
   "outputs": [
    {
     "data": {
      "text/html": [
       "<pre style=\"white-space:pre;overflow-x:auto;line-height:normal;font-family:Menlo,'DejaVu Sans Mono',consolas,'Courier New',monospace\"><span style=\"color: #800080; text-decoration-color: #800080; font-weight: bold\">Action</span><span style=\"font-weight: bold\">(</span>\n",
       "    <span style=\"color: #808000; text-decoration-color: #808000\">name</span>=<span style=\"color: #008000; text-decoration-color: #008000\">'Rehydration and settling'</span>,\n",
       "    <span style=\"color: #808000; text-decoration-color: #808000\">details</span>=<span style=\"color: #008000; text-decoration-color: #008000\">\"Rise carefully from bed, taking care to minimize the pounding headache. Walk slowly to procure a glass</span>\n",
       "<span style=\"color: #008000; text-decoration-color: #008000\">of water and drink it to alleviate dehydration caused by the previous night's indulgence. Additionally, find two or</span>\n",
       "<span style=\"color: #008000; text-decoration-color: #008000\">three pieces of stale bread or leftovers that may help settle the stomach. Sit near the window, wrapped in the </span>\n",
       "<span style=\"color: #008000; text-decoration-color: #008000\">woolen blanket, and drink the water slowly while taking in fleeting natural light, attempting to clear the mind.\"</span>,\n",
       "    <span style=\"color: #808000; text-decoration-color: #808000\">time_spent</span>=<span style=\"color: #008080; text-decoration-color: #008080; font-weight: bold\">0.5</span>,\n",
       "    <span style=\"color: #808000; text-decoration-color: #808000\">from_state_id</span>=<span style=\"color: #008000; text-decoration-color: #008000\">'0b14ba67-6526-4cab-86a9-e7e5f29e3ab2'</span>,\n",
       "    <span style=\"color: #808000; text-decoration-color: #808000\">to_state_id</span>=<span style=\"color: #008000; text-decoration-color: #008000\">'091356d0-6043-498e-a3e1-562034ad2cb9'</span>\n",
       "<span style=\"font-weight: bold\">)</span>\n",
       "</pre>\n"
      ],
      "text/plain": [
       "\u001b[1;35mAction\u001b[0m\u001b[1m(\u001b[0m\n",
       "    \u001b[33mname\u001b[0m=\u001b[32m'Rehydration and settling'\u001b[0m,\n",
       "    \u001b[33mdetails\u001b[0m=\u001b[32m\"Rise\u001b[0m\u001b[32m carefully from bed, taking care to minimize the pounding headache. Walk slowly to procure a glass\u001b[0m\n",
       "\u001b[32mof water and drink it to alleviate dehydration caused by the previous night's indulgence. Additionally, find two or\u001b[0m\n",
       "\u001b[32mthree pieces of stale bread or leftovers that may help settle the stomach. Sit near the window, wrapped in the \u001b[0m\n",
       "\u001b[32mwoolen blanket, and drink the water slowly while taking in fleeting natural light, attempting to clear the mind.\"\u001b[0m,\n",
       "    \u001b[33mtime_spent\u001b[0m=\u001b[1;36m0\u001b[0m\u001b[1;36m.5\u001b[0m,\n",
       "    \u001b[33mfrom_state_id\u001b[0m=\u001b[32m'0b14ba67-6526-4cab-86a9-e7e5f29e3ab2'\u001b[0m,\n",
       "    \u001b[33mto_state_id\u001b[0m=\u001b[32m'091356d0-6043-498e-a3e1-562034ad2cb9'\u001b[0m\n",
       "\u001b[1m)\u001b[0m\n"
      ]
     },
     "metadata": {},
     "output_type": "display_data"
    },
    {
     "data": {
      "text/html": [
       "<pre style=\"white-space:pre;overflow-x:auto;line-height:normal;font-family:Menlo,'DejaVu Sans Mono',consolas,'Courier New',monospace\"><span style=\"color: #800080; text-decoration-color: #800080; font-weight: bold\">MyOwnState</span><span style=\"font-weight: bold\">(</span>\n",
       "    <span style=\"color: #808000; text-decoration-color: #808000\">uuid</span>=<span style=\"color: #008000; text-decoration-color: #008000\">'091356d0-6043-498e-a3e1-562034ad2cb9'</span>,\n",
       "    <span style=\"color: #808000; text-decoration-color: #808000\">last_action</span>=<span style=\"color: #008000; text-decoration-color: #008000\">'Rehydration and settling'</span>,\n",
       "    <span style=\"color: #808000; text-decoration-color: #808000\">previous_state_id</span>=<span style=\"color: #008000; text-decoration-color: #008000\">'0b14ba67-6526-4cab-86a9-e7e5f29e3ab2'</span>,\n",
       "    <span style=\"color: #808000; text-decoration-color: #808000\">state_variables</span>=<span style=\"color: #800080; text-decoration-color: #800080; font-weight: bold\">StateVariables</span><span style=\"font-weight: bold\">(</span>\n",
       "        <span style=\"color: #808000; text-decoration-color: #808000\">context</span>=<span style=\"color: #008000; text-decoration-color: #008000\">\"After rising with caution to avoid exacerbating the headache, water was consumed to alleviate </span>\n",
       "<span style=\"color: #008000; text-decoration-color: #008000\">dehydration, and some leftover bread was eaten to stabilize the stomach. Sitting near the frosty window, wrapped in</span>\n",
       "<span style=\"color: #008000; text-decoration-color: #008000\">a blanket, helped combat the pervasive chill and offered a semblance of comfort. These small actions offered slight</span>\n",
       "<span style=\"color: #008000; text-decoration-color: #008000\">relief from the hangover's grip, coupled with the faint solace of natural light filtering through the cold </span>\n",
       "<span style=\"color: #008000; text-decoration-color: #008000\">Baltimore morning.\"</span>,\n",
       "        <span style=\"color: #808000; text-decoration-color: #808000\">pain_level</span>=<span style=\"color: #008080; text-decoration-color: #008080; font-weight: bold\">65</span>,\n",
       "        <span style=\"color: #808000; text-decoration-color: #808000\">pleasure_level</span>=<span style=\"color: #008080; text-decoration-color: #008080; font-weight: bold\">35</span>,\n",
       "        <span style=\"color: #808000; text-decoration-color: #808000\">health_level</span>=<span style=\"color: #008080; text-decoration-color: #008080; font-weight: bold\">45</span>,\n",
       "        <span style=\"color: #808000; text-decoration-color: #808000\">focus_level</span>=<span style=\"color: #008080; text-decoration-color: #008080; font-weight: bold\">30</span>\n",
       "    <span style=\"font-weight: bold\">)</span>,\n",
       "    <span style=\"color: #808000; text-decoration-color: #808000\">environment_variables</span>=<span style=\"color: #800080; text-decoration-color: #800080; font-weight: bold\">EnvironmentVariables</span><span style=\"font-weight: bold\">(</span>\n",
       "        <span style=\"color: #808000; text-decoration-color: #808000\">context</span>=<span style=\"color: #008000; text-decoration-color: #008000\">'It is now late Sunday morning, and the environment remains as bleak as before. The action of </span>\n",
       "<span style=\"color: #008000; text-decoration-color: #008000\">retrieving water and some stale bread introduces faint sounds of objects moving quietly through the stillness. The </span>\n",
       "<span style=\"color: #008000; text-decoration-color: #008000\">glass of water brings slight relief from the headache, while the blanket adds some warmth against the biting cold </span>\n",
       "<span style=\"color: #008000; text-decoration-color: #008000\">near the frost-covered window. The day remains subdued, with the sky hanging heavy with clouds; the grayish light </span>\n",
       "<span style=\"color: #008000; text-decoration-color: #008000\">from the window creates an ambience of reflective melancholy. Outside, the streets remain quiet, punctuated </span>\n",
       "<span style=\"color: #008000; text-decoration-color: #008000\">occasionally by the sound of passing hooves on cobblestones or wind whistling through the barren landscape. Time </span>\n",
       "<span style=\"color: #008000; text-decoration-color: #008000\">feels like it is moving languidly from one hour to the next, indifferent to human suffering within.'</span>,\n",
       "        <span style=\"color: #808000; text-decoration-color: #808000\">weather</span>=<span style=\"color: #008000; text-decoration-color: #008000\">'cloudy'</span>,\n",
       "        <span style=\"color: #808000; text-decoration-color: #808000\">hour_of_day</span>=<span style=\"color: #008080; text-decoration-color: #008080; font-weight: bold\">9.5</span>,\n",
       "        <span style=\"color: #808000; text-decoration-color: #808000\">day_of_week</span>=<span style=\"color: #008000; text-decoration-color: #008000\">'sunday'</span>\n",
       "    <span style=\"font-weight: bold\">)</span>\n",
       "<span style=\"font-weight: bold\">)</span>\n",
       "</pre>\n"
      ],
      "text/plain": [
       "\u001b[1;35mMyOwnState\u001b[0m\u001b[1m(\u001b[0m\n",
       "    \u001b[33muuid\u001b[0m=\u001b[32m'091356d0-6043-498e-a3e1-562034ad2cb9'\u001b[0m,\n",
       "    \u001b[33mlast_action\u001b[0m=\u001b[32m'Rehydration and settling'\u001b[0m,\n",
       "    \u001b[33mprevious_state_id\u001b[0m=\u001b[32m'0b14ba67-6526-4cab-86a9-e7e5f29e3ab2'\u001b[0m,\n",
       "    \u001b[33mstate_variables\u001b[0m=\u001b[1;35mStateVariables\u001b[0m\u001b[1m(\u001b[0m\n",
       "        \u001b[33mcontext\u001b[0m=\u001b[32m\"After\u001b[0m\u001b[32m rising with caution to avoid exacerbating the headache, water was consumed to alleviate \u001b[0m\n",
       "\u001b[32mdehydration, and some leftover bread was eaten to stabilize the stomach. Sitting near the frosty window, wrapped in\u001b[0m\n",
       "\u001b[32ma blanket, helped combat the pervasive chill and offered a semblance of comfort. These small actions offered slight\u001b[0m\n",
       "\u001b[32mrelief from the hangover's grip, coupled with the faint solace of natural light filtering through the cold \u001b[0m\n",
       "\u001b[32mBaltimore morning.\"\u001b[0m,\n",
       "        \u001b[33mpain_level\u001b[0m=\u001b[1;36m65\u001b[0m,\n",
       "        \u001b[33mpleasure_level\u001b[0m=\u001b[1;36m35\u001b[0m,\n",
       "        \u001b[33mhealth_level\u001b[0m=\u001b[1;36m45\u001b[0m,\n",
       "        \u001b[33mfocus_level\u001b[0m=\u001b[1;36m30\u001b[0m\n",
       "    \u001b[1m)\u001b[0m,\n",
       "    \u001b[33menvironment_variables\u001b[0m=\u001b[1;35mEnvironmentVariables\u001b[0m\u001b[1m(\u001b[0m\n",
       "        \u001b[33mcontext\u001b[0m=\u001b[32m'It is now late Sunday morning, and the environment remains as bleak as before. The action of \u001b[0m\n",
       "\u001b[32mretrieving water and some stale bread introduces faint sounds of objects moving quietly through the stillness. The \u001b[0m\n",
       "\u001b[32mglass of water brings slight relief from the headache, while the blanket adds some warmth against the biting cold \u001b[0m\n",
       "\u001b[32mnear the frost-covered window. The day remains subdued, with the sky hanging heavy with clouds; the grayish light \u001b[0m\n",
       "\u001b[32mfrom the window creates an ambience of reflective melancholy. Outside, the streets remain quiet, punctuated \u001b[0m\n",
       "\u001b[32moccasionally by the sound of passing hooves on cobblestones or wind whistling through the barren landscape. Time \u001b[0m\n",
       "\u001b[32mfeels like it is moving languidly from one hour to the next, indifferent to human suffering within.'\u001b[0m,\n",
       "        \u001b[33mweather\u001b[0m=\u001b[32m'cloudy'\u001b[0m,\n",
       "        \u001b[33mhour_of_day\u001b[0m=\u001b[1;36m9\u001b[0m\u001b[1;36m.5\u001b[0m,\n",
       "        \u001b[33mday_of_week\u001b[0m=\u001b[32m'sunday'\u001b[0m\n",
       "    \u001b[1m)\u001b[0m\n",
       "\u001b[1m)\u001b[0m\n"
      ]
     },
     "metadata": {},
     "output_type": "display_data"
    },
    {
     "data": {
      "text/html": [
       "<pre style=\"white-space:pre;overflow-x:auto;line-height:normal;font-family:Menlo,'DejaVu Sans Mono',consolas,'Courier New',monospace\"><span style=\"color: #800080; text-decoration-color: #800080; font-weight: bold\">Action</span><span style=\"font-weight: bold\">(</span>\n",
       "    <span style=\"color: #808000; text-decoration-color: #808000\">name</span>=<span style=\"color: #008000; text-decoration-color: #008000\">'Light reading or journaling'</span>,\n",
       "    <span style=\"color: #808000; text-decoration-color: #808000\">details</span>=<span style=\"color: #008000; text-decoration-color: #008000\">'Remain seated near the window where there is some natural light. Retrieve a small notebook or a </span>\n",
       "<span style=\"color: #008000; text-decoration-color: #008000\">favorite collection of prose or poetry to engage the mind gently and ease into a state of reflection or creative </span>\n",
       "<span style=\"color: #008000; text-decoration-color: #008000\">processing. If journaling, write down thoughts about the hangover, the oppressive weather, or fragments of dreams </span>\n",
       "<span style=\"color: #008000; text-decoration-color: #008000\">and memories from the previous night. If reading, focus on passages that resonate with the current somber mood to </span>\n",
       "<span style=\"color: #008000; text-decoration-color: #008000\">find a sense of kinship in shared melancholy. This action helps to organize thoughts, increase focus, and offer </span>\n",
       "<span style=\"color: #008000; text-decoration-color: #008000\">subtle intellectual stimulation.'</span>,\n",
       "    <span style=\"color: #808000; text-decoration-color: #808000\">time_spent</span>=<span style=\"color: #008080; text-decoration-color: #008080; font-weight: bold\">1.0</span>,\n",
       "    <span style=\"color: #808000; text-decoration-color: #808000\">from_state_id</span>=<span style=\"color: #008000; text-decoration-color: #008000\">'091356d0-6043-498e-a3e1-562034ad2cb9'</span>,\n",
       "    <span style=\"color: #808000; text-decoration-color: #808000\">to_state_id</span>=<span style=\"color: #008000; text-decoration-color: #008000\">'4a1b8561-8b1e-4d73-a570-2c059bdf4784'</span>\n",
       "<span style=\"font-weight: bold\">)</span>\n",
       "</pre>\n"
      ],
      "text/plain": [
       "\u001b[1;35mAction\u001b[0m\u001b[1m(\u001b[0m\n",
       "    \u001b[33mname\u001b[0m=\u001b[32m'Light reading or journaling'\u001b[0m,\n",
       "    \u001b[33mdetails\u001b[0m=\u001b[32m'Remain seated near the window where there is some natural light. Retrieve a small notebook or a \u001b[0m\n",
       "\u001b[32mfavorite collection of prose or poetry to engage the mind gently and ease into a state of reflection or creative \u001b[0m\n",
       "\u001b[32mprocessing. If journaling, write down thoughts about the hangover, the oppressive weather, or fragments of dreams \u001b[0m\n",
       "\u001b[32mand memories from the previous night. If reading, focus on passages that resonate with the current somber mood to \u001b[0m\n",
       "\u001b[32mfind a sense of kinship in shared melancholy. This action helps to organize thoughts, increase focus, and offer \u001b[0m\n",
       "\u001b[32msubtle intellectual stimulation.'\u001b[0m,\n",
       "    \u001b[33mtime_spent\u001b[0m=\u001b[1;36m1\u001b[0m\u001b[1;36m.0\u001b[0m,\n",
       "    \u001b[33mfrom_state_id\u001b[0m=\u001b[32m'091356d0-6043-498e-a3e1-562034ad2cb9'\u001b[0m,\n",
       "    \u001b[33mto_state_id\u001b[0m=\u001b[32m'4a1b8561-8b1e-4d73-a570-2c059bdf4784'\u001b[0m\n",
       "\u001b[1m)\u001b[0m\n"
      ]
     },
     "metadata": {},
     "output_type": "display_data"
    },
    {
     "data": {
      "text/html": [
       "<pre style=\"white-space:pre;overflow-x:auto;line-height:normal;font-family:Menlo,'DejaVu Sans Mono',consolas,'Courier New',monospace\"><span style=\"color: #800080; text-decoration-color: #800080; font-weight: bold\">MyOwnState</span><span style=\"font-weight: bold\">(</span>\n",
       "    <span style=\"color: #808000; text-decoration-color: #808000\">uuid</span>=<span style=\"color: #008000; text-decoration-color: #008000\">'4a1b8561-8b1e-4d73-a570-2c059bdf4784'</span>,\n",
       "    <span style=\"color: #808000; text-decoration-color: #808000\">last_action</span>=<span style=\"color: #008000; text-decoration-color: #008000\">'Light reading or journaling'</span>,\n",
       "    <span style=\"color: #808000; text-decoration-color: #808000\">previous_state_id</span>=<span style=\"color: #008000; text-decoration-color: #008000\">'091356d0-6043-498e-a3e1-562034ad2cb9'</span>,\n",
       "    <span style=\"color: #808000; text-decoration-color: #808000\">state_variables</span>=<span style=\"color: #800080; text-decoration-color: #800080; font-weight: bold\">StateVariables</span><span style=\"font-weight: bold\">(</span>\n",
       "        <span style=\"color: #808000; text-decoration-color: #808000\">context</span>=<span style=\"color: #008000; text-decoration-color: #008000\">'Remaining seated near the frosty window amidst the somber gray light of a late Sunday morning, you</span>\n",
       "<span style=\"color: #008000; text-decoration-color: #008000\">gently stimulate your mind by engaging in light reading or journaling. These actions, though modest, help channel </span>\n",
       "<span style=\"color: #008000; text-decoration-color: #008000\">your reflective melancholy into either creative outlets or contemplative absorption in text. While reading, you </span>\n",
       "<span style=\"color: #008000; text-decoration-color: #008000\">find a measure of connection to your own mood, easing the isolating pain of the hangover, albeit momentarily. While</span>\n",
       "<span style=\"color: #008000; text-decoration-color: #008000\">journaling, your thoughts are issued from your mind like curls of smoke, leaving clarity in their absence. The </span>\n",
       "<span style=\"color: #008000; text-decoration-color: #008000\">hour-long session does not cure your discomfort but provides a subtle sense of mental order amidst internal chaos </span>\n",
       "<span style=\"color: #008000; text-decoration-color: #008000\">and external bleakness.'</span>,\n",
       "        <span style=\"color: #808000; text-decoration-color: #808000\">pain_level</span>=<span style=\"color: #008080; text-decoration-color: #008080; font-weight: bold\">60</span>,\n",
       "        <span style=\"color: #808000; text-decoration-color: #808000\">pleasure_level</span>=<span style=\"color: #008080; text-decoration-color: #008080; font-weight: bold\">40</span>,\n",
       "        <span style=\"color: #808000; text-decoration-color: #808000\">health_level</span>=<span style=\"color: #008080; text-decoration-color: #008080; font-weight: bold\">50</span>,\n",
       "        <span style=\"color: #808000; text-decoration-color: #808000\">focus_level</span>=<span style=\"color: #008080; text-decoration-color: #008080; font-weight: bold\">45</span>\n",
       "    <span style=\"font-weight: bold\">)</span>,\n",
       "    <span style=\"color: #808000; text-decoration-color: #808000\">environment_variables</span>=<span style=\"color: #800080; text-decoration-color: #800080; font-weight: bold\">EnvironmentVariables</span><span style=\"font-weight: bold\">(</span>\n",
       "        <span style=\"color: #808000; text-decoration-color: #808000\">context</span>=<span style=\"color: #008000; text-decoration-color: #008000\">\"An hour spent gently engaging the mind has lent itself to a faint sense of order amidst the fog of</span>\n",
       "<span style=\"color: #008000; text-decoration-color: #008000\">a hangover. Whether through the reading of somber prose or the scratching out of melancholic musings in a journal, </span>\n",
       "<span style=\"color: #008000; text-decoration-color: #008000\">a fragile sense of creative connection was formed in the cold confines of the frost-clad chamber. The day outside </span>\n",
       "<span style=\"color: #008000; text-decoration-color: #008000\">lumbers forward in its unchanging gray, the clouds still thick overhead, casting Baltimore in a timeless gloom. </span>\n",
       "<span style=\"color: #008000; text-decoration-color: #008000\">Occasional whispers of the outside world—hoofbeats, muted voices, distant gusts of wind—seep into the space, </span>\n",
       "<span style=\"color: #008000; text-decoration-color: #008000\">complementing the introspective aura. The glass of water and stale bread earlier seem to have slightly eased the </span>\n",
       "<span style=\"color: #008000; text-decoration-color: #008000\">body's protests, though the cold and general malaise persist. It is approaching midday, and while the pain of the </span>\n",
       "<span style=\"color: #008000; text-decoration-color: #008000\">hangover slightly subsides, the mood remains steeped in an exquisite melancholy.\"</span>,\n",
       "        <span style=\"color: #808000; text-decoration-color: #808000\">weather</span>=<span style=\"color: #008000; text-decoration-color: #008000\">'cloudy'</span>,\n",
       "        <span style=\"color: #808000; text-decoration-color: #808000\">hour_of_day</span>=<span style=\"color: #008080; text-decoration-color: #008080; font-weight: bold\">10.5</span>,\n",
       "        <span style=\"color: #808000; text-decoration-color: #808000\">day_of_week</span>=<span style=\"color: #008000; text-decoration-color: #008000\">'sunday'</span>\n",
       "    <span style=\"font-weight: bold\">)</span>\n",
       "<span style=\"font-weight: bold\">)</span>\n",
       "</pre>\n"
      ],
      "text/plain": [
       "\u001b[1;35mMyOwnState\u001b[0m\u001b[1m(\u001b[0m\n",
       "    \u001b[33muuid\u001b[0m=\u001b[32m'4a1b8561-8b1e-4d73-a570-2c059bdf4784'\u001b[0m,\n",
       "    \u001b[33mlast_action\u001b[0m=\u001b[32m'Light reading or journaling'\u001b[0m,\n",
       "    \u001b[33mprevious_state_id\u001b[0m=\u001b[32m'091356d0-6043-498e-a3e1-562034ad2cb9'\u001b[0m,\n",
       "    \u001b[33mstate_variables\u001b[0m=\u001b[1;35mStateVariables\u001b[0m\u001b[1m(\u001b[0m\n",
       "        \u001b[33mcontext\u001b[0m=\u001b[32m'Remaining seated near the frosty window amidst the somber gray light of a late Sunday morning, you\u001b[0m\n",
       "\u001b[32mgently stimulate your mind by engaging in light reading or journaling. These actions, though modest, help channel \u001b[0m\n",
       "\u001b[32myour reflective melancholy into either creative outlets or contemplative absorption in text. While reading, you \u001b[0m\n",
       "\u001b[32mfind a measure of connection to your own mood, easing the isolating pain of the hangover, albeit momentarily. While\u001b[0m\n",
       "\u001b[32mjournaling, your thoughts are issued from your mind like curls of smoke, leaving clarity in their absence. The \u001b[0m\n",
       "\u001b[32mhour-long session does not cure your discomfort but provides a subtle sense of mental order amidst internal chaos \u001b[0m\n",
       "\u001b[32mand external bleakness.'\u001b[0m,\n",
       "        \u001b[33mpain_level\u001b[0m=\u001b[1;36m60\u001b[0m,\n",
       "        \u001b[33mpleasure_level\u001b[0m=\u001b[1;36m40\u001b[0m,\n",
       "        \u001b[33mhealth_level\u001b[0m=\u001b[1;36m50\u001b[0m,\n",
       "        \u001b[33mfocus_level\u001b[0m=\u001b[1;36m45\u001b[0m\n",
       "    \u001b[1m)\u001b[0m,\n",
       "    \u001b[33menvironment_variables\u001b[0m=\u001b[1;35mEnvironmentVariables\u001b[0m\u001b[1m(\u001b[0m\n",
       "        \u001b[33mcontext\u001b[0m=\u001b[32m\"An\u001b[0m\u001b[32m hour spent gently engaging the mind has lent itself to a faint sense of order amidst the fog of\u001b[0m\n",
       "\u001b[32ma hangover. Whether through the reading of somber prose or the scratching out of melancholic musings in a journal, \u001b[0m\n",
       "\u001b[32ma fragile sense of creative connection was formed in the cold confines of the frost-clad chamber. The day outside \u001b[0m\n",
       "\u001b[32mlumbers forward in its unchanging gray, the clouds still thick overhead, casting Baltimore in a timeless gloom. \u001b[0m\n",
       "\u001b[32mOccasional whispers of the outside world—hoofbeats, muted voices, distant gusts of wind—seep into the space, \u001b[0m\n",
       "\u001b[32mcomplementing the introspective aura. The glass of water and stale bread earlier seem to have slightly eased the \u001b[0m\n",
       "\u001b[32mbody's protests, though the cold and general malaise persist. It is approaching midday, and while the pain of the \u001b[0m\n",
       "\u001b[32mhangover slightly subsides, the mood remains steeped in an exquisite melancholy.\"\u001b[0m,\n",
       "        \u001b[33mweather\u001b[0m=\u001b[32m'cloudy'\u001b[0m,\n",
       "        \u001b[33mhour_of_day\u001b[0m=\u001b[1;36m10\u001b[0m\u001b[1;36m.5\u001b[0m,\n",
       "        \u001b[33mday_of_week\u001b[0m=\u001b[32m'sunday'\u001b[0m\n",
       "    \u001b[1m)\u001b[0m\n",
       "\u001b[1m)\u001b[0m\n"
      ]
     },
     "metadata": {},
     "output_type": "display_data"
    },
    {
     "data": {
      "text/html": [
       "<pre style=\"white-space:pre;overflow-x:auto;line-height:normal;font-family:Menlo,'DejaVu Sans Mono',consolas,'Courier New',monospace\"><span style=\"color: #800080; text-decoration-color: #800080; font-weight: bold\">Action</span><span style=\"font-weight: bold\">(</span>\n",
       "    <span style=\"color: #808000; text-decoration-color: #808000\">name</span>=<span style=\"color: #008000; text-decoration-color: #008000\">'Tea preparation and warmth-seeking'</span>,\n",
       "    <span style=\"color: #808000; text-decoration-color: #808000\">details</span>=<span style=\"color: #008000; text-decoration-color: #008000\">'Rise from the seated position carefully to avoid dizziness and make your way to the small kitchen </span>\n",
       "<span style=\"color: #008000; text-decoration-color: #008000\">corner or stove in the chamber. Prepare a simple cup of tea using available supplies—perhaps a weak black or herbal</span>\n",
       "<span style=\"color: #008000; text-decoration-color: #008000\">tea suited to soothe both the body and mind. Once prepared, return to the window seat, ensuring the blanket remains</span>\n",
       "<span style=\"color: #008000; text-decoration-color: #008000\">wrapped for warmth, and sip the tea slowly while gazing out at the gray Baltimore streets. The warmth of the tea </span>\n",
       "<span style=\"color: #008000; text-decoration-color: #008000\">will help counter the cold seeping in and provide additional hydration, while the act of tea-making offers a gentle</span>\n",
       "<span style=\"color: #008000; text-decoration-color: #008000\">distraction and minor activity to ease lethargy.'</span>,\n",
       "    <span style=\"color: #808000; text-decoration-color: #808000\">time_spent</span>=<span style=\"color: #008080; text-decoration-color: #008080; font-weight: bold\">0.5</span>,\n",
       "    <span style=\"color: #808000; text-decoration-color: #808000\">from_state_id</span>=<span style=\"color: #008000; text-decoration-color: #008000\">'4a1b8561-8b1e-4d73-a570-2c059bdf4784'</span>,\n",
       "    <span style=\"color: #808000; text-decoration-color: #808000\">to_state_id</span>=<span style=\"color: #008000; text-decoration-color: #008000\">'05916146-bd3f-42c9-bd8e-61d2beac2645'</span>\n",
       "<span style=\"font-weight: bold\">)</span>\n",
       "</pre>\n"
      ],
      "text/plain": [
       "\u001b[1;35mAction\u001b[0m\u001b[1m(\u001b[0m\n",
       "    \u001b[33mname\u001b[0m=\u001b[32m'Tea preparation and warmth-seeking'\u001b[0m,\n",
       "    \u001b[33mdetails\u001b[0m=\u001b[32m'Rise from the seated position carefully to avoid dizziness and make your way to the small kitchen \u001b[0m\n",
       "\u001b[32mcorner or stove in the chamber. Prepare a simple cup of tea using available supplies—perhaps a weak black or herbal\u001b[0m\n",
       "\u001b[32mtea suited to soothe both the body and mind. Once prepared, return to the window seat, ensuring the blanket remains\u001b[0m\n",
       "\u001b[32mwrapped for warmth, and sip the tea slowly while gazing out at the gray Baltimore streets. The warmth of the tea \u001b[0m\n",
       "\u001b[32mwill help counter the cold seeping in and provide additional hydration, while the act of tea-making offers a gentle\u001b[0m\n",
       "\u001b[32mdistraction and minor activity to ease lethargy.'\u001b[0m,\n",
       "    \u001b[33mtime_spent\u001b[0m=\u001b[1;36m0\u001b[0m\u001b[1;36m.5\u001b[0m,\n",
       "    \u001b[33mfrom_state_id\u001b[0m=\u001b[32m'4a1b8561-8b1e-4d73-a570-2c059bdf4784'\u001b[0m,\n",
       "    \u001b[33mto_state_id\u001b[0m=\u001b[32m'05916146-bd3f-42c9-bd8e-61d2beac2645'\u001b[0m\n",
       "\u001b[1m)\u001b[0m\n"
      ]
     },
     "metadata": {},
     "output_type": "display_data"
    },
    {
     "data": {
      "text/html": [
       "<pre style=\"white-space:pre;overflow-x:auto;line-height:normal;font-family:Menlo,'DejaVu Sans Mono',consolas,'Courier New',monospace\"><span style=\"color: #800080; text-decoration-color: #800080; font-weight: bold\">MyOwnState</span><span style=\"font-weight: bold\">(</span>\n",
       "    <span style=\"color: #808000; text-decoration-color: #808000\">uuid</span>=<span style=\"color: #008000; text-decoration-color: #008000\">'05916146-bd3f-42c9-bd8e-61d2beac2645'</span>,\n",
       "    <span style=\"color: #808000; text-decoration-color: #808000\">last_action</span>=<span style=\"color: #008000; text-decoration-color: #008000\">'Tea preparation and warmth-seeking'</span>,\n",
       "    <span style=\"color: #808000; text-decoration-color: #808000\">previous_state_id</span>=<span style=\"color: #008000; text-decoration-color: #008000\">'4a1b8561-8b1e-4d73-a570-2c059bdf4784'</span>,\n",
       "    <span style=\"color: #808000; text-decoration-color: #808000\">state_variables</span>=<span style=\"color: #800080; text-decoration-color: #800080; font-weight: bold\">StateVariables</span><span style=\"font-weight: bold\">(</span>\n",
       "        <span style=\"color: #808000; text-decoration-color: #808000\">context</span>=<span style=\"color: #008000; text-decoration-color: #008000\">'After carefully preparing a weak tea, the warm liquid begins to soothe your cold body and </span>\n",
       "<span style=\"color: #008000; text-decoration-color: #008000\">lingering malaise. Sitting back at your window seat, wrapped snugly in the woolen blanket, the tea’s steamy embrace</span>\n",
       "<span style=\"color: #008000; text-decoration-color: #008000\">counteracts the persistent bite of winter and aids the hangover recovery process. Gazing out at the muted streets </span>\n",
       "<span style=\"color: #008000; text-decoration-color: #008000\">of Baltimore, your thoughts wander into the poetic fog of your melancholy, feeling ever so slightly less </span>\n",
       "<span style=\"color: #008000; text-decoration-color: #008000\">burdensome. The sequential actions—rehydration, reading, and tea-making—offer a minor restoration of energy, </span>\n",
       "<span style=\"color: #008000; text-decoration-color: #008000\">cobbling together a fragile, tentative equilibrium for the day.'</span>,\n",
       "        <span style=\"color: #808000; text-decoration-color: #808000\">pain_level</span>=<span style=\"color: #008080; text-decoration-color: #008080; font-weight: bold\">55</span>,\n",
       "        <span style=\"color: #808000; text-decoration-color: #808000\">pleasure_level</span>=<span style=\"color: #008080; text-decoration-color: #008080; font-weight: bold\">45</span>,\n",
       "        <span style=\"color: #808000; text-decoration-color: #808000\">health_level</span>=<span style=\"color: #008080; text-decoration-color: #008080; font-weight: bold\">55</span>,\n",
       "        <span style=\"color: #808000; text-decoration-color: #808000\">focus_level</span>=<span style=\"color: #008080; text-decoration-color: #008080; font-weight: bold\">50</span>\n",
       "    <span style=\"font-weight: bold\">)</span>,\n",
       "    <span style=\"color: #808000; text-decoration-color: #808000\">environment_variables</span>=<span style=\"color: #800080; text-decoration-color: #800080; font-weight: bold\">EnvironmentVariables</span><span style=\"font-weight: bold\">(</span>\n",
       "        <span style=\"color: #808000; text-decoration-color: #808000\">context</span>=<span style=\"color: #008000; text-decoration-color: #008000\">\"The act of slowly rising to prepare tea introduced faint sounds of movement—a pot placed, water </span>\n",
       "<span style=\"color: #008000; text-decoration-color: #008000\">poured, a gentle flame kindled in the small kitchen corner. The warmth of brewing the tea momentarily pushed back </span>\n",
       "<span style=\"color: #008000; text-decoration-color: #008000\">the room's pervasive chill. Returning to the frosted window seat with the steaming cup added a renewed sense of </span>\n",
       "<span style=\"color: #008000; text-decoration-color: #008000\">connection to the present moment. Each sip helped alleviate the cold's grip, as the tea's soothing warmth traveled </span>\n",
       "<span style=\"color: #008000; text-decoration-color: #008000\">inward. Despite the comforting ritual, the day outside remained indifferent—a heavy gray sky and quiet streets </span>\n",
       "<span style=\"color: #008000; text-decoration-color: #008000\">reflected in the glass. Baltimore trudges forward into late Sunday morning without much sign of change.\"</span>,\n",
       "        <span style=\"color: #808000; text-decoration-color: #808000\">weather</span>=<span style=\"color: #008000; text-decoration-color: #008000\">'cloudy'</span>,\n",
       "        <span style=\"color: #808000; text-decoration-color: #808000\">hour_of_day</span>=<span style=\"color: #008080; text-decoration-color: #008080; font-weight: bold\">11.0</span>,\n",
       "        <span style=\"color: #808000; text-decoration-color: #808000\">day_of_week</span>=<span style=\"color: #008000; text-decoration-color: #008000\">'sunday'</span>\n",
       "    <span style=\"font-weight: bold\">)</span>\n",
       "<span style=\"font-weight: bold\">)</span>\n",
       "</pre>\n"
      ],
      "text/plain": [
       "\u001b[1;35mMyOwnState\u001b[0m\u001b[1m(\u001b[0m\n",
       "    \u001b[33muuid\u001b[0m=\u001b[32m'05916146-bd3f-42c9-bd8e-61d2beac2645'\u001b[0m,\n",
       "    \u001b[33mlast_action\u001b[0m=\u001b[32m'Tea preparation and warmth-seeking'\u001b[0m,\n",
       "    \u001b[33mprevious_state_id\u001b[0m=\u001b[32m'4a1b8561-8b1e-4d73-a570-2c059bdf4784'\u001b[0m,\n",
       "    \u001b[33mstate_variables\u001b[0m=\u001b[1;35mStateVariables\u001b[0m\u001b[1m(\u001b[0m\n",
       "        \u001b[33mcontext\u001b[0m=\u001b[32m'After carefully preparing a weak tea, the warm liquid begins to soothe your cold body and \u001b[0m\n",
       "\u001b[32mlingering malaise. Sitting back at your window seat, wrapped snugly in the woolen blanket, the tea’s steamy embrace\u001b[0m\n",
       "\u001b[32mcounteracts the persistent bite of winter and aids the hangover recovery process. Gazing out at the muted streets \u001b[0m\n",
       "\u001b[32mof Baltimore, your thoughts wander into the poetic fog of your melancholy, feeling ever so slightly less \u001b[0m\n",
       "\u001b[32mburdensome. The sequential actions—rehydration, reading, and tea-making—offer a minor restoration of energy, \u001b[0m\n",
       "\u001b[32mcobbling together a fragile, tentative equilibrium for the day.'\u001b[0m,\n",
       "        \u001b[33mpain_level\u001b[0m=\u001b[1;36m55\u001b[0m,\n",
       "        \u001b[33mpleasure_level\u001b[0m=\u001b[1;36m45\u001b[0m,\n",
       "        \u001b[33mhealth_level\u001b[0m=\u001b[1;36m55\u001b[0m,\n",
       "        \u001b[33mfocus_level\u001b[0m=\u001b[1;36m50\u001b[0m\n",
       "    \u001b[1m)\u001b[0m,\n",
       "    \u001b[33menvironment_variables\u001b[0m=\u001b[1;35mEnvironmentVariables\u001b[0m\u001b[1m(\u001b[0m\n",
       "        \u001b[33mcontext\u001b[0m=\u001b[32m\"The\u001b[0m\u001b[32m act of slowly rising to prepare tea introduced faint sounds of movement—a pot placed, water \u001b[0m\n",
       "\u001b[32mpoured, a gentle flame kindled in the small kitchen corner. The warmth of brewing the tea momentarily pushed back \u001b[0m\n",
       "\u001b[32mthe room's pervasive chill. Returning to the frosted window seat with the steaming cup added a renewed sense of \u001b[0m\n",
       "\u001b[32mconnection to the present moment. Each sip helped alleviate the cold's grip, as the tea's soothing warmth traveled \u001b[0m\n",
       "\u001b[32minward. Despite the comforting ritual, the day outside remained indifferent—a heavy gray sky and quiet streets \u001b[0m\n",
       "\u001b[32mreflected in the glass. Baltimore trudges forward into late Sunday morning without much sign of change.\"\u001b[0m,\n",
       "        \u001b[33mweather\u001b[0m=\u001b[32m'cloudy'\u001b[0m,\n",
       "        \u001b[33mhour_of_day\u001b[0m=\u001b[1;36m11\u001b[0m\u001b[1;36m.0\u001b[0m,\n",
       "        \u001b[33mday_of_week\u001b[0m=\u001b[32m'sunday'\u001b[0m\n",
       "    \u001b[1m)\u001b[0m\n",
       "\u001b[1m)\u001b[0m\n"
      ]
     },
     "metadata": {},
     "output_type": "display_data"
    },
    {
     "data": {
      "text/html": [
       "<pre style=\"white-space:pre;overflow-x:auto;line-height:normal;font-family:Menlo,'DejaVu Sans Mono',consolas,'Courier New',monospace\"><span style=\"color: #800080; text-decoration-color: #800080; font-weight: bold\">Action</span><span style=\"font-weight: bold\">(</span>\n",
       "    <span style=\"color: #808000; text-decoration-color: #808000\">name</span>=<span style=\"color: #008000; text-decoration-color: #008000\">'Contemplative walk preparation'</span>,\n",
       "    <span style=\"color: #808000; text-decoration-color: #808000\">details</span>=<span style=\"color: #008000; text-decoration-color: #008000\">'Despite the cold and gray skies, prepare to go on a short, contemplative walk to clear the oppressive </span>\n",
       "<span style=\"color: #008000; text-decoration-color: #008000\">melancholia of the room. Dress sufficiently to guard against the chill—a coat, scarf, and gloves, if available. </span>\n",
       "<span style=\"color: #008000; text-decoration-color: #008000\">Place your journal and a pencil in a pocket in case inspiration strikes. Make sure the tea has been fully consumed </span>\n",
       "<span style=\"color: #008000; text-decoration-color: #008000\">to warm the body. Before leaving, take a moment to prepare mentally for encountering the generalized stillness and </span>\n",
       "<span style=\"color: #008000; text-decoration-color: #008000\">occasional whispers of life outside. The walk will serve as a way to increase circulation, expose you to fresh air,</span>\n",
       "<span style=\"color: #008000; text-decoration-color: #008000\">and gently refine your wandering, reflective mood.'</span>,\n",
       "    <span style=\"color: #808000; text-decoration-color: #808000\">time_spent</span>=<span style=\"color: #008080; text-decoration-color: #008080; font-weight: bold\">0.5</span>,\n",
       "    <span style=\"color: #808000; text-decoration-color: #808000\">from_state_id</span>=<span style=\"color: #008000; text-decoration-color: #008000\">'05916146-bd3f-42c9-bd8e-61d2beac2645'</span>,\n",
       "    <span style=\"color: #808000; text-decoration-color: #808000\">to_state_id</span>=<span style=\"color: #008000; text-decoration-color: #008000\">'5cbc1e4b-180a-4105-89ac-e619d8992adb'</span>\n",
       "<span style=\"font-weight: bold\">)</span>\n",
       "</pre>\n"
      ],
      "text/plain": [
       "\u001b[1;35mAction\u001b[0m\u001b[1m(\u001b[0m\n",
       "    \u001b[33mname\u001b[0m=\u001b[32m'Contemplative walk preparation'\u001b[0m,\n",
       "    \u001b[33mdetails\u001b[0m=\u001b[32m'Despite the cold and gray skies, prepare to go on a short, contemplative walk to clear the oppressive \u001b[0m\n",
       "\u001b[32mmelancholia of the room. Dress sufficiently to guard against the chill—a coat, scarf, and gloves, if available. \u001b[0m\n",
       "\u001b[32mPlace your journal and a pencil in a pocket in case inspiration strikes. Make sure the tea has been fully consumed \u001b[0m\n",
       "\u001b[32mto warm the body. Before leaving, take a moment to prepare mentally for encountering the generalized stillness and \u001b[0m\n",
       "\u001b[32moccasional whispers of life outside. The walk will serve as a way to increase circulation, expose you to fresh air,\u001b[0m\n",
       "\u001b[32mand gently refine your wandering, reflective mood.'\u001b[0m,\n",
       "    \u001b[33mtime_spent\u001b[0m=\u001b[1;36m0\u001b[0m\u001b[1;36m.5\u001b[0m,\n",
       "    \u001b[33mfrom_state_id\u001b[0m=\u001b[32m'05916146-bd3f-42c9-bd8e-61d2beac2645'\u001b[0m,\n",
       "    \u001b[33mto_state_id\u001b[0m=\u001b[32m'5cbc1e4b-180a-4105-89ac-e619d8992adb'\u001b[0m\n",
       "\u001b[1m)\u001b[0m\n"
      ]
     },
     "metadata": {},
     "output_type": "display_data"
    },
    {
     "data": {
      "text/html": [
       "<pre style=\"white-space:pre;overflow-x:auto;line-height:normal;font-family:Menlo,'DejaVu Sans Mono',consolas,'Courier New',monospace\"><span style=\"color: #800080; text-decoration-color: #800080; font-weight: bold\">MyOwnState</span><span style=\"font-weight: bold\">(</span>\n",
       "    <span style=\"color: #808000; text-decoration-color: #808000\">uuid</span>=<span style=\"color: #008000; text-decoration-color: #008000\">'5cbc1e4b-180a-4105-89ac-e619d8992adb'</span>,\n",
       "    <span style=\"color: #808000; text-decoration-color: #808000\">last_action</span>=<span style=\"color: #008000; text-decoration-color: #008000\">'Contemplative walk preparation'</span>,\n",
       "    <span style=\"color: #808000; text-decoration-color: #808000\">previous_state_id</span>=<span style=\"color: #008000; text-decoration-color: #008000\">'05916146-bd3f-42c9-bd8e-61d2beac2645'</span>,\n",
       "    <span style=\"color: #808000; text-decoration-color: #808000\">state_variables</span>=<span style=\"color: #800080; text-decoration-color: #800080; font-weight: bold\">StateVariables</span><span style=\"font-weight: bold\">(</span>\n",
       "        <span style=\"color: #808000; text-decoration-color: #808000\">context</span>=<span style=\"color: #008000; text-decoration-color: #008000\">'Having consumed the warm tea while seated at the frosty window, you now prepare yourself mentally </span>\n",
       "<span style=\"color: #008000; text-decoration-color: #008000\">and physically for a short and contemplative walk. This will bridge the inner reflective space created earlier with</span>\n",
       "<span style=\"color: #008000; text-decoration-color: #008000\">a brisk encounter with the external world. You carefully don a coat, scarf, and gloves, if available, to prepare </span>\n",
       "<span style=\"color: #008000; text-decoration-color: #008000\">against the lingering cold, while deliberately placing your journal and pencil in your pocket for potential </span>\n",
       "<span style=\"color: #008000; text-decoration-color: #008000\">inspiration. The walk will serve as a means to shake off the melancholia of the chamber, expose you to fresh air, </span>\n",
       "<span style=\"color: #008000; text-decoration-color: #008000\">and encourage circulation to combat lethargy. It will also provide a subtle reset—a shift of environment and motion</span>\n",
       "<span style=\"color: #008000; text-decoration-color: #008000\">to refine your somber yet creative mood.'</span>,\n",
       "        <span style=\"color: #808000; text-decoration-color: #808000\">pain_level</span>=<span style=\"color: #008080; text-decoration-color: #008080; font-weight: bold\">50</span>,\n",
       "        <span style=\"color: #808000; text-decoration-color: #808000\">pleasure_level</span>=<span style=\"color: #008080; text-decoration-color: #008080; font-weight: bold\">50</span>,\n",
       "        <span style=\"color: #808000; text-decoration-color: #808000\">health_level</span>=<span style=\"color: #008080; text-decoration-color: #008080; font-weight: bold\">60</span>,\n",
       "        <span style=\"color: #808000; text-decoration-color: #808000\">focus_level</span>=<span style=\"color: #008080; text-decoration-color: #008080; font-weight: bold\">55</span>\n",
       "    <span style=\"font-weight: bold\">)</span>,\n",
       "    <span style=\"color: #808000; text-decoration-color: #808000\">environment_variables</span>=<span style=\"color: #800080; text-decoration-color: #800080; font-weight: bold\">EnvironmentVariables</span><span style=\"font-weight: bold\">(</span>\n",
       "        <span style=\"color: #808000; text-decoration-color: #808000\">context</span>=<span style=\"color: #008000; text-decoration-color: #008000\">\"Having decided to step out into the gray clutches of a Baltimore Sunday late morning, you've risen</span>\n",
       "<span style=\"color: #008000; text-decoration-color: #008000\">from your window seat and layered yourself in clothing to shield against the frost-tinged chill. A coat envelops </span>\n",
       "<span style=\"color: #008000; text-decoration-color: #008000\">your frame, and a scarf softens the brutal draft that awaits. With your journal and pencil pocketed, you signal an </span>\n",
       "<span style=\"color: #008000; text-decoration-color: #008000\">eagerness to seize fragments of inspiration amidst the stone stillness of cobblestone streets. The tea consumed </span>\n",
       "<span style=\"color: #008000; text-decoration-color: #008000\">earlier still lingers as a trace of warmth inside you, but the room's pervasive melancholy seems to have followed </span>\n",
       "<span style=\"color: #008000; text-decoration-color: #008000\">to the brink of the doorway. Outside, the air promises sharpness and clarity, along with faint echoes of movement—a</span>\n",
       "<span style=\"color: #008000; text-decoration-color: #008000\">traveler’s footsteps or a drifting autumn leaf landing upon rough steps. It is approaching midday, and while the </span>\n",
       "<span style=\"color: #008000; text-decoration-color: #008000\">cloudy weather persists, the anticipation of venturing outside brings a faint spark to your wandering, reflective </span>\n",
       "<span style=\"color: #008000; text-decoration-color: #008000\">state.\"</span>,\n",
       "        <span style=\"color: #808000; text-decoration-color: #808000\">weather</span>=<span style=\"color: #008000; text-decoration-color: #008000\">'cloudy'</span>,\n",
       "        <span style=\"color: #808000; text-decoration-color: #808000\">hour_of_day</span>=<span style=\"color: #008080; text-decoration-color: #008080; font-weight: bold\">11.5</span>,\n",
       "        <span style=\"color: #808000; text-decoration-color: #808000\">day_of_week</span>=<span style=\"color: #008000; text-decoration-color: #008000\">'sunday'</span>\n",
       "    <span style=\"font-weight: bold\">)</span>\n",
       "<span style=\"font-weight: bold\">)</span>\n",
       "</pre>\n"
      ],
      "text/plain": [
       "\u001b[1;35mMyOwnState\u001b[0m\u001b[1m(\u001b[0m\n",
       "    \u001b[33muuid\u001b[0m=\u001b[32m'5cbc1e4b-180a-4105-89ac-e619d8992adb'\u001b[0m,\n",
       "    \u001b[33mlast_action\u001b[0m=\u001b[32m'Contemplative walk preparation'\u001b[0m,\n",
       "    \u001b[33mprevious_state_id\u001b[0m=\u001b[32m'05916146-bd3f-42c9-bd8e-61d2beac2645'\u001b[0m,\n",
       "    \u001b[33mstate_variables\u001b[0m=\u001b[1;35mStateVariables\u001b[0m\u001b[1m(\u001b[0m\n",
       "        \u001b[33mcontext\u001b[0m=\u001b[32m'Having consumed the warm tea while seated at the frosty window, you now prepare yourself mentally \u001b[0m\n",
       "\u001b[32mand physically for a short and contemplative walk. This will bridge the inner reflective space created earlier with\u001b[0m\n",
       "\u001b[32ma brisk encounter with the external world. You carefully don a coat, scarf, and gloves, if available, to prepare \u001b[0m\n",
       "\u001b[32magainst the lingering cold, while deliberately placing your journal and pencil in your pocket for potential \u001b[0m\n",
       "\u001b[32minspiration. The walk will serve as a means to shake off the melancholia of the chamber, expose you to fresh air, \u001b[0m\n",
       "\u001b[32mand encourage circulation to combat lethargy. It will also provide a subtle reset—a shift of environment and motion\u001b[0m\n",
       "\u001b[32mto refine your somber yet creative mood.'\u001b[0m,\n",
       "        \u001b[33mpain_level\u001b[0m=\u001b[1;36m50\u001b[0m,\n",
       "        \u001b[33mpleasure_level\u001b[0m=\u001b[1;36m50\u001b[0m,\n",
       "        \u001b[33mhealth_level\u001b[0m=\u001b[1;36m60\u001b[0m,\n",
       "        \u001b[33mfocus_level\u001b[0m=\u001b[1;36m55\u001b[0m\n",
       "    \u001b[1m)\u001b[0m,\n",
       "    \u001b[33menvironment_variables\u001b[0m=\u001b[1;35mEnvironmentVariables\u001b[0m\u001b[1m(\u001b[0m\n",
       "        \u001b[33mcontext\u001b[0m=\u001b[32m\"Having\u001b[0m\u001b[32m decided to step out into the gray clutches of a Baltimore Sunday late morning, you've risen\u001b[0m\n",
       "\u001b[32mfrom your window seat and layered yourself in clothing to shield against the frost-tinged chill. A coat envelops \u001b[0m\n",
       "\u001b[32myour frame, and a scarf softens the brutal draft that awaits. With your journal and pencil pocketed, you signal an \u001b[0m\n",
       "\u001b[32meagerness to seize fragments of inspiration amidst the stone stillness of cobblestone streets. The tea consumed \u001b[0m\n",
       "\u001b[32mearlier still lingers as a trace of warmth inside you, but the room's pervasive melancholy seems to have followed \u001b[0m\n",
       "\u001b[32mto the brink of the doorway. Outside, the air promises sharpness and clarity, along with faint echoes of movement—a\u001b[0m\n",
       "\u001b[32mtraveler’s footsteps or a drifting autumn leaf landing upon rough steps. It is approaching midday, and while the \u001b[0m\n",
       "\u001b[32mcloudy weather persists, the anticipation of venturing outside brings a faint spark to your wandering, reflective \u001b[0m\n",
       "\u001b[32mstate.\"\u001b[0m,\n",
       "        \u001b[33mweather\u001b[0m=\u001b[32m'cloudy'\u001b[0m,\n",
       "        \u001b[33mhour_of_day\u001b[0m=\u001b[1;36m11\u001b[0m\u001b[1;36m.5\u001b[0m,\n",
       "        \u001b[33mday_of_week\u001b[0m=\u001b[32m'sunday'\u001b[0m\n",
       "    \u001b[1m)\u001b[0m\n",
       "\u001b[1m)\u001b[0m\n"
      ]
     },
     "metadata": {},
     "output_type": "display_data"
    },
    {
     "data": {
      "text/html": [
       "<pre style=\"white-space:pre;overflow-x:auto;line-height:normal;font-family:Menlo,'DejaVu Sans Mono',consolas,'Courier New',monospace\"><span style=\"color: #800080; text-decoration-color: #800080; font-weight: bold\">Action</span><span style=\"font-weight: bold\">(</span>\n",
       "    <span style=\"color: #808000; text-decoration-color: #808000\">name</span>=<span style=\"color: #008000; text-decoration-color: #008000\">'Short contemplative walk'</span>,\n",
       "    <span style=\"color: #808000; text-decoration-color: #808000\">details</span>=<span style=\"color: #008000; text-decoration-color: #008000\">'Leave the confines of your chamber and step out into the cold Baltimore streets. Walk at an unhurried </span>\n",
       "<span style=\"color: #008000; text-decoration-color: #008000\">pace, soaking in the melancholic beauty of the gray skies and barren trees. Observe the muted sounds around </span>\n",
       "<span style=\"color: #008000; text-decoration-color: #008000\">you—hooves on cobblestones, the occasional whistle of the wind, and the sparse echoes of life in motion. Take deep </span>\n",
       "<span style=\"color: #008000; text-decoration-color: #008000\">breaths of the sharp, wintry air to invigorate your senses and clear the remnants of the hangover fog. Let your </span>\n",
       "<span style=\"color: #008000; text-decoration-color: #008000\">thoughts wander freely, and if inspiration arises, find a quiet bench or corner to jot down musings in your </span>\n",
       "<span style=\"color: #008000; text-decoration-color: #008000\">journal. Aim to walk for about half an hour, balancing movement with moments of reflection, then loop back toward </span>\n",
       "<span style=\"color: #008000; text-decoration-color: #008000\">the familiarity of home.'</span>,\n",
       "    <span style=\"color: #808000; text-decoration-color: #808000\">time_spent</span>=<span style=\"color: #008080; text-decoration-color: #008080; font-weight: bold\">0.5</span>,\n",
       "    <span style=\"color: #808000; text-decoration-color: #808000\">from_state_id</span>=<span style=\"color: #008000; text-decoration-color: #008000\">'5cbc1e4b-180a-4105-89ac-e619d8992adb'</span>,\n",
       "    <span style=\"color: #808000; text-decoration-color: #808000\">to_state_id</span>=<span style=\"color: #008000; text-decoration-color: #008000\">'d74801c9-a72d-4881-9a00-964d23979353'</span>\n",
       "<span style=\"font-weight: bold\">)</span>\n",
       "</pre>\n"
      ],
      "text/plain": [
       "\u001b[1;35mAction\u001b[0m\u001b[1m(\u001b[0m\n",
       "    \u001b[33mname\u001b[0m=\u001b[32m'Short contemplative walk'\u001b[0m,\n",
       "    \u001b[33mdetails\u001b[0m=\u001b[32m'Leave the confines of your chamber and step out into the cold Baltimore streets. Walk at an unhurried \u001b[0m\n",
       "\u001b[32mpace, soaking in the melancholic beauty of the gray skies and barren trees. Observe the muted sounds around \u001b[0m\n",
       "\u001b[32myou—hooves on cobblestones, the occasional whistle of the wind, and the sparse echoes of life in motion. Take deep \u001b[0m\n",
       "\u001b[32mbreaths of the sharp, wintry air to invigorate your senses and clear the remnants of the hangover fog. Let your \u001b[0m\n",
       "\u001b[32mthoughts wander freely, and if inspiration arises, find a quiet bench or corner to jot down musings in your \u001b[0m\n",
       "\u001b[32mjournal. Aim to walk for about half an hour, balancing movement with moments of reflection, then loop back toward \u001b[0m\n",
       "\u001b[32mthe familiarity of home.'\u001b[0m,\n",
       "    \u001b[33mtime_spent\u001b[0m=\u001b[1;36m0\u001b[0m\u001b[1;36m.5\u001b[0m,\n",
       "    \u001b[33mfrom_state_id\u001b[0m=\u001b[32m'5cbc1e4b-180a-4105-89ac-e619d8992adb'\u001b[0m,\n",
       "    \u001b[33mto_state_id\u001b[0m=\u001b[32m'd74801c9-a72d-4881-9a00-964d23979353'\u001b[0m\n",
       "\u001b[1m)\u001b[0m\n"
      ]
     },
     "metadata": {},
     "output_type": "display_data"
    },
    {
     "data": {
      "text/html": [
       "<pre style=\"white-space:pre;overflow-x:auto;line-height:normal;font-family:Menlo,'DejaVu Sans Mono',consolas,'Courier New',monospace\"><span style=\"color: #800080; text-decoration-color: #800080; font-weight: bold\">MyOwnState</span><span style=\"font-weight: bold\">(</span>\n",
       "    <span style=\"color: #808000; text-decoration-color: #808000\">uuid</span>=<span style=\"color: #008000; text-decoration-color: #008000\">'d74801c9-a72d-4881-9a00-964d23979353'</span>,\n",
       "    <span style=\"color: #808000; text-decoration-color: #808000\">last_action</span>=<span style=\"color: #008000; text-decoration-color: #008000\">'Short contemplative walk'</span>,\n",
       "    <span style=\"color: #808000; text-decoration-color: #808000\">previous_state_id</span>=<span style=\"color: #008000; text-decoration-color: #008000\">'5cbc1e4b-180a-4105-89ac-e619d8992adb'</span>,\n",
       "    <span style=\"color: #808000; text-decoration-color: #808000\">state_variables</span>=<span style=\"color: #800080; text-decoration-color: #800080; font-weight: bold\">StateVariables</span><span style=\"font-weight: bold\">(</span>\n",
       "        <span style=\"color: #808000; text-decoration-color: #808000\">context</span>=<span style=\"color: #008000; text-decoration-color: #008000\">'The act of stepping outside into the cold, gray streets introduces a stark contrast to the </span>\n",
       "<span style=\"color: #008000; text-decoration-color: #008000\">confining, bleak chamber left behind. The sharp winter air invigorates your senses, particularly as it clears the </span>\n",
       "<span style=\"color: #008000; text-decoration-color: #008000\">mental haze partially left by the lingering hangover. Walking slowly through nearly deserted cobblestone paths </span>\n",
       "<span style=\"color: #008000; text-decoration-color: #008000\">evokes a bittersweet connection to the melancholic beauty surrounding you, as barren trees and muted skies reflect </span>\n",
       "<span style=\"color: #008000; text-decoration-color: #008000\">your mood. Breathing deeply in the crisp air creates a calming effect, while small, muted sounds like distant </span>\n",
       "<span style=\"color: #008000; text-decoration-color: #008000\">hoofbeats or rustling leaves provide an introspective backdrop. A half-hour of gentle movement, punctuated by </span>\n",
       "<span style=\"color: #008000; text-decoration-color: #008000\">reflective thoughts and or brief notes in your journal, balances somber reflection with the grounding nature of </span>\n",
       "<span style=\"color: #008000; text-decoration-color: #008000\">physical activity. While the cold seeps through despite your coat and scarf, the walk lends a renewed sense of </span>\n",
       "<span style=\"color: #008000; text-decoration-color: #008000\">vitality and sharp contemplation.'</span>,\n",
       "        <span style=\"color: #808000; text-decoration-color: #808000\">pain_level</span>=<span style=\"color: #008080; text-decoration-color: #008080; font-weight: bold\">48</span>,\n",
       "        <span style=\"color: #808000; text-decoration-color: #808000\">pleasure_level</span>=<span style=\"color: #008080; text-decoration-color: #008080; font-weight: bold\">55</span>,\n",
       "        <span style=\"color: #808000; text-decoration-color: #808000\">health_level</span>=<span style=\"color: #008080; text-decoration-color: #008080; font-weight: bold\">65</span>,\n",
       "        <span style=\"color: #808000; text-decoration-color: #808000\">focus_level</span>=<span style=\"color: #008080; text-decoration-color: #008080; font-weight: bold\">60</span>\n",
       "    <span style=\"font-weight: bold\">)</span>,\n",
       "    <span style=\"color: #808000; text-decoration-color: #808000\">environment_variables</span>=<span style=\"color: #800080; text-decoration-color: #800080; font-weight: bold\">EnvironmentVariables</span><span style=\"font-weight: bold\">(</span>\n",
       "        <span style=\"color: #808000; text-decoration-color: #808000\">context</span>=<span style=\"color: #008000; text-decoration-color: #008000\">\"Stepping out into the frosty embrace of late Baltimore morning, you embark on a contemplative walk</span>\n",
       "<span style=\"color: #008000; text-decoration-color: #008000\">under an unyielding blanket of gray clouds. The streets are subdued, resonating with a quiet solemnity as your feet</span>\n",
       "<span style=\"color: #008000; text-decoration-color: #008000\">crunch cautiously on damp cobblestones. The chill seeps in despite your coat, but deep breaths of the crisp air </span>\n",
       "<span style=\"color: #008000; text-decoration-color: #008000\">invigorate clarity, pushing away lingering dregs of malaise. Sparse life carries on around you—a distant </span>\n",
       "<span style=\"color: #008000; text-decoration-color: #008000\">horse-drawn cart, stray voices muffled by the cold, and the whisper of the wind weaving through empty branches. The</span>\n",
       "<span style=\"color: #008000; text-decoration-color: #008000\">city's pervasive gloom feels less oppressive in the open, replaced instead by a poetic solidarity with its somber </span>\n",
       "<span style=\"color: #008000; text-decoration-color: #008000\">beauty. Pausing briefly near a wrought iron bench, perhaps a fleeting inspiration leads to a few hurried notes in </span>\n",
       "<span style=\"color: #008000; text-decoration-color: #008000\">your journal, the pencil trembling slightly in your fingers, given the cold. After a reflective half-hour of </span>\n",
       "<span style=\"color: #008000; text-decoration-color: #008000\">walking and brief moments of still observation, you start tracing your way back to the familiar confines of home.\"</span>,\n",
       "        <span style=\"color: #808000; text-decoration-color: #808000\">weather</span>=<span style=\"color: #008000; text-decoration-color: #008000\">'cloudy'</span>,\n",
       "        <span style=\"color: #808000; text-decoration-color: #808000\">hour_of_day</span>=<span style=\"color: #008080; text-decoration-color: #008080; font-weight: bold\">12.0</span>,\n",
       "        <span style=\"color: #808000; text-decoration-color: #808000\">day_of_week</span>=<span style=\"color: #008000; text-decoration-color: #008000\">'sunday'</span>\n",
       "    <span style=\"font-weight: bold\">)</span>\n",
       "<span style=\"font-weight: bold\">)</span>\n",
       "</pre>\n"
      ],
      "text/plain": [
       "\u001b[1;35mMyOwnState\u001b[0m\u001b[1m(\u001b[0m\n",
       "    \u001b[33muuid\u001b[0m=\u001b[32m'd74801c9-a72d-4881-9a00-964d23979353'\u001b[0m,\n",
       "    \u001b[33mlast_action\u001b[0m=\u001b[32m'Short contemplative walk'\u001b[0m,\n",
       "    \u001b[33mprevious_state_id\u001b[0m=\u001b[32m'5cbc1e4b-180a-4105-89ac-e619d8992adb'\u001b[0m,\n",
       "    \u001b[33mstate_variables\u001b[0m=\u001b[1;35mStateVariables\u001b[0m\u001b[1m(\u001b[0m\n",
       "        \u001b[33mcontext\u001b[0m=\u001b[32m'The act of stepping outside into the cold, gray streets introduces a stark contrast to the \u001b[0m\n",
       "\u001b[32mconfining, bleak chamber left behind. The sharp winter air invigorates your senses, particularly as it clears the \u001b[0m\n",
       "\u001b[32mmental haze partially left by the lingering hangover. Walking slowly through nearly deserted cobblestone paths \u001b[0m\n",
       "\u001b[32mevokes a bittersweet connection to the melancholic beauty surrounding you, as barren trees and muted skies reflect \u001b[0m\n",
       "\u001b[32myour mood. Breathing deeply in the crisp air creates a calming effect, while small, muted sounds like distant \u001b[0m\n",
       "\u001b[32mhoofbeats or rustling leaves provide an introspective backdrop. A half-hour of gentle movement, punctuated by \u001b[0m\n",
       "\u001b[32mreflective thoughts and or brief notes in your journal, balances somber reflection with the grounding nature of \u001b[0m\n",
       "\u001b[32mphysical activity. While the cold seeps through despite your coat and scarf, the walk lends a renewed sense of \u001b[0m\n",
       "\u001b[32mvitality and sharp contemplation.'\u001b[0m,\n",
       "        \u001b[33mpain_level\u001b[0m=\u001b[1;36m48\u001b[0m,\n",
       "        \u001b[33mpleasure_level\u001b[0m=\u001b[1;36m55\u001b[0m,\n",
       "        \u001b[33mhealth_level\u001b[0m=\u001b[1;36m65\u001b[0m,\n",
       "        \u001b[33mfocus_level\u001b[0m=\u001b[1;36m60\u001b[0m\n",
       "    \u001b[1m)\u001b[0m,\n",
       "    \u001b[33menvironment_variables\u001b[0m=\u001b[1;35mEnvironmentVariables\u001b[0m\u001b[1m(\u001b[0m\n",
       "        \u001b[33mcontext\u001b[0m=\u001b[32m\"Stepping\u001b[0m\u001b[32m out into the frosty embrace of late Baltimore morning, you embark on a contemplative walk\u001b[0m\n",
       "\u001b[32munder an unyielding blanket of gray clouds. The streets are subdued, resonating with a quiet solemnity as your feet\u001b[0m\n",
       "\u001b[32mcrunch cautiously on damp cobblestones. The chill seeps in despite your coat, but deep breaths of the crisp air \u001b[0m\n",
       "\u001b[32minvigorate clarity, pushing away lingering dregs of malaise. Sparse life carries on around you—a distant \u001b[0m\n",
       "\u001b[32mhorse-drawn cart, stray voices muffled by the cold, and the whisper of the wind weaving through empty branches. The\u001b[0m\n",
       "\u001b[32mcity's pervasive gloom feels less oppressive in the open, replaced instead by a poetic solidarity with its somber \u001b[0m\n",
       "\u001b[32mbeauty. Pausing briefly near a wrought iron bench, perhaps a fleeting inspiration leads to a few hurried notes in \u001b[0m\n",
       "\u001b[32myour journal, the pencil trembling slightly in your fingers, given the cold. After a reflective half-hour of \u001b[0m\n",
       "\u001b[32mwalking and brief moments of still observation, you start tracing your way back to the familiar confines of home.\"\u001b[0m,\n",
       "        \u001b[33mweather\u001b[0m=\u001b[32m'cloudy'\u001b[0m,\n",
       "        \u001b[33mhour_of_day\u001b[0m=\u001b[1;36m12\u001b[0m\u001b[1;36m.0\u001b[0m,\n",
       "        \u001b[33mday_of_week\u001b[0m=\u001b[32m'sunday'\u001b[0m\n",
       "    \u001b[1m)\u001b[0m\n",
       "\u001b[1m)\u001b[0m\n"
      ]
     },
     "metadata": {},
     "output_type": "display_data"
    },
    {
     "data": {
      "text/html": [
       "<pre style=\"white-space:pre;overflow-x:auto;line-height:normal;font-family:Menlo,'DejaVu Sans Mono',consolas,'Courier New',monospace\"><span style=\"color: #800080; text-decoration-color: #800080; font-weight: bold\">Action</span><span style=\"font-weight: bold\">(</span>\n",
       "    <span style=\"color: #808000; text-decoration-color: #808000\">name</span>=<span style=\"color: #008000; text-decoration-color: #008000\">'Midday rest and nourishment'</span>,\n",
       "    <span style=\"color: #808000; text-decoration-color: #808000\">details</span>=<span style=\"color: #008000; text-decoration-color: #008000\">'After returning from your contemplative walk, take a moment to rest and warm yourself. Settle into a </span>\n",
       "<span style=\"color: #008000; text-decoration-color: #008000\">comfortable spot, preferably near a source of warmth, such as a fire or layered with blankets if fire is </span>\n",
       "<span style=\"color: #008000; text-decoration-color: #008000\">unavailable. Prepare a modest midday meal using any supplies available—something warm and satisfying to replenish </span>\n",
       "<span style=\"color: #008000; text-decoration-color: #008000\">energy after exposure to the cold. Focus on simple, soothing foods, such as soup, porridge, or bread and cheese. </span>\n",
       "<span style=\"color: #008000; text-decoration-color: #008000\">Pair the meal with another warm beverage, like a second weak tea or another soothing drink. As you eat, let your </span>\n",
       "<span style=\"color: #008000; text-decoration-color: #008000\">body recover from the walk and the cold, appreciating the nourishment and warmth. Spend approximately half an hour </span>\n",
       "<span style=\"color: #008000; text-decoration-color: #008000\">on this restorative action.'</span>,\n",
       "    <span style=\"color: #808000; text-decoration-color: #808000\">time_spent</span>=<span style=\"color: #008080; text-decoration-color: #008080; font-weight: bold\">0.5</span>,\n",
       "    <span style=\"color: #808000; text-decoration-color: #808000\">from_state_id</span>=<span style=\"color: #008000; text-decoration-color: #008000\">'d74801c9-a72d-4881-9a00-964d23979353'</span>,\n",
       "    <span style=\"color: #808000; text-decoration-color: #808000\">to_state_id</span>=<span style=\"color: #008000; text-decoration-color: #008000\">'97ee5264-9b79-4a2d-ae08-f291d3193bcf'</span>\n",
       "<span style=\"font-weight: bold\">)</span>\n",
       "</pre>\n"
      ],
      "text/plain": [
       "\u001b[1;35mAction\u001b[0m\u001b[1m(\u001b[0m\n",
       "    \u001b[33mname\u001b[0m=\u001b[32m'Midday rest and nourishment'\u001b[0m,\n",
       "    \u001b[33mdetails\u001b[0m=\u001b[32m'After returning from your contemplative walk, take a moment to rest and warm yourself. Settle into a \u001b[0m\n",
       "\u001b[32mcomfortable spot, preferably near a source of warmth, such as a fire or layered with blankets if fire is \u001b[0m\n",
       "\u001b[32munavailable. Prepare a modest midday meal using any supplies available—something warm and satisfying to replenish \u001b[0m\n",
       "\u001b[32menergy after exposure to the cold. Focus on simple, soothing foods, such as soup, porridge, or bread and cheese. \u001b[0m\n",
       "\u001b[32mPair the meal with another warm beverage, like a second weak tea or another soothing drink. As you eat, let your \u001b[0m\n",
       "\u001b[32mbody recover from the walk and the cold, appreciating the nourishment and warmth. Spend approximately half an hour \u001b[0m\n",
       "\u001b[32mon this restorative action.'\u001b[0m,\n",
       "    \u001b[33mtime_spent\u001b[0m=\u001b[1;36m0\u001b[0m\u001b[1;36m.5\u001b[0m,\n",
       "    \u001b[33mfrom_state_id\u001b[0m=\u001b[32m'd74801c9-a72d-4881-9a00-964d23979353'\u001b[0m,\n",
       "    \u001b[33mto_state_id\u001b[0m=\u001b[32m'97ee5264-9b79-4a2d-ae08-f291d3193bcf'\u001b[0m\n",
       "\u001b[1m)\u001b[0m\n"
      ]
     },
     "metadata": {},
     "output_type": "display_data"
    },
    {
     "data": {
      "text/html": [
       "<pre style=\"white-space:pre;overflow-x:auto;line-height:normal;font-family:Menlo,'DejaVu Sans Mono',consolas,'Courier New',monospace\"><span style=\"color: #800080; text-decoration-color: #800080; font-weight: bold\">MyOwnState</span><span style=\"font-weight: bold\">(</span>\n",
       "    <span style=\"color: #808000; text-decoration-color: #808000\">uuid</span>=<span style=\"color: #008000; text-decoration-color: #008000\">'97ee5264-9b79-4a2d-ae08-f291d3193bcf'</span>,\n",
       "    <span style=\"color: #808000; text-decoration-color: #808000\">last_action</span>=<span style=\"color: #008000; text-decoration-color: #008000\">'Midday rest and nourishment'</span>,\n",
       "    <span style=\"color: #808000; text-decoration-color: #808000\">previous_state_id</span>=<span style=\"color: #008000; text-decoration-color: #008000\">'d74801c9-a72d-4881-9a00-964d23979353'</span>,\n",
       "    <span style=\"color: #808000; text-decoration-color: #808000\">state_variables</span>=<span style=\"color: #800080; text-decoration-color: #800080; font-weight: bold\">StateVariables</span><span style=\"font-weight: bold\">(</span>\n",
       "        <span style=\"color: #808000; text-decoration-color: #808000\">context</span>=<span style=\"color: #008000; text-decoration-color: #008000\">'After returning from the contemplative walk, you set about creating comfort and restoring warmth </span>\n",
       "<span style=\"color: #008000; text-decoration-color: #008000\">through a modest midday meal. Settling back into the familiar confines of your chamber, you arrange yourself near a</span>\n",
       "<span style=\"color: #008000; text-decoration-color: #008000\">source of warmth—whether a crackling fire or layers of heavy blankets. Using whatever supplies are at hand, you </span>\n",
       "<span style=\"color: #008000; text-decoration-color: #008000\">prepare a simple and satisfying dish, likely something warm like soup, porridge, or bread paired with cheese, </span>\n",
       "<span style=\"color: #008000; text-decoration-color: #008000\">complemented by a steaming drink. The act of eating and drinking offers both physical relief from the lingering </span>\n",
       "<span style=\"color: #008000; text-decoration-color: #008000\">cold and replenishes some of the energy spent during the morning. This moment of quiet recovery, spanning about </span>\n",
       "<span style=\"color: #008000; text-decoration-color: #008000\">half an hour, acts as a critical turning point, grounding you in the present moment while mending the lingering </span>\n",
       "<span style=\"color: #008000; text-decoration-color: #008000\">aches of the hangover and the discomfort wrought by exposure to the wintry outdoors.'</span>,\n",
       "        <span style=\"color: #808000; text-decoration-color: #808000\">pain_level</span>=<span style=\"color: #008080; text-decoration-color: #008080; font-weight: bold\">45</span>,\n",
       "        <span style=\"color: #808000; text-decoration-color: #808000\">pleasure_level</span>=<span style=\"color: #008080; text-decoration-color: #008080; font-weight: bold\">60</span>,\n",
       "        <span style=\"color: #808000; text-decoration-color: #808000\">health_level</span>=<span style=\"color: #008080; text-decoration-color: #008080; font-weight: bold\">70</span>,\n",
       "        <span style=\"color: #808000; text-decoration-color: #808000\">focus_level</span>=<span style=\"color: #008080; text-decoration-color: #008080; font-weight: bold\">65</span>\n",
       "    <span style=\"font-weight: bold\">)</span>,\n",
       "    <span style=\"color: #808000; text-decoration-color: #808000\">environment_variables</span>=<span style=\"color: #800080; text-decoration-color: #800080; font-weight: bold\">EnvironmentVariables</span><span style=\"font-weight: bold\">(</span>\n",
       "        <span style=\"color: #808000; text-decoration-color: #808000\">context</span>=<span style=\"color: #008000; text-decoration-color: #008000\">'After returning from the contemplative walk under the gray, winter skies of Baltimore, the act of </span>\n",
       "<span style=\"color: #008000; text-decoration-color: #008000\">settling into the chamber presents an embrace of warmth and quiet reflection. Items are gathered to assemble a </span>\n",
       "<span style=\"color: #008000; text-decoration-color: #008000\">modest midday meal—perhaps leftover bread softened with broth or a small serving of porridge, paired with one more </span>\n",
       "<span style=\"color: #008000; text-decoration-color: #008000\">cup of warm tea. Near the frosted window, wrapped in a blanket, you slowly eat and drink, giving yourself time to </span>\n",
       "<span style=\"color: #008000; text-decoration-color: #008000\">counteract the cold air that clung to you outside. The energy spent on the walk begins to replenish, with physical </span>\n",
       "<span style=\"color: #008000; text-decoration-color: #008000\">warmth restoring vitality to match the momentary mental clarity achieved earlier. The city outside continues its </span>\n",
       "<span style=\"color: #008000; text-decoration-color: #008000\">muted existence under the steadfast gray sky, and midday moves slowly forward, with the air growing no warmer.'</span>,\n",
       "        <span style=\"color: #808000; text-decoration-color: #808000\">weather</span>=<span style=\"color: #008000; text-decoration-color: #008000\">'cloudy'</span>,\n",
       "        <span style=\"color: #808000; text-decoration-color: #808000\">hour_of_day</span>=<span style=\"color: #008080; text-decoration-color: #008080; font-weight: bold\">12.5</span>,\n",
       "        <span style=\"color: #808000; text-decoration-color: #808000\">day_of_week</span>=<span style=\"color: #008000; text-decoration-color: #008000\">'sunday'</span>\n",
       "    <span style=\"font-weight: bold\">)</span>\n",
       "<span style=\"font-weight: bold\">)</span>\n",
       "</pre>\n"
      ],
      "text/plain": [
       "\u001b[1;35mMyOwnState\u001b[0m\u001b[1m(\u001b[0m\n",
       "    \u001b[33muuid\u001b[0m=\u001b[32m'97ee5264-9b79-4a2d-ae08-f291d3193bcf'\u001b[0m,\n",
       "    \u001b[33mlast_action\u001b[0m=\u001b[32m'Midday rest and nourishment'\u001b[0m,\n",
       "    \u001b[33mprevious_state_id\u001b[0m=\u001b[32m'd74801c9-a72d-4881-9a00-964d23979353'\u001b[0m,\n",
       "    \u001b[33mstate_variables\u001b[0m=\u001b[1;35mStateVariables\u001b[0m\u001b[1m(\u001b[0m\n",
       "        \u001b[33mcontext\u001b[0m=\u001b[32m'After returning from the contemplative walk, you set about creating comfort and restoring warmth \u001b[0m\n",
       "\u001b[32mthrough a modest midday meal. Settling back into the familiar confines of your chamber, you arrange yourself near a\u001b[0m\n",
       "\u001b[32msource of warmth—whether a crackling fire or layers of heavy blankets. Using whatever supplies are at hand, you \u001b[0m\n",
       "\u001b[32mprepare a simple and satisfying dish, likely something warm like soup, porridge, or bread paired with cheese, \u001b[0m\n",
       "\u001b[32mcomplemented by a steaming drink. The act of eating and drinking offers both physical relief from the lingering \u001b[0m\n",
       "\u001b[32mcold and replenishes some of the energy spent during the morning. This moment of quiet recovery, spanning about \u001b[0m\n",
       "\u001b[32mhalf an hour, acts as a critical turning point, grounding you in the present moment while mending the lingering \u001b[0m\n",
       "\u001b[32maches of the hangover and the discomfort wrought by exposure to the wintry outdoors.'\u001b[0m,\n",
       "        \u001b[33mpain_level\u001b[0m=\u001b[1;36m45\u001b[0m,\n",
       "        \u001b[33mpleasure_level\u001b[0m=\u001b[1;36m60\u001b[0m,\n",
       "        \u001b[33mhealth_level\u001b[0m=\u001b[1;36m70\u001b[0m,\n",
       "        \u001b[33mfocus_level\u001b[0m=\u001b[1;36m65\u001b[0m\n",
       "    \u001b[1m)\u001b[0m,\n",
       "    \u001b[33menvironment_variables\u001b[0m=\u001b[1;35mEnvironmentVariables\u001b[0m\u001b[1m(\u001b[0m\n",
       "        \u001b[33mcontext\u001b[0m=\u001b[32m'After returning from the contemplative walk under the gray, winter skies of Baltimore, the act of \u001b[0m\n",
       "\u001b[32msettling into the chamber presents an embrace of warmth and quiet reflection. Items are gathered to assemble a \u001b[0m\n",
       "\u001b[32mmodest midday meal—perhaps leftover bread softened with broth or a small serving of porridge, paired with one more \u001b[0m\n",
       "\u001b[32mcup of warm tea. Near the frosted window, wrapped in a blanket, you slowly eat and drink, giving yourself time to \u001b[0m\n",
       "\u001b[32mcounteract the cold air that clung to you outside. The energy spent on the walk begins to replenish, with physical \u001b[0m\n",
       "\u001b[32mwarmth restoring vitality to match the momentary mental clarity achieved earlier. The city outside continues its \u001b[0m\n",
       "\u001b[32mmuted existence under the steadfast gray sky, and midday moves slowly forward, with the air growing no warmer.'\u001b[0m,\n",
       "        \u001b[33mweather\u001b[0m=\u001b[32m'cloudy'\u001b[0m,\n",
       "        \u001b[33mhour_of_day\u001b[0m=\u001b[1;36m12\u001b[0m\u001b[1;36m.5\u001b[0m,\n",
       "        \u001b[33mday_of_week\u001b[0m=\u001b[32m'sunday'\u001b[0m\n",
       "    \u001b[1m)\u001b[0m\n",
       "\u001b[1m)\u001b[0m\n"
      ]
     },
     "metadata": {},
     "output_type": "display_data"
    },
    {
     "data": {
      "text/html": [
       "<pre style=\"white-space:pre;overflow-x:auto;line-height:normal;font-family:Menlo,'DejaVu Sans Mono',consolas,'Courier New',monospace\"><span style=\"color: #800080; text-decoration-color: #800080; font-weight: bold\">Action</span><span style=\"font-weight: bold\">(</span>\n",
       "    <span style=\"color: #808000; text-decoration-color: #808000\">name</span>=<span style=\"color: #008000; text-decoration-color: #008000\">'Focused creative session'</span>,\n",
       "    <span style=\"color: #808000; text-decoration-color: #808000\">details</span>=<span style=\"color: #008000; text-decoration-color: #008000\">'In the comfort of your warm setup, with blankets arranged around you and the somber ambiance still </span>\n",
       "<span style=\"color: #008000; text-decoration-color: #008000\">lingering, channel your reflective mood into a focused creative endeavor. Retrieve your journal, pen, or any other </span>\n",
       "<span style=\"color: #008000; text-decoration-color: #008000\">tools suitable for creative expression. Spend the next hour engaging with this effort, whether it involves crafting</span>\n",
       "<span style=\"color: #008000; text-decoration-color: #008000\">a short piece of prose, organizing thoughts into poetry, or even drafting a letter to a friend. Let the calm and </span>\n",
       "<span style=\"color: #008000; text-decoration-color: #008000\">nourishment you’ve received thus far inspire and fuel your concentration. While the hangover persists in a muted </span>\n",
       "<span style=\"color: #008000; text-decoration-color: #008000\">form and the room’s melancholic atmosphere remains, this action directs your introspection into meaningful </span>\n",
       "<span style=\"color: #008000; text-decoration-color: #008000\">creation, helping to transform lingering discomfort into something shaped by your hand.'</span>,\n",
       "    <span style=\"color: #808000; text-decoration-color: #808000\">time_spent</span>=<span style=\"color: #008080; text-decoration-color: #008080; font-weight: bold\">1.0</span>,\n",
       "    <span style=\"color: #808000; text-decoration-color: #808000\">from_state_id</span>=<span style=\"color: #008000; text-decoration-color: #008000\">'97ee5264-9b79-4a2d-ae08-f291d3193bcf'</span>,\n",
       "    <span style=\"color: #808000; text-decoration-color: #808000\">to_state_id</span>=<span style=\"color: #008000; text-decoration-color: #008000\">'4cd23a06-7482-4695-87cc-fe1dc8a97455'</span>\n",
       "<span style=\"font-weight: bold\">)</span>\n",
       "</pre>\n"
      ],
      "text/plain": [
       "\u001b[1;35mAction\u001b[0m\u001b[1m(\u001b[0m\n",
       "    \u001b[33mname\u001b[0m=\u001b[32m'Focused creative session'\u001b[0m,\n",
       "    \u001b[33mdetails\u001b[0m=\u001b[32m'In the comfort of your warm setup, with blankets arranged around you and the somber ambiance still \u001b[0m\n",
       "\u001b[32mlingering, channel your reflective mood into a focused creative endeavor. Retrieve your journal, pen, or any other \u001b[0m\n",
       "\u001b[32mtools suitable for creative expression. Spend the next hour engaging with this effort, whether it involves crafting\u001b[0m\n",
       "\u001b[32ma short piece of prose, organizing thoughts into poetry, or even drafting a letter to a friend. Let the calm and \u001b[0m\n",
       "\u001b[32mnourishment you’ve received thus far inspire and fuel your concentration. While the hangover persists in a muted \u001b[0m\n",
       "\u001b[32mform and the room’s melancholic atmosphere remains, this action directs your introspection into meaningful \u001b[0m\n",
       "\u001b[32mcreation, helping to transform lingering discomfort into something shaped by your hand.'\u001b[0m,\n",
       "    \u001b[33mtime_spent\u001b[0m=\u001b[1;36m1\u001b[0m\u001b[1;36m.0\u001b[0m,\n",
       "    \u001b[33mfrom_state_id\u001b[0m=\u001b[32m'97ee5264-9b79-4a2d-ae08-f291d3193bcf'\u001b[0m,\n",
       "    \u001b[33mto_state_id\u001b[0m=\u001b[32m'4cd23a06-7482-4695-87cc-fe1dc8a97455'\u001b[0m\n",
       "\u001b[1m)\u001b[0m\n"
      ]
     },
     "metadata": {},
     "output_type": "display_data"
    },
    {
     "data": {
      "text/html": [
       "<pre style=\"white-space:pre;overflow-x:auto;line-height:normal;font-family:Menlo,'DejaVu Sans Mono',consolas,'Courier New',monospace\"><span style=\"color: #800080; text-decoration-color: #800080; font-weight: bold\">MyOwnState</span><span style=\"font-weight: bold\">(</span>\n",
       "    <span style=\"color: #808000; text-decoration-color: #808000\">uuid</span>=<span style=\"color: #008000; text-decoration-color: #008000\">'4cd23a06-7482-4695-87cc-fe1dc8a97455'</span>,\n",
       "    <span style=\"color: #808000; text-decoration-color: #808000\">last_action</span>=<span style=\"color: #008000; text-decoration-color: #008000\">'Focused creative session'</span>,\n",
       "    <span style=\"color: #808000; text-decoration-color: #808000\">previous_state_id</span>=<span style=\"color: #008000; text-decoration-color: #008000\">'97ee5264-9b79-4a2d-ae08-f291d3193bcf'</span>,\n",
       "    <span style=\"color: #808000; text-decoration-color: #808000\">state_variables</span>=<span style=\"color: #800080; text-decoration-color: #800080; font-weight: bold\">StateVariables</span><span style=\"font-weight: bold\">(</span>\n",
       "        <span style=\"color: #808000; text-decoration-color: #808000\">context</span>=<span style=\"color: #008000; text-decoration-color: #008000\">'Following your midday nourishment, you channel the nourishing warmth and regained mental clarity </span>\n",
       "<span style=\"color: #008000; text-decoration-color: #008000\">into a focused hour-long creative session. Seated snugly under blankets near the window, with your journal open and</span>\n",
       "<span style=\"color: #008000; text-decoration-color: #008000\">pen in hand, you allow the reflective energy and poetic melancholy of the day to flow into constructive expression.</span>\n",
       "<span style=\"color: #008000; text-decoration-color: #008000\">The act of writing concentrates your thoughts and offers a sense of accomplishment, providing a subtle </span>\n",
       "<span style=\"color: #008000; text-decoration-color: #008000\">counterbalance to the earlier fog of the hangover. The ambient gray light trickling through the frosted glass </span>\n",
       "<span style=\"color: #008000; text-decoration-color: #008000\">reinforces the pensive yet inspired mood as you jot down reflections, prose, or perhaps a thoughtful letter. The </span>\n",
       "<span style=\"color: #008000; text-decoration-color: #008000\">session brings together the stillness of the external day with the intricate activity of your inner world, leading </span>\n",
       "<span style=\"color: #008000; text-decoration-color: #008000\">to a peaceful yet mentally active state.'</span>,\n",
       "        <span style=\"color: #808000; text-decoration-color: #808000\">pain_level</span>=<span style=\"color: #008080; text-decoration-color: #008080; font-weight: bold\">42</span>,\n",
       "        <span style=\"color: #808000; text-decoration-color: #808000\">pleasure_level</span>=<span style=\"color: #008080; text-decoration-color: #008080; font-weight: bold\">65</span>,\n",
       "        <span style=\"color: #808000; text-decoration-color: #808000\">health_level</span>=<span style=\"color: #008080; text-decoration-color: #008080; font-weight: bold\">72</span>,\n",
       "        <span style=\"color: #808000; text-decoration-color: #808000\">focus_level</span>=<span style=\"color: #008080; text-decoration-color: #008080; font-weight: bold\">75</span>\n",
       "    <span style=\"font-weight: bold\">)</span>,\n",
       "    <span style=\"color: #808000; text-decoration-color: #808000\">environment_variables</span>=<span style=\"color: #800080; text-decoration-color: #800080; font-weight: bold\">EnvironmentVariables</span><span style=\"font-weight: bold\">(</span>\n",
       "        <span style=\"color: #808000; text-decoration-color: #808000\">context</span>=<span style=\"color: #008000; text-decoration-color: #008000\">'As midday subtly transitions toward early afternoon, the gray skies over Baltimore remain </span>\n",
       "<span style=\"color: #008000; text-decoration-color: #008000\">unwaveringly overcast, casting their somber tone over the world outside. Within your chamber, you have arranged a </span>\n",
       "<span style=\"color: #008000; text-decoration-color: #008000\">cocoon of warmth with blankets draped around you, shielding yourself from the persistent chill that lingers in the </span>\n",
       "<span style=\"color: #008000; text-decoration-color: #008000\">air despite your earlier meal. Feeling restored and nourished, you enter a focused creative session, using your </span>\n",
       "<span style=\"color: #008000; text-decoration-color: #008000\">journal or other tools of expression to channel your introspective energy into something tangible. The melancholy </span>\n",
       "<span style=\"color: #008000; text-decoration-color: #008000\">mood, now tempered by new clarity and creative purpose, continues to suffuse the room. The world outside carries on</span>\n",
       "<span style=\"color: #008000; text-decoration-color: #008000\">quietly—hooves faintly clop in the distance, the wind whispers between alleyways, and the muted hum of life </span>\n",
       "<span style=\"color: #008000; text-decoration-color: #008000\">occasionally filters in, setting an ambient rhythm to your contemplative focus. It is now early afternoon, and the </span>\n",
       "<span style=\"color: #008000; text-decoration-color: #008000\">steady gray ambiance provides the perfect backdrop to your reflective endeavor.'</span>,\n",
       "        <span style=\"color: #808000; text-decoration-color: #808000\">weather</span>=<span style=\"color: #008000; text-decoration-color: #008000\">'cloudy'</span>,\n",
       "        <span style=\"color: #808000; text-decoration-color: #808000\">hour_of_day</span>=<span style=\"color: #008080; text-decoration-color: #008080; font-weight: bold\">13.0</span>,\n",
       "        <span style=\"color: #808000; text-decoration-color: #808000\">day_of_week</span>=<span style=\"color: #008000; text-decoration-color: #008000\">'sunday'</span>\n",
       "    <span style=\"font-weight: bold\">)</span>\n",
       "<span style=\"font-weight: bold\">)</span>\n",
       "</pre>\n"
      ],
      "text/plain": [
       "\u001b[1;35mMyOwnState\u001b[0m\u001b[1m(\u001b[0m\n",
       "    \u001b[33muuid\u001b[0m=\u001b[32m'4cd23a06-7482-4695-87cc-fe1dc8a97455'\u001b[0m,\n",
       "    \u001b[33mlast_action\u001b[0m=\u001b[32m'Focused creative session'\u001b[0m,\n",
       "    \u001b[33mprevious_state_id\u001b[0m=\u001b[32m'97ee5264-9b79-4a2d-ae08-f291d3193bcf'\u001b[0m,\n",
       "    \u001b[33mstate_variables\u001b[0m=\u001b[1;35mStateVariables\u001b[0m\u001b[1m(\u001b[0m\n",
       "        \u001b[33mcontext\u001b[0m=\u001b[32m'Following your midday nourishment, you channel the nourishing warmth and regained mental clarity \u001b[0m\n",
       "\u001b[32minto a focused hour-long creative session. Seated snugly under blankets near the window, with your journal open and\u001b[0m\n",
       "\u001b[32mpen in hand, you allow the reflective energy and poetic melancholy of the day to flow into constructive expression.\u001b[0m\n",
       "\u001b[32mThe act of writing concentrates your thoughts and offers a sense of accomplishment, providing a subtle \u001b[0m\n",
       "\u001b[32mcounterbalance to the earlier fog of the hangover. The ambient gray light trickling through the frosted glass \u001b[0m\n",
       "\u001b[32mreinforces the pensive yet inspired mood as you jot down reflections, prose, or perhaps a thoughtful letter. The \u001b[0m\n",
       "\u001b[32msession brings together the stillness of the external day with the intricate activity of your inner world, leading \u001b[0m\n",
       "\u001b[32mto a peaceful yet mentally active state.'\u001b[0m,\n",
       "        \u001b[33mpain_level\u001b[0m=\u001b[1;36m42\u001b[0m,\n",
       "        \u001b[33mpleasure_level\u001b[0m=\u001b[1;36m65\u001b[0m,\n",
       "        \u001b[33mhealth_level\u001b[0m=\u001b[1;36m72\u001b[0m,\n",
       "        \u001b[33mfocus_level\u001b[0m=\u001b[1;36m75\u001b[0m\n",
       "    \u001b[1m)\u001b[0m,\n",
       "    \u001b[33menvironment_variables\u001b[0m=\u001b[1;35mEnvironmentVariables\u001b[0m\u001b[1m(\u001b[0m\n",
       "        \u001b[33mcontext\u001b[0m=\u001b[32m'As midday subtly transitions toward early afternoon, the gray skies over Baltimore remain \u001b[0m\n",
       "\u001b[32munwaveringly overcast, casting their somber tone over the world outside. Within your chamber, you have arranged a \u001b[0m\n",
       "\u001b[32mcocoon of warmth with blankets draped around you, shielding yourself from the persistent chill that lingers in the \u001b[0m\n",
       "\u001b[32mair despite your earlier meal. Feeling restored and nourished, you enter a focused creative session, using your \u001b[0m\n",
       "\u001b[32mjournal or other tools of expression to channel your introspective energy into something tangible. The melancholy \u001b[0m\n",
       "\u001b[32mmood, now tempered by new clarity and creative purpose, continues to suffuse the room. The world outside carries on\u001b[0m\n",
       "\u001b[32mquietly—hooves faintly clop in the distance, the wind whispers between alleyways, and the muted hum of life \u001b[0m\n",
       "\u001b[32moccasionally filters in, setting an ambient rhythm to your contemplative focus. It is now early afternoon, and the \u001b[0m\n",
       "\u001b[32msteady gray ambiance provides the perfect backdrop to your reflective endeavor.'\u001b[0m,\n",
       "        \u001b[33mweather\u001b[0m=\u001b[32m'cloudy'\u001b[0m,\n",
       "        \u001b[33mhour_of_day\u001b[0m=\u001b[1;36m13\u001b[0m\u001b[1;36m.0\u001b[0m,\n",
       "        \u001b[33mday_of_week\u001b[0m=\u001b[32m'sunday'\u001b[0m\n",
       "    \u001b[1m)\u001b[0m\n",
       "\u001b[1m)\u001b[0m\n"
      ]
     },
     "metadata": {},
     "output_type": "display_data"
    },
    {
     "data": {
      "text/html": [
       "<pre style=\"white-space:pre;overflow-x:auto;line-height:normal;font-family:Menlo,'DejaVu Sans Mono',consolas,'Courier New',monospace\"><span style=\"color: #800080; text-decoration-color: #800080; font-weight: bold\">Action</span><span style=\"font-weight: bold\">(</span>\n",
       "    <span style=\"color: #808000; text-decoration-color: #808000\">name</span>=<span style=\"color: #008000; text-decoration-color: #008000\">'Brief outdoor errand or refreshing stroll'</span>,\n",
       "    <span style=\"color: #808000; text-decoration-color: #808000\">details</span>=<span style=\"color: #008000; text-decoration-color: #008000\">'After spending an hour in intense creative focus, consider stepping out for a brief errand or </span>\n",
       "<span style=\"color: #008000; text-decoration-color: #008000\">refreshing stroll to reset your mind and body after the focused mental effort. This short outing will allow fresh </span>\n",
       "<span style=\"color: #008000; text-decoration-color: #008000\">air and light movement to refresh your thoughts while also avoiding prolonged stillness that might creep into </span>\n",
       "<span style=\"color: #008000; text-decoration-color: #008000\">lethargy again. Dress warmly, as the chill persists outside, and take a different route or focus on observing new </span>\n",
       "<span style=\"color: #008000; text-decoration-color: #008000\">details in the surroundings. Aim for a 20-30 minute outing, allowing enough time to step away from your creative </span>\n",
       "<span style=\"color: #008000; text-decoration-color: #008000\">state without undoing the calming, reflective rhythm built throughout the day.'</span>,\n",
       "    <span style=\"color: #808000; text-decoration-color: #808000\">time_spent</span>=<span style=\"color: #008080; text-decoration-color: #008080; font-weight: bold\">0.5</span>,\n",
       "    <span style=\"color: #808000; text-decoration-color: #808000\">from_state_id</span>=<span style=\"color: #008000; text-decoration-color: #008000\">'4cd23a06-7482-4695-87cc-fe1dc8a97455'</span>,\n",
       "    <span style=\"color: #808000; text-decoration-color: #808000\">to_state_id</span>=<span style=\"color: #008000; text-decoration-color: #008000\">'7e7e5130-733c-432c-aefd-8758a9bb50ba'</span>\n",
       "<span style=\"font-weight: bold\">)</span>\n",
       "</pre>\n"
      ],
      "text/plain": [
       "\u001b[1;35mAction\u001b[0m\u001b[1m(\u001b[0m\n",
       "    \u001b[33mname\u001b[0m=\u001b[32m'Brief outdoor errand or refreshing stroll'\u001b[0m,\n",
       "    \u001b[33mdetails\u001b[0m=\u001b[32m'After spending an hour in intense creative focus, consider stepping out for a brief errand or \u001b[0m\n",
       "\u001b[32mrefreshing stroll to reset your mind and body after the focused mental effort. This short outing will allow fresh \u001b[0m\n",
       "\u001b[32mair and light movement to refresh your thoughts while also avoiding prolonged stillness that might creep into \u001b[0m\n",
       "\u001b[32mlethargy again. Dress warmly, as the chill persists outside, and take a different route or focus on observing new \u001b[0m\n",
       "\u001b[32mdetails in the surroundings. Aim for a 20-30 minute outing, allowing enough time to step away from your creative \u001b[0m\n",
       "\u001b[32mstate without undoing the calming, reflective rhythm built throughout the day.'\u001b[0m,\n",
       "    \u001b[33mtime_spent\u001b[0m=\u001b[1;36m0\u001b[0m\u001b[1;36m.5\u001b[0m,\n",
       "    \u001b[33mfrom_state_id\u001b[0m=\u001b[32m'4cd23a06-7482-4695-87cc-fe1dc8a97455'\u001b[0m,\n",
       "    \u001b[33mto_state_id\u001b[0m=\u001b[32m'7e7e5130-733c-432c-aefd-8758a9bb50ba'\u001b[0m\n",
       "\u001b[1m)\u001b[0m\n"
      ]
     },
     "metadata": {},
     "output_type": "display_data"
    },
    {
     "data": {
      "text/html": [
       "<pre style=\"white-space:pre;overflow-x:auto;line-height:normal;font-family:Menlo,'DejaVu Sans Mono',consolas,'Courier New',monospace\"><span style=\"color: #800080; text-decoration-color: #800080; font-weight: bold\">MyOwnState</span><span style=\"font-weight: bold\">(</span>\n",
       "    <span style=\"color: #808000; text-decoration-color: #808000\">uuid</span>=<span style=\"color: #008000; text-decoration-color: #008000\">'7e7e5130-733c-432c-aefd-8758a9bb50ba'</span>,\n",
       "    <span style=\"color: #808000; text-decoration-color: #808000\">last_action</span>=<span style=\"color: #008000; text-decoration-color: #008000\">'Brief outdoor errand or refreshing stroll'</span>,\n",
       "    <span style=\"color: #808000; text-decoration-color: #808000\">previous_state_id</span>=<span style=\"color: #008000; text-decoration-color: #008000\">'4cd23a06-7482-4695-87cc-fe1dc8a97455'</span>,\n",
       "    <span style=\"color: #808000; text-decoration-color: #808000\">state_variables</span>=<span style=\"color: #800080; text-decoration-color: #800080; font-weight: bold\">StateVariables</span><span style=\"font-weight: bold\">(</span>\n",
       "        <span style=\"color: #808000; text-decoration-color: #808000\">context</span>=<span style=\"color: #008000; text-decoration-color: #008000\">'After an hour of dedicated creative work, leaving your warm and reflective space for a brief </span>\n",
       "<span style=\"color: #008000; text-decoration-color: #008000\">outdoor stroll or errand helps balance intense mental activity with refreshing, low-effort physical movement. You </span>\n",
       "<span style=\"color: #008000; text-decoration-color: #008000\">step out into the cold, gray Baltimore afternoon, bundling up once again for the persistent chill. The fresh air is</span>\n",
       "<span style=\"color: #008000; text-decoration-color: #008000\">invigorating without being overwhelming, and the act of walking helps reset your thoughts, clearing any lingering </span>\n",
       "<span style=\"color: #008000; text-decoration-color: #008000\">mental fatigue from the focused creative session. You make a point to take a different route, observing small, </span>\n",
       "<span style=\"color: #008000; text-decoration-color: #008000\">unnoticed details of the surroundings to maintain a heightened sense of presence. This short outing also ensures </span>\n",
       "<span style=\"color: #008000; text-decoration-color: #008000\">you avoid settling into static inactivity, recalibrating your mood and energy without disrupting the peaceful </span>\n",
       "<span style=\"color: #008000; text-decoration-color: #008000\">rhythm of the day.'</span>,\n",
       "        <span style=\"color: #808000; text-decoration-color: #808000\">pain_level</span>=<span style=\"color: #008080; text-decoration-color: #008080; font-weight: bold\">40</span>,\n",
       "        <span style=\"color: #808000; text-decoration-color: #808000\">pleasure_level</span>=<span style=\"color: #008080; text-decoration-color: #008080; font-weight: bold\">65</span>,\n",
       "        <span style=\"color: #808000; text-decoration-color: #808000\">health_level</span>=<span style=\"color: #008080; text-decoration-color: #008080; font-weight: bold\">73</span>,\n",
       "        <span style=\"color: #808000; text-decoration-color: #808000\">focus_level</span>=<span style=\"color: #008080; text-decoration-color: #008080; font-weight: bold\">68</span>\n",
       "    <span style=\"font-weight: bold\">)</span>,\n",
       "    <span style=\"color: #808000; text-decoration-color: #808000\">environment_variables</span>=<span style=\"color: #800080; text-decoration-color: #800080; font-weight: bold\">EnvironmentVariables</span><span style=\"font-weight: bold\">(</span>\n",
       "        <span style=\"color: #808000; text-decoration-color: #808000\">context</span>=<span style=\"color: #008000; text-decoration-color: #008000\">'After spending an hour engrossed in creative focus within the cozy warmth of blankets near the </span>\n",
       "<span style=\"color: #008000; text-decoration-color: #008000\">window, the decision to step outside for a brief outing introduces a shift in rhythm. The skies remain persistently</span>\n",
       "<span style=\"color: #008000; text-decoration-color: #008000\">overcast, maintaining the somber and subdued ambiance of early afternoon Baltimore. You wrap up warmly in your </span>\n",
       "<span style=\"color: #008000; text-decoration-color: #008000\">coat, scarf, and gloves against the wintry persistence before stepping onto the damp cobblestones once more. This </span>\n",
       "<span style=\"color: #008000; text-decoration-color: #008000\">short stroll, different from the earlier reflective walk, centers on mental and physical resetting. Observing </span>\n",
       "<span style=\"color: #008000; text-decoration-color: #008000\">subtle changes—more pronounced shadows from the angle of the cloud-muted sun, or a greater sense of stirrings in </span>\n",
       "<span style=\"color: #008000; text-decoration-color: #008000\">the neighborhood—provides the opportunity to recalibrate after active introspection. Despite the cold, the </span>\n",
       "<span style=\"color: #008000; text-decoration-color: #008000\">excursion infuses a trace of freshness and energy to temper the indoor quiet.'</span>,\n",
       "        <span style=\"color: #808000; text-decoration-color: #808000\">weather</span>=<span style=\"color: #008000; text-decoration-color: #008000\">'cloudy'</span>,\n",
       "        <span style=\"color: #808000; text-decoration-color: #808000\">hour_of_day</span>=<span style=\"color: #008080; text-decoration-color: #008080; font-weight: bold\">13.5</span>,\n",
       "        <span style=\"color: #808000; text-decoration-color: #808000\">day_of_week</span>=<span style=\"color: #008000; text-decoration-color: #008000\">'sunday'</span>\n",
       "    <span style=\"font-weight: bold\">)</span>\n",
       "<span style=\"font-weight: bold\">)</span>\n",
       "</pre>\n"
      ],
      "text/plain": [
       "\u001b[1;35mMyOwnState\u001b[0m\u001b[1m(\u001b[0m\n",
       "    \u001b[33muuid\u001b[0m=\u001b[32m'7e7e5130-733c-432c-aefd-8758a9bb50ba'\u001b[0m,\n",
       "    \u001b[33mlast_action\u001b[0m=\u001b[32m'Brief outdoor errand or refreshing stroll'\u001b[0m,\n",
       "    \u001b[33mprevious_state_id\u001b[0m=\u001b[32m'4cd23a06-7482-4695-87cc-fe1dc8a97455'\u001b[0m,\n",
       "    \u001b[33mstate_variables\u001b[0m=\u001b[1;35mStateVariables\u001b[0m\u001b[1m(\u001b[0m\n",
       "        \u001b[33mcontext\u001b[0m=\u001b[32m'After an hour of dedicated creative work, leaving your warm and reflective space for a brief \u001b[0m\n",
       "\u001b[32moutdoor stroll or errand helps balance intense mental activity with refreshing, low-effort physical movement. You \u001b[0m\n",
       "\u001b[32mstep out into the cold, gray Baltimore afternoon, bundling up once again for the persistent chill. The fresh air is\u001b[0m\n",
       "\u001b[32minvigorating without being overwhelming, and the act of walking helps reset your thoughts, clearing any lingering \u001b[0m\n",
       "\u001b[32mmental fatigue from the focused creative session. You make a point to take a different route, observing small, \u001b[0m\n",
       "\u001b[32munnoticed details of the surroundings to maintain a heightened sense of presence. This short outing also ensures \u001b[0m\n",
       "\u001b[32myou avoid settling into static inactivity, recalibrating your mood and energy without disrupting the peaceful \u001b[0m\n",
       "\u001b[32mrhythm of the day.'\u001b[0m,\n",
       "        \u001b[33mpain_level\u001b[0m=\u001b[1;36m40\u001b[0m,\n",
       "        \u001b[33mpleasure_level\u001b[0m=\u001b[1;36m65\u001b[0m,\n",
       "        \u001b[33mhealth_level\u001b[0m=\u001b[1;36m73\u001b[0m,\n",
       "        \u001b[33mfocus_level\u001b[0m=\u001b[1;36m68\u001b[0m\n",
       "    \u001b[1m)\u001b[0m,\n",
       "    \u001b[33menvironment_variables\u001b[0m=\u001b[1;35mEnvironmentVariables\u001b[0m\u001b[1m(\u001b[0m\n",
       "        \u001b[33mcontext\u001b[0m=\u001b[32m'After spending an hour engrossed in creative focus within the cozy warmth of blankets near the \u001b[0m\n",
       "\u001b[32mwindow, the decision to step outside for a brief outing introduces a shift in rhythm. The skies remain persistently\u001b[0m\n",
       "\u001b[32movercast, maintaining the somber and subdued ambiance of early afternoon Baltimore. You wrap up warmly in your \u001b[0m\n",
       "\u001b[32mcoat, scarf, and gloves against the wintry persistence before stepping onto the damp cobblestones once more. This \u001b[0m\n",
       "\u001b[32mshort stroll, different from the earlier reflective walk, centers on mental and physical resetting. Observing \u001b[0m\n",
       "\u001b[32msubtle changes—more pronounced shadows from the angle of the cloud-muted sun, or a greater sense of stirrings in \u001b[0m\n",
       "\u001b[32mthe neighborhood—provides the opportunity to recalibrate after active introspection. Despite the cold, the \u001b[0m\n",
       "\u001b[32mexcursion infuses a trace of freshness and energy to temper the indoor quiet.'\u001b[0m,\n",
       "        \u001b[33mweather\u001b[0m=\u001b[32m'cloudy'\u001b[0m,\n",
       "        \u001b[33mhour_of_day\u001b[0m=\u001b[1;36m13\u001b[0m\u001b[1;36m.5\u001b[0m,\n",
       "        \u001b[33mday_of_week\u001b[0m=\u001b[32m'sunday'\u001b[0m\n",
       "    \u001b[1m)\u001b[0m\n",
       "\u001b[1m)\u001b[0m\n"
      ]
     },
     "metadata": {},
     "output_type": "display_data"
    },
    {
     "data": {
      "text/html": [
       "<pre style=\"white-space:pre;overflow-x:auto;line-height:normal;font-family:Menlo,'DejaVu Sans Mono',consolas,'Courier New',monospace\"><span style=\"color: #800080; text-decoration-color: #800080; font-weight: bold\">Action</span><span style=\"font-weight: bold\">(</span>\n",
       "    <span style=\"color: #808000; text-decoration-color: #808000\">name</span>=<span style=\"color: #008000; text-decoration-color: #008000\">'Return to indoor comfort and light evening planning'</span>,\n",
       "    <span style=\"color: #808000; text-decoration-color: #808000\">details</span>=<span style=\"color: #008000; text-decoration-color: #008000\">\"After a brief but refreshing outdoor stroll, return to the warmth of your chamber to settle in for the</span>\n",
       "<span style=\"color: #008000; text-decoration-color: #008000\">remainder of the afternoon. Remove your coat, scarf, and gloves, and sit comfortably near the window or by a source</span>\n",
       "<span style=\"color: #008000; text-decoration-color: #008000\">of warmth. Take a moment to let the residual chill from outside dissipate. Begin light planning for the </span>\n",
       "<span style=\"color: #008000; text-decoration-color: #008000\">evening—perhaps deciding on a simple activity like reading, correspondence, or reflective journal writing. Keep the</span>\n",
       "<span style=\"color: #008000; text-decoration-color: #008000\">mood gentle and in tune with the day's rhythm. This transitional moment serves to end the physical pacing of the </span>\n",
       "<span style=\"color: #008000; text-decoration-color: #008000\">outdoor walk and bring focus back to your indoor routine, helping you align the day’s efforts with your next </span>\n",
       "<span style=\"color: #008000; text-decoration-color: #008000\">actions.\"</span>,\n",
       "    <span style=\"color: #808000; text-decoration-color: #808000\">time_spent</span>=<span style=\"color: #008080; text-decoration-color: #008080; font-weight: bold\">0.5</span>,\n",
       "    <span style=\"color: #808000; text-decoration-color: #808000\">from_state_id</span>=<span style=\"color: #008000; text-decoration-color: #008000\">'7e7e5130-733c-432c-aefd-8758a9bb50ba'</span>,\n",
       "    <span style=\"color: #808000; text-decoration-color: #808000\">to_state_id</span>=<span style=\"color: #008000; text-decoration-color: #008000\">'f3a03d5c-33ca-4702-a232-2ffd41194a73'</span>\n",
       "<span style=\"font-weight: bold\">)</span>\n",
       "</pre>\n"
      ],
      "text/plain": [
       "\u001b[1;35mAction\u001b[0m\u001b[1m(\u001b[0m\n",
       "    \u001b[33mname\u001b[0m=\u001b[32m'Return to indoor comfort and light evening planning'\u001b[0m,\n",
       "    \u001b[33mdetails\u001b[0m=\u001b[32m\"After\u001b[0m\u001b[32m a brief but refreshing outdoor stroll, return to the warmth of your chamber to settle in for the\u001b[0m\n",
       "\u001b[32mremainder of the afternoon. Remove your coat, scarf, and gloves, and sit comfortably near the window or by a source\u001b[0m\n",
       "\u001b[32mof warmth. Take a moment to let the residual chill from outside dissipate. Begin light planning for the \u001b[0m\n",
       "\u001b[32mevening—perhaps deciding on a simple activity like reading, correspondence, or reflective journal writing. Keep the\u001b[0m\n",
       "\u001b[32mmood gentle and in tune with the day's rhythm. This transitional moment serves to end the physical pacing of the \u001b[0m\n",
       "\u001b[32moutdoor walk and bring focus back to your indoor routine, helping you align the day’s efforts with your next \u001b[0m\n",
       "\u001b[32mactions.\"\u001b[0m,\n",
       "    \u001b[33mtime_spent\u001b[0m=\u001b[1;36m0\u001b[0m\u001b[1;36m.5\u001b[0m,\n",
       "    \u001b[33mfrom_state_id\u001b[0m=\u001b[32m'7e7e5130-733c-432c-aefd-8758a9bb50ba'\u001b[0m,\n",
       "    \u001b[33mto_state_id\u001b[0m=\u001b[32m'f3a03d5c-33ca-4702-a232-2ffd41194a73'\u001b[0m\n",
       "\u001b[1m)\u001b[0m\n"
      ]
     },
     "metadata": {},
     "output_type": "display_data"
    },
    {
     "data": {
      "text/html": [
       "<pre style=\"white-space:pre;overflow-x:auto;line-height:normal;font-family:Menlo,'DejaVu Sans Mono',consolas,'Courier New',monospace\"><span style=\"color: #800080; text-decoration-color: #800080; font-weight: bold\">MyOwnState</span><span style=\"font-weight: bold\">(</span>\n",
       "    <span style=\"color: #808000; text-decoration-color: #808000\">uuid</span>=<span style=\"color: #008000; text-decoration-color: #008000\">'f3a03d5c-33ca-4702-a232-2ffd41194a73'</span>,\n",
       "    <span style=\"color: #808000; text-decoration-color: #808000\">last_action</span>=<span style=\"color: #008000; text-decoration-color: #008000\">'Return to indoor comfort and light evening planning'</span>,\n",
       "    <span style=\"color: #808000; text-decoration-color: #808000\">previous_state_id</span>=<span style=\"color: #008000; text-decoration-color: #008000\">'7e7e5130-733c-432c-aefd-8758a9bb50ba'</span>,\n",
       "    <span style=\"color: #808000; text-decoration-color: #808000\">state_variables</span>=<span style=\"color: #800080; text-decoration-color: #800080; font-weight: bold\">StateVariables</span><span style=\"font-weight: bold\">(</span>\n",
       "        <span style=\"color: #808000; text-decoration-color: #808000\">context</span>=<span style=\"color: #008000; text-decoration-color: #008000\">'After a brief outdoor stroll under the consistent gray skies of Baltimore, you return to the </span>\n",
       "<span style=\"color: #008000; text-decoration-color: #008000\">indoor comfort of your chamber, shrugging off the cold layers and allowing the warmth of the room to envelop you. </span>\n",
       "<span style=\"color: #008000; text-decoration-color: #008000\">Settling into a cozy spot, likely near a window where the muted light filters through frosted glass, you ease </span>\n",
       "<span style=\"color: #008000; text-decoration-color: #008000\">yourself back into the rhythm of calm introspection. The invigorating effects of the walk linger, providing a sense</span>\n",
       "<span style=\"color: #008000; text-decoration-color: #008000\">of renewal as you begin light evening planning. This transition involves gentle contemplation of the remainder of </span>\n",
       "<span style=\"color: #008000; text-decoration-color: #008000\">your day—perhaps choosing to read, write reflective pieces in your journal, or engage in correspondence. This </span>\n",
       "<span style=\"color: #008000; text-decoration-color: #008000\">moment bridges the external briskness of the walk with the internal quietude of your room, offering a balanced </span>\n",
       "<span style=\"color: #008000; text-decoration-color: #008000\">close to the afternoon and segue into an intentionally calm evening.'</span>,\n",
       "        <span style=\"color: #808000; text-decoration-color: #808000\">pain_level</span>=<span style=\"color: #008080; text-decoration-color: #008080; font-weight: bold\">40</span>,\n",
       "        <span style=\"color: #808000; text-decoration-color: #808000\">pleasure_level</span>=<span style=\"color: #008080; text-decoration-color: #008080; font-weight: bold\">68</span>,\n",
       "        <span style=\"color: #808000; text-decoration-color: #808000\">health_level</span>=<span style=\"color: #008080; text-decoration-color: #008080; font-weight: bold\">74</span>,\n",
       "        <span style=\"color: #808000; text-decoration-color: #808000\">focus_level</span>=<span style=\"color: #008080; text-decoration-color: #008080; font-weight: bold\">70</span>\n",
       "    <span style=\"font-weight: bold\">)</span>,\n",
       "    <span style=\"color: #808000; text-decoration-color: #808000\">environment_variables</span>=<span style=\"color: #800080; text-decoration-color: #800080; font-weight: bold\">EnvironmentVariables</span><span style=\"font-weight: bold\">(</span>\n",
       "        <span style=\"color: #808000; text-decoration-color: #808000\">context</span>=<span style=\"color: #008000; text-decoration-color: #008000\">\"Returning indoors after your brief afternoon stroll, you shed the chill along with your coat, </span>\n",
       "<span style=\"color: #008000; text-decoration-color: #008000\">scarf, and gloves, settling back into the comfort of your chamber. The cold air lingering in your skin gradually </span>\n",
       "<span style=\"color: #008000; text-decoration-color: #008000\">subsides as you sit near a source of warmth, whether a fire or wrapped in heavy blankets by the frosted window. The</span>\n",
       "<span style=\"color: #008000; text-decoration-color: #008000\">overcast skies outside signal that afternoon continues its slow, muted passage toward evening. You take this moment</span>\n",
       "<span style=\"color: #008000; text-decoration-color: #008000\">to transition from the physical refreshment of the walk into light evening planning. Deciding on a gentle </span>\n",
       "<span style=\"color: #008000; text-decoration-color: #008000\">activity—whether reading, journal writing, or correspondence—helps bridge the calm energy cultivated from the day </span>\n",
       "<span style=\"color: #008000; text-decoration-color: #008000\">into the quiet anticipation of the evening. Outside, Baltimore's winter streets remain subdued, though occasional </span>\n",
       "<span style=\"color: #008000; text-decoration-color: #008000\">distant sounds hint at life persisting beyond your reflective bubble.\"</span>,\n",
       "        <span style=\"color: #808000; text-decoration-color: #808000\">weather</span>=<span style=\"color: #008000; text-decoration-color: #008000\">'cloudy'</span>,\n",
       "        <span style=\"color: #808000; text-decoration-color: #808000\">hour_of_day</span>=<span style=\"color: #008080; text-decoration-color: #008080; font-weight: bold\">14.0</span>,\n",
       "        <span style=\"color: #808000; text-decoration-color: #808000\">day_of_week</span>=<span style=\"color: #008000; text-decoration-color: #008000\">'sunday'</span>\n",
       "    <span style=\"font-weight: bold\">)</span>\n",
       "<span style=\"font-weight: bold\">)</span>\n",
       "</pre>\n"
      ],
      "text/plain": [
       "\u001b[1;35mMyOwnState\u001b[0m\u001b[1m(\u001b[0m\n",
       "    \u001b[33muuid\u001b[0m=\u001b[32m'f3a03d5c-33ca-4702-a232-2ffd41194a73'\u001b[0m,\n",
       "    \u001b[33mlast_action\u001b[0m=\u001b[32m'Return to indoor comfort and light evening planning'\u001b[0m,\n",
       "    \u001b[33mprevious_state_id\u001b[0m=\u001b[32m'7e7e5130-733c-432c-aefd-8758a9bb50ba'\u001b[0m,\n",
       "    \u001b[33mstate_variables\u001b[0m=\u001b[1;35mStateVariables\u001b[0m\u001b[1m(\u001b[0m\n",
       "        \u001b[33mcontext\u001b[0m=\u001b[32m'After a brief outdoor stroll under the consistent gray skies of Baltimore, you return to the \u001b[0m\n",
       "\u001b[32mindoor comfort of your chamber, shrugging off the cold layers and allowing the warmth of the room to envelop you. \u001b[0m\n",
       "\u001b[32mSettling into a cozy spot, likely near a window where the muted light filters through frosted glass, you ease \u001b[0m\n",
       "\u001b[32myourself back into the rhythm of calm introspection. The invigorating effects of the walk linger, providing a sense\u001b[0m\n",
       "\u001b[32mof renewal as you begin light evening planning. This transition involves gentle contemplation of the remainder of \u001b[0m\n",
       "\u001b[32myour day—perhaps choosing to read, write reflective pieces in your journal, or engage in correspondence. This \u001b[0m\n",
       "\u001b[32mmoment bridges the external briskness of the walk with the internal quietude of your room, offering a balanced \u001b[0m\n",
       "\u001b[32mclose to the afternoon and segue into an intentionally calm evening.'\u001b[0m,\n",
       "        \u001b[33mpain_level\u001b[0m=\u001b[1;36m40\u001b[0m,\n",
       "        \u001b[33mpleasure_level\u001b[0m=\u001b[1;36m68\u001b[0m,\n",
       "        \u001b[33mhealth_level\u001b[0m=\u001b[1;36m74\u001b[0m,\n",
       "        \u001b[33mfocus_level\u001b[0m=\u001b[1;36m70\u001b[0m\n",
       "    \u001b[1m)\u001b[0m,\n",
       "    \u001b[33menvironment_variables\u001b[0m=\u001b[1;35mEnvironmentVariables\u001b[0m\u001b[1m(\u001b[0m\n",
       "        \u001b[33mcontext\u001b[0m=\u001b[32m\"Returning\u001b[0m\u001b[32m indoors after your brief afternoon stroll, you shed the chill along with your coat, \u001b[0m\n",
       "\u001b[32mscarf, and gloves, settling back into the comfort of your chamber. The cold air lingering in your skin gradually \u001b[0m\n",
       "\u001b[32msubsides as you sit near a source of warmth, whether a fire or wrapped in heavy blankets by the frosted window. The\u001b[0m\n",
       "\u001b[32movercast skies outside signal that afternoon continues its slow, muted passage toward evening. You take this moment\u001b[0m\n",
       "\u001b[32mto transition from the physical refreshment of the walk into light evening planning. Deciding on a gentle \u001b[0m\n",
       "\u001b[32mactivity—whether reading, journal writing, or correspondence—helps bridge the calm energy cultivated from the day \u001b[0m\n",
       "\u001b[32minto the quiet anticipation of the evening. Outside, Baltimore's winter streets remain subdued, though occasional \u001b[0m\n",
       "\u001b[32mdistant sounds hint at life persisting beyond your reflective bubble.\"\u001b[0m,\n",
       "        \u001b[33mweather\u001b[0m=\u001b[32m'cloudy'\u001b[0m,\n",
       "        \u001b[33mhour_of_day\u001b[0m=\u001b[1;36m14\u001b[0m\u001b[1;36m.0\u001b[0m,\n",
       "        \u001b[33mday_of_week\u001b[0m=\u001b[32m'sunday'\u001b[0m\n",
       "    \u001b[1m)\u001b[0m\n",
       "\u001b[1m)\u001b[0m\n"
      ]
     },
     "metadata": {},
     "output_type": "display_data"
    },
    {
     "data": {
      "text/html": [
       "<pre style=\"white-space:pre;overflow-x:auto;line-height:normal;font-family:Menlo,'DejaVu Sans Mono',consolas,'Courier New',monospace\"><span style=\"color: #800080; text-decoration-color: #800080; font-weight: bold\">Action</span><span style=\"font-weight: bold\">(</span>\n",
       "    <span style=\"color: #808000; text-decoration-color: #808000\">name</span>=<span style=\"color: #008000; text-decoration-color: #008000\">'Engage in light evening reading'</span>,\n",
       "    <span style=\"color: #808000; text-decoration-color: #808000\">details</span>=<span style=\"color: #008000; text-decoration-color: #008000\">\"With the afternoon transitioning gradually into evening, and the reflective rhythm of the day still </span>\n",
       "<span style=\"color: #008000; text-decoration-color: #008000\">present, settle into a quiet, warm spot within your chamber to engage in some light reading. Choose a book or </span>\n",
       "<span style=\"color: #008000; text-decoration-color: #008000\">collection that aligns with your contemplative mood—something literary or philosophical that complements the gray </span>\n",
       "<span style=\"color: #008000; text-decoration-color: #008000\">atmosphere lingering outside. Wrap yourself in a blanket or position yourself by the window to enjoy the soft light</span>\n",
       "<span style=\"color: #008000; text-decoration-color: #008000\">diffusing through the frosted panes. Read slowly and thoughtfully; immerse yourself in the text without rushing </span>\n",
       "<span style=\"color: #008000; text-decoration-color: #008000\">through it. Allow the act of reading to offer both entertainment and a deepening of today's calm introspection. </span>\n",
       "<span style=\"color: #008000; text-decoration-color: #008000\">Dedicate about an hour to this activity, letting the steady pace set the tone for the evening.\"</span>,\n",
       "    <span style=\"color: #808000; text-decoration-color: #808000\">time_spent</span>=<span style=\"color: #008080; text-decoration-color: #008080; font-weight: bold\">1.0</span>,\n",
       "    <span style=\"color: #808000; text-decoration-color: #808000\">from_state_id</span>=<span style=\"color: #008000; text-decoration-color: #008000\">'f3a03d5c-33ca-4702-a232-2ffd41194a73'</span>,\n",
       "    <span style=\"color: #808000; text-decoration-color: #808000\">to_state_id</span>=<span style=\"color: #008000; text-decoration-color: #008000\">'9920aad6-219f-41c3-a173-9116cf8e282a'</span>\n",
       "<span style=\"font-weight: bold\">)</span>\n",
       "</pre>\n"
      ],
      "text/plain": [
       "\u001b[1;35mAction\u001b[0m\u001b[1m(\u001b[0m\n",
       "    \u001b[33mname\u001b[0m=\u001b[32m'Engage in light evening reading'\u001b[0m,\n",
       "    \u001b[33mdetails\u001b[0m=\u001b[32m\"With\u001b[0m\u001b[32m the afternoon transitioning gradually into evening, and the reflective rhythm of the day still \u001b[0m\n",
       "\u001b[32mpresent, settle into a quiet, warm spot within your chamber to engage in some light reading. Choose a book or \u001b[0m\n",
       "\u001b[32mcollection that aligns with your contemplative mood—something literary or philosophical that complements the gray \u001b[0m\n",
       "\u001b[32matmosphere lingering outside. Wrap yourself in a blanket or position yourself by the window to enjoy the soft light\u001b[0m\n",
       "\u001b[32mdiffusing through the frosted panes. Read slowly and thoughtfully; immerse yourself in the text without rushing \u001b[0m\n",
       "\u001b[32mthrough it. Allow the act of reading to offer both entertainment and a deepening of today's calm introspection. \u001b[0m\n",
       "\u001b[32mDedicate about an hour to this activity, letting the steady pace set the tone for the evening.\"\u001b[0m,\n",
       "    \u001b[33mtime_spent\u001b[0m=\u001b[1;36m1\u001b[0m\u001b[1;36m.0\u001b[0m,\n",
       "    \u001b[33mfrom_state_id\u001b[0m=\u001b[32m'f3a03d5c-33ca-4702-a232-2ffd41194a73'\u001b[0m,\n",
       "    \u001b[33mto_state_id\u001b[0m=\u001b[32m'9920aad6-219f-41c3-a173-9116cf8e282a'\u001b[0m\n",
       "\u001b[1m)\u001b[0m\n"
      ]
     },
     "metadata": {},
     "output_type": "display_data"
    },
    {
     "data": {
      "text/html": [
       "<pre style=\"white-space:pre;overflow-x:auto;line-height:normal;font-family:Menlo,'DejaVu Sans Mono',consolas,'Courier New',monospace\"><span style=\"color: #800080; text-decoration-color: #800080; font-weight: bold\">MyOwnState</span><span style=\"font-weight: bold\">(</span>\n",
       "    <span style=\"color: #808000; text-decoration-color: #808000\">uuid</span>=<span style=\"color: #008000; text-decoration-color: #008000\">'9920aad6-219f-41c3-a173-9116cf8e282a'</span>,\n",
       "    <span style=\"color: #808000; text-decoration-color: #808000\">last_action</span>=<span style=\"color: #008000; text-decoration-color: #008000\">'Engage in light evening reading'</span>,\n",
       "    <span style=\"color: #808000; text-decoration-color: #808000\">previous_state_id</span>=<span style=\"color: #008000; text-decoration-color: #008000\">'f3a03d5c-33ca-4702-a232-2ffd41194a73'</span>,\n",
       "    <span style=\"color: #808000; text-decoration-color: #808000\">state_variables</span>=<span style=\"color: #800080; text-decoration-color: #800080; font-weight: bold\">StateVariables</span><span style=\"font-weight: bold\">(</span>\n",
       "        <span style=\"color: #808000; text-decoration-color: #808000\">context</span>=<span style=\"color: #008000; text-decoration-color: #008000\">\"As you settle into light evening reading, your chamber is bathed in the melancholy, gray </span>\n",
       "<span style=\"color: #008000; text-decoration-color: #008000\">atmosphere of the early evening. With a blanket draped over you and a chosen book in hand, the act of reading </span>\n",
       "<span style=\"color: #008000; text-decoration-color: #008000\">becomes an extension of the day's reflective rhythm. The words flow slowly and deliberately, engaging your thoughts</span>\n",
       "<span style=\"color: #008000; text-decoration-color: #008000\">without straining them. The light filtering through frosted glass has dimmed slightly, adding a soothing ambiance </span>\n",
       "<span style=\"color: #008000; text-decoration-color: #008000\">that is conducive to thoughtful immersion in the literary or philosophical text you've chosen. The act of reading </span>\n",
       "<span style=\"color: #008000; text-decoration-color: #008000\">calms and focuses your mind further while subtly enriching the contemplative mood cultivated throughout the day.\"</span>,\n",
       "        <span style=\"color: #808000; text-decoration-color: #808000\">pain_level</span>=<span style=\"color: #008080; text-decoration-color: #008080; font-weight: bold\">38</span>,\n",
       "        <span style=\"color: #808000; text-decoration-color: #808000\">pleasure_level</span>=<span style=\"color: #008080; text-decoration-color: #008080; font-weight: bold\">70</span>,\n",
       "        <span style=\"color: #808000; text-decoration-color: #808000\">health_level</span>=<span style=\"color: #008080; text-decoration-color: #008080; font-weight: bold\">75</span>,\n",
       "        <span style=\"color: #808000; text-decoration-color: #808000\">focus_level</span>=<span style=\"color: #008080; text-decoration-color: #008080; font-weight: bold\">72</span>\n",
       "    <span style=\"font-weight: bold\">)</span>,\n",
       "    <span style=\"color: #808000; text-decoration-color: #808000\">environment_variables</span>=<span style=\"color: #800080; text-decoration-color: #800080; font-weight: bold\">EnvironmentVariables</span><span style=\"font-weight: bold\">(</span>\n",
       "        <span style=\"color: #808000; text-decoration-color: #808000\">context</span>=<span style=\"color: #008000; text-decoration-color: #008000\">'As the muted gray light of the winter afternoon gives way to a slightly darker early evening, you </span>\n",
       "<span style=\"color: #008000; text-decoration-color: #008000\">settle into a comfortable spot within your chamber to engage in light evening reading. Wrapped in a warm blanket, </span>\n",
       "<span style=\"color: #008000; text-decoration-color: #008000\">you position yourself by the frosted window or near a source of warmth, allowing the somber ambiance outside to </span>\n",
       "<span style=\"color: #008000; text-decoration-color: #008000\">enhance your contemplative mood. You select a book rich with literary or philosophical depth, perfectly aligned </span>\n",
       "<span style=\"color: #008000; text-decoration-color: #008000\">with the introspective rhythm of the day. The pages turn at a thoughtful pace as you immerse yourself in the text, </span>\n",
       "<span style=\"color: #008000; text-decoration-color: #008000\">its themes resonating subtly with the melancholy yet reflective atmosphere. This hour of immersion not only offers </span>\n",
       "<span style=\"color: #008000; text-decoration-color: #008000\">gentle intellectual stimulation but also deepens your connection to the quiet calm built over the course of the </span>\n",
       "<span style=\"color: #008000; text-decoration-color: #008000\">day. The city of Baltimore outside remains subdued under its overcast skies, though occasional faint sounds like a </span>\n",
       "<span style=\"color: #008000; text-decoration-color: #008000\">passing cart might stir for a moment before fading.'</span>,\n",
       "        <span style=\"color: #808000; text-decoration-color: #808000\">weather</span>=<span style=\"color: #008000; text-decoration-color: #008000\">'cloudy'</span>,\n",
       "        <span style=\"color: #808000; text-decoration-color: #808000\">hour_of_day</span>=<span style=\"color: #008080; text-decoration-color: #008080; font-weight: bold\">15.0</span>,\n",
       "        <span style=\"color: #808000; text-decoration-color: #808000\">day_of_week</span>=<span style=\"color: #008000; text-decoration-color: #008000\">'sunday'</span>\n",
       "    <span style=\"font-weight: bold\">)</span>\n",
       "<span style=\"font-weight: bold\">)</span>\n",
       "</pre>\n"
      ],
      "text/plain": [
       "\u001b[1;35mMyOwnState\u001b[0m\u001b[1m(\u001b[0m\n",
       "    \u001b[33muuid\u001b[0m=\u001b[32m'9920aad6-219f-41c3-a173-9116cf8e282a'\u001b[0m,\n",
       "    \u001b[33mlast_action\u001b[0m=\u001b[32m'Engage in light evening reading'\u001b[0m,\n",
       "    \u001b[33mprevious_state_id\u001b[0m=\u001b[32m'f3a03d5c-33ca-4702-a232-2ffd41194a73'\u001b[0m,\n",
       "    \u001b[33mstate_variables\u001b[0m=\u001b[1;35mStateVariables\u001b[0m\u001b[1m(\u001b[0m\n",
       "        \u001b[33mcontext\u001b[0m=\u001b[32m\"As\u001b[0m\u001b[32m you settle into light evening reading, your chamber is bathed in the melancholy, gray \u001b[0m\n",
       "\u001b[32matmosphere of the early evening. With a blanket draped over you and a chosen book in hand, the act of reading \u001b[0m\n",
       "\u001b[32mbecomes an extension of the day's reflective rhythm. The words flow slowly and deliberately, engaging your thoughts\u001b[0m\n",
       "\u001b[32mwithout straining them. The light filtering through frosted glass has dimmed slightly, adding a soothing ambiance \u001b[0m\n",
       "\u001b[32mthat is conducive to thoughtful immersion in the literary or philosophical text you've chosen. The act of reading \u001b[0m\n",
       "\u001b[32mcalms and focuses your mind further while subtly enriching the contemplative mood cultivated throughout the day.\"\u001b[0m,\n",
       "        \u001b[33mpain_level\u001b[0m=\u001b[1;36m38\u001b[0m,\n",
       "        \u001b[33mpleasure_level\u001b[0m=\u001b[1;36m70\u001b[0m,\n",
       "        \u001b[33mhealth_level\u001b[0m=\u001b[1;36m75\u001b[0m,\n",
       "        \u001b[33mfocus_level\u001b[0m=\u001b[1;36m72\u001b[0m\n",
       "    \u001b[1m)\u001b[0m,\n",
       "    \u001b[33menvironment_variables\u001b[0m=\u001b[1;35mEnvironmentVariables\u001b[0m\u001b[1m(\u001b[0m\n",
       "        \u001b[33mcontext\u001b[0m=\u001b[32m'As the muted gray light of the winter afternoon gives way to a slightly darker early evening, you \u001b[0m\n",
       "\u001b[32msettle into a comfortable spot within your chamber to engage in light evening reading. Wrapped in a warm blanket, \u001b[0m\n",
       "\u001b[32myou position yourself by the frosted window or near a source of warmth, allowing the somber ambiance outside to \u001b[0m\n",
       "\u001b[32menhance your contemplative mood. You select a book rich with literary or philosophical depth, perfectly aligned \u001b[0m\n",
       "\u001b[32mwith the introspective rhythm of the day. The pages turn at a thoughtful pace as you immerse yourself in the text, \u001b[0m\n",
       "\u001b[32mits themes resonating subtly with the melancholy yet reflective atmosphere. This hour of immersion not only offers \u001b[0m\n",
       "\u001b[32mgentle intellectual stimulation but also deepens your connection to the quiet calm built over the course of the \u001b[0m\n",
       "\u001b[32mday. The city of Baltimore outside remains subdued under its overcast skies, though occasional faint sounds like a \u001b[0m\n",
       "\u001b[32mpassing cart might stir for a moment before fading.'\u001b[0m,\n",
       "        \u001b[33mweather\u001b[0m=\u001b[32m'cloudy'\u001b[0m,\n",
       "        \u001b[33mhour_of_day\u001b[0m=\u001b[1;36m15\u001b[0m\u001b[1;36m.0\u001b[0m,\n",
       "        \u001b[33mday_of_week\u001b[0m=\u001b[32m'sunday'\u001b[0m\n",
       "    \u001b[1m)\u001b[0m\n",
       "\u001b[1m)\u001b[0m\n"
      ]
     },
     "metadata": {},
     "output_type": "display_data"
    }
   ],
   "source": [
    "for n in range(10):\n",
    "    life.iterate()\n",
    "    rprint(life.actions[-1])\n",
    "    rprint(life.states[-1])"
   ]
  },
  {
   "cell_type": "code",
   "execution_count": 27,
   "metadata": {},
   "outputs": [
    {
     "data": {
      "text/html": [
       "<pre style=\"white-space:pre;overflow-x:auto;line-height:normal;font-family:Menlo,'DejaVu Sans Mono',consolas,'Courier New',monospace\"><span style=\"color: #800080; text-decoration-color: #800080; font-weight: bold\">Action</span><span style=\"font-weight: bold\">(</span>\n",
       "    <span style=\"color: #808000; text-decoration-color: #808000\">name</span>=<span style=\"color: #008000; text-decoration-color: #008000\">'Prepare a light evening meal'</span>,\n",
       "    <span style=\"color: #808000; text-decoration-color: #808000\">details</span>=<span style=\"color: #008000; text-decoration-color: #008000\">\"As the evening progresses, transition from your reading session to preparing a light evening meal. </span>\n",
       "<span style=\"color: #008000; text-decoration-color: #008000\">Maintain the reflective tone of the day by choosing a simple, nourishing dish—perhaps a warm broth-based soup, a </span>\n",
       "<span style=\"color: #008000; text-decoration-color: #008000\">sandwich with fresh ingredients, or a small serving of cooked grains with vegetables. The act of lightly preparing </span>\n",
       "<span style=\"color: #008000; text-decoration-color: #008000\">and eating the meal will continue the day's theme of gentle pacing and mindfulness. Pair the meal with a calming </span>\n",
       "<span style=\"color: #008000; text-decoration-color: #008000\">drink, such as herbal tea or warm milk, to further unwind for the evening. Dedicate about 30-45 minutes to this </span>\n",
       "<span style=\"color: #008000; text-decoration-color: #008000\">activity, including both preparation and eating, allowing ample time to savor the process and the result.\"</span>,\n",
       "    <span style=\"color: #808000; text-decoration-color: #808000\">time_spent</span>=<span style=\"color: #008080; text-decoration-color: #008080; font-weight: bold\">0.75</span>,\n",
       "    <span style=\"color: #808000; text-decoration-color: #808000\">from_state_id</span>=<span style=\"color: #800080; text-decoration-color: #800080; font-style: italic\">None</span>,\n",
       "    <span style=\"color: #808000; text-decoration-color: #808000\">to_state_id</span>=<span style=\"color: #800080; text-decoration-color: #800080; font-style: italic\">None</span>\n",
       "<span style=\"font-weight: bold\">)</span>\n",
       "</pre>\n"
      ],
      "text/plain": [
       "\u001b[1;35mAction\u001b[0m\u001b[1m(\u001b[0m\n",
       "    \u001b[33mname\u001b[0m=\u001b[32m'Prepare a light evening meal'\u001b[0m,\n",
       "    \u001b[33mdetails\u001b[0m=\u001b[32m\"As\u001b[0m\u001b[32m the evening progresses, transition from your reading session to preparing a light evening meal. \u001b[0m\n",
       "\u001b[32mMaintain the reflective tone of the day by choosing a simple, nourishing dish—perhaps a warm broth-based soup, a \u001b[0m\n",
       "\u001b[32msandwich with fresh ingredients, or a small serving of cooked grains with vegetables. The act of lightly preparing \u001b[0m\n",
       "\u001b[32mand eating the meal will continue the day's theme of gentle pacing and mindfulness. Pair the meal with a calming \u001b[0m\n",
       "\u001b[32mdrink, such as herbal tea or warm milk, to further unwind for the evening. Dedicate about 30-45 minutes to this \u001b[0m\n",
       "\u001b[32mactivity, including both preparation and eating, allowing ample time to savor the process and the result.\"\u001b[0m,\n",
       "    \u001b[33mtime_spent\u001b[0m=\u001b[1;36m0\u001b[0m\u001b[1;36m.75\u001b[0m,\n",
       "    \u001b[33mfrom_state_id\u001b[0m=\u001b[3;35mNone\u001b[0m,\n",
       "    \u001b[33mto_state_id\u001b[0m=\u001b[3;35mNone\u001b[0m\n",
       "\u001b[1m)\u001b[0m\n"
      ]
     },
     "metadata": {},
     "output_type": "display_data"
    },
    {
     "data": {
      "text/html": [
       "<pre style=\"white-space:pre;overflow-x:auto;line-height:normal;font-family:Menlo,'DejaVu Sans Mono',consolas,'Courier New',monospace\"><span style=\"color: #800080; text-decoration-color: #800080; font-weight: bold\">Action</span><span style=\"font-weight: bold\">(</span>\n",
       "    <span style=\"color: #808000; text-decoration-color: #808000\">name</span>=<span style=\"color: #008000; text-decoration-color: #008000\">'Write reflections or correspondence'</span>,\n",
       "    <span style=\"color: #808000; text-decoration-color: #808000\">details</span>=<span style=\"color: #008000; text-decoration-color: #008000\">\"Once the light meal is complete, consider spending time writing personal reflections or engaging in </span>\n",
       "<span style=\"color: #008000; text-decoration-color: #008000\">correspondence. This could involve recounting the day's events in your journal, writing letters to friends, or even</span>\n",
       "<span style=\"color: #008000; text-decoration-color: #008000\">drafting ideas for future projects in a notebook. This action blends the creative focus initiated earlier with a </span>\n",
       "<span style=\"color: #008000; text-decoration-color: #008000\">quieter, more reflective tone suited to the late hour of the day. Dedicate 45 minutes to an hour for this activity,</span>\n",
       "<span style=\"color: #008000; text-decoration-color: #008000\">allowing yourself to explore your thoughts freely without rushing.\"</span>,\n",
       "    <span style=\"color: #808000; text-decoration-color: #808000\">time_spent</span>=<span style=\"color: #008080; text-decoration-color: #008080; font-weight: bold\">1.0</span>,\n",
       "    <span style=\"color: #808000; text-decoration-color: #808000\">from_state_id</span>=<span style=\"color: #800080; text-decoration-color: #800080; font-style: italic\">None</span>,\n",
       "    <span style=\"color: #808000; text-decoration-color: #808000\">to_state_id</span>=<span style=\"color: #800080; text-decoration-color: #800080; font-style: italic\">None</span>\n",
       "<span style=\"font-weight: bold\">)</span>\n",
       "</pre>\n"
      ],
      "text/plain": [
       "\u001b[1;35mAction\u001b[0m\u001b[1m(\u001b[0m\n",
       "    \u001b[33mname\u001b[0m=\u001b[32m'Write reflections or correspondence'\u001b[0m,\n",
       "    \u001b[33mdetails\u001b[0m=\u001b[32m\"Once\u001b[0m\u001b[32m the light meal is complete, consider spending time writing personal reflections or engaging in \u001b[0m\n",
       "\u001b[32mcorrespondence. This could involve recounting the day's events in your journal, writing letters to friends, or even\u001b[0m\n",
       "\u001b[32mdrafting ideas for future projects in a notebook. This action blends the creative focus initiated earlier with a \u001b[0m\n",
       "\u001b[32mquieter, more reflective tone suited to the late hour of the day. Dedicate 45 minutes to an hour for this activity,\u001b[0m\n",
       "\u001b[32mallowing yourself to explore your thoughts freely without rushing.\"\u001b[0m,\n",
       "    \u001b[33mtime_spent\u001b[0m=\u001b[1;36m1\u001b[0m\u001b[1;36m.0\u001b[0m,\n",
       "    \u001b[33mfrom_state_id\u001b[0m=\u001b[3;35mNone\u001b[0m,\n",
       "    \u001b[33mto_state_id\u001b[0m=\u001b[3;35mNone\u001b[0m\n",
       "\u001b[1m)\u001b[0m\n"
      ]
     },
     "metadata": {},
     "output_type": "display_data"
    },
    {
     "data": {
      "text/html": [
       "<pre style=\"white-space:pre;overflow-x:auto;line-height:normal;font-family:Menlo,'DejaVu Sans Mono',consolas,'Courier New',monospace\"><span style=\"color: #800080; text-decoration-color: #800080; font-weight: bold\">Action</span><span style=\"font-weight: bold\">(</span>\n",
       "    <span style=\"color: #808000; text-decoration-color: #808000\">name</span>=<span style=\"color: #008000; text-decoration-color: #008000\">'Take a restful evening pause'</span>,\n",
       "    <span style=\"color: #808000; text-decoration-color: #808000\">details</span>=<span style=\"color: #008000; text-decoration-color: #008000\">'Before engaging in further evening activities, take a short break to unwind both mentally and </span>\n",
       "<span style=\"color: #008000; text-decoration-color: #008000\">physically. Recline in a comfortable chair or lie on a soft surface, preferably near a warm corner of the room. </span>\n",
       "<span style=\"color: #008000; text-decoration-color: #008000\">Focus your attention on steady, deep breathing or light stretching to release any tension accumulated over the day.</span>\n",
       "<span style=\"color: #008000; text-decoration-color: #008000\">This pause serves as a bridge between the more structured moments of the day and a soft, unstructured end. Spend </span>\n",
       "<span style=\"color: #008000; text-decoration-color: #008000\">around 20-30 minutes on this gentle unwinding phase.'</span>,\n",
       "    <span style=\"color: #808000; text-decoration-color: #808000\">time_spent</span>=<span style=\"color: #008080; text-decoration-color: #008080; font-weight: bold\">0.5</span>,\n",
       "    <span style=\"color: #808000; text-decoration-color: #808000\">from_state_id</span>=<span style=\"color: #800080; text-decoration-color: #800080; font-style: italic\">None</span>,\n",
       "    <span style=\"color: #808000; text-decoration-color: #808000\">to_state_id</span>=<span style=\"color: #800080; text-decoration-color: #800080; font-style: italic\">None</span>\n",
       "<span style=\"font-weight: bold\">)</span>\n",
       "</pre>\n"
      ],
      "text/plain": [
       "\u001b[1;35mAction\u001b[0m\u001b[1m(\u001b[0m\n",
       "    \u001b[33mname\u001b[0m=\u001b[32m'Take a restful evening pause'\u001b[0m,\n",
       "    \u001b[33mdetails\u001b[0m=\u001b[32m'Before engaging in further evening activities, take a short break to unwind both mentally and \u001b[0m\n",
       "\u001b[32mphysically. Recline in a comfortable chair or lie on a soft surface, preferably near a warm corner of the room. \u001b[0m\n",
       "\u001b[32mFocus your attention on steady, deep breathing or light stretching to release any tension accumulated over the day.\u001b[0m\n",
       "\u001b[32mThis pause serves as a bridge between the more structured moments of the day and a soft, unstructured end. Spend \u001b[0m\n",
       "\u001b[32maround 20-30 minutes on this gentle unwinding phase.'\u001b[0m,\n",
       "    \u001b[33mtime_spent\u001b[0m=\u001b[1;36m0\u001b[0m\u001b[1;36m.5\u001b[0m,\n",
       "    \u001b[33mfrom_state_id\u001b[0m=\u001b[3;35mNone\u001b[0m,\n",
       "    \u001b[33mto_state_id\u001b[0m=\u001b[3;35mNone\u001b[0m\n",
       "\u001b[1m)\u001b[0m\n"
      ]
     },
     "metadata": {},
     "output_type": "display_data"
    },
    {
     "data": {
      "text/html": [
       "<pre style=\"white-space:pre;overflow-x:auto;line-height:normal;font-family:Menlo,'DejaVu Sans Mono',consolas,'Courier New',monospace\"><span style=\"color: #800080; text-decoration-color: #800080; font-weight: bold\">Action</span><span style=\"font-weight: bold\">(</span>\n",
       "    <span style=\"color: #808000; text-decoration-color: #808000\">name</span>=<span style=\"color: #008000; text-decoration-color: #008000\">'Organize space for restful sleep'</span>,\n",
       "    <span style=\"color: #808000; text-decoration-color: #808000\">details</span>=<span style=\"color: #008000; text-decoration-color: #008000\">'Shift your focus on preparing the chamber for a restful night. Tidy up any scattered items in the </span>\n",
       "<span style=\"color: #008000; text-decoration-color: #008000\">room, ensuring a clean and visually calming environment. Adjust the bedding for maximum comfort and consider </span>\n",
       "<span style=\"color: #008000; text-decoration-color: #008000\">lighting a candle or dimming the room to create a soothing ambiance. If available, play soft background music or </span>\n",
       "<span style=\"color: #008000; text-decoration-color: #008000\">nature sounds to set a tranquil tone. Allocate about 20 minutes for this preparatory process.'</span>,\n",
       "    <span style=\"color: #808000; text-decoration-color: #808000\">time_spent</span>=<span style=\"color: #008080; text-decoration-color: #008080; font-weight: bold\">0.33</span>,\n",
       "    <span style=\"color: #808000; text-decoration-color: #808000\">from_state_id</span>=<span style=\"color: #800080; text-decoration-color: #800080; font-style: italic\">None</span>,\n",
       "    <span style=\"color: #808000; text-decoration-color: #808000\">to_state_id</span>=<span style=\"color: #800080; text-decoration-color: #800080; font-style: italic\">None</span>\n",
       "<span style=\"font-weight: bold\">)</span>\n",
       "</pre>\n"
      ],
      "text/plain": [
       "\u001b[1;35mAction\u001b[0m\u001b[1m(\u001b[0m\n",
       "    \u001b[33mname\u001b[0m=\u001b[32m'Organize space for restful sleep'\u001b[0m,\n",
       "    \u001b[33mdetails\u001b[0m=\u001b[32m'Shift your focus on preparing the chamber for a restful night. Tidy up any scattered items in the \u001b[0m\n",
       "\u001b[32mroom, ensuring a clean and visually calming environment. Adjust the bedding for maximum comfort and consider \u001b[0m\n",
       "\u001b[32mlighting a candle or dimming the room to create a soothing ambiance. If available, play soft background music or \u001b[0m\n",
       "\u001b[32mnature sounds to set a tranquil tone. Allocate about 20 minutes for this preparatory process.'\u001b[0m,\n",
       "    \u001b[33mtime_spent\u001b[0m=\u001b[1;36m0\u001b[0m\u001b[1;36m.33\u001b[0m,\n",
       "    \u001b[33mfrom_state_id\u001b[0m=\u001b[3;35mNone\u001b[0m,\n",
       "    \u001b[33mto_state_id\u001b[0m=\u001b[3;35mNone\u001b[0m\n",
       "\u001b[1m)\u001b[0m\n"
      ]
     },
     "metadata": {},
     "output_type": "display_data"
    },
    {
     "data": {
      "text/html": [
       "<pre style=\"white-space:pre;overflow-x:auto;line-height:normal;font-family:Menlo,'DejaVu Sans Mono',consolas,'Courier New',monospace\"><span style=\"color: #800080; text-decoration-color: #800080; font-weight: bold\">Action</span><span style=\"font-weight: bold\">(</span>\n",
       "    <span style=\"color: #808000; text-decoration-color: #808000\">name</span>=<span style=\"color: #008000; text-decoration-color: #008000\">'Engage in light evening correspondence'</span>,\n",
       "    <span style=\"color: #808000; text-decoration-color: #808000\">details</span>=<span style=\"color: #008000; text-decoration-color: #008000\">'After tidying your space, use the remaining quiet evening hours to engage in light correspondence. </span>\n",
       "<span style=\"color: #008000; text-decoration-color: #008000\">Write letters or thoughtful messages to friends or family, expressing your day’s reflections and updates. This </span>\n",
       "<span style=\"color: #008000; text-decoration-color: #008000\">action allows for meaningful connection while staying consistent with the day’s reflective and calm theme. Dedicate</span>\n",
       "<span style=\"color: #008000; text-decoration-color: #008000\">approximately 30 minutes to this activity.'</span>,\n",
       "    <span style=\"color: #808000; text-decoration-color: #808000\">time_spent</span>=<span style=\"color: #008080; text-decoration-color: #008080; font-weight: bold\">0.5</span>,\n",
       "    <span style=\"color: #808000; text-decoration-color: #808000\">from_state_id</span>=<span style=\"color: #800080; text-decoration-color: #800080; font-style: italic\">None</span>,\n",
       "    <span style=\"color: #808000; text-decoration-color: #808000\">to_state_id</span>=<span style=\"color: #800080; text-decoration-color: #800080; font-style: italic\">None</span>\n",
       "<span style=\"font-weight: bold\">)</span>\n",
       "</pre>\n"
      ],
      "text/plain": [
       "\u001b[1;35mAction\u001b[0m\u001b[1m(\u001b[0m\n",
       "    \u001b[33mname\u001b[0m=\u001b[32m'Engage in light evening correspondence'\u001b[0m,\n",
       "    \u001b[33mdetails\u001b[0m=\u001b[32m'After tidying your space, use the remaining quiet evening hours to engage in light correspondence. \u001b[0m\n",
       "\u001b[32mWrite letters or thoughtful messages to friends or family, expressing your day’s reflections and updates. This \u001b[0m\n",
       "\u001b[32maction allows for meaningful connection while staying consistent with the day’s reflective and calm theme. Dedicate\u001b[0m\n",
       "\u001b[32mapproximately 30 minutes to this activity.'\u001b[0m,\n",
       "    \u001b[33mtime_spent\u001b[0m=\u001b[1;36m0\u001b[0m\u001b[1;36m.5\u001b[0m,\n",
       "    \u001b[33mfrom_state_id\u001b[0m=\u001b[3;35mNone\u001b[0m,\n",
       "    \u001b[33mto_state_id\u001b[0m=\u001b[3;35mNone\u001b[0m\n",
       "\u001b[1m)\u001b[0m\n"
      ]
     },
     "metadata": {},
     "output_type": "display_data"
    },
    {
     "data": {
      "text/html": [
       "<pre style=\"white-space:pre;overflow-x:auto;line-height:normal;font-family:Menlo,'DejaVu Sans Mono',consolas,'Courier New',monospace\"><span style=\"color: #800080; text-decoration-color: #800080; font-weight: bold\">Action</span><span style=\"font-weight: bold\">(</span>\n",
       "    <span style=\"color: #808000; text-decoration-color: #808000\">name</span>=<span style=\"color: #008000; text-decoration-color: #008000\">'Read poetry or short essays'</span>,\n",
       "    <span style=\"color: #808000; text-decoration-color: #808000\">details</span>=<span style=\"color: #008000; text-decoration-color: #008000\">\"As the evening deepens, transition into reading shorter works like poetry or brief essays. Select </span>\n",
       "<span style=\"color: #008000; text-decoration-color: #008000\">pieces that resonate with the day's contemplative mood, ensuring they are neither too demanding nor overly </span>\n",
       "<span style=\"color: #008000; text-decoration-color: #008000\">light—just enough to sustain the introspective energy. Focus on savoring the language and themes, letting them </span>\n",
       "<span style=\"color: #008000; text-decoration-color: #008000\">mirror the stillness and thoughtfulness of the day. Dedicate 30-40 minutes to this activity, marking a satisfying </span>\n",
       "<span style=\"color: #008000; text-decoration-color: #008000\">intellectual close to your day.\"</span>,\n",
       "    <span style=\"color: #808000; text-decoration-color: #808000\">time_spent</span>=<span style=\"color: #008080; text-decoration-color: #008080; font-weight: bold\">0.6</span>,\n",
       "    <span style=\"color: #808000; text-decoration-color: #808000\">from_state_id</span>=<span style=\"color: #800080; text-decoration-color: #800080; font-style: italic\">None</span>,\n",
       "    <span style=\"color: #808000; text-decoration-color: #808000\">to_state_id</span>=<span style=\"color: #800080; text-decoration-color: #800080; font-style: italic\">None</span>\n",
       "<span style=\"font-weight: bold\">)</span>\n",
       "</pre>\n"
      ],
      "text/plain": [
       "\u001b[1;35mAction\u001b[0m\u001b[1m(\u001b[0m\n",
       "    \u001b[33mname\u001b[0m=\u001b[32m'Read poetry or short essays'\u001b[0m,\n",
       "    \u001b[33mdetails\u001b[0m=\u001b[32m\"As\u001b[0m\u001b[32m the evening deepens, transition into reading shorter works like poetry or brief essays. Select \u001b[0m\n",
       "\u001b[32mpieces that resonate with the day's contemplative mood, ensuring they are neither too demanding nor overly \u001b[0m\n",
       "\u001b[32mlight—just enough to sustain the introspective energy. Focus on savoring the language and themes, letting them \u001b[0m\n",
       "\u001b[32mmirror the stillness and thoughtfulness of the day. Dedicate 30-40 minutes to this activity, marking a satisfying \u001b[0m\n",
       "\u001b[32mintellectual close to your day.\"\u001b[0m,\n",
       "    \u001b[33mtime_spent\u001b[0m=\u001b[1;36m0\u001b[0m\u001b[1;36m.6\u001b[0m,\n",
       "    \u001b[33mfrom_state_id\u001b[0m=\u001b[3;35mNone\u001b[0m,\n",
       "    \u001b[33mto_state_id\u001b[0m=\u001b[3;35mNone\u001b[0m\n",
       "\u001b[1m)\u001b[0m\n"
      ]
     },
     "metadata": {},
     "output_type": "display_data"
    },
    {
     "data": {
      "text/html": [
       "<pre style=\"white-space:pre;overflow-x:auto;line-height:normal;font-family:Menlo,'DejaVu Sans Mono',consolas,'Courier New',monospace\"><span style=\"color: #800080; text-decoration-color: #800080; font-weight: bold\">Action</span><span style=\"font-weight: bold\">(</span>\n",
       "    <span style=\"color: #808000; text-decoration-color: #808000\">name</span>=<span style=\"color: #008000; text-decoration-color: #008000\">'Prepare for bedtime relaxation routine'</span>,\n",
       "    <span style=\"color: #808000; text-decoration-color: #808000\">details</span>=<span style=\"color: #008000; text-decoration-color: #008000\">'Begin winding down for the night by transitioning into a bedtime relaxation routine. This can include </span>\n",
       "<span style=\"color: #008000; text-decoration-color: #008000\">activities like light stretching, listening to soft music, or practicing mindful breathing. If you have a favorite </span>\n",
       "<span style=\"color: #008000; text-decoration-color: #008000\">calming herbal tea, brew a cup to enjoy as part of this wind-down process. The goal is to gently ease your body and</span>\n",
       "<span style=\"color: #008000; text-decoration-color: #008000\">mind into the calm required for restful sleep. Dedicate about 20-30 minutes to this.'</span>,\n",
       "    <span style=\"color: #808000; text-decoration-color: #808000\">time_spent</span>=<span style=\"color: #008080; text-decoration-color: #008080; font-weight: bold\">0.5</span>,\n",
       "    <span style=\"color: #808000; text-decoration-color: #808000\">from_state_id</span>=<span style=\"color: #800080; text-decoration-color: #800080; font-style: italic\">None</span>,\n",
       "    <span style=\"color: #808000; text-decoration-color: #808000\">to_state_id</span>=<span style=\"color: #800080; text-decoration-color: #800080; font-style: italic\">None</span>\n",
       "<span style=\"font-weight: bold\">)</span>\n",
       "</pre>\n"
      ],
      "text/plain": [
       "\u001b[1;35mAction\u001b[0m\u001b[1m(\u001b[0m\n",
       "    \u001b[33mname\u001b[0m=\u001b[32m'Prepare for bedtime relaxation routine'\u001b[0m,\n",
       "    \u001b[33mdetails\u001b[0m=\u001b[32m'Begin winding down for the night by transitioning into a bedtime relaxation routine. This can include \u001b[0m\n",
       "\u001b[32mactivities like light stretching, listening to soft music, or practicing mindful breathing. If you have a favorite \u001b[0m\n",
       "\u001b[32mcalming herbal tea, brew a cup to enjoy as part of this wind-down process. The goal is to gently ease your body and\u001b[0m\n",
       "\u001b[32mmind into the calm required for restful sleep. Dedicate about 20-30 minutes to this.'\u001b[0m,\n",
       "    \u001b[33mtime_spent\u001b[0m=\u001b[1;36m0\u001b[0m\u001b[1;36m.5\u001b[0m,\n",
       "    \u001b[33mfrom_state_id\u001b[0m=\u001b[3;35mNone\u001b[0m,\n",
       "    \u001b[33mto_state_id\u001b[0m=\u001b[3;35mNone\u001b[0m\n",
       "\u001b[1m)\u001b[0m\n"
      ]
     },
     "metadata": {},
     "output_type": "display_data"
    },
    {
     "data": {
      "text/html": [
       "<pre style=\"white-space:pre;overflow-x:auto;line-height:normal;font-family:Menlo,'DejaVu Sans Mono',consolas,'Courier New',monospace\"><span style=\"color: #800080; text-decoration-color: #800080; font-weight: bold\">Action</span><span style=\"font-weight: bold\">(</span>\n",
       "    <span style=\"color: #808000; text-decoration-color: #808000\">name</span>=<span style=\"color: #008000; text-decoration-color: #008000\">'Reflect on the day in gratitude'</span>,\n",
       "    <span style=\"color: #808000; text-decoration-color: #808000\">details</span>=<span style=\"color: #008000; text-decoration-color: #008000\">\"Spend a few private moments reflecting on the day’s experiences and noting things you are grateful </span>\n",
       "<span style=\"color: #008000; text-decoration-color: #008000\">for, whether small or significant. Record these in a journal or simply consider them quietly. This action helps </span>\n",
       "<span style=\"color: #008000; text-decoration-color: #008000\">frame the day's rhythm positively before sleep, retaining its gentle, reflective ambiance. Set aside 10-15 minutes </span>\n",
       "<span style=\"color: #008000; text-decoration-color: #008000\">for this purpose.\"</span>,\n",
       "    <span style=\"color: #808000; text-decoration-color: #808000\">time_spent</span>=<span style=\"color: #008080; text-decoration-color: #008080; font-weight: bold\">0.25</span>,\n",
       "    <span style=\"color: #808000; text-decoration-color: #808000\">from_state_id</span>=<span style=\"color: #800080; text-decoration-color: #800080; font-style: italic\">None</span>,\n",
       "    <span style=\"color: #808000; text-decoration-color: #808000\">to_state_id</span>=<span style=\"color: #800080; text-decoration-color: #800080; font-style: italic\">None</span>\n",
       "<span style=\"font-weight: bold\">)</span>\n",
       "</pre>\n"
      ],
      "text/plain": [
       "\u001b[1;35mAction\u001b[0m\u001b[1m(\u001b[0m\n",
       "    \u001b[33mname\u001b[0m=\u001b[32m'Reflect on the day in gratitude'\u001b[0m,\n",
       "    \u001b[33mdetails\u001b[0m=\u001b[32m\"Spend\u001b[0m\u001b[32m a few private moments reflecting on the day’s experiences and noting things you are grateful \u001b[0m\n",
       "\u001b[32mfor, whether small or significant. Record these in a journal or simply consider them quietly. This action helps \u001b[0m\n",
       "\u001b[32mframe the day's rhythm positively before sleep, retaining its gentle, reflective ambiance. Set aside 10-15 minutes \u001b[0m\n",
       "\u001b[32mfor this purpose.\"\u001b[0m,\n",
       "    \u001b[33mtime_spent\u001b[0m=\u001b[1;36m0\u001b[0m\u001b[1;36m.25\u001b[0m,\n",
       "    \u001b[33mfrom_state_id\u001b[0m=\u001b[3;35mNone\u001b[0m,\n",
       "    \u001b[33mto_state_id\u001b[0m=\u001b[3;35mNone\u001b[0m\n",
       "\u001b[1m)\u001b[0m\n"
      ]
     },
     "metadata": {},
     "output_type": "display_data"
    },
    {
     "data": {
      "text/html": [
       "<pre style=\"white-space:pre;overflow-x:auto;line-height:normal;font-family:Menlo,'DejaVu Sans Mono',consolas,'Courier New',monospace\"><span style=\"color: #800080; text-decoration-color: #800080; font-weight: bold\">Action</span><span style=\"font-weight: bold\">(</span>\n",
       "    <span style=\"color: #808000; text-decoration-color: #808000\">name</span>=<span style=\"color: #008000; text-decoration-color: #008000\">'Light meditation or mindfulness practice'</span>,\n",
       "    <span style=\"color: #808000; text-decoration-color: #808000\">details</span>=<span style=\"color: #008000; text-decoration-color: #008000\">'In the calm, dimly lit atmosphere of your chamber, engage in a light meditation or mindfulness </span>\n",
       "<span style=\"color: #008000; text-decoration-color: #008000\">practice, focusing on your breath or a simple mantra. Let this act serve as the final unwinding step, fully </span>\n",
       "<span style=\"color: #008000; text-decoration-color: #008000\">grounding you in the present and preparing your mind and body for restorative sleep. Spend around 20 minutes on </span>\n",
       "<span style=\"color: #008000; text-decoration-color: #008000\">this relaxing practice.'</span>,\n",
       "    <span style=\"color: #808000; text-decoration-color: #808000\">time_spent</span>=<span style=\"color: #008080; text-decoration-color: #008080; font-weight: bold\">0.33</span>,\n",
       "    <span style=\"color: #808000; text-decoration-color: #808000\">from_state_id</span>=<span style=\"color: #800080; text-decoration-color: #800080; font-style: italic\">None</span>,\n",
       "    <span style=\"color: #808000; text-decoration-color: #808000\">to_state_id</span>=<span style=\"color: #800080; text-decoration-color: #800080; font-style: italic\">None</span>\n",
       "<span style=\"font-weight: bold\">)</span>\n",
       "</pre>\n"
      ],
      "text/plain": [
       "\u001b[1;35mAction\u001b[0m\u001b[1m(\u001b[0m\n",
       "    \u001b[33mname\u001b[0m=\u001b[32m'Light meditation or mindfulness practice'\u001b[0m,\n",
       "    \u001b[33mdetails\u001b[0m=\u001b[32m'In the calm, dimly lit atmosphere of your chamber, engage in a light meditation or mindfulness \u001b[0m\n",
       "\u001b[32mpractice, focusing on your breath or a simple mantra. Let this act serve as the final unwinding step, fully \u001b[0m\n",
       "\u001b[32mgrounding you in the present and preparing your mind and body for restorative sleep. Spend around 20 minutes on \u001b[0m\n",
       "\u001b[32mthis relaxing practice.'\u001b[0m,\n",
       "    \u001b[33mtime_spent\u001b[0m=\u001b[1;36m0\u001b[0m\u001b[1;36m.33\u001b[0m,\n",
       "    \u001b[33mfrom_state_id\u001b[0m=\u001b[3;35mNone\u001b[0m,\n",
       "    \u001b[33mto_state_id\u001b[0m=\u001b[3;35mNone\u001b[0m\n",
       "\u001b[1m)\u001b[0m\n"
      ]
     },
     "metadata": {},
     "output_type": "display_data"
    },
    {
     "data": {
      "text/html": [
       "<pre style=\"white-space:pre;overflow-x:auto;line-height:normal;font-family:Menlo,'DejaVu Sans Mono',consolas,'Courier New',monospace\"><span style=\"color: #800080; text-decoration-color: #800080; font-weight: bold\">Action</span><span style=\"font-weight: bold\">(</span>\n",
       "    <span style=\"color: #808000; text-decoration-color: #808000\">name</span>=<span style=\"color: #008000; text-decoration-color: #008000\">'Settle into bed with intention for rest'</span>,\n",
       "    <span style=\"color: #808000; text-decoration-color: #808000\">details</span>=<span style=\"color: #008000; text-decoration-color: #008000\">'Having completed a sequence of gentle evening actions, settle into your bed with the intention of </span>\n",
       "<span style=\"color: #008000; text-decoration-color: #008000\">resting well. Adjust your blankets and pillows for comfort, ensuring a relaxed body posture. Allow yourself to </span>\n",
       "<span style=\"color: #008000; text-decoration-color: #008000\">drift into sleep gradually, focusing on the stillness of your surroundings and the softness in the rhythm of your </span>\n",
       "<span style=\"color: #008000; text-decoration-color: #008000\">breathing. Dedicate the remaining time of the evening to this restorative action.'</span>,\n",
       "    <span style=\"color: #808000; text-decoration-color: #808000\">time_spent</span>=<span style=\"color: #008080; text-decoration-color: #008080; font-weight: bold\">0.0</span>,\n",
       "    <span style=\"color: #808000; text-decoration-color: #808000\">from_state_id</span>=<span style=\"color: #800080; text-decoration-color: #800080; font-style: italic\">None</span>,\n",
       "    <span style=\"color: #808000; text-decoration-color: #808000\">to_state_id</span>=<span style=\"color: #800080; text-decoration-color: #800080; font-style: italic\">None</span>\n",
       "<span style=\"font-weight: bold\">)</span>\n",
       "</pre>\n"
      ],
      "text/plain": [
       "\u001b[1;35mAction\u001b[0m\u001b[1m(\u001b[0m\n",
       "    \u001b[33mname\u001b[0m=\u001b[32m'Settle into bed with intention for rest'\u001b[0m,\n",
       "    \u001b[33mdetails\u001b[0m=\u001b[32m'Having completed a sequence of gentle evening actions, settle into your bed with the intention of \u001b[0m\n",
       "\u001b[32mresting well. Adjust your blankets and pillows for comfort, ensuring a relaxed body posture. Allow yourself to \u001b[0m\n",
       "\u001b[32mdrift into sleep gradually, focusing on the stillness of your surroundings and the softness in the rhythm of your \u001b[0m\n",
       "\u001b[32mbreathing. Dedicate the remaining time of the evening to this restorative action.'\u001b[0m,\n",
       "    \u001b[33mtime_spent\u001b[0m=\u001b[1;36m0\u001b[0m\u001b[1;36m.0\u001b[0m,\n",
       "    \u001b[33mfrom_state_id\u001b[0m=\u001b[3;35mNone\u001b[0m,\n",
       "    \u001b[33mto_state_id\u001b[0m=\u001b[3;35mNone\u001b[0m\n",
       "\u001b[1m)\u001b[0m\n"
      ]
     },
     "metadata": {},
     "output_type": "display_data"
    }
   ],
   "source": [
    "actions = life.sample_actions()\n",
    "for action in actions:\n",
    "    rprint(action)"
   ]
  },
  {
   "cell_type": "code",
   "execution_count": 28,
   "metadata": {},
   "outputs": [],
   "source": [
    "import pandas\n",
    "\n",
    "pandas.options.plotting.backend = \"plotly\"\n",
    "\n",
    "df = pandas.DataFrame(\n",
    "    [\n",
    "        {**x.state_variables.model_dump(), **x.environment_variables.model_dump()}\n",
    "        for x in life.states\n",
    "    ]\n",
    ")[\n",
    "    [\n",
    "        \"pain_level\",\n",
    "        \"pleasure_level\",\n",
    "        \"health_level\",\n",
    "        \"focus_level\",\n",
    "        \"hour_of_day\",\n",
    "    ]\n",
    "]"
   ]
  },
  {
   "cell_type": "code",
   "execution_count": 29,
   "metadata": {},
   "outputs": [
    {
     "data": {
      "application/vnd.plotly.v1+json": {
       "config": {
        "plotlyServerURL": "https://plot.ly"
       },
       "data": [
        {
         "hovertemplate": "variable=pain_level<br>hour_of_day=%{x}<br>value=%{y}<extra></extra>",
         "legendgroup": "pain_level",
         "line": {
          "color": "#636efa",
          "dash": "solid"
         },
         "marker": {
          "symbol": "circle"
         },
         "mode": "lines",
         "name": "pain_level",
         "orientation": "v",
         "showlegend": true,
         "type": "scatter",
         "x": {
          "bdata": "AAAAAAAAIkAAAAAAAAAjQAAAAAAAACVAAAAAAAAAJkAAAAAAAAAnQAAAAAAAAChAAAAAAAAAKUAAAAAAAAAqQAAAAAAAACtAAAAAAAAALEAAAAAAAAAuQA==",
          "dtype": "f8"
         },
         "xaxis": "x",
         "y": {
          "bdata": "S0E8NzIwLSooKCY=",
          "dtype": "i1"
         },
         "yaxis": "y"
        },
        {
         "hovertemplate": "variable=pleasure_level<br>hour_of_day=%{x}<br>value=%{y}<extra></extra>",
         "legendgroup": "pleasure_level",
         "line": {
          "color": "#EF553B",
          "dash": "solid"
         },
         "marker": {
          "symbol": "circle"
         },
         "mode": "lines",
         "name": "pleasure_level",
         "orientation": "v",
         "showlegend": true,
         "type": "scatter",
         "x": {
          "bdata": "AAAAAAAAIkAAAAAAAAAjQAAAAAAAACVAAAAAAAAAJkAAAAAAAAAnQAAAAAAAAChAAAAAAAAAKUAAAAAAAAAqQAAAAAAAACtAAAAAAAAALEAAAAAAAAAuQA==",
          "dtype": "f8"
         },
         "xaxis": "x",
         "y": {
          "bdata": "HiMoLTI3PEFBREY=",
          "dtype": "i1"
         },
         "yaxis": "y"
        },
        {
         "hovertemplate": "variable=health_level<br>hour_of_day=%{x}<br>value=%{y}<extra></extra>",
         "legendgroup": "health_level",
         "line": {
          "color": "#00cc96",
          "dash": "solid"
         },
         "marker": {
          "symbol": "circle"
         },
         "mode": "lines",
         "name": "health_level",
         "orientation": "v",
         "showlegend": true,
         "type": "scatter",
         "x": {
          "bdata": "AAAAAAAAIkAAAAAAAAAjQAAAAAAAACVAAAAAAAAAJkAAAAAAAAAnQAAAAAAAAChAAAAAAAAAKUAAAAAAAAAqQAAAAAAAACtAAAAAAAAALEAAAAAAAAAuQA==",
          "dtype": "f8"
         },
         "xaxis": "x",
         "y": {
          "bdata": "KC0yNzxBRkhJSks=",
          "dtype": "i1"
         },
         "yaxis": "y"
        },
        {
         "hovertemplate": "variable=focus_level<br>hour_of_day=%{x}<br>value=%{y}<extra></extra>",
         "legendgroup": "focus_level",
         "line": {
          "color": "#ab63fa",
          "dash": "solid"
         },
         "marker": {
          "symbol": "circle"
         },
         "mode": "lines",
         "name": "focus_level",
         "orientation": "v",
         "showlegend": true,
         "type": "scatter",
         "x": {
          "bdata": "AAAAAAAAIkAAAAAAAAAjQAAAAAAAACVAAAAAAAAAJkAAAAAAAAAnQAAAAAAAAChAAAAAAAAAKUAAAAAAAAAqQAAAAAAAACtAAAAAAAAALEAAAAAAAAAuQA==",
          "dtype": "f8"
         },
         "xaxis": "x",
         "y": {
          "bdata": "FB4tMjc8QUtERkg=",
          "dtype": "i1"
         },
         "yaxis": "y"
        }
       ],
       "layout": {
        "legend": {
         "title": {
          "text": "variable"
         },
         "tracegroupgap": 0
        },
        "margin": {
         "t": 60
        },
        "template": {
         "data": {
          "bar": [
           {
            "error_x": {
             "color": "#2a3f5f"
            },
            "error_y": {
             "color": "#2a3f5f"
            },
            "marker": {
             "line": {
              "color": "#E5ECF6",
              "width": 0.5
             },
             "pattern": {
              "fillmode": "overlay",
              "size": 10,
              "solidity": 0.2
             }
            },
            "type": "bar"
           }
          ],
          "barpolar": [
           {
            "marker": {
             "line": {
              "color": "#E5ECF6",
              "width": 0.5
             },
             "pattern": {
              "fillmode": "overlay",
              "size": 10,
              "solidity": 0.2
             }
            },
            "type": "barpolar"
           }
          ],
          "carpet": [
           {
            "aaxis": {
             "endlinecolor": "#2a3f5f",
             "gridcolor": "white",
             "linecolor": "white",
             "minorgridcolor": "white",
             "startlinecolor": "#2a3f5f"
            },
            "baxis": {
             "endlinecolor": "#2a3f5f",
             "gridcolor": "white",
             "linecolor": "white",
             "minorgridcolor": "white",
             "startlinecolor": "#2a3f5f"
            },
            "type": "carpet"
           }
          ],
          "choropleth": [
           {
            "colorbar": {
             "outlinewidth": 0,
             "ticks": ""
            },
            "type": "choropleth"
           }
          ],
          "contour": [
           {
            "colorbar": {
             "outlinewidth": 0,
             "ticks": ""
            },
            "colorscale": [
             [
              0,
              "#0d0887"
             ],
             [
              0.1111111111111111,
              "#46039f"
             ],
             [
              0.2222222222222222,
              "#7201a8"
             ],
             [
              0.3333333333333333,
              "#9c179e"
             ],
             [
              0.4444444444444444,
              "#bd3786"
             ],
             [
              0.5555555555555556,
              "#d8576b"
             ],
             [
              0.6666666666666666,
              "#ed7953"
             ],
             [
              0.7777777777777778,
              "#fb9f3a"
             ],
             [
              0.8888888888888888,
              "#fdca26"
             ],
             [
              1,
              "#f0f921"
             ]
            ],
            "type": "contour"
           }
          ],
          "contourcarpet": [
           {
            "colorbar": {
             "outlinewidth": 0,
             "ticks": ""
            },
            "type": "contourcarpet"
           }
          ],
          "heatmap": [
           {
            "colorbar": {
             "outlinewidth": 0,
             "ticks": ""
            },
            "colorscale": [
             [
              0,
              "#0d0887"
             ],
             [
              0.1111111111111111,
              "#46039f"
             ],
             [
              0.2222222222222222,
              "#7201a8"
             ],
             [
              0.3333333333333333,
              "#9c179e"
             ],
             [
              0.4444444444444444,
              "#bd3786"
             ],
             [
              0.5555555555555556,
              "#d8576b"
             ],
             [
              0.6666666666666666,
              "#ed7953"
             ],
             [
              0.7777777777777778,
              "#fb9f3a"
             ],
             [
              0.8888888888888888,
              "#fdca26"
             ],
             [
              1,
              "#f0f921"
             ]
            ],
            "type": "heatmap"
           }
          ],
          "histogram": [
           {
            "marker": {
             "pattern": {
              "fillmode": "overlay",
              "size": 10,
              "solidity": 0.2
             }
            },
            "type": "histogram"
           }
          ],
          "histogram2d": [
           {
            "colorbar": {
             "outlinewidth": 0,
             "ticks": ""
            },
            "colorscale": [
             [
              0,
              "#0d0887"
             ],
             [
              0.1111111111111111,
              "#46039f"
             ],
             [
              0.2222222222222222,
              "#7201a8"
             ],
             [
              0.3333333333333333,
              "#9c179e"
             ],
             [
              0.4444444444444444,
              "#bd3786"
             ],
             [
              0.5555555555555556,
              "#d8576b"
             ],
             [
              0.6666666666666666,
              "#ed7953"
             ],
             [
              0.7777777777777778,
              "#fb9f3a"
             ],
             [
              0.8888888888888888,
              "#fdca26"
             ],
             [
              1,
              "#f0f921"
             ]
            ],
            "type": "histogram2d"
           }
          ],
          "histogram2dcontour": [
           {
            "colorbar": {
             "outlinewidth": 0,
             "ticks": ""
            },
            "colorscale": [
             [
              0,
              "#0d0887"
             ],
             [
              0.1111111111111111,
              "#46039f"
             ],
             [
              0.2222222222222222,
              "#7201a8"
             ],
             [
              0.3333333333333333,
              "#9c179e"
             ],
             [
              0.4444444444444444,
              "#bd3786"
             ],
             [
              0.5555555555555556,
              "#d8576b"
             ],
             [
              0.6666666666666666,
              "#ed7953"
             ],
             [
              0.7777777777777778,
              "#fb9f3a"
             ],
             [
              0.8888888888888888,
              "#fdca26"
             ],
             [
              1,
              "#f0f921"
             ]
            ],
            "type": "histogram2dcontour"
           }
          ],
          "mesh3d": [
           {
            "colorbar": {
             "outlinewidth": 0,
             "ticks": ""
            },
            "type": "mesh3d"
           }
          ],
          "parcoords": [
           {
            "line": {
             "colorbar": {
              "outlinewidth": 0,
              "ticks": ""
             }
            },
            "type": "parcoords"
           }
          ],
          "pie": [
           {
            "automargin": true,
            "type": "pie"
           }
          ],
          "scatter": [
           {
            "fillpattern": {
             "fillmode": "overlay",
             "size": 10,
             "solidity": 0.2
            },
            "type": "scatter"
           }
          ],
          "scatter3d": [
           {
            "line": {
             "colorbar": {
              "outlinewidth": 0,
              "ticks": ""
             }
            },
            "marker": {
             "colorbar": {
              "outlinewidth": 0,
              "ticks": ""
             }
            },
            "type": "scatter3d"
           }
          ],
          "scattercarpet": [
           {
            "marker": {
             "colorbar": {
              "outlinewidth": 0,
              "ticks": ""
             }
            },
            "type": "scattercarpet"
           }
          ],
          "scattergeo": [
           {
            "marker": {
             "colorbar": {
              "outlinewidth": 0,
              "ticks": ""
             }
            },
            "type": "scattergeo"
           }
          ],
          "scattergl": [
           {
            "marker": {
             "colorbar": {
              "outlinewidth": 0,
              "ticks": ""
             }
            },
            "type": "scattergl"
           }
          ],
          "scattermap": [
           {
            "marker": {
             "colorbar": {
              "outlinewidth": 0,
              "ticks": ""
             }
            },
            "type": "scattermap"
           }
          ],
          "scattermapbox": [
           {
            "marker": {
             "colorbar": {
              "outlinewidth": 0,
              "ticks": ""
             }
            },
            "type": "scattermapbox"
           }
          ],
          "scatterpolar": [
           {
            "marker": {
             "colorbar": {
              "outlinewidth": 0,
              "ticks": ""
             }
            },
            "type": "scatterpolar"
           }
          ],
          "scatterpolargl": [
           {
            "marker": {
             "colorbar": {
              "outlinewidth": 0,
              "ticks": ""
             }
            },
            "type": "scatterpolargl"
           }
          ],
          "scatterternary": [
           {
            "marker": {
             "colorbar": {
              "outlinewidth": 0,
              "ticks": ""
             }
            },
            "type": "scatterternary"
           }
          ],
          "surface": [
           {
            "colorbar": {
             "outlinewidth": 0,
             "ticks": ""
            },
            "colorscale": [
             [
              0,
              "#0d0887"
             ],
             [
              0.1111111111111111,
              "#46039f"
             ],
             [
              0.2222222222222222,
              "#7201a8"
             ],
             [
              0.3333333333333333,
              "#9c179e"
             ],
             [
              0.4444444444444444,
              "#bd3786"
             ],
             [
              0.5555555555555556,
              "#d8576b"
             ],
             [
              0.6666666666666666,
              "#ed7953"
             ],
             [
              0.7777777777777778,
              "#fb9f3a"
             ],
             [
              0.8888888888888888,
              "#fdca26"
             ],
             [
              1,
              "#f0f921"
             ]
            ],
            "type": "surface"
           }
          ],
          "table": [
           {
            "cells": {
             "fill": {
              "color": "#EBF0F8"
             },
             "line": {
              "color": "white"
             }
            },
            "header": {
             "fill": {
              "color": "#C8D4E3"
             },
             "line": {
              "color": "white"
             }
            },
            "type": "table"
           }
          ]
         },
         "layout": {
          "annotationdefaults": {
           "arrowcolor": "#2a3f5f",
           "arrowhead": 0,
           "arrowwidth": 1
          },
          "autotypenumbers": "strict",
          "coloraxis": {
           "colorbar": {
            "outlinewidth": 0,
            "ticks": ""
           }
          },
          "colorscale": {
           "diverging": [
            [
             0,
             "#8e0152"
            ],
            [
             0.1,
             "#c51b7d"
            ],
            [
             0.2,
             "#de77ae"
            ],
            [
             0.3,
             "#f1b6da"
            ],
            [
             0.4,
             "#fde0ef"
            ],
            [
             0.5,
             "#f7f7f7"
            ],
            [
             0.6,
             "#e6f5d0"
            ],
            [
             0.7,
             "#b8e186"
            ],
            [
             0.8,
             "#7fbc41"
            ],
            [
             0.9,
             "#4d9221"
            ],
            [
             1,
             "#276419"
            ]
           ],
           "sequential": [
            [
             0,
             "#0d0887"
            ],
            [
             0.1111111111111111,
             "#46039f"
            ],
            [
             0.2222222222222222,
             "#7201a8"
            ],
            [
             0.3333333333333333,
             "#9c179e"
            ],
            [
             0.4444444444444444,
             "#bd3786"
            ],
            [
             0.5555555555555556,
             "#d8576b"
            ],
            [
             0.6666666666666666,
             "#ed7953"
            ],
            [
             0.7777777777777778,
             "#fb9f3a"
            ],
            [
             0.8888888888888888,
             "#fdca26"
            ],
            [
             1,
             "#f0f921"
            ]
           ],
           "sequentialminus": [
            [
             0,
             "#0d0887"
            ],
            [
             0.1111111111111111,
             "#46039f"
            ],
            [
             0.2222222222222222,
             "#7201a8"
            ],
            [
             0.3333333333333333,
             "#9c179e"
            ],
            [
             0.4444444444444444,
             "#bd3786"
            ],
            [
             0.5555555555555556,
             "#d8576b"
            ],
            [
             0.6666666666666666,
             "#ed7953"
            ],
            [
             0.7777777777777778,
             "#fb9f3a"
            ],
            [
             0.8888888888888888,
             "#fdca26"
            ],
            [
             1,
             "#f0f921"
            ]
           ]
          },
          "colorway": [
           "#636efa",
           "#EF553B",
           "#00cc96",
           "#ab63fa",
           "#FFA15A",
           "#19d3f3",
           "#FF6692",
           "#B6E880",
           "#FF97FF",
           "#FECB52"
          ],
          "font": {
           "color": "#2a3f5f"
          },
          "geo": {
           "bgcolor": "white",
           "lakecolor": "white",
           "landcolor": "#E5ECF6",
           "showlakes": true,
           "showland": true,
           "subunitcolor": "white"
          },
          "hoverlabel": {
           "align": "left"
          },
          "hovermode": "closest",
          "mapbox": {
           "style": "light"
          },
          "paper_bgcolor": "white",
          "plot_bgcolor": "#E5ECF6",
          "polar": {
           "angularaxis": {
            "gridcolor": "white",
            "linecolor": "white",
            "ticks": ""
           },
           "bgcolor": "#E5ECF6",
           "radialaxis": {
            "gridcolor": "white",
            "linecolor": "white",
            "ticks": ""
           }
          },
          "scene": {
           "xaxis": {
            "backgroundcolor": "#E5ECF6",
            "gridcolor": "white",
            "gridwidth": 2,
            "linecolor": "white",
            "showbackground": true,
            "ticks": "",
            "zerolinecolor": "white"
           },
           "yaxis": {
            "backgroundcolor": "#E5ECF6",
            "gridcolor": "white",
            "gridwidth": 2,
            "linecolor": "white",
            "showbackground": true,
            "ticks": "",
            "zerolinecolor": "white"
           },
           "zaxis": {
            "backgroundcolor": "#E5ECF6",
            "gridcolor": "white",
            "gridwidth": 2,
            "linecolor": "white",
            "showbackground": true,
            "ticks": "",
            "zerolinecolor": "white"
           }
          },
          "shapedefaults": {
           "line": {
            "color": "#2a3f5f"
           }
          },
          "ternary": {
           "aaxis": {
            "gridcolor": "white",
            "linecolor": "white",
            "ticks": ""
           },
           "baxis": {
            "gridcolor": "white",
            "linecolor": "white",
            "ticks": ""
           },
           "bgcolor": "#E5ECF6",
           "caxis": {
            "gridcolor": "white",
            "linecolor": "white",
            "ticks": ""
           }
          },
          "title": {
           "x": 0.05
          },
          "xaxis": {
           "automargin": true,
           "gridcolor": "white",
           "linecolor": "white",
           "ticks": "",
           "title": {
            "standoff": 15
           },
           "zerolinecolor": "white",
           "zerolinewidth": 2
          },
          "yaxis": {
           "automargin": true,
           "gridcolor": "white",
           "linecolor": "white",
           "ticks": "",
           "title": {
            "standoff": 15
           },
           "zerolinecolor": "white",
           "zerolinewidth": 2
          }
         }
        },
        "xaxis": {
         "anchor": "y",
         "domain": [
          0,
          1
         ],
         "title": {
          "text": "hour_of_day"
         }
        },
        "yaxis": {
         "anchor": "x",
         "domain": [
          0,
          1
         ],
         "title": {
          "text": "value"
         }
        }
       }
      }
     },
     "metadata": {},
     "output_type": "display_data"
    }
   ],
   "source": [
    "df.set_index(\"hour_of_day\").plot()"
   ]
  },
  {
   "cell_type": "code",
   "execution_count": null,
   "metadata": {},
   "outputs": [],
   "source": []
  }
 ],
 "metadata": {
  "kernelspec": {
   "display_name": ".venv",
   "language": "python",
   "name": "python3"
  },
  "language_info": {
   "codemirror_mode": {
    "name": "ipython",
    "version": 3
   },
   "file_extension": ".py",
   "mimetype": "text/x-python",
   "name": "python",
   "nbconvert_exporter": "python",
   "pygments_lexer": "ipython3",
   "version": "3.10.16"
  }
 },
 "nbformat": 4,
 "nbformat_minor": 2
}
