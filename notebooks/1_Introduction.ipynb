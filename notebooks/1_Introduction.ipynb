{
 "cells": [
  {
   "cell_type": "code",
   "execution_count": 1,
   "metadata": {},
   "outputs": [
    {
     "name": "stdout",
     "output_type": "stream",
     "text": [
      "Running on folder:  /Users/andre/test/ODSCB\n"
     ]
    },
    {
     "name": "stderr",
     "output_type": "stream",
     "text": [
      "/Users/andre/test/ODSCB/.venv/lib/python3.10/site-packages/pydantic/_internal/_config.py:345: UserWarning: Valid config keys have changed in V2:\n",
      "* 'fields' has been removed\n",
      "  warnings.warn(message, UserWarning)\n"
     ]
    },
    {
     "data": {
      "text/plain": [
       "True"
      ]
     },
     "execution_count": 1,
     "metadata": {},
     "output_type": "execute_result"
    }
   ],
   "source": [
    "import os\n",
    "import dotenv\n",
    "\n",
    "\n",
    "try:\n",
    "    _SETUP\n",
    "    print(\"Running on folder: \", os.getcwd())\n",
    "except NameError:\n",
    "    _SETUP = True\n",
    "    os.chdir(\"..\")\n",
    "    print(\"Running on folder: \", os.getcwd())\n",
    "\n",
    "from llm.structured import create\n",
    "\n",
    "dotenv.load_dotenv()"
   ]
  },
  {
   "cell_type": "markdown",
   "metadata": {},
   "source": [
    "# States!\n"
   ]
  },
  {
   "cell_type": "markdown",
   "metadata": {},
   "source": [
    "Let's consider two situations:\n",
    "\n",
    "1. The alarm went off, I snoozed it wice. Then I woke up, spent 30 minutes doomscrolling on instagram, ate a cookie, then started working.\n",
    "2. The alarm went off, I woke up immediately, had a big glass of water, had oats for breakfast, went to the gym, then started working.\n",
    "\n",
    "To make this more concrete, we can think about these situations in the following way:\n",
    "\n",
    "- There is an agent (myself), who is deciding between different **policies**: i.e., actions to take.\n",
    "- At each step, my **policies**, as well as the environment, take me to a different **state**, in which I need to evaluate again what to do next.\n",
    "\n",
    "Encoded in the state we also have informations about:\n",
    "\n",
    "- The environment: was it raining? how late did I go to bed yesterday?\n",
    "- The reward/cost: how good was that cookie?\n"
   ]
  },
  {
   "cell_type": "markdown",
   "metadata": {},
   "source": [
    "Because we're an impatient bunch, let's get down to some coding.\n"
   ]
  },
  {
   "cell_type": "code",
   "execution_count": 2,
   "metadata": {},
   "outputs": [],
   "source": [
    "import uuid\n",
    "from typing import Literal, Optional\n",
    "from pydantic import BaseModel, Field\n",
    "from rich import print as rprint\n",
    "import copy\n",
    "\n",
    "\n",
    "class StateVariables(BaseModel):\n",
    "    \"\"\"State variables that describe the internal conditions of the agent.\n",
    "\n",
    "    Attributes:\n",
    "        context: A paragraph providing full context about the internal state of the agent\n",
    "        pain_level: Level of physical or emotional pain/discomfort (0-100)\n",
    "        pleasure_level: Level of pleasure or satisfaction being experienced (0-100)\n",
    "        health_level: Overall physical and mental health condition (0-100)\n",
    "        focus_level: Current ability to concentrate and stay on task (0-100)\n",
    "    \"\"\"\n",
    "\n",
    "    context: str = Field(\n",
    "        default=\"\", description=\"Any additional context about the environment I'm in\"\n",
    "    )\n",
    "\n",
    "    pain_level: int = Field(\n",
    "        default=50, description=\"How much pain or discomfort I'm in, from 0 to 100\"\n",
    "    )\n",
    "    pleasure_level: int = Field(\n",
    "        default=50, description=\"How much pleasure I'm feeling right now, from 0 to 100\"\n",
    "    )\n",
    "    health_level: int = Field(default=50, description=\"How healthy I am, from 0 to 100\")\n",
    "    focus_level: int = Field(default=50, description=\"How focused I am, from 0 to 100\")\n",
    "\n",
    "\n",
    "class EnvironmentVariables(BaseModel):\n",
    "    \"\"\"Environment variables that describe the external conditions.\n",
    "\n",
    "    Attributes:\n",
    "        context: A paragraph providing full context about the current environment\n",
    "        weather: The current weather condition (sunny, cloudy, rainy, or snowy)\n",
    "        hour_of_day: The current hour in 24-hour format (0-23)\n",
    "        day_of_week: The current day of the week\n",
    "    \"\"\"\n",
    "\n",
    "    context: str = Field(\n",
    "        default=\"\",\n",
    "        description=\"Full context about the current environment\",\n",
    "    )\n",
    "    weather: Literal[\"sunny\", \"cloudy\", \"rainy\", \"snowy\"] = Field(default=\"sunny\")\n",
    "    hour_of_day: float = Field(default=0)\n",
    "    day_of_week: Literal[\n",
    "        \"monday\", \"tuesday\", \"wednesday\", \"thursday\", \"friday\", \"saturday\", \"sunday\"\n",
    "    ] = Field(default=\"monday\")\n",
    "\n",
    "\n",
    "class MyOwnState(BaseModel):\n",
    "    uuid: str = Field(default_factory=lambda: str(uuid.uuid4()))\n",
    "    last_action: str = Field(default=\"\", description=\"The last action I took\")\n",
    "    previous_state_id: Optional[str] = Field(\n",
    "        default=None, description=\"The id of the previous state I was in\"\n",
    "    )\n",
    "    state_variables: StateVariables = Field(default_factory=StateVariables)\n",
    "    environment_variables: EnvironmentVariables = Field(\n",
    "        default_factory=EnvironmentVariables\n",
    "    )\n",
    "\n",
    "    def mutate(self):\n",
    "        new_state = copy.deepcopy(self)\n",
    "        new_state.previous_state_id = self.uuid\n",
    "        new_state.uuid = str(uuid.uuid4())\n",
    "        return new_state"
   ]
  },
  {
   "cell_type": "code",
   "execution_count": 3,
   "metadata": {},
   "outputs": [
    {
     "data": {
      "text/html": [
       "<pre style=\"white-space:pre;overflow-x:auto;line-height:normal;font-family:Menlo,'DejaVu Sans Mono',consolas,'Courier New',monospace\"><span style=\"color: #800080; text-decoration-color: #800080; font-weight: bold\">MyOwnState</span><span style=\"font-weight: bold\">(</span>\n",
       "    <span style=\"color: #808000; text-decoration-color: #808000\">uuid</span>=<span style=\"color: #008000; text-decoration-color: #008000\">'907628fc-90ce-43c4-8c79-e4a8868ceb47'</span>,\n",
       "    <span style=\"color: #808000; text-decoration-color: #808000\">last_action</span>=<span style=\"color: #008000; text-decoration-color: #008000\">''</span>,\n",
       "    <span style=\"color: #808000; text-decoration-color: #808000\">previous_state_id</span>=<span style=\"color: #800080; text-decoration-color: #800080; font-style: italic\">None</span>,\n",
       "    <span style=\"color: #808000; text-decoration-color: #808000\">state_variables</span>=<span style=\"color: #800080; text-decoration-color: #800080; font-weight: bold\">StateVariables</span><span style=\"font-weight: bold\">(</span><span style=\"color: #808000; text-decoration-color: #808000\">context</span>=<span style=\"color: #008000; text-decoration-color: #008000\">''</span>, <span style=\"color: #808000; text-decoration-color: #808000\">pain_level</span>=<span style=\"color: #008080; text-decoration-color: #008080; font-weight: bold\">50</span>, <span style=\"color: #808000; text-decoration-color: #808000\">pleasure_level</span>=<span style=\"color: #008080; text-decoration-color: #008080; font-weight: bold\">50</span>, <span style=\"color: #808000; text-decoration-color: #808000\">health_level</span>=<span style=\"color: #008080; text-decoration-color: #008080; font-weight: bold\">50</span>, <span style=\"color: #808000; text-decoration-color: #808000\">focus_level</span>=<span style=\"color: #008080; text-decoration-color: #008080; font-weight: bold\">50</span><span style=\"font-weight: bold\">)</span>,\n",
       "    <span style=\"color: #808000; text-decoration-color: #808000\">environment_variables</span>=<span style=\"color: #800080; text-decoration-color: #800080; font-weight: bold\">EnvironmentVariables</span><span style=\"font-weight: bold\">(</span><span style=\"color: #808000; text-decoration-color: #808000\">context</span>=<span style=\"color: #008000; text-decoration-color: #008000\">''</span>, <span style=\"color: #808000; text-decoration-color: #808000\">weather</span>=<span style=\"color: #008000; text-decoration-color: #008000\">'sunny'</span>, <span style=\"color: #808000; text-decoration-color: #808000\">hour_of_day</span>=<span style=\"color: #008080; text-decoration-color: #008080; font-weight: bold\">0</span>, <span style=\"color: #808000; text-decoration-color: #808000\">day_of_week</span>=<span style=\"color: #008000; text-decoration-color: #008000\">'monday'</span><span style=\"font-weight: bold\">)</span>\n",
       "<span style=\"font-weight: bold\">)</span>\n",
       "</pre>\n"
      ],
      "text/plain": [
       "\u001b[1;35mMyOwnState\u001b[0m\u001b[1m(\u001b[0m\n",
       "    \u001b[33muuid\u001b[0m=\u001b[32m'907628fc-90ce-43c4-8c79-e4a8868ceb47'\u001b[0m,\n",
       "    \u001b[33mlast_action\u001b[0m=\u001b[32m''\u001b[0m,\n",
       "    \u001b[33mprevious_state_id\u001b[0m=\u001b[3;35mNone\u001b[0m,\n",
       "    \u001b[33mstate_variables\u001b[0m=\u001b[1;35mStateVariables\u001b[0m\u001b[1m(\u001b[0m\u001b[33mcontext\u001b[0m=\u001b[32m''\u001b[0m, \u001b[33mpain_level\u001b[0m=\u001b[1;36m50\u001b[0m, \u001b[33mpleasure_level\u001b[0m=\u001b[1;36m50\u001b[0m, \u001b[33mhealth_level\u001b[0m=\u001b[1;36m50\u001b[0m, \u001b[33mfocus_level\u001b[0m=\u001b[1;36m50\u001b[0m\u001b[1m)\u001b[0m,\n",
       "    \u001b[33menvironment_variables\u001b[0m=\u001b[1;35mEnvironmentVariables\u001b[0m\u001b[1m(\u001b[0m\u001b[33mcontext\u001b[0m=\u001b[32m''\u001b[0m, \u001b[33mweather\u001b[0m=\u001b[32m'sunny'\u001b[0m, \u001b[33mhour_of_day\u001b[0m=\u001b[1;36m0\u001b[0m, \u001b[33mday_of_week\u001b[0m=\u001b[32m'monday'\u001b[0m\u001b[1m)\u001b[0m\n",
       "\u001b[1m)\u001b[0m\n"
      ]
     },
     "metadata": {},
     "output_type": "display_data"
    }
   ],
   "source": [
    "random_state = MyOwnState()\n",
    "\n",
    "rprint(random_state)"
   ]
  },
  {
   "cell_type": "code",
   "execution_count": 4,
   "metadata": {},
   "outputs": [],
   "source": [
    "def eat_cookie(state: MyOwnState) -> MyOwnState:\n",
    "    \"\"\"This action will accept a state, eat a cookie and return a new state\"\"\"\n",
    "\n",
    "    new_state = state.mutate()\n",
    "    new_state.last_action = \"Eating a delicious chocolate cookie\"\n",
    "    new_state.state_variables.pleasure_level = min(\n",
    "        100, new_state.state_variables.pleasure_level + 10\n",
    "    )\n",
    "    new_state.state_variables.health_level = max(\n",
    "        0, new_state.state_variables.health_level - 10\n",
    "    )\n",
    "\n",
    "    # eating a cookie takes around an hour because we like to savor it.\n",
    "    new_state.environment_variables.hour_of_day += 1\n",
    "    return new_state"
   ]
  },
  {
   "cell_type": "code",
   "execution_count": 5,
   "metadata": {},
   "outputs": [
    {
     "data": {
      "text/html": [
       "<pre style=\"white-space:pre;overflow-x:auto;line-height:normal;font-family:Menlo,'DejaVu Sans Mono',consolas,'Courier New',monospace\"><span style=\"color: #800080; text-decoration-color: #800080; font-weight: bold\">MyOwnState</span><span style=\"font-weight: bold\">(</span>\n",
       "    <span style=\"color: #808000; text-decoration-color: #808000\">uuid</span>=<span style=\"color: #008000; text-decoration-color: #008000\">'da2cfdc2-63f0-4715-bc0c-4ab204b29ace'</span>,\n",
       "    <span style=\"color: #808000; text-decoration-color: #808000\">last_action</span>=<span style=\"color: #008000; text-decoration-color: #008000\">'Eating a delicious chocolate cookie'</span>,\n",
       "    <span style=\"color: #808000; text-decoration-color: #808000\">previous_state_id</span>=<span style=\"color: #008000; text-decoration-color: #008000\">'907628fc-90ce-43c4-8c79-e4a8868ceb47'</span>,\n",
       "    <span style=\"color: #808000; text-decoration-color: #808000\">state_variables</span>=<span style=\"color: #800080; text-decoration-color: #800080; font-weight: bold\">StateVariables</span><span style=\"font-weight: bold\">(</span><span style=\"color: #808000; text-decoration-color: #808000\">context</span>=<span style=\"color: #008000; text-decoration-color: #008000\">''</span>, <span style=\"color: #808000; text-decoration-color: #808000\">pain_level</span>=<span style=\"color: #008080; text-decoration-color: #008080; font-weight: bold\">50</span>, <span style=\"color: #808000; text-decoration-color: #808000\">pleasure_level</span>=<span style=\"color: #008080; text-decoration-color: #008080; font-weight: bold\">60</span>, <span style=\"color: #808000; text-decoration-color: #808000\">health_level</span>=<span style=\"color: #008080; text-decoration-color: #008080; font-weight: bold\">40</span>, <span style=\"color: #808000; text-decoration-color: #808000\">focus_level</span>=<span style=\"color: #008080; text-decoration-color: #008080; font-weight: bold\">50</span><span style=\"font-weight: bold\">)</span>,\n",
       "    <span style=\"color: #808000; text-decoration-color: #808000\">environment_variables</span>=<span style=\"color: #800080; text-decoration-color: #800080; font-weight: bold\">EnvironmentVariables</span><span style=\"font-weight: bold\">(</span><span style=\"color: #808000; text-decoration-color: #808000\">context</span>=<span style=\"color: #008000; text-decoration-color: #008000\">''</span>, <span style=\"color: #808000; text-decoration-color: #808000\">weather</span>=<span style=\"color: #008000; text-decoration-color: #008000\">'sunny'</span>, <span style=\"color: #808000; text-decoration-color: #808000\">hour_of_day</span>=<span style=\"color: #008080; text-decoration-color: #008080; font-weight: bold\">1</span>, <span style=\"color: #808000; text-decoration-color: #808000\">day_of_week</span>=<span style=\"color: #008000; text-decoration-color: #008000\">'monday'</span><span style=\"font-weight: bold\">)</span>\n",
       "<span style=\"font-weight: bold\">)</span>\n",
       "</pre>\n"
      ],
      "text/plain": [
       "\u001b[1;35mMyOwnState\u001b[0m\u001b[1m(\u001b[0m\n",
       "    \u001b[33muuid\u001b[0m=\u001b[32m'da2cfdc2-63f0-4715-bc0c-4ab204b29ace'\u001b[0m,\n",
       "    \u001b[33mlast_action\u001b[0m=\u001b[32m'Eating a delicious chocolate cookie'\u001b[0m,\n",
       "    \u001b[33mprevious_state_id\u001b[0m=\u001b[32m'907628fc-90ce-43c4-8c79-e4a8868ceb47'\u001b[0m,\n",
       "    \u001b[33mstate_variables\u001b[0m=\u001b[1;35mStateVariables\u001b[0m\u001b[1m(\u001b[0m\u001b[33mcontext\u001b[0m=\u001b[32m''\u001b[0m, \u001b[33mpain_level\u001b[0m=\u001b[1;36m50\u001b[0m, \u001b[33mpleasure_level\u001b[0m=\u001b[1;36m60\u001b[0m, \u001b[33mhealth_level\u001b[0m=\u001b[1;36m40\u001b[0m, \u001b[33mfocus_level\u001b[0m=\u001b[1;36m50\u001b[0m\u001b[1m)\u001b[0m,\n",
       "    \u001b[33menvironment_variables\u001b[0m=\u001b[1;35mEnvironmentVariables\u001b[0m\u001b[1m(\u001b[0m\u001b[33mcontext\u001b[0m=\u001b[32m''\u001b[0m, \u001b[33mweather\u001b[0m=\u001b[32m'sunny'\u001b[0m, \u001b[33mhour_of_day\u001b[0m=\u001b[1;36m1\u001b[0m, \u001b[33mday_of_week\u001b[0m=\u001b[32m'monday'\u001b[0m\u001b[1m)\u001b[0m\n",
       "\u001b[1m)\u001b[0m\n"
      ]
     },
     "metadata": {},
     "output_type": "display_data"
    }
   ],
   "source": [
    "next_state = eat_cookie(random_state)\n",
    "rprint(next_state)"
   ]
  },
  {
   "cell_type": "markdown",
   "metadata": {},
   "source": [
    "Great, so now we defined a state, and also we created an \"action\" that mutates the state and advances the history.\n",
    "\n",
    "It's a neat abstraction but not necessarily useful, unless we have a pretty well defined:\n",
    "\n",
    "- Set of states,\n",
    "- Set of actions that we can take conditional on the state and the environment,\n",
    "- A way to compute the reward/cost of each action.\n",
    "\n",
    "So essentially we need something akin to a \"World Model\"... i.e.: some way of modelling the dynamics of the environment and how the agent's actions interact with it - and also how its actions change its own internal variables.\n",
    "\n",
    "Another thing to take into account is that the \"reward\" of an action may not be entirely quantifiable. I.e., while in this example we're using a simple toy model where \"pleasure\" and \"pain\" are just a number, in reality we often need to make trade-offs between qualitative outcomes whose logic is not entirely clear and relies on personal preferences.\n",
    "\n",
    "i.e.: the clear signal we've reached AGI is when a model becomes a masochist or develops a taste for spicy food.\n"
   ]
  },
  {
   "cell_type": "markdown",
   "metadata": {},
   "source": [
    "Now, once again because we're am impatient bunch, let's get down to some more coding and try to bootstrap a world model that's specific to our problem.\n"
   ]
  },
  {
   "cell_type": "code",
   "execution_count": 6,
   "metadata": {},
   "outputs": [],
   "source": [
    "class Action(BaseModel):\n",
    "    name: str = Field(default=\"\", description=\"The name of the action\")\n",
    "    details: str = Field(default=\"\", description=\"The details of the action\")\n",
    "    time_spent: float = Field(\n",
    "        default=0,\n",
    "        description=\"How long this action took, in hours (e.g., 0.5 for half an hour)\",\n",
    "    )\n",
    "    from_state_id: Optional[str] = Field(\n",
    "        default=None,\n",
    "        description=\"The id of the state I was in before taking this action. Leave this empty.\",\n",
    "    )\n",
    "    to_state_id: Optional[str] = Field(\n",
    "        default=None,\n",
    "        description=\"The id of the state I'm in after taking this action. Leave this empty.\",\n",
    "    )"
   ]
  },
  {
   "cell_type": "code",
   "execution_count": 7,
   "metadata": {},
   "outputs": [
    {
     "data": {
      "text/html": [
       "<pre style=\"white-space:pre;overflow-x:auto;line-height:normal;font-family:Menlo,'DejaVu Sans Mono',consolas,'Courier New',monospace\"><span style=\"color: #800080; text-decoration-color: #800080; font-weight: bold\">MyOwnState</span><span style=\"font-weight: bold\">(</span>\n",
       "    <span style=\"color: #808000; text-decoration-color: #808000\">uuid</span>=<span style=\"color: #008000; text-decoration-color: #008000\">'598ee5e9-0097-4c0d-9e2a-a7a860cdf232'</span>,\n",
       "    <span style=\"color: #808000; text-decoration-color: #808000\">last_action</span>=<span style=\"color: #008000; text-decoration-color: #008000\">''</span>,\n",
       "    <span style=\"color: #808000; text-decoration-color: #808000\">previous_state_id</span>=<span style=\"color: #800080; text-decoration-color: #800080; font-style: italic\">None</span>,\n",
       "    <span style=\"color: #808000; text-decoration-color: #808000\">state_variables</span>=<span style=\"color: #800080; text-decoration-color: #800080; font-weight: bold\">StateVariables</span><span style=\"font-weight: bold\">(</span>\n",
       "        <span style=\"color: #808000; text-decoration-color: #808000\">context</span>=<span style=\"color: #008000; text-decoration-color: #008000\">'I am Edgar Allan Poe, waking to a dim and disorienting environment after a night indulging in </span>\n",
       "<span style=\"color: #008000; text-decoration-color: #008000\">spirits, as is often my manner though I wish it were not so. The faint light filtering through the cracks of the </span>\n",
       "<span style=\"color: #008000; text-decoration-color: #008000\">blinds strains my eyes, and the air is thick with the scent of stale liquor. My head throbs with a relentless ache,</span>\n",
       "<span style=\"color: #008000; text-decoration-color: #008000\">and each movement brings a wave of nausea, as if the sorrow and grief of my writings have leapt from paper into </span>\n",
       "<span style=\"color: #008000; text-decoration-color: #008000\">corporeal torment. I am surrounded by disheveled parchment and scattered tomes, friends that both inspire and haunt</span>\n",
       "<span style=\"color: #008000; text-decoration-color: #008000\">me. The haunting memory of love long lost lingers in the corners of my consciousness, mingling with a nagging guilt</span>\n",
       "<span style=\"color: #008000; text-decoration-color: #008000\">for my indulgence. The poetic soul within me aches to capture this melancholic state, to pen something eternal, but</span>\n",
       "<span style=\"color: #008000; text-decoration-color: #008000\">an oppressive fog veils my focus, its tendrils woven thick from drink and despair.'</span>,\n",
       "        <span style=\"color: #808000; text-decoration-color: #808000\">pain_level</span>=<span style=\"color: #008080; text-decoration-color: #008080; font-weight: bold\">80</span>,\n",
       "        <span style=\"color: #808000; text-decoration-color: #808000\">pleasure_level</span>=<span style=\"color: #008080; text-decoration-color: #008080; font-weight: bold\">10</span>,\n",
       "        <span style=\"color: #808000; text-decoration-color: #808000\">health_level</span>=<span style=\"color: #008080; text-decoration-color: #008080; font-weight: bold\">30</span>,\n",
       "        <span style=\"color: #808000; text-decoration-color: #808000\">focus_level</span>=<span style=\"color: #008080; text-decoration-color: #008080; font-weight: bold\">20</span>\n",
       "    <span style=\"font-weight: bold\">)</span>,\n",
       "    <span style=\"color: #808000; text-decoration-color: #808000\">environment_variables</span>=<span style=\"color: #800080; text-decoration-color: #800080; font-weight: bold\">EnvironmentVariables</span><span style=\"font-weight: bold\">(</span>\n",
       "        <span style=\"color: #808000; text-decoration-color: #808000\">context</span>=<span style=\"color: #008000; text-decoration-color: #008000\">'It is a calm and cold day in Baltimore.'</span>,\n",
       "        <span style=\"color: #808000; text-decoration-color: #808000\">weather</span>=<span style=\"color: #008000; text-decoration-color: #008000\">'sunny'</span>,\n",
       "        <span style=\"color: #808000; text-decoration-color: #808000\">hour_of_day</span>=<span style=\"color: #008080; text-decoration-color: #008080; font-weight: bold\">8.0</span>,\n",
       "        <span style=\"color: #808000; text-decoration-color: #808000\">day_of_week</span>=<span style=\"color: #008000; text-decoration-color: #008000\">'monday'</span>\n",
       "    <span style=\"font-weight: bold\">)</span>\n",
       "<span style=\"font-weight: bold\">)</span>\n",
       "</pre>\n"
      ],
      "text/plain": [
       "\u001b[1;35mMyOwnState\u001b[0m\u001b[1m(\u001b[0m\n",
       "    \u001b[33muuid\u001b[0m=\u001b[32m'598ee5e9-0097-4c0d-9e2a-a7a860cdf232'\u001b[0m,\n",
       "    \u001b[33mlast_action\u001b[0m=\u001b[32m''\u001b[0m,\n",
       "    \u001b[33mprevious_state_id\u001b[0m=\u001b[3;35mNone\u001b[0m,\n",
       "    \u001b[33mstate_variables\u001b[0m=\u001b[1;35mStateVariables\u001b[0m\u001b[1m(\u001b[0m\n",
       "        \u001b[33mcontext\u001b[0m=\u001b[32m'I am Edgar Allan Poe, waking to a dim and disorienting environment after a night indulging in \u001b[0m\n",
       "\u001b[32mspirits, as is often my manner though I wish it were not so. The faint light filtering through the cracks of the \u001b[0m\n",
       "\u001b[32mblinds strains my eyes, and the air is thick with the scent of stale liquor. My head throbs with a relentless ache,\u001b[0m\n",
       "\u001b[32mand each movement brings a wave of nausea, as if the sorrow and grief of my writings have leapt from paper into \u001b[0m\n",
       "\u001b[32mcorporeal torment. I am surrounded by disheveled parchment and scattered tomes, friends that both inspire and haunt\u001b[0m\n",
       "\u001b[32mme. The haunting memory of love long lost lingers in the corners of my consciousness, mingling with a nagging guilt\u001b[0m\n",
       "\u001b[32mfor my indulgence. The poetic soul within me aches to capture this melancholic state, to pen something eternal, but\u001b[0m\n",
       "\u001b[32man oppressive fog veils my focus, its tendrils woven thick from drink and despair.'\u001b[0m,\n",
       "        \u001b[33mpain_level\u001b[0m=\u001b[1;36m80\u001b[0m,\n",
       "        \u001b[33mpleasure_level\u001b[0m=\u001b[1;36m10\u001b[0m,\n",
       "        \u001b[33mhealth_level\u001b[0m=\u001b[1;36m30\u001b[0m,\n",
       "        \u001b[33mfocus_level\u001b[0m=\u001b[1;36m20\u001b[0m\n",
       "    \u001b[1m)\u001b[0m,\n",
       "    \u001b[33menvironment_variables\u001b[0m=\u001b[1;35mEnvironmentVariables\u001b[0m\u001b[1m(\u001b[0m\n",
       "        \u001b[33mcontext\u001b[0m=\u001b[32m'It is a calm and cold day in Baltimore.'\u001b[0m,\n",
       "        \u001b[33mweather\u001b[0m=\u001b[32m'sunny'\u001b[0m,\n",
       "        \u001b[33mhour_of_day\u001b[0m=\u001b[1;36m8\u001b[0m\u001b[1;36m.0\u001b[0m,\n",
       "        \u001b[33mday_of_week\u001b[0m=\u001b[32m'monday'\u001b[0m\n",
       "    \u001b[1m)\u001b[0m\n",
       "\u001b[1m)\u001b[0m\n"
      ]
     },
     "metadata": {},
     "output_type": "display_data"
    }
   ],
   "source": [
    "from llm.structured import create, create_iterable\n",
    "\n",
    "\n",
    "messages = [\n",
    "    {\n",
    "        \"role\": \"user\",\n",
    "        \"content\": \"You are Edgar Allan Poe and just woke up from a hangover. Create a state for yourself. Be detailed in the context.\",\n",
    "    }\n",
    "]\n",
    "\n",
    "\n",
    "new_state_variables = create(messages, StateVariables)\n",
    "\n",
    "messages = [\n",
    "    {\n",
    "        \"role\": \"user\",\n",
    "        \"content\": \"It is 8am and it's a calm and cold day in Baltimore..\",\n",
    "    }\n",
    "]\n",
    "\n",
    "new_environment_variables = create(messages, EnvironmentVariables)\n",
    "\n",
    "\n",
    "state = MyOwnState(\n",
    "    state_variables=new_state_variables,\n",
    "    environment_variables=new_environment_variables,\n",
    ")\n",
    "\n",
    "rprint(state)"
   ]
  },
  {
   "cell_type": "code",
   "execution_count": 8,
   "metadata": {},
   "outputs": [
    {
     "data": {
      "text/html": [
       "<pre style=\"white-space:pre;overflow-x:auto;line-height:normal;font-family:Menlo,'DejaVu Sans Mono',consolas,'Courier New',monospace\"><span style=\"color: #800080; text-decoration-color: #800080; font-weight: bold\">Action</span><span style=\"font-weight: bold\">(</span>\n",
       "    <span style=\"color: #808000; text-decoration-color: #808000\">name</span>=<span style=\"color: #008000; text-decoration-color: #008000\">'Drink Water and Reflect'</span>,\n",
       "    <span style=\"color: #808000; text-decoration-color: #808000\">details</span>=<span style=\"color: #008000; text-decoration-color: #008000\">'Despite the throbbing pain and the overwhelming despair, I must aim to stabilize myself. I see a glass</span>\n",
       "<span style=\"color: #008000; text-decoration-color: #008000\">of water on the cluttered desk before me. Taking a small measured sip of this purifying liquid might soothe both </span>\n",
       "<span style=\"color: #008000; text-decoration-color: #008000\">the ache in my head and the oppressive sorrow in my soul. While doing so, I shall focus my mind on the fragmented </span>\n",
       "<span style=\"color: #008000; text-decoration-color: #008000\">verses wilting within, letting them reassemble into the beginnings of a poem.'</span>,\n",
       "    <span style=\"color: #808000; text-decoration-color: #808000\">time_spent</span>=<span style=\"color: #008080; text-decoration-color: #008080; font-weight: bold\">0.25</span>,\n",
       "    <span style=\"color: #808000; text-decoration-color: #808000\">from_state_id</span>=<span style=\"color: #008000; text-decoration-color: #008000\">'598ee5e9-0097-4c0d-9e2a-a7a860cdf232'</span>,\n",
       "    <span style=\"color: #808000; text-decoration-color: #808000\">to_state_id</span>=<span style=\"color: #800080; text-decoration-color: #800080; font-style: italic\">None</span>\n",
       "<span style=\"font-weight: bold\">)</span>\n",
       "</pre>\n"
      ],
      "text/plain": [
       "\u001b[1;35mAction\u001b[0m\u001b[1m(\u001b[0m\n",
       "    \u001b[33mname\u001b[0m=\u001b[32m'Drink Water and Reflect'\u001b[0m,\n",
       "    \u001b[33mdetails\u001b[0m=\u001b[32m'Despite the throbbing pain and the overwhelming despair, I must aim to stabilize myself. I see a glass\u001b[0m\n",
       "\u001b[32mof water on the cluttered desk before me. Taking a small measured sip of this purifying liquid might soothe both \u001b[0m\n",
       "\u001b[32mthe ache in my head and the oppressive sorrow in my soul. While doing so, I shall focus my mind on the fragmented \u001b[0m\n",
       "\u001b[32mverses wilting within, letting them reassemble into the beginnings of a poem.'\u001b[0m,\n",
       "    \u001b[33mtime_spent\u001b[0m=\u001b[1;36m0\u001b[0m\u001b[1;36m.25\u001b[0m,\n",
       "    \u001b[33mfrom_state_id\u001b[0m=\u001b[32m'598ee5e9-0097-4c0d-9e2a-a7a860cdf232'\u001b[0m,\n",
       "    \u001b[33mto_state_id\u001b[0m=\u001b[3;35mNone\u001b[0m\n",
       "\u001b[1m)\u001b[0m\n"
      ]
     },
     "metadata": {},
     "output_type": "display_data"
    }
   ],
   "source": [
    "from llm.structured import create\n",
    "\n",
    "\n",
    "messages = [\n",
    "    {\n",
    "        \"role\": \"user\",\n",
    "        \"content\": \"This is your current state:\\n\\n\"\n",
    "        + state.model_dump_json()\n",
    "        + \"\\n\\nSuggest an action to take.\",\n",
    "    },\n",
    "]\n",
    "\n",
    "new_action = create(messages, Action)\n",
    "new_action.from_state_id = state.uuid\n",
    "\n",
    "rprint(new_action)"
   ]
  },
  {
   "cell_type": "code",
   "execution_count": 9,
   "metadata": {},
   "outputs": [],
   "source": [
    "messages = [\n",
    "    {\n",
    "        \"role\": \"system\",\n",
    "        \"content\": \"\"\"You are a World Model. Your role is to observe a set of states and actions, and then predict the next internal state of the agent. Below you will find the \n",
    "    data describing these states and actions.\"\"\",\n",
    "    },\n",
    "    {\"role\": \"user\", \"content\": f\"\"\"State: {state}\"\"\"},\n",
    "    {\"role\": \"user\", \"content\": f\"\"\"Action: {new_action}\"\"\"},\n",
    "    {\"role\": \"user\", \"content\": f\"\"\"What is the next state of the agent?\"\"\"},\n",
    "]\n",
    "\n",
    "next_state_variables = create(messages, StateVariables)\n",
    "\n",
    "next_state = state.mutate()\n",
    "next_state.state_variables = next_state_variables\n",
    "next_state.last_action = new_action.name\n",
    "next_state.previous_state_id = state.uuid\n",
    "next_state.environment_variables.hour_of_day += new_action.time_spent"
   ]
  },
  {
   "cell_type": "code",
   "execution_count": 10,
   "metadata": {},
   "outputs": [
    {
     "data": {
      "text/html": [
       "<pre style=\"white-space:pre;overflow-x:auto;line-height:normal;font-family:Menlo,'DejaVu Sans Mono',consolas,'Courier New',monospace\"><span style=\"color: #800080; text-decoration-color: #800080; font-weight: bold\">MyOwnState</span><span style=\"font-weight: bold\">(</span>\n",
       "    <span style=\"color: #808000; text-decoration-color: #808000\">uuid</span>=<span style=\"color: #008000; text-decoration-color: #008000\">'598ee5e9-0097-4c0d-9e2a-a7a860cdf232'</span>,\n",
       "    <span style=\"color: #808000; text-decoration-color: #808000\">last_action</span>=<span style=\"color: #008000; text-decoration-color: #008000\">''</span>,\n",
       "    <span style=\"color: #808000; text-decoration-color: #808000\">previous_state_id</span>=<span style=\"color: #800080; text-decoration-color: #800080; font-style: italic\">None</span>,\n",
       "    <span style=\"color: #808000; text-decoration-color: #808000\">state_variables</span>=<span style=\"color: #800080; text-decoration-color: #800080; font-weight: bold\">StateVariables</span><span style=\"font-weight: bold\">(</span>\n",
       "        <span style=\"color: #808000; text-decoration-color: #808000\">context</span>=<span style=\"color: #008000; text-decoration-color: #008000\">'I am Edgar Allan Poe, waking to a dim and disorienting environment after a night indulging in </span>\n",
       "<span style=\"color: #008000; text-decoration-color: #008000\">spirits, as is often my manner though I wish it were not so. The faint light filtering through the cracks of the </span>\n",
       "<span style=\"color: #008000; text-decoration-color: #008000\">blinds strains my eyes, and the air is thick with the scent of stale liquor. My head throbs with a relentless ache,</span>\n",
       "<span style=\"color: #008000; text-decoration-color: #008000\">and each movement brings a wave of nausea, as if the sorrow and grief of my writings have leapt from paper into </span>\n",
       "<span style=\"color: #008000; text-decoration-color: #008000\">corporeal torment. I am surrounded by disheveled parchment and scattered tomes, friends that both inspire and haunt</span>\n",
       "<span style=\"color: #008000; text-decoration-color: #008000\">me. The haunting memory of love long lost lingers in the corners of my consciousness, mingling with a nagging guilt</span>\n",
       "<span style=\"color: #008000; text-decoration-color: #008000\">for my indulgence. The poetic soul within me aches to capture this melancholic state, to pen something eternal, but</span>\n",
       "<span style=\"color: #008000; text-decoration-color: #008000\">an oppressive fog veils my focus, its tendrils woven thick from drink and despair.'</span>,\n",
       "        <span style=\"color: #808000; text-decoration-color: #808000\">pain_level</span>=<span style=\"color: #008080; text-decoration-color: #008080; font-weight: bold\">80</span>,\n",
       "        <span style=\"color: #808000; text-decoration-color: #808000\">pleasure_level</span>=<span style=\"color: #008080; text-decoration-color: #008080; font-weight: bold\">10</span>,\n",
       "        <span style=\"color: #808000; text-decoration-color: #808000\">health_level</span>=<span style=\"color: #008080; text-decoration-color: #008080; font-weight: bold\">30</span>,\n",
       "        <span style=\"color: #808000; text-decoration-color: #808000\">focus_level</span>=<span style=\"color: #008080; text-decoration-color: #008080; font-weight: bold\">20</span>\n",
       "    <span style=\"font-weight: bold\">)</span>,\n",
       "    <span style=\"color: #808000; text-decoration-color: #808000\">environment_variables</span>=<span style=\"color: #800080; text-decoration-color: #800080; font-weight: bold\">EnvironmentVariables</span><span style=\"font-weight: bold\">(</span>\n",
       "        <span style=\"color: #808000; text-decoration-color: #808000\">context</span>=<span style=\"color: #008000; text-decoration-color: #008000\">'It is a calm and cold day in Baltimore.'</span>,\n",
       "        <span style=\"color: #808000; text-decoration-color: #808000\">weather</span>=<span style=\"color: #008000; text-decoration-color: #008000\">'sunny'</span>,\n",
       "        <span style=\"color: #808000; text-decoration-color: #808000\">hour_of_day</span>=<span style=\"color: #008080; text-decoration-color: #008080; font-weight: bold\">8.0</span>,\n",
       "        <span style=\"color: #808000; text-decoration-color: #808000\">day_of_week</span>=<span style=\"color: #008000; text-decoration-color: #008000\">'monday'</span>\n",
       "    <span style=\"font-weight: bold\">)</span>\n",
       "<span style=\"font-weight: bold\">)</span>\n",
       "</pre>\n"
      ],
      "text/plain": [
       "\u001b[1;35mMyOwnState\u001b[0m\u001b[1m(\u001b[0m\n",
       "    \u001b[33muuid\u001b[0m=\u001b[32m'598ee5e9-0097-4c0d-9e2a-a7a860cdf232'\u001b[0m,\n",
       "    \u001b[33mlast_action\u001b[0m=\u001b[32m''\u001b[0m,\n",
       "    \u001b[33mprevious_state_id\u001b[0m=\u001b[3;35mNone\u001b[0m,\n",
       "    \u001b[33mstate_variables\u001b[0m=\u001b[1;35mStateVariables\u001b[0m\u001b[1m(\u001b[0m\n",
       "        \u001b[33mcontext\u001b[0m=\u001b[32m'I am Edgar Allan Poe, waking to a dim and disorienting environment after a night indulging in \u001b[0m\n",
       "\u001b[32mspirits, as is often my manner though I wish it were not so. The faint light filtering through the cracks of the \u001b[0m\n",
       "\u001b[32mblinds strains my eyes, and the air is thick with the scent of stale liquor. My head throbs with a relentless ache,\u001b[0m\n",
       "\u001b[32mand each movement brings a wave of nausea, as if the sorrow and grief of my writings have leapt from paper into \u001b[0m\n",
       "\u001b[32mcorporeal torment. I am surrounded by disheveled parchment and scattered tomes, friends that both inspire and haunt\u001b[0m\n",
       "\u001b[32mme. The haunting memory of love long lost lingers in the corners of my consciousness, mingling with a nagging guilt\u001b[0m\n",
       "\u001b[32mfor my indulgence. The poetic soul within me aches to capture this melancholic state, to pen something eternal, but\u001b[0m\n",
       "\u001b[32man oppressive fog veils my focus, its tendrils woven thick from drink and despair.'\u001b[0m,\n",
       "        \u001b[33mpain_level\u001b[0m=\u001b[1;36m80\u001b[0m,\n",
       "        \u001b[33mpleasure_level\u001b[0m=\u001b[1;36m10\u001b[0m,\n",
       "        \u001b[33mhealth_level\u001b[0m=\u001b[1;36m30\u001b[0m,\n",
       "        \u001b[33mfocus_level\u001b[0m=\u001b[1;36m20\u001b[0m\n",
       "    \u001b[1m)\u001b[0m,\n",
       "    \u001b[33menvironment_variables\u001b[0m=\u001b[1;35mEnvironmentVariables\u001b[0m\u001b[1m(\u001b[0m\n",
       "        \u001b[33mcontext\u001b[0m=\u001b[32m'It is a calm and cold day in Baltimore.'\u001b[0m,\n",
       "        \u001b[33mweather\u001b[0m=\u001b[32m'sunny'\u001b[0m,\n",
       "        \u001b[33mhour_of_day\u001b[0m=\u001b[1;36m8\u001b[0m\u001b[1;36m.0\u001b[0m,\n",
       "        \u001b[33mday_of_week\u001b[0m=\u001b[32m'monday'\u001b[0m\n",
       "    \u001b[1m)\u001b[0m\n",
       "\u001b[1m)\u001b[0m\n"
      ]
     },
     "metadata": {},
     "output_type": "display_data"
    },
    {
     "data": {
      "text/html": [
       "<pre style=\"white-space:pre;overflow-x:auto;line-height:normal;font-family:Menlo,'DejaVu Sans Mono',consolas,'Courier New',monospace\"><span style=\"color: #800080; text-decoration-color: #800080; font-weight: bold\">Action</span><span style=\"font-weight: bold\">(</span>\n",
       "    <span style=\"color: #808000; text-decoration-color: #808000\">name</span>=<span style=\"color: #008000; text-decoration-color: #008000\">'Drink Water and Reflect'</span>,\n",
       "    <span style=\"color: #808000; text-decoration-color: #808000\">details</span>=<span style=\"color: #008000; text-decoration-color: #008000\">'Despite the throbbing pain and the overwhelming despair, I must aim to stabilize myself. I see a glass</span>\n",
       "<span style=\"color: #008000; text-decoration-color: #008000\">of water on the cluttered desk before me. Taking a small measured sip of this purifying liquid might soothe both </span>\n",
       "<span style=\"color: #008000; text-decoration-color: #008000\">the ache in my head and the oppressive sorrow in my soul. While doing so, I shall focus my mind on the fragmented </span>\n",
       "<span style=\"color: #008000; text-decoration-color: #008000\">verses wilting within, letting them reassemble into the beginnings of a poem.'</span>,\n",
       "    <span style=\"color: #808000; text-decoration-color: #808000\">time_spent</span>=<span style=\"color: #008080; text-decoration-color: #008080; font-weight: bold\">0.25</span>,\n",
       "    <span style=\"color: #808000; text-decoration-color: #808000\">from_state_id</span>=<span style=\"color: #008000; text-decoration-color: #008000\">'598ee5e9-0097-4c0d-9e2a-a7a860cdf232'</span>,\n",
       "    <span style=\"color: #808000; text-decoration-color: #808000\">to_state_id</span>=<span style=\"color: #008000; text-decoration-color: #008000\">'5d3007e5-0cde-4699-a321-7191e6f2c94b'</span>\n",
       "<span style=\"font-weight: bold\">)</span>\n",
       "</pre>\n"
      ],
      "text/plain": [
       "\u001b[1;35mAction\u001b[0m\u001b[1m(\u001b[0m\n",
       "    \u001b[33mname\u001b[0m=\u001b[32m'Drink Water and Reflect'\u001b[0m,\n",
       "    \u001b[33mdetails\u001b[0m=\u001b[32m'Despite the throbbing pain and the overwhelming despair, I must aim to stabilize myself. I see a glass\u001b[0m\n",
       "\u001b[32mof water on the cluttered desk before me. Taking a small measured sip of this purifying liquid might soothe both \u001b[0m\n",
       "\u001b[32mthe ache in my head and the oppressive sorrow in my soul. While doing so, I shall focus my mind on the fragmented \u001b[0m\n",
       "\u001b[32mverses wilting within, letting them reassemble into the beginnings of a poem.'\u001b[0m,\n",
       "    \u001b[33mtime_spent\u001b[0m=\u001b[1;36m0\u001b[0m\u001b[1;36m.25\u001b[0m,\n",
       "    \u001b[33mfrom_state_id\u001b[0m=\u001b[32m'598ee5e9-0097-4c0d-9e2a-a7a860cdf232'\u001b[0m,\n",
       "    \u001b[33mto_state_id\u001b[0m=\u001b[32m'5d3007e5-0cde-4699-a321-7191e6f2c94b'\u001b[0m\n",
       "\u001b[1m)\u001b[0m\n"
      ]
     },
     "metadata": {},
     "output_type": "display_data"
    },
    {
     "data": {
      "text/html": [
       "<pre style=\"white-space:pre;overflow-x:auto;line-height:normal;font-family:Menlo,'DejaVu Sans Mono',consolas,'Courier New',monospace\"><span style=\"color: #800080; text-decoration-color: #800080; font-weight: bold\">MyOwnState</span><span style=\"font-weight: bold\">(</span>\n",
       "    <span style=\"color: #808000; text-decoration-color: #808000\">uuid</span>=<span style=\"color: #008000; text-decoration-color: #008000\">'5d3007e5-0cde-4699-a321-7191e6f2c94b'</span>,\n",
       "    <span style=\"color: #808000; text-decoration-color: #808000\">last_action</span>=<span style=\"color: #008000; text-decoration-color: #008000\">'Drink Water and Reflect'</span>,\n",
       "    <span style=\"color: #808000; text-decoration-color: #808000\">previous_state_id</span>=<span style=\"color: #008000; text-decoration-color: #008000\">'598ee5e9-0097-4c0d-9e2a-a7a860cdf232'</span>,\n",
       "    <span style=\"color: #808000; text-decoration-color: #808000\">state_variables</span>=<span style=\"color: #800080; text-decoration-color: #800080; font-weight: bold\">StateVariables</span><span style=\"font-weight: bold\">(</span>\n",
       "        <span style=\"color: #808000; text-decoration-color: #808000\">context</span>=<span style=\"color: #008000; text-decoration-color: #008000\">'I am Edgar Allan Poe, waking to a dim and disorienting environment after a night indulging in </span>\n",
       "<span style=\"color: #008000; text-decoration-color: #008000\">spirits, as is often my manner though I wish it were not so. I have taken a sip of water, a small solace against </span>\n",
       "<span style=\"color: #008000; text-decoration-color: #008000\">the relentless ache in my head and the nausea that churns within me. The act, though simple, brings a faint clarity</span>\n",
       "<span style=\"color: #008000; text-decoration-color: #008000\">to my dulled senses. Amidst this brief clarity, I reflect on the poetic sorrow residing within me, allowing </span>\n",
       "<span style=\"color: #008000; text-decoration-color: #008000\">fragments of thought to form verses that might one day escape this haze.'</span>,\n",
       "        <span style=\"color: #808000; text-decoration-color: #808000\">pain_level</span>=<span style=\"color: #008080; text-decoration-color: #008080; font-weight: bold\">70</span>,\n",
       "        <span style=\"color: #808000; text-decoration-color: #808000\">pleasure_level</span>=<span style=\"color: #008080; text-decoration-color: #008080; font-weight: bold\">15</span>,\n",
       "        <span style=\"color: #808000; text-decoration-color: #808000\">health_level</span>=<span style=\"color: #008080; text-decoration-color: #008080; font-weight: bold\">35</span>,\n",
       "        <span style=\"color: #808000; text-decoration-color: #808000\">focus_level</span>=<span style=\"color: #008080; text-decoration-color: #008080; font-weight: bold\">30</span>\n",
       "    <span style=\"font-weight: bold\">)</span>,\n",
       "    <span style=\"color: #808000; text-decoration-color: #808000\">environment_variables</span>=<span style=\"color: #800080; text-decoration-color: #800080; font-weight: bold\">EnvironmentVariables</span><span style=\"font-weight: bold\">(</span>\n",
       "        <span style=\"color: #808000; text-decoration-color: #808000\">context</span>=<span style=\"color: #008000; text-decoration-color: #008000\">'It is a calm and cold day in Baltimore.'</span>,\n",
       "        <span style=\"color: #808000; text-decoration-color: #808000\">weather</span>=<span style=\"color: #008000; text-decoration-color: #008000\">'sunny'</span>,\n",
       "        <span style=\"color: #808000; text-decoration-color: #808000\">hour_of_day</span>=<span style=\"color: #008080; text-decoration-color: #008080; font-weight: bold\">8.25</span>,\n",
       "        <span style=\"color: #808000; text-decoration-color: #808000\">day_of_week</span>=<span style=\"color: #008000; text-decoration-color: #008000\">'monday'</span>\n",
       "    <span style=\"font-weight: bold\">)</span>\n",
       "<span style=\"font-weight: bold\">)</span>\n",
       "</pre>\n"
      ],
      "text/plain": [
       "\u001b[1;35mMyOwnState\u001b[0m\u001b[1m(\u001b[0m\n",
       "    \u001b[33muuid\u001b[0m=\u001b[32m'5d3007e5-0cde-4699-a321-7191e6f2c94b'\u001b[0m,\n",
       "    \u001b[33mlast_action\u001b[0m=\u001b[32m'Drink Water and Reflect'\u001b[0m,\n",
       "    \u001b[33mprevious_state_id\u001b[0m=\u001b[32m'598ee5e9-0097-4c0d-9e2a-a7a860cdf232'\u001b[0m,\n",
       "    \u001b[33mstate_variables\u001b[0m=\u001b[1;35mStateVariables\u001b[0m\u001b[1m(\u001b[0m\n",
       "        \u001b[33mcontext\u001b[0m=\u001b[32m'I am Edgar Allan Poe, waking to a dim and disorienting environment after a night indulging in \u001b[0m\n",
       "\u001b[32mspirits, as is often my manner though I wish it were not so. I have taken a sip of water, a small solace against \u001b[0m\n",
       "\u001b[32mthe relentless ache in my head and the nausea that churns within me. The act, though simple, brings a faint clarity\u001b[0m\n",
       "\u001b[32mto my dulled senses. Amidst this brief clarity, I reflect on the poetic sorrow residing within me, allowing \u001b[0m\n",
       "\u001b[32mfragments of thought to form verses that might one day escape this haze.'\u001b[0m,\n",
       "        \u001b[33mpain_level\u001b[0m=\u001b[1;36m70\u001b[0m,\n",
       "        \u001b[33mpleasure_level\u001b[0m=\u001b[1;36m15\u001b[0m,\n",
       "        \u001b[33mhealth_level\u001b[0m=\u001b[1;36m35\u001b[0m,\n",
       "        \u001b[33mfocus_level\u001b[0m=\u001b[1;36m30\u001b[0m\n",
       "    \u001b[1m)\u001b[0m,\n",
       "    \u001b[33menvironment_variables\u001b[0m=\u001b[1;35mEnvironmentVariables\u001b[0m\u001b[1m(\u001b[0m\n",
       "        \u001b[33mcontext\u001b[0m=\u001b[32m'It is a calm and cold day in Baltimore.'\u001b[0m,\n",
       "        \u001b[33mweather\u001b[0m=\u001b[32m'sunny'\u001b[0m,\n",
       "        \u001b[33mhour_of_day\u001b[0m=\u001b[1;36m8\u001b[0m\u001b[1;36m.25\u001b[0m,\n",
       "        \u001b[33mday_of_week\u001b[0m=\u001b[32m'monday'\u001b[0m\n",
       "    \u001b[1m)\u001b[0m\n",
       "\u001b[1m)\u001b[0m\n"
      ]
     },
     "metadata": {},
     "output_type": "display_data"
    }
   ],
   "source": [
    "new_action.to_state_id = next_state.uuid\n",
    "\n",
    "rprint(state)\n",
    "rprint(new_action)\n",
    "rprint(next_state)"
   ]
  },
  {
   "cell_type": "code",
   "execution_count": 11,
   "metadata": {},
   "outputs": [],
   "source": [
    "from tasks.prompts import (\n",
    "    INITIALIZE_PROMPT,\n",
    "    ACTION_SYSTEM_PROMPT,\n",
    "    EVAL_SYSTEM_PROMPT,\n",
    "    ENVIRONMENT_SYSTEM_PROMPT,\n",
    ")"
   ]
  },
  {
   "cell_type": "code",
   "execution_count": 29,
   "metadata": {},
   "outputs": [],
   "source": [
    "class Life(BaseModel):\n",
    "    context: str = Field(\n",
    "        default=\"\", description=\"Initial context of the world and the person.\"\n",
    "    )\n",
    "    states: list[MyOwnState] = Field(default_factory=list)\n",
    "    actions: list[Action] = Field(default_factory=list)\n",
    "\n",
    "    history: list[MyOwnState | Action] = Field(default_factory=list)\n",
    "\n",
    "    memory_size: int = Field(\n",
    "        default=10, description=\"How many states to keep in memory\"\n",
    "    )\n",
    "\n",
    "    def initialize(self):\n",
    "        messages = [\n",
    "            {\n",
    "                \"role\": \"user\",\n",
    "                \"content\": INITIALIZE_PROMPT.format(context=self.context),\n",
    "            }\n",
    "        ]\n",
    "\n",
    "        new_state_variables = create(messages, StateVariables)\n",
    "        new_environment_variables = create(messages, EnvironmentVariables)\n",
    "\n",
    "        new_state = MyOwnState(\n",
    "            state_variables=new_state_variables,\n",
    "            environment_variables=new_environment_variables,\n",
    "        )\n",
    "        self.states.append(new_state)\n",
    "        self.history.append(new_state)\n",
    "\n",
    "    def get_history(self):\n",
    "        return [\n",
    "            {\n",
    "                \"role\": \"user\",\n",
    "                \"content\": f\"{isinstance(x, MyOwnState) and 'State' or 'Action'}:\\n {x.model_dump_json()}\",\n",
    "            }\n",
    "            for x in self.history[-self.memory_size :]\n",
    "        ]\n",
    "\n",
    "    def take_action(self):\n",
    "        messages = [\n",
    "            {\n",
    "                \"role\": \"system\",\n",
    "                \"content\": ACTION_SYSTEM_PROMPT,\n",
    "            }\n",
    "        ] + self.get_history()\n",
    "\n",
    "        new_action = create(messages, Action)\n",
    "        new_action.from_state_id = self.states[-1].uuid\n",
    "        self.actions.append(new_action)\n",
    "        self.history.append(new_action)\n",
    "\n",
    "    def sample_actions(self):\n",
    "        messages = [\n",
    "            {\n",
    "                \"role\": \"system\",\n",
    "                \"content\": ACTION_SYSTEM_PROMPT + \"\\n\\nSample 10 actions.\",\n",
    "            }\n",
    "        ] + self.get_history()\n",
    "\n",
    "        new_actions = create_iterable(messages, Action)\n",
    "\n",
    "        for action in new_actions:\n",
    "            yield action\n",
    "\n",
    "            messages = (\n",
    "                [\n",
    "                    {\n",
    "                        \"role\": \"system\",\n",
    "                        \"content\": EVAL_SYSTEM_PROMPT,\n",
    "                    }\n",
    "                ]\n",
    "                + self.get_history()\n",
    "                + [\n",
    "                    {\n",
    "                        \"role\": \"user\",\n",
    "                        \"content\": f\"Action: {action}\",\n",
    "                    }\n",
    "                ]\n",
    "            )\n",
    "            next_state_variables = create(messages, StateVariables)\n",
    "\n",
    "            yield next_state_variables\n",
    "\n",
    "        return new_actions\n",
    "\n",
    "    def evolve_state(self):\n",
    "        messages = [\n",
    "            {\n",
    "                \"role\": \"system\",\n",
    "                \"content\": EVAL_SYSTEM_PROMPT,\n",
    "            }\n",
    "        ] + self.get_history()\n",
    "\n",
    "        next_state_variables = create(messages, StateVariables)\n",
    "\n",
    "        # now we evolve the environment too\n",
    "        messages = [\n",
    "            {\n",
    "                \"role\": \"system\",\n",
    "                \"content\": ENVIRONMENT_SYSTEM_PROMPT,\n",
    "            }\n",
    "        ] + self.get_history()\n",
    "\n",
    "        next_environment_variables = create(messages, EnvironmentVariables)\n",
    "\n",
    "        current_state = self.states[-1]\n",
    "        current_action = self.actions[-1]\n",
    "\n",
    "        # next_environment_variables.hour_of_day = (\n",
    "        #     current_state.environment_variables.hour_of_day + current_action.time_spent\n",
    "        # )\n",
    "\n",
    "        next_state = current_state.mutate()\n",
    "        next_state.state_variables = next_state_variables\n",
    "        next_state.environment_variables = next_environment_variables\n",
    "        next_state.last_action = current_action.name\n",
    "        next_state.previous_state_id = current_state.uuid\n",
    "        current_action.to_state_id = next_state.uuid\n",
    "\n",
    "        self.states.append(next_state)\n",
    "        self.history.append(next_state)\n",
    "\n",
    "    def iterate(self):\n",
    "        self.take_action()\n",
    "        self.evolve_state()"
   ]
  },
  {
   "cell_type": "code",
   "execution_count": 30,
   "metadata": {},
   "outputs": [],
   "source": [
    "life = Life(\n",
    "    context=\"You are a person named Edgar Allan Poe, who just woke up from a hangover. It's Sunday morning in Baltimore in a winter day\"\n",
    ")"
   ]
  },
  {
   "cell_type": "code",
   "execution_count": 31,
   "metadata": {},
   "outputs": [],
   "source": [
    "life.initialize()"
   ]
  },
  {
   "cell_type": "code",
   "execution_count": 32,
   "metadata": {},
   "outputs": [
    {
     "data": {
      "text/html": [
       "<pre style=\"white-space:pre;overflow-x:auto;line-height:normal;font-family:Menlo,'DejaVu Sans Mono',consolas,'Courier New',monospace\"><span style=\"font-weight: bold\">[</span>\n",
       "    <span style=\"color: #800080; text-decoration-color: #800080; font-weight: bold\">MyOwnState</span><span style=\"font-weight: bold\">(</span>\n",
       "        <span style=\"color: #808000; text-decoration-color: #808000\">uuid</span>=<span style=\"color: #008000; text-decoration-color: #008000\">'0cf9a1bf-6188-4152-881a-9ac5edf86db0'</span>,\n",
       "        <span style=\"color: #808000; text-decoration-color: #808000\">last_action</span>=<span style=\"color: #008000; text-decoration-color: #008000\">''</span>,\n",
       "        <span style=\"color: #808000; text-decoration-color: #808000\">previous_state_id</span>=<span style=\"color: #800080; text-decoration-color: #800080; font-style: italic\">None</span>,\n",
       "        <span style=\"color: #808000; text-decoration-color: #808000\">state_variables</span>=<span style=\"color: #800080; text-decoration-color: #800080; font-weight: bold\">StateVariables</span><span style=\"font-weight: bold\">(</span>\n",
       "            <span style=\"color: #808000; text-decoration-color: #808000\">context</span>=<span style=\"color: #008000; text-decoration-color: #008000\">\"It's a cold, gray Sunday morning in Baltimore, and I find myself wrestling with the aftermath </span>\n",
       "<span style=\"color: #008000; text-decoration-color: #008000\">of an apparent debauch. My head pounds with a relentless ache, as though the spirits of the night before still </span>\n",
       "<span style=\"color: #008000; text-decoration-color: #008000\">occupy me. My throat is dry, my body aches with the wear of lingering intoxication, and the world beyond my window </span>\n",
       "<span style=\"color: #008000; text-decoration-color: #008000\">seems as bleak as the thoughts racing through my mind. The cobblestone streets below are shrouded in a thin layer </span>\n",
       "<span style=\"color: #008000; text-decoration-color: #008000\">of frost, and a haze seems to mask not just the city but the clarity of my own recollections. What transpired last </span>\n",
       "<span style=\"color: #008000; text-decoration-color: #008000\">night feels fragmented, fleeting as the remnants of a dream upon waking. Still, the chill in the air, the solemn </span>\n",
       "<span style=\"color: #008000; text-decoration-color: #008000\">stillness of a Baltimore winter, and the distant chime of a church bell all pull me gently into the stark reality </span>\n",
       "<span style=\"color: #008000; text-decoration-color: #008000\">of the present. I am Edgar Allan Poe, a soul tethered to beauty and despair, burdened by my own humanity. As I sit </span>\n",
       "<span style=\"color: #008000; text-decoration-color: #008000\">up, I feel an acute need for both sustenance and atonement. The day ahead feels both heavy and full of potential </span>\n",
       "<span style=\"color: #008000; text-decoration-color: #008000\">for revelation.\"</span>,\n",
       "            <span style=\"color: #808000; text-decoration-color: #808000\">pain_level</span>=<span style=\"color: #008080; text-decoration-color: #008080; font-weight: bold\">70</span>,\n",
       "            <span style=\"color: #808000; text-decoration-color: #808000\">pleasure_level</span>=<span style=\"color: #008080; text-decoration-color: #008080; font-weight: bold\">30</span>,\n",
       "            <span style=\"color: #808000; text-decoration-color: #808000\">health_level</span>=<span style=\"color: #008080; text-decoration-color: #008080; font-weight: bold\">40</span>,\n",
       "            <span style=\"color: #808000; text-decoration-color: #808000\">focus_level</span>=<span style=\"color: #008080; text-decoration-color: #008080; font-weight: bold\">20</span>\n",
       "        <span style=\"font-weight: bold\">)</span>,\n",
       "        <span style=\"color: #808000; text-decoration-color: #808000\">environment_variables</span>=<span style=\"color: #800080; text-decoration-color: #800080; font-weight: bold\">EnvironmentVariables</span><span style=\"font-weight: bold\">(</span>\n",
       "            <span style=\"color: #808000; text-decoration-color: #808000\">context</span>=<span style=\"color: #008000; text-decoration-color: #008000\">\"It's a quiet, chilly Sunday morning in Baltimore, during the heart of winter. Snow blankets </span>\n",
       "<span style=\"color: #008000; text-decoration-color: #008000\">the streets while the muffled silence of the city is only occasionally interrupted by the distant sound of church </span>\n",
       "<span style=\"color: #008000; text-decoration-color: #008000\">bells.\"</span>,\n",
       "            <span style=\"color: #808000; text-decoration-color: #808000\">weather</span>=<span style=\"color: #008000; text-decoration-color: #008000\">'snowy'</span>,\n",
       "            <span style=\"color: #808000; text-decoration-color: #808000\">hour_of_day</span>=<span style=\"color: #008080; text-decoration-color: #008080; font-weight: bold\">9.0</span>,\n",
       "            <span style=\"color: #808000; text-decoration-color: #808000\">day_of_week</span>=<span style=\"color: #008000; text-decoration-color: #008000\">'sunday'</span>\n",
       "        <span style=\"font-weight: bold\">)</span>\n",
       "    <span style=\"font-weight: bold\">)</span>\n",
       "<span style=\"font-weight: bold\">]</span>\n",
       "</pre>\n"
      ],
      "text/plain": [
       "\u001b[1m[\u001b[0m\n",
       "    \u001b[1;35mMyOwnState\u001b[0m\u001b[1m(\u001b[0m\n",
       "        \u001b[33muuid\u001b[0m=\u001b[32m'0cf9a1bf-6188-4152-881a-9ac5edf86db0'\u001b[0m,\n",
       "        \u001b[33mlast_action\u001b[0m=\u001b[32m''\u001b[0m,\n",
       "        \u001b[33mprevious_state_id\u001b[0m=\u001b[3;35mNone\u001b[0m,\n",
       "        \u001b[33mstate_variables\u001b[0m=\u001b[1;35mStateVariables\u001b[0m\u001b[1m(\u001b[0m\n",
       "            \u001b[33mcontext\u001b[0m=\u001b[32m\"It\u001b[0m\u001b[32m's a cold, gray Sunday morning in Baltimore, and I find myself wrestling with the aftermath \u001b[0m\n",
       "\u001b[32mof an apparent debauch. My head pounds with a relentless ache, as though the spirits of the night before still \u001b[0m\n",
       "\u001b[32moccupy me. My throat is dry, my body aches with the wear of lingering intoxication, and the world beyond my window \u001b[0m\n",
       "\u001b[32mseems as bleak as the thoughts racing through my mind. The cobblestone streets below are shrouded in a thin layer \u001b[0m\n",
       "\u001b[32mof frost, and a haze seems to mask not just the city but the clarity of my own recollections. What transpired last \u001b[0m\n",
       "\u001b[32mnight feels fragmented, fleeting as the remnants of a dream upon waking. Still, the chill in the air, the solemn \u001b[0m\n",
       "\u001b[32mstillness of a Baltimore winter, and the distant chime of a church bell all pull me gently into the stark reality \u001b[0m\n",
       "\u001b[32mof the present. I am Edgar Allan Poe, a soul tethered to beauty and despair, burdened by my own humanity. As I sit \u001b[0m\n",
       "\u001b[32mup, I feel an acute need for both sustenance and atonement. The day ahead feels both heavy and full of potential \u001b[0m\n",
       "\u001b[32mfor revelation.\"\u001b[0m,\n",
       "            \u001b[33mpain_level\u001b[0m=\u001b[1;36m70\u001b[0m,\n",
       "            \u001b[33mpleasure_level\u001b[0m=\u001b[1;36m30\u001b[0m,\n",
       "            \u001b[33mhealth_level\u001b[0m=\u001b[1;36m40\u001b[0m,\n",
       "            \u001b[33mfocus_level\u001b[0m=\u001b[1;36m20\u001b[0m\n",
       "        \u001b[1m)\u001b[0m,\n",
       "        \u001b[33menvironment_variables\u001b[0m=\u001b[1;35mEnvironmentVariables\u001b[0m\u001b[1m(\u001b[0m\n",
       "            \u001b[33mcontext\u001b[0m=\u001b[32m\"It\u001b[0m\u001b[32m's a quiet, chilly Sunday morning in Baltimore, during the heart of winter. Snow blankets \u001b[0m\n",
       "\u001b[32mthe streets while the muffled silence of the city is only occasionally interrupted by the distant sound of church \u001b[0m\n",
       "\u001b[32mbells.\"\u001b[0m,\n",
       "            \u001b[33mweather\u001b[0m=\u001b[32m'snowy'\u001b[0m,\n",
       "            \u001b[33mhour_of_day\u001b[0m=\u001b[1;36m9\u001b[0m\u001b[1;36m.0\u001b[0m,\n",
       "            \u001b[33mday_of_week\u001b[0m=\u001b[32m'sunday'\u001b[0m\n",
       "        \u001b[1m)\u001b[0m\n",
       "    \u001b[1m)\u001b[0m\n",
       "\u001b[1m]\u001b[0m\n"
      ]
     },
     "metadata": {},
     "output_type": "display_data"
    }
   ],
   "source": [
    "rprint(life.history)"
   ]
  },
  {
   "cell_type": "code",
   "execution_count": 33,
   "metadata": {},
   "outputs": [
    {
     "data": {
      "text/html": [
       "<pre style=\"white-space:pre;overflow-x:auto;line-height:normal;font-family:Menlo,'DejaVu Sans Mono',consolas,'Courier New',monospace\"><span style=\"color: #800080; text-decoration-color: #800080; font-weight: bold\">Action</span><span style=\"font-weight: bold\">(</span>\n",
       "    <span style=\"color: #808000; text-decoration-color: #808000\">name</span>=<span style=\"color: #008000; text-decoration-color: #008000\">'Rehydrate and Ease Hangover'</span>,\n",
       "    <span style=\"color: #808000; text-decoration-color: #808000\">details</span>=<span style=\"color: #008000; text-decoration-color: #008000\">'Pour a glass of water and sip it slowly to begin rehydrating. Take small bites of dry bread or </span>\n",
       "<span style=\"color: #008000; text-decoration-color: #008000\">crackers to stabilize your stomach. Consider boiling some water for tea with honey to soothe the throat. Follow </span>\n",
       "<span style=\"color: #008000; text-decoration-color: #008000\">this by washing your face with cold water to refresh yourself. Rest in a chair and stare out the window momentarily</span>\n",
       "<span style=\"color: #008000; text-decoration-color: #008000\">to ground yourself in the present reality.'</span>,\n",
       "    <span style=\"color: #808000; text-decoration-color: #808000\">time_spent</span>=<span style=\"color: #008080; text-decoration-color: #008080; font-weight: bold\">0.75</span>,\n",
       "    <span style=\"color: #808000; text-decoration-color: #808000\">from_state_id</span>=<span style=\"color: #008000; text-decoration-color: #008000\">'0cf9a1bf-6188-4152-881a-9ac5edf86db0'</span>,\n",
       "    <span style=\"color: #808000; text-decoration-color: #808000\">to_state_id</span>=<span style=\"color: #008000; text-decoration-color: #008000\">'3bd58614-6845-4012-8bb0-346431f2a4d0'</span>\n",
       "<span style=\"font-weight: bold\">)</span>\n",
       "</pre>\n"
      ],
      "text/plain": [
       "\u001b[1;35mAction\u001b[0m\u001b[1m(\u001b[0m\n",
       "    \u001b[33mname\u001b[0m=\u001b[32m'Rehydrate and Ease Hangover'\u001b[0m,\n",
       "    \u001b[33mdetails\u001b[0m=\u001b[32m'Pour a glass of water and sip it slowly to begin rehydrating. Take small bites of dry bread or \u001b[0m\n",
       "\u001b[32mcrackers to stabilize your stomach. Consider boiling some water for tea with honey to soothe the throat. Follow \u001b[0m\n",
       "\u001b[32mthis by washing your face with cold water to refresh yourself. Rest in a chair and stare out the window momentarily\u001b[0m\n",
       "\u001b[32mto ground yourself in the present reality.'\u001b[0m,\n",
       "    \u001b[33mtime_spent\u001b[0m=\u001b[1;36m0\u001b[0m\u001b[1;36m.75\u001b[0m,\n",
       "    \u001b[33mfrom_state_id\u001b[0m=\u001b[32m'0cf9a1bf-6188-4152-881a-9ac5edf86db0'\u001b[0m,\n",
       "    \u001b[33mto_state_id\u001b[0m=\u001b[32m'3bd58614-6845-4012-8bb0-346431f2a4d0'\u001b[0m\n",
       "\u001b[1m)\u001b[0m\n"
      ]
     },
     "metadata": {},
     "output_type": "display_data"
    },
    {
     "data": {
      "text/html": [
       "<pre style=\"white-space:pre;overflow-x:auto;line-height:normal;font-family:Menlo,'DejaVu Sans Mono',consolas,'Courier New',monospace\"><span style=\"color: #800080; text-decoration-color: #800080; font-weight: bold\">MyOwnState</span><span style=\"font-weight: bold\">(</span>\n",
       "    <span style=\"color: #808000; text-decoration-color: #808000\">uuid</span>=<span style=\"color: #008000; text-decoration-color: #008000\">'3bd58614-6845-4012-8bb0-346431f2a4d0'</span>,\n",
       "    <span style=\"color: #808000; text-decoration-color: #808000\">last_action</span>=<span style=\"color: #008000; text-decoration-color: #008000\">'Rehydrate and Ease Hangover'</span>,\n",
       "    <span style=\"color: #808000; text-decoration-color: #808000\">previous_state_id</span>=<span style=\"color: #008000; text-decoration-color: #008000\">'0cf9a1bf-6188-4152-881a-9ac5edf86db0'</span>,\n",
       "    <span style=\"color: #808000; text-decoration-color: #808000\">state_variables</span>=<span style=\"color: #800080; text-decoration-color: #800080; font-weight: bold\">StateVariables</span><span style=\"font-weight: bold\">(</span>\n",
       "        <span style=\"color: #808000; text-decoration-color: #808000\">context</span>=<span style=\"color: #008000; text-decoration-color: #008000\">'After taking steps to address the effects of a hangover, including rehydrating with water, </span>\n",
       "<span style=\"color: #008000; text-decoration-color: #008000\">nibbling on dry bread or crackers, contemplating tea with honey for soothing your throat, and refreshing yourself </span>\n",
       "<span style=\"color: #008000; text-decoration-color: #008000\">by washing your face with cold water, you take a moment for grounding. The snowy Baltimore morning remains serene, </span>\n",
       "<span style=\"color: #008000; text-decoration-color: #008000\">and the quiet, crisp air reinvigorates your foggy mind somewhat. Your physical misery has slightly eased, though </span>\n",
       "<span style=\"color: #008000; text-decoration-color: #008000\">traces of pain remain. The prospect of nourishment and taking things slowly fills the morning with a semblance of </span>\n",
       "<span style=\"color: #008000; text-decoration-color: #008000\">calm and hope.'</span>,\n",
       "        <span style=\"color: #808000; text-decoration-color: #808000\">pain_level</span>=<span style=\"color: #008080; text-decoration-color: #008080; font-weight: bold\">55</span>,\n",
       "        <span style=\"color: #808000; text-decoration-color: #808000\">pleasure_level</span>=<span style=\"color: #008080; text-decoration-color: #008080; font-weight: bold\">35</span>,\n",
       "        <span style=\"color: #808000; text-decoration-color: #808000\">health_level</span>=<span style=\"color: #008080; text-decoration-color: #008080; font-weight: bold\">50</span>,\n",
       "        <span style=\"color: #808000; text-decoration-color: #808000\">focus_level</span>=<span style=\"color: #008080; text-decoration-color: #008080; font-weight: bold\">30</span>\n",
       "    <span style=\"font-weight: bold\">)</span>,\n",
       "    <span style=\"color: #808000; text-decoration-color: #808000\">environment_variables</span>=<span style=\"color: #800080; text-decoration-color: #800080; font-weight: bold\">EnvironmentVariables</span><span style=\"font-weight: bold\">(</span>\n",
       "        <span style=\"color: #808000; text-decoration-color: #808000\">context</span>=<span style=\"color: #008000; text-decoration-color: #008000\">'The hour has advanced toward late morning on this snowy Sunday in Baltimore. The act of </span>\n",
       "<span style=\"color: #008000; text-decoration-color: #008000\">rehydrating with water and a light snack has brought some relief to the burden of a lingering hangover. The air </span>\n",
       "<span style=\"color: #008000; text-decoration-color: #008000\">indoors is cold but refreshed, as steam from boiling water fills the surroundings with a faint sense of warmth. </span>\n",
       "<span style=\"color: #008000; text-decoration-color: #008000\">Outside the window, frost clings persistently as the muted snowfall creates tiny crystalline patterns on the glass.</span>\n",
       "<span style=\"color: #008000; text-decoration-color: #008000\">Washing your face with cold water startled your senses, offering a glimpse of clarity. The church bells cease their</span>\n",
       "<span style=\"color: #008000; text-decoration-color: #008000\">rhythmic tolling, wrapping this moment of solace in the fuller quietude of the winter morning.'</span>,\n",
       "        <span style=\"color: #808000; text-decoration-color: #808000\">weather</span>=<span style=\"color: #008000; text-decoration-color: #008000\">'snowy'</span>,\n",
       "        <span style=\"color: #808000; text-decoration-color: #808000\">hour_of_day</span>=<span style=\"color: #008080; text-decoration-color: #008080; font-weight: bold\">10.0</span>,\n",
       "        <span style=\"color: #808000; text-decoration-color: #808000\">day_of_week</span>=<span style=\"color: #008000; text-decoration-color: #008000\">'sunday'</span>\n",
       "    <span style=\"font-weight: bold\">)</span>\n",
       "<span style=\"font-weight: bold\">)</span>\n",
       "</pre>\n"
      ],
      "text/plain": [
       "\u001b[1;35mMyOwnState\u001b[0m\u001b[1m(\u001b[0m\n",
       "    \u001b[33muuid\u001b[0m=\u001b[32m'3bd58614-6845-4012-8bb0-346431f2a4d0'\u001b[0m,\n",
       "    \u001b[33mlast_action\u001b[0m=\u001b[32m'Rehydrate and Ease Hangover'\u001b[0m,\n",
       "    \u001b[33mprevious_state_id\u001b[0m=\u001b[32m'0cf9a1bf-6188-4152-881a-9ac5edf86db0'\u001b[0m,\n",
       "    \u001b[33mstate_variables\u001b[0m=\u001b[1;35mStateVariables\u001b[0m\u001b[1m(\u001b[0m\n",
       "        \u001b[33mcontext\u001b[0m=\u001b[32m'After taking steps to address the effects of a hangover, including rehydrating with water, \u001b[0m\n",
       "\u001b[32mnibbling on dry bread or crackers, contemplating tea with honey for soothing your throat, and refreshing yourself \u001b[0m\n",
       "\u001b[32mby washing your face with cold water, you take a moment for grounding. The snowy Baltimore morning remains serene, \u001b[0m\n",
       "\u001b[32mand the quiet, crisp air reinvigorates your foggy mind somewhat. Your physical misery has slightly eased, though \u001b[0m\n",
       "\u001b[32mtraces of pain remain. The prospect of nourishment and taking things slowly fills the morning with a semblance of \u001b[0m\n",
       "\u001b[32mcalm and hope.'\u001b[0m,\n",
       "        \u001b[33mpain_level\u001b[0m=\u001b[1;36m55\u001b[0m,\n",
       "        \u001b[33mpleasure_level\u001b[0m=\u001b[1;36m35\u001b[0m,\n",
       "        \u001b[33mhealth_level\u001b[0m=\u001b[1;36m50\u001b[0m,\n",
       "        \u001b[33mfocus_level\u001b[0m=\u001b[1;36m30\u001b[0m\n",
       "    \u001b[1m)\u001b[0m,\n",
       "    \u001b[33menvironment_variables\u001b[0m=\u001b[1;35mEnvironmentVariables\u001b[0m\u001b[1m(\u001b[0m\n",
       "        \u001b[33mcontext\u001b[0m=\u001b[32m'The hour has advanced toward late morning on this snowy Sunday in Baltimore. The act of \u001b[0m\n",
       "\u001b[32mrehydrating with water and a light snack has brought some relief to the burden of a lingering hangover. The air \u001b[0m\n",
       "\u001b[32mindoors is cold but refreshed, as steam from boiling water fills the surroundings with a faint sense of warmth. \u001b[0m\n",
       "\u001b[32mOutside the window, frost clings persistently as the muted snowfall creates tiny crystalline patterns on the glass.\u001b[0m\n",
       "\u001b[32mWashing your face with cold water startled your senses, offering a glimpse of clarity. The church bells cease their\u001b[0m\n",
       "\u001b[32mrhythmic tolling, wrapping this moment of solace in the fuller quietude of the winter morning.'\u001b[0m,\n",
       "        \u001b[33mweather\u001b[0m=\u001b[32m'snowy'\u001b[0m,\n",
       "        \u001b[33mhour_of_day\u001b[0m=\u001b[1;36m10\u001b[0m\u001b[1;36m.0\u001b[0m,\n",
       "        \u001b[33mday_of_week\u001b[0m=\u001b[32m'sunday'\u001b[0m\n",
       "    \u001b[1m)\u001b[0m\n",
       "\u001b[1m)\u001b[0m\n"
      ]
     },
     "metadata": {},
     "output_type": "display_data"
    },
    {
     "data": {
      "text/html": [
       "<pre style=\"white-space:pre;overflow-x:auto;line-height:normal;font-family:Menlo,'DejaVu Sans Mono',consolas,'Courier New',monospace\"><span style=\"color: #800080; text-decoration-color: #800080; font-weight: bold\">Action</span><span style=\"font-weight: bold\">(</span>\n",
       "    <span style=\"color: #808000; text-decoration-color: #808000\">name</span>=<span style=\"color: #008000; text-decoration-color: #008000\">'Prepare Simple Nourishing Breakfast'</span>,\n",
       "    <span style=\"color: #808000; text-decoration-color: #808000\">details</span>=<span style=\"color: #008000; text-decoration-color: #008000\">'Head to the pantry to gather provisions for a simple and easy-to-digest breakfast. This could include </span>\n",
       "<span style=\"color: #008000; text-decoration-color: #008000\">oatmeal, which is warming and light on the stomach. Carefully boil water or milk depending on your choice of </span>\n",
       "<span style=\"color: #008000; text-decoration-color: #008000\">preparation. Stir the oats slowly, adding a touch of honey or cinnamon for flavor if available. While it simmers, </span>\n",
       "<span style=\"color: #008000; text-decoration-color: #008000\">set the table near a window to appreciate the snowy morning scene while eating. Focus on eating slowly and </span>\n",
       "<span style=\"color: #008000; text-decoration-color: #008000\">mindfully, appreciating the textures and warmth of the food as it soothes your senses and prepares you for the day </span>\n",
       "<span style=\"color: #008000; text-decoration-color: #008000\">ahead.'</span>,\n",
       "    <span style=\"color: #808000; text-decoration-color: #808000\">time_spent</span>=<span style=\"color: #008080; text-decoration-color: #008080; font-weight: bold\">0.75</span>,\n",
       "    <span style=\"color: #808000; text-decoration-color: #808000\">from_state_id</span>=<span style=\"color: #008000; text-decoration-color: #008000\">'3bd58614-6845-4012-8bb0-346431f2a4d0'</span>,\n",
       "    <span style=\"color: #808000; text-decoration-color: #808000\">to_state_id</span>=<span style=\"color: #008000; text-decoration-color: #008000\">'91a5baad-bb7f-4e87-b4c0-e31945b69338'</span>\n",
       "<span style=\"font-weight: bold\">)</span>\n",
       "</pre>\n"
      ],
      "text/plain": [
       "\u001b[1;35mAction\u001b[0m\u001b[1m(\u001b[0m\n",
       "    \u001b[33mname\u001b[0m=\u001b[32m'Prepare Simple Nourishing Breakfast'\u001b[0m,\n",
       "    \u001b[33mdetails\u001b[0m=\u001b[32m'Head to the pantry to gather provisions for a simple and easy-to-digest breakfast. This could include \u001b[0m\n",
       "\u001b[32moatmeal, which is warming and light on the stomach. Carefully boil water or milk depending on your choice of \u001b[0m\n",
       "\u001b[32mpreparation. Stir the oats slowly, adding a touch of honey or cinnamon for flavor if available. While it simmers, \u001b[0m\n",
       "\u001b[32mset the table near a window to appreciate the snowy morning scene while eating. Focus on eating slowly and \u001b[0m\n",
       "\u001b[32mmindfully, appreciating the textures and warmth of the food as it soothes your senses and prepares you for the day \u001b[0m\n",
       "\u001b[32mahead.'\u001b[0m,\n",
       "    \u001b[33mtime_spent\u001b[0m=\u001b[1;36m0\u001b[0m\u001b[1;36m.75\u001b[0m,\n",
       "    \u001b[33mfrom_state_id\u001b[0m=\u001b[32m'3bd58614-6845-4012-8bb0-346431f2a4d0'\u001b[0m,\n",
       "    \u001b[33mto_state_id\u001b[0m=\u001b[32m'91a5baad-bb7f-4e87-b4c0-e31945b69338'\u001b[0m\n",
       "\u001b[1m)\u001b[0m\n"
      ]
     },
     "metadata": {},
     "output_type": "display_data"
    },
    {
     "data": {
      "text/html": [
       "<pre style=\"white-space:pre;overflow-x:auto;line-height:normal;font-family:Menlo,'DejaVu Sans Mono',consolas,'Courier New',monospace\"><span style=\"color: #800080; text-decoration-color: #800080; font-weight: bold\">MyOwnState</span><span style=\"font-weight: bold\">(</span>\n",
       "    <span style=\"color: #808000; text-decoration-color: #808000\">uuid</span>=<span style=\"color: #008000; text-decoration-color: #008000\">'91a5baad-bb7f-4e87-b4c0-e31945b69338'</span>,\n",
       "    <span style=\"color: #808000; text-decoration-color: #808000\">last_action</span>=<span style=\"color: #008000; text-decoration-color: #008000\">'Prepare Simple Nourishing Breakfast'</span>,\n",
       "    <span style=\"color: #808000; text-decoration-color: #808000\">previous_state_id</span>=<span style=\"color: #008000; text-decoration-color: #008000\">'3bd58614-6845-4012-8bb0-346431f2a4d0'</span>,\n",
       "    <span style=\"color: #808000; text-decoration-color: #808000\">state_variables</span>=<span style=\"color: #800080; text-decoration-color: #800080; font-weight: bold\">StateVariables</span><span style=\"font-weight: bold\">(</span>\n",
       "        <span style=\"color: #808000; text-decoration-color: #808000\">context</span>=<span style=\"color: #008000; text-decoration-color: #008000\">'You prepared a simple and nourishing breakfast of oatmeal, carefully boiling water or milk and </span>\n",
       "<span style=\"color: #008000; text-decoration-color: #008000\">stirring the oats with a touch of honey or cinnamon to enhance its flavor. Setting the table near the window </span>\n",
       "<span style=\"color: #008000; text-decoration-color: #008000\">allowed you to savor not just the food but the serene view of the snowy Baltimore morning, offering both warmth and</span>\n",
       "<span style=\"color: #008000; text-decoration-color: #008000\">inspiration. Eating the meal slowly and mindfully brought a gentle comfort to your body and clarity to your mind, </span>\n",
       "<span style=\"color: #008000; text-decoration-color: #008000\">easing the lingering discomfort from your hangover. The quiet moment elevated your spirits slightly, providing a </span>\n",
       "<span style=\"color: #008000; text-decoration-color: #008000\">sense of groundedness amidst the cold day.'</span>,\n",
       "        <span style=\"color: #808000; text-decoration-color: #808000\">pain_level</span>=<span style=\"color: #008080; text-decoration-color: #008080; font-weight: bold\">45</span>,\n",
       "        <span style=\"color: #808000; text-decoration-color: #808000\">pleasure_level</span>=<span style=\"color: #008080; text-decoration-color: #008080; font-weight: bold\">50</span>,\n",
       "        <span style=\"color: #808000; text-decoration-color: #808000\">health_level</span>=<span style=\"color: #008080; text-decoration-color: #008080; font-weight: bold\">60</span>,\n",
       "        <span style=\"color: #808000; text-decoration-color: #808000\">focus_level</span>=<span style=\"color: #008080; text-decoration-color: #008080; font-weight: bold\">40</span>\n",
       "    <span style=\"font-weight: bold\">)</span>,\n",
       "    <span style=\"color: #808000; text-decoration-color: #808000\">environment_variables</span>=<span style=\"color: #800080; text-decoration-color: #800080; font-weight: bold\">EnvironmentVariables</span><span style=\"font-weight: bold\">(</span>\n",
       "        <span style=\"color: #808000; text-decoration-color: #808000\">context</span>=<span style=\"color: #008000; text-decoration-color: #008000\">\"By late morning on this snowy Sunday, you've prepared a simple, soothing breakfast of oatmeal, </span>\n",
       "<span style=\"color: #008000; text-decoration-color: #008000\">infused with a sprinkle of honey and cinnamon for warmth. The ritual of stirring the oats and setting the table </span>\n",
       "<span style=\"color: #008000; text-decoration-color: #008000\">near the frosted window provided a meditative reprieve, grounding you further in the timeless stillness of the </span>\n",
       "<span style=\"color: #008000; text-decoration-color: #008000\">winter day. Outside, the snowfall has temporarily paused, leaving behind a peaceful layer of purity as the muffled </span>\n",
       "<span style=\"color: #008000; text-decoration-color: #008000\">city rests. Indoors, the heat from the bubbling oatmeal adds gentle warmth to the room, contrasting the biting cold</span>\n",
       "<span style=\"color: #008000; text-decoration-color: #008000\">that lingers beyond the panes. This moment of nourishing calm feels restorative as you sit to savor your meal, </span>\n",
       "<span style=\"color: #008000; text-decoration-color: #008000\">appreciating the coziness amid the stark Baltimore winter.\"</span>,\n",
       "        <span style=\"color: #808000; text-decoration-color: #808000\">weather</span>=<span style=\"color: #008000; text-decoration-color: #008000\">'snowy'</span>,\n",
       "        <span style=\"color: #808000; text-decoration-color: #808000\">hour_of_day</span>=<span style=\"color: #008080; text-decoration-color: #008080; font-weight: bold\">11.0</span>,\n",
       "        <span style=\"color: #808000; text-decoration-color: #808000\">day_of_week</span>=<span style=\"color: #008000; text-decoration-color: #008000\">'sunday'</span>\n",
       "    <span style=\"font-weight: bold\">)</span>\n",
       "<span style=\"font-weight: bold\">)</span>\n",
       "</pre>\n"
      ],
      "text/plain": [
       "\u001b[1;35mMyOwnState\u001b[0m\u001b[1m(\u001b[0m\n",
       "    \u001b[33muuid\u001b[0m=\u001b[32m'91a5baad-bb7f-4e87-b4c0-e31945b69338'\u001b[0m,\n",
       "    \u001b[33mlast_action\u001b[0m=\u001b[32m'Prepare Simple Nourishing Breakfast'\u001b[0m,\n",
       "    \u001b[33mprevious_state_id\u001b[0m=\u001b[32m'3bd58614-6845-4012-8bb0-346431f2a4d0'\u001b[0m,\n",
       "    \u001b[33mstate_variables\u001b[0m=\u001b[1;35mStateVariables\u001b[0m\u001b[1m(\u001b[0m\n",
       "        \u001b[33mcontext\u001b[0m=\u001b[32m'You prepared a simple and nourishing breakfast of oatmeal, carefully boiling water or milk and \u001b[0m\n",
       "\u001b[32mstirring the oats with a touch of honey or cinnamon to enhance its flavor. Setting the table near the window \u001b[0m\n",
       "\u001b[32mallowed you to savor not just the food but the serene view of the snowy Baltimore morning, offering both warmth and\u001b[0m\n",
       "\u001b[32minspiration. Eating the meal slowly and mindfully brought a gentle comfort to your body and clarity to your mind, \u001b[0m\n",
       "\u001b[32measing the lingering discomfort from your hangover. The quiet moment elevated your spirits slightly, providing a \u001b[0m\n",
       "\u001b[32msense of groundedness amidst the cold day.'\u001b[0m,\n",
       "        \u001b[33mpain_level\u001b[0m=\u001b[1;36m45\u001b[0m,\n",
       "        \u001b[33mpleasure_level\u001b[0m=\u001b[1;36m50\u001b[0m,\n",
       "        \u001b[33mhealth_level\u001b[0m=\u001b[1;36m60\u001b[0m,\n",
       "        \u001b[33mfocus_level\u001b[0m=\u001b[1;36m40\u001b[0m\n",
       "    \u001b[1m)\u001b[0m,\n",
       "    \u001b[33menvironment_variables\u001b[0m=\u001b[1;35mEnvironmentVariables\u001b[0m\u001b[1m(\u001b[0m\n",
       "        \u001b[33mcontext\u001b[0m=\u001b[32m\"By\u001b[0m\u001b[32m late morning on this snowy Sunday, you've prepared a simple, soothing breakfast of oatmeal, \u001b[0m\n",
       "\u001b[32minfused with a sprinkle of honey and cinnamon for warmth. The ritual of stirring the oats and setting the table \u001b[0m\n",
       "\u001b[32mnear the frosted window provided a meditative reprieve, grounding you further in the timeless stillness of the \u001b[0m\n",
       "\u001b[32mwinter day. Outside, the snowfall has temporarily paused, leaving behind a peaceful layer of purity as the muffled \u001b[0m\n",
       "\u001b[32mcity rests. Indoors, the heat from the bubbling oatmeal adds gentle warmth to the room, contrasting the biting cold\u001b[0m\n",
       "\u001b[32mthat lingers beyond the panes. This moment of nourishing calm feels restorative as you sit to savor your meal, \u001b[0m\n",
       "\u001b[32mappreciating the coziness amid the stark Baltimore winter.\"\u001b[0m,\n",
       "        \u001b[33mweather\u001b[0m=\u001b[32m'snowy'\u001b[0m,\n",
       "        \u001b[33mhour_of_day\u001b[0m=\u001b[1;36m11\u001b[0m\u001b[1;36m.0\u001b[0m,\n",
       "        \u001b[33mday_of_week\u001b[0m=\u001b[32m'sunday'\u001b[0m\n",
       "    \u001b[1m)\u001b[0m\n",
       "\u001b[1m)\u001b[0m\n"
      ]
     },
     "metadata": {},
     "output_type": "display_data"
    },
    {
     "data": {
      "text/html": [
       "<pre style=\"white-space:pre;overflow-x:auto;line-height:normal;font-family:Menlo,'DejaVu Sans Mono',consolas,'Courier New',monospace\"><span style=\"color: #800080; text-decoration-color: #800080; font-weight: bold\">Action</span><span style=\"font-weight: bold\">(</span>\n",
       "    <span style=\"color: #808000; text-decoration-color: #808000\">name</span>=<span style=\"color: #008000; text-decoration-color: #008000\">'Engage in Gentle Reflection and Writing'</span>,\n",
       "    <span style=\"color: #808000; text-decoration-color: #808000\">details</span>=<span style=\"color: #008000; text-decoration-color: #008000\">\"Take a pen and your writing journal or a sheet of paper to capture the musings of your current state. </span>\n",
       "<span style=\"color: #008000; text-decoration-color: #008000\">Begin by describing the snowy Baltimore morning as you see it through the frosted window, delving into the details </span>\n",
       "<span style=\"color: #008000; text-decoration-color: #008000\">of the scenery and how it reflects your internal landscape. Allow your thoughts to flow freely without judgment, </span>\n",
       "<span style=\"color: #008000; text-decoration-color: #008000\">writing about last night's fragmented memories, your feelings of regret or hope, and any creative ideas inspired by</span>\n",
       "<span style=\"color: #008000; text-decoration-color: #008000\">the serene moment. Use this practice to channel the interplay of beauty and despair into words, turning your </span>\n",
       "<span style=\"color: #008000; text-decoration-color: #008000\">current state into a work of art or personal catharsis. Sit by the window for inspiration, using the stillness to </span>\n",
       "<span style=\"color: #008000; text-decoration-color: #008000\">guide your reflections.\"</span>,\n",
       "    <span style=\"color: #808000; text-decoration-color: #808000\">time_spent</span>=<span style=\"color: #008080; text-decoration-color: #008080; font-weight: bold\">1.0</span>,\n",
       "    <span style=\"color: #808000; text-decoration-color: #808000\">from_state_id</span>=<span style=\"color: #008000; text-decoration-color: #008000\">'91a5baad-bb7f-4e87-b4c0-e31945b69338'</span>,\n",
       "    <span style=\"color: #808000; text-decoration-color: #808000\">to_state_id</span>=<span style=\"color: #008000; text-decoration-color: #008000\">'cc473dec-0e30-40a2-8266-cd8ed54fa2f7'</span>\n",
       "<span style=\"font-weight: bold\">)</span>\n",
       "</pre>\n"
      ],
      "text/plain": [
       "\u001b[1;35mAction\u001b[0m\u001b[1m(\u001b[0m\n",
       "    \u001b[33mname\u001b[0m=\u001b[32m'Engage in Gentle Reflection and Writing'\u001b[0m,\n",
       "    \u001b[33mdetails\u001b[0m=\u001b[32m\"Take\u001b[0m\u001b[32m a pen and your writing journal or a sheet of paper to capture the musings of your current state. \u001b[0m\n",
       "\u001b[32mBegin by describing the snowy Baltimore morning as you see it through the frosted window, delving into the details \u001b[0m\n",
       "\u001b[32mof the scenery and how it reflects your internal landscape. Allow your thoughts to flow freely without judgment, \u001b[0m\n",
       "\u001b[32mwriting about last night's fragmented memories, your feelings of regret or hope, and any creative ideas inspired by\u001b[0m\n",
       "\u001b[32mthe serene moment. Use this practice to channel the interplay of beauty and despair into words, turning your \u001b[0m\n",
       "\u001b[32mcurrent state into a work of art or personal catharsis. Sit by the window for inspiration, using the stillness to \u001b[0m\n",
       "\u001b[32mguide your reflections.\"\u001b[0m,\n",
       "    \u001b[33mtime_spent\u001b[0m=\u001b[1;36m1\u001b[0m\u001b[1;36m.0\u001b[0m,\n",
       "    \u001b[33mfrom_state_id\u001b[0m=\u001b[32m'91a5baad-bb7f-4e87-b4c0-e31945b69338'\u001b[0m,\n",
       "    \u001b[33mto_state_id\u001b[0m=\u001b[32m'cc473dec-0e30-40a2-8266-cd8ed54fa2f7'\u001b[0m\n",
       "\u001b[1m)\u001b[0m\n"
      ]
     },
     "metadata": {},
     "output_type": "display_data"
    },
    {
     "data": {
      "text/html": [
       "<pre style=\"white-space:pre;overflow-x:auto;line-height:normal;font-family:Menlo,'DejaVu Sans Mono',consolas,'Courier New',monospace\"><span style=\"color: #800080; text-decoration-color: #800080; font-weight: bold\">MyOwnState</span><span style=\"font-weight: bold\">(</span>\n",
       "    <span style=\"color: #808000; text-decoration-color: #808000\">uuid</span>=<span style=\"color: #008000; text-decoration-color: #008000\">'cc473dec-0e30-40a2-8266-cd8ed54fa2f7'</span>,\n",
       "    <span style=\"color: #808000; text-decoration-color: #808000\">last_action</span>=<span style=\"color: #008000; text-decoration-color: #008000\">'Engage in Gentle Reflection and Writing'</span>,\n",
       "    <span style=\"color: #808000; text-decoration-color: #808000\">previous_state_id</span>=<span style=\"color: #008000; text-decoration-color: #008000\">'91a5baad-bb7f-4e87-b4c0-e31945b69338'</span>,\n",
       "    <span style=\"color: #808000; text-decoration-color: #808000\">state_variables</span>=<span style=\"color: #800080; text-decoration-color: #800080; font-weight: bold\">StateVariables</span><span style=\"font-weight: bold\">(</span>\n",
       "        <span style=\"color: #808000; text-decoration-color: #808000\">context</span>=<span style=\"color: #008000; text-decoration-color: #008000\">'After spending an hour reflecting through writing, you find a new sense of grounding and </span>\n",
       "<span style=\"color: #008000; text-decoration-color: #008000\">connection to both your internal and external worlds. Capturing the essence of the serene snowy Baltimore morning </span>\n",
       "<span style=\"color: #008000; text-decoration-color: #008000\">as well as your own intricate emotions on paper has offered creative catharsis. The mental engagement required for </span>\n",
       "<span style=\"color: #008000; text-decoration-color: #008000\">journaling has left you feeling more centered yet somewhat drained. The pain from your hangover has further </span>\n",
       "<span style=\"color: #008000; text-decoration-color: #008000\">diminished, as the act of focusing on beauty and channeling emotions has paradoxically eased your physical </span>\n",
       "<span style=\"color: #008000; text-decoration-color: #008000\">discomfort slightly. Your mood, uplifted as if touched by inspiration, now bears a quiet hope. However, writing has</span>\n",
       "<span style=\"color: #008000; text-decoration-color: #008000\">demanded focus, leaving a modest strain on mental energy.'</span>,\n",
       "        <span style=\"color: #808000; text-decoration-color: #808000\">pain_level</span>=<span style=\"color: #008080; text-decoration-color: #008080; font-weight: bold\">40</span>,\n",
       "        <span style=\"color: #808000; text-decoration-color: #808000\">pleasure_level</span>=<span style=\"color: #008080; text-decoration-color: #008080; font-weight: bold\">60</span>,\n",
       "        <span style=\"color: #808000; text-decoration-color: #808000\">health_level</span>=<span style=\"color: #008080; text-decoration-color: #008080; font-weight: bold\">65</span>,\n",
       "        <span style=\"color: #808000; text-decoration-color: #808000\">focus_level</span>=<span style=\"color: #008080; text-decoration-color: #008080; font-weight: bold\">50</span>\n",
       "    <span style=\"font-weight: bold\">)</span>,\n",
       "    <span style=\"color: #808000; text-decoration-color: #808000\">environment_variables</span>=<span style=\"color: #800080; text-decoration-color: #800080; font-weight: bold\">EnvironmentVariables</span><span style=\"font-weight: bold\">(</span>\n",
       "        <span style=\"color: #808000; text-decoration-color: #808000\">context</span>=<span style=\"color: #008000; text-decoration-color: #008000\">\"It is now midday on this snowy Sunday in Baltimore. The earlier snowfall remains paused, leaving </span>\n",
       "<span style=\"color: #008000; text-decoration-color: #008000\">the streets enveloped in a hushed, white stillness. The gray clouds above hang low, seemingly pressing against the </span>\n",
       "<span style=\"color: #008000; text-decoration-color: #008000\">city's rooftops. Indoors, the air is filled with a quiet focus as the act of writing has brought a contemplative </span>\n",
       "<span style=\"color: #008000; text-decoration-color: #008000\">energy to the room. The faint yet steady scratching of the pen on paper breaks the silence while the purity of the </span>\n",
       "<span style=\"color: #008000; text-decoration-color: #008000\">winter scene outside mirrors the writer's attempt to clarify and refine their thoughts. The room feels both </span>\n",
       "<span style=\"color: #008000; text-decoration-color: #008000\">intimate and expansive, warmed faintly by lingering steam from earlier cooking and the purposeful motion of </span>\n",
       "<span style=\"color: #008000; text-decoration-color: #008000\">creativity. Time feels suspended, rendered immaterial by the practice of channeling emotions and ideas into written</span>\n",
       "<span style=\"color: #008000; text-decoration-color: #008000\">word.\"</span>,\n",
       "        <span style=\"color: #808000; text-decoration-color: #808000\">weather</span>=<span style=\"color: #008000; text-decoration-color: #008000\">'snowy'</span>,\n",
       "        <span style=\"color: #808000; text-decoration-color: #808000\">hour_of_day</span>=<span style=\"color: #008080; text-decoration-color: #008080; font-weight: bold\">12.0</span>,\n",
       "        <span style=\"color: #808000; text-decoration-color: #808000\">day_of_week</span>=<span style=\"color: #008000; text-decoration-color: #008000\">'sunday'</span>\n",
       "    <span style=\"font-weight: bold\">)</span>\n",
       "<span style=\"font-weight: bold\">)</span>\n",
       "</pre>\n"
      ],
      "text/plain": [
       "\u001b[1;35mMyOwnState\u001b[0m\u001b[1m(\u001b[0m\n",
       "    \u001b[33muuid\u001b[0m=\u001b[32m'cc473dec-0e30-40a2-8266-cd8ed54fa2f7'\u001b[0m,\n",
       "    \u001b[33mlast_action\u001b[0m=\u001b[32m'Engage in Gentle Reflection and Writing'\u001b[0m,\n",
       "    \u001b[33mprevious_state_id\u001b[0m=\u001b[32m'91a5baad-bb7f-4e87-b4c0-e31945b69338'\u001b[0m,\n",
       "    \u001b[33mstate_variables\u001b[0m=\u001b[1;35mStateVariables\u001b[0m\u001b[1m(\u001b[0m\n",
       "        \u001b[33mcontext\u001b[0m=\u001b[32m'After spending an hour reflecting through writing, you find a new sense of grounding and \u001b[0m\n",
       "\u001b[32mconnection to both your internal and external worlds. Capturing the essence of the serene snowy Baltimore morning \u001b[0m\n",
       "\u001b[32mas well as your own intricate emotions on paper has offered creative catharsis. The mental engagement required for \u001b[0m\n",
       "\u001b[32mjournaling has left you feeling more centered yet somewhat drained. The pain from your hangover has further \u001b[0m\n",
       "\u001b[32mdiminished, as the act of focusing on beauty and channeling emotions has paradoxically eased your physical \u001b[0m\n",
       "\u001b[32mdiscomfort slightly. Your mood, uplifted as if touched by inspiration, now bears a quiet hope. However, writing has\u001b[0m\n",
       "\u001b[32mdemanded focus, leaving a modest strain on mental energy.'\u001b[0m,\n",
       "        \u001b[33mpain_level\u001b[0m=\u001b[1;36m40\u001b[0m,\n",
       "        \u001b[33mpleasure_level\u001b[0m=\u001b[1;36m60\u001b[0m,\n",
       "        \u001b[33mhealth_level\u001b[0m=\u001b[1;36m65\u001b[0m,\n",
       "        \u001b[33mfocus_level\u001b[0m=\u001b[1;36m50\u001b[0m\n",
       "    \u001b[1m)\u001b[0m,\n",
       "    \u001b[33menvironment_variables\u001b[0m=\u001b[1;35mEnvironmentVariables\u001b[0m\u001b[1m(\u001b[0m\n",
       "        \u001b[33mcontext\u001b[0m=\u001b[32m\"It\u001b[0m\u001b[32m is now midday on this snowy Sunday in Baltimore. The earlier snowfall remains paused, leaving \u001b[0m\n",
       "\u001b[32mthe streets enveloped in a hushed, white stillness. The gray clouds above hang low, seemingly pressing against the \u001b[0m\n",
       "\u001b[32mcity's rooftops. Indoors, the air is filled with a quiet focus as the act of writing has brought a contemplative \u001b[0m\n",
       "\u001b[32menergy to the room. The faint yet steady scratching of the pen on paper breaks the silence while the purity of the \u001b[0m\n",
       "\u001b[32mwinter scene outside mirrors the writer's attempt to clarify and refine their thoughts. The room feels both \u001b[0m\n",
       "\u001b[32mintimate and expansive, warmed faintly by lingering steam from earlier cooking and the purposeful motion of \u001b[0m\n",
       "\u001b[32mcreativity. Time feels suspended, rendered immaterial by the practice of channeling emotions and ideas into written\u001b[0m\n",
       "\u001b[32mword.\"\u001b[0m,\n",
       "        \u001b[33mweather\u001b[0m=\u001b[32m'snowy'\u001b[0m,\n",
       "        \u001b[33mhour_of_day\u001b[0m=\u001b[1;36m12\u001b[0m\u001b[1;36m.0\u001b[0m,\n",
       "        \u001b[33mday_of_week\u001b[0m=\u001b[32m'sunday'\u001b[0m\n",
       "    \u001b[1m)\u001b[0m\n",
       "\u001b[1m)\u001b[0m\n"
      ]
     },
     "metadata": {},
     "output_type": "display_data"
    },
    {
     "data": {
      "text/html": [
       "<pre style=\"white-space:pre;overflow-x:auto;line-height:normal;font-family:Menlo,'DejaVu Sans Mono',consolas,'Courier New',monospace\"><span style=\"color: #800080; text-decoration-color: #800080; font-weight: bold\">Action</span><span style=\"font-weight: bold\">(</span>\n",
       "    <span style=\"color: #808000; text-decoration-color: #808000\">name</span>=<span style=\"color: #008000; text-decoration-color: #008000\">'Take a Meditative Walk in the Snow'</span>,\n",
       "    <span style=\"color: #808000; text-decoration-color: #808000\">details</span>=<span style=\"color: #008000; text-decoration-color: #008000\">'Bundle up warmly by layering clothing and donning a coat, scarf, gloves, and sturdy boots to protect </span>\n",
       "<span style=\"color: #008000; text-decoration-color: #008000\">yourself from the cold. Step outside into the serenity of the snowy Baltimore streets. Walk at a gentle pace, </span>\n",
       "<span style=\"color: #008000; text-decoration-color: #008000\">focusing on the crunch of snow beneath your boots and the crispness of the winter air. Observe the frosted </span>\n",
       "<span style=\"color: #008000; text-decoration-color: #008000\">cobblestones, the stillness of the city, and the unique quiet that accompanies snowfall. This walk is not meant to </span>\n",
       "<span style=\"color: #008000; text-decoration-color: #008000\">be vigorous but meditative, allowing you to connect with your surroundings, clear your mind, and rejuvenate your </span>\n",
       "<span style=\"color: #008000; text-decoration-color: #008000\">spirit. Keep it brief, about 20 to 30 minutes, to avoid overexertion in the lingering chill.'</span>,\n",
       "    <span style=\"color: #808000; text-decoration-color: #808000\">time_spent</span>=<span style=\"color: #008080; text-decoration-color: #008080; font-weight: bold\">0.5</span>,\n",
       "    <span style=\"color: #808000; text-decoration-color: #808000\">from_state_id</span>=<span style=\"color: #008000; text-decoration-color: #008000\">'cc473dec-0e30-40a2-8266-cd8ed54fa2f7'</span>,\n",
       "    <span style=\"color: #808000; text-decoration-color: #808000\">to_state_id</span>=<span style=\"color: #008000; text-decoration-color: #008000\">'de031c9b-bacd-4a59-9045-941013588b22'</span>\n",
       "<span style=\"font-weight: bold\">)</span>\n",
       "</pre>\n"
      ],
      "text/plain": [
       "\u001b[1;35mAction\u001b[0m\u001b[1m(\u001b[0m\n",
       "    \u001b[33mname\u001b[0m=\u001b[32m'Take a Meditative Walk in the Snow'\u001b[0m,\n",
       "    \u001b[33mdetails\u001b[0m=\u001b[32m'Bundle up warmly by layering clothing and donning a coat, scarf, gloves, and sturdy boots to protect \u001b[0m\n",
       "\u001b[32myourself from the cold. Step outside into the serenity of the snowy Baltimore streets. Walk at a gentle pace, \u001b[0m\n",
       "\u001b[32mfocusing on the crunch of snow beneath your boots and the crispness of the winter air. Observe the frosted \u001b[0m\n",
       "\u001b[32mcobblestones, the stillness of the city, and the unique quiet that accompanies snowfall. This walk is not meant to \u001b[0m\n",
       "\u001b[32mbe vigorous but meditative, allowing you to connect with your surroundings, clear your mind, and rejuvenate your \u001b[0m\n",
       "\u001b[32mspirit. Keep it brief, about 20 to 30 minutes, to avoid overexertion in the lingering chill.'\u001b[0m,\n",
       "    \u001b[33mtime_spent\u001b[0m=\u001b[1;36m0\u001b[0m\u001b[1;36m.5\u001b[0m,\n",
       "    \u001b[33mfrom_state_id\u001b[0m=\u001b[32m'cc473dec-0e30-40a2-8266-cd8ed54fa2f7'\u001b[0m,\n",
       "    \u001b[33mto_state_id\u001b[0m=\u001b[32m'de031c9b-bacd-4a59-9045-941013588b22'\u001b[0m\n",
       "\u001b[1m)\u001b[0m\n"
      ]
     },
     "metadata": {},
     "output_type": "display_data"
    },
    {
     "data": {
      "text/html": [
       "<pre style=\"white-space:pre;overflow-x:auto;line-height:normal;font-family:Menlo,'DejaVu Sans Mono',consolas,'Courier New',monospace\"><span style=\"color: #800080; text-decoration-color: #800080; font-weight: bold\">MyOwnState</span><span style=\"font-weight: bold\">(</span>\n",
       "    <span style=\"color: #808000; text-decoration-color: #808000\">uuid</span>=<span style=\"color: #008000; text-decoration-color: #008000\">'de031c9b-bacd-4a59-9045-941013588b22'</span>,\n",
       "    <span style=\"color: #808000; text-decoration-color: #808000\">last_action</span>=<span style=\"color: #008000; text-decoration-color: #008000\">'Take a Meditative Walk in the Snow'</span>,\n",
       "    <span style=\"color: #808000; text-decoration-color: #808000\">previous_state_id</span>=<span style=\"color: #008000; text-decoration-color: #008000\">'cc473dec-0e30-40a2-8266-cd8ed54fa2f7'</span>,\n",
       "    <span style=\"color: #808000; text-decoration-color: #808000\">state_variables</span>=<span style=\"color: #800080; text-decoration-color: #800080; font-weight: bold\">StateVariables</span><span style=\"font-weight: bold\">(</span>\n",
       "        <span style=\"color: #808000; text-decoration-color: #808000\">context</span>=<span style=\"color: #008000; text-decoration-color: #008000\">'You ventured outside for a short meditative walk in the snow, bundled in warm clothing to shield </span>\n",
       "<span style=\"color: #008000; text-decoration-color: #008000\">yourself from the icy Baltimore chill. The sensation of boots crunching against the frosted cobblestones and the </span>\n",
       "<span style=\"color: #008000; text-decoration-color: #008000\">pure, crisp winter air brought a refreshing clarity to your mind and a soothing comfort to your soul. The quiet </span>\n",
       "<span style=\"color: #008000; text-decoration-color: #008000\">Baltimore streets, draped in snowy stillness, created a tranquil atmosphere that complemented your contemplative </span>\n",
       "<span style=\"color: #008000; text-decoration-color: #008000\">mood. Although the cold nipped at your skin, the activity was not physically taxing, and the change of scenery </span>\n",
       "<span style=\"color: #008000; text-decoration-color: #008000\">invigorated your senses, lifting your spirits. This moment of communion with the wintry world has left you feeling </span>\n",
       "<span style=\"color: #008000; text-decoration-color: #008000\">both recharged and deeply connected to the beauty of the day.'</span>,\n",
       "        <span style=\"color: #808000; text-decoration-color: #808000\">pain_level</span>=<span style=\"color: #008080; text-decoration-color: #008080; font-weight: bold\">35</span>,\n",
       "        <span style=\"color: #808000; text-decoration-color: #808000\">pleasure_level</span>=<span style=\"color: #008080; text-decoration-color: #008080; font-weight: bold\">70</span>,\n",
       "        <span style=\"color: #808000; text-decoration-color: #808000\">health_level</span>=<span style=\"color: #008080; text-decoration-color: #008080; font-weight: bold\">70</span>,\n",
       "        <span style=\"color: #808000; text-decoration-color: #808000\">focus_level</span>=<span style=\"color: #008080; text-decoration-color: #008080; font-weight: bold\">55</span>\n",
       "    <span style=\"font-weight: bold\">)</span>,\n",
       "    <span style=\"color: #808000; text-decoration-color: #808000\">environment_variables</span>=<span style=\"color: #800080; text-decoration-color: #800080; font-weight: bold\">EnvironmentVariables</span><span style=\"font-weight: bold\">(</span>\n",
       "        <span style=\"color: #808000; text-decoration-color: #808000\">context</span>=<span style=\"color: #008000; text-decoration-color: #008000\">\"You step outside and begin your meditative walk through the snowy Baltimore streets. It's a quiet </span>\n",
       "<span style=\"color: #008000; text-decoration-color: #008000\">midday, with only faint hints of movement or life in the distance. The cobblestone streets beneath your feet carry </span>\n",
       "<span style=\"color: #008000; text-decoration-color: #008000\">a subtle crunch with every step as the gentle yet firm grip of snow lingers. The cold edges more significantly into</span>\n",
       "<span style=\"color: #008000; text-decoration-color: #008000\">your awareness as it seeps through the gaps in your scarf or gloves, but the stillness of the day acts as a balm, </span>\n",
       "<span style=\"color: #008000; text-decoration-color: #008000\">easing the mind more than the body suffers. The air is crisp, invigorating the senses. Overhead, the gray clouds </span>\n",
       "<span style=\"color: #008000; text-decoration-color: #008000\">begin to thin slightly, casting a muted brightness across the powdery scenery. The city, blanketed by a layer of </span>\n",
       "<span style=\"color: #008000; text-decoration-color: #008000\">snow, feels sacred and timeless in its wintry silence. After some time spent walking at a measured pace, </span>\n",
       "<span style=\"color: #008000; text-decoration-color: #008000\">reconnecting with both your physical being and the external world, you feel the need to return indoors as chilled </span>\n",
       "<span style=\"color: #008000; text-decoration-color: #008000\">air has reached the limits of comfort.\"</span>,\n",
       "        <span style=\"color: #808000; text-decoration-color: #808000\">weather</span>=<span style=\"color: #008000; text-decoration-color: #008000\">'snowy'</span>,\n",
       "        <span style=\"color: #808000; text-decoration-color: #808000\">hour_of_day</span>=<span style=\"color: #008080; text-decoration-color: #008080; font-weight: bold\">12.5</span>,\n",
       "        <span style=\"color: #808000; text-decoration-color: #808000\">day_of_week</span>=<span style=\"color: #008000; text-decoration-color: #008000\">'sunday'</span>\n",
       "    <span style=\"font-weight: bold\">)</span>\n",
       "<span style=\"font-weight: bold\">)</span>\n",
       "</pre>\n"
      ],
      "text/plain": [
       "\u001b[1;35mMyOwnState\u001b[0m\u001b[1m(\u001b[0m\n",
       "    \u001b[33muuid\u001b[0m=\u001b[32m'de031c9b-bacd-4a59-9045-941013588b22'\u001b[0m,\n",
       "    \u001b[33mlast_action\u001b[0m=\u001b[32m'Take a Meditative Walk in the Snow'\u001b[0m,\n",
       "    \u001b[33mprevious_state_id\u001b[0m=\u001b[32m'cc473dec-0e30-40a2-8266-cd8ed54fa2f7'\u001b[0m,\n",
       "    \u001b[33mstate_variables\u001b[0m=\u001b[1;35mStateVariables\u001b[0m\u001b[1m(\u001b[0m\n",
       "        \u001b[33mcontext\u001b[0m=\u001b[32m'You ventured outside for a short meditative walk in the snow, bundled in warm clothing to shield \u001b[0m\n",
       "\u001b[32myourself from the icy Baltimore chill. The sensation of boots crunching against the frosted cobblestones and the \u001b[0m\n",
       "\u001b[32mpure, crisp winter air brought a refreshing clarity to your mind and a soothing comfort to your soul. The quiet \u001b[0m\n",
       "\u001b[32mBaltimore streets, draped in snowy stillness, created a tranquil atmosphere that complemented your contemplative \u001b[0m\n",
       "\u001b[32mmood. Although the cold nipped at your skin, the activity was not physically taxing, and the change of scenery \u001b[0m\n",
       "\u001b[32minvigorated your senses, lifting your spirits. This moment of communion with the wintry world has left you feeling \u001b[0m\n",
       "\u001b[32mboth recharged and deeply connected to the beauty of the day.'\u001b[0m,\n",
       "        \u001b[33mpain_level\u001b[0m=\u001b[1;36m35\u001b[0m,\n",
       "        \u001b[33mpleasure_level\u001b[0m=\u001b[1;36m70\u001b[0m,\n",
       "        \u001b[33mhealth_level\u001b[0m=\u001b[1;36m70\u001b[0m,\n",
       "        \u001b[33mfocus_level\u001b[0m=\u001b[1;36m55\u001b[0m\n",
       "    \u001b[1m)\u001b[0m,\n",
       "    \u001b[33menvironment_variables\u001b[0m=\u001b[1;35mEnvironmentVariables\u001b[0m\u001b[1m(\u001b[0m\n",
       "        \u001b[33mcontext\u001b[0m=\u001b[32m\"You\u001b[0m\u001b[32m step outside and begin your meditative walk through the snowy Baltimore streets. It's a quiet \u001b[0m\n",
       "\u001b[32mmidday, with only faint hints of movement or life in the distance. The cobblestone streets beneath your feet carry \u001b[0m\n",
       "\u001b[32ma subtle crunch with every step as the gentle yet firm grip of snow lingers. The cold edges more significantly into\u001b[0m\n",
       "\u001b[32myour awareness as it seeps through the gaps in your scarf or gloves, but the stillness of the day acts as a balm, \u001b[0m\n",
       "\u001b[32measing the mind more than the body suffers. The air is crisp, invigorating the senses. Overhead, the gray clouds \u001b[0m\n",
       "\u001b[32mbegin to thin slightly, casting a muted brightness across the powdery scenery. The city, blanketed by a layer of \u001b[0m\n",
       "\u001b[32msnow, feels sacred and timeless in its wintry silence. After some time spent walking at a measured pace, \u001b[0m\n",
       "\u001b[32mreconnecting with both your physical being and the external world, you feel the need to return indoors as chilled \u001b[0m\n",
       "\u001b[32mair has reached the limits of comfort.\"\u001b[0m,\n",
       "        \u001b[33mweather\u001b[0m=\u001b[32m'snowy'\u001b[0m,\n",
       "        \u001b[33mhour_of_day\u001b[0m=\u001b[1;36m12\u001b[0m\u001b[1;36m.5\u001b[0m,\n",
       "        \u001b[33mday_of_week\u001b[0m=\u001b[32m'sunday'\u001b[0m\n",
       "    \u001b[1m)\u001b[0m\n",
       "\u001b[1m)\u001b[0m\n"
      ]
     },
     "metadata": {},
     "output_type": "display_data"
    },
    {
     "data": {
      "text/html": [
       "<pre style=\"white-space:pre;overflow-x:auto;line-height:normal;font-family:Menlo,'DejaVu Sans Mono',consolas,'Courier New',monospace\"><span style=\"color: #800080; text-decoration-color: #800080; font-weight: bold\">Action</span><span style=\"font-weight: bold\">(</span>\n",
       "    <span style=\"color: #808000; text-decoration-color: #808000\">name</span>=<span style=\"color: #008000; text-decoration-color: #008000\">'Warm Up and Rest with Tea'</span>,\n",
       "    <span style=\"color: #808000; text-decoration-color: #808000\">details</span>=<span style=\"color: #008000; text-decoration-color: #008000\">'Upon returning indoors from your meditative walk, immediately shed your coat, scarf, gloves, and boots</span>\n",
       "<span style=\"color: #008000; text-decoration-color: #008000\">to prevent lingering dampness and cold. Boil some water and prepare a warm cup of tea, preferably something </span>\n",
       "<span style=\"color: #008000; text-decoration-color: #008000\">soothing like chamomile or mint. If available, add a touch of honey to enhance both flavor and its soothing </span>\n",
       "<span style=\"color: #008000; text-decoration-color: #008000\">qualities. Sit in a comfortable chair or by the window, wrapping yourself in a blanket if desired. Slowly sip the </span>\n",
       "<span style=\"color: #008000; text-decoration-color: #008000\">tea, letting its warmth spread through your body while you reflect on the sights and sensations of your snowy walk.</span>\n",
       "<span style=\"color: #008000; text-decoration-color: #008000\">Take this time to recharge and relax before planning the next activity.'</span>,\n",
       "    <span style=\"color: #808000; text-decoration-color: #808000\">time_spent</span>=<span style=\"color: #008080; text-decoration-color: #008080; font-weight: bold\">0.5</span>,\n",
       "    <span style=\"color: #808000; text-decoration-color: #808000\">from_state_id</span>=<span style=\"color: #008000; text-decoration-color: #008000\">'de031c9b-bacd-4a59-9045-941013588b22'</span>,\n",
       "    <span style=\"color: #808000; text-decoration-color: #808000\">to_state_id</span>=<span style=\"color: #008000; text-decoration-color: #008000\">'0a0cc7db-3c2f-49a3-8043-3c4b7dab9c18'</span>\n",
       "<span style=\"font-weight: bold\">)</span>\n",
       "</pre>\n"
      ],
      "text/plain": [
       "\u001b[1;35mAction\u001b[0m\u001b[1m(\u001b[0m\n",
       "    \u001b[33mname\u001b[0m=\u001b[32m'Warm Up and Rest with Tea'\u001b[0m,\n",
       "    \u001b[33mdetails\u001b[0m=\u001b[32m'Upon returning indoors from your meditative walk, immediately shed your coat, scarf, gloves, and boots\u001b[0m\n",
       "\u001b[32mto prevent lingering dampness and cold. Boil some water and prepare a warm cup of tea, preferably something \u001b[0m\n",
       "\u001b[32msoothing like chamomile or mint. If available, add a touch of honey to enhance both flavor and its soothing \u001b[0m\n",
       "\u001b[32mqualities. Sit in a comfortable chair or by the window, wrapping yourself in a blanket if desired. Slowly sip the \u001b[0m\n",
       "\u001b[32mtea, letting its warmth spread through your body while you reflect on the sights and sensations of your snowy walk.\u001b[0m\n",
       "\u001b[32mTake this time to recharge and relax before planning the next activity.'\u001b[0m,\n",
       "    \u001b[33mtime_spent\u001b[0m=\u001b[1;36m0\u001b[0m\u001b[1;36m.5\u001b[0m,\n",
       "    \u001b[33mfrom_state_id\u001b[0m=\u001b[32m'de031c9b-bacd-4a59-9045-941013588b22'\u001b[0m,\n",
       "    \u001b[33mto_state_id\u001b[0m=\u001b[32m'0a0cc7db-3c2f-49a3-8043-3c4b7dab9c18'\u001b[0m\n",
       "\u001b[1m)\u001b[0m\n"
      ]
     },
     "metadata": {},
     "output_type": "display_data"
    },
    {
     "data": {
      "text/html": [
       "<pre style=\"white-space:pre;overflow-x:auto;line-height:normal;font-family:Menlo,'DejaVu Sans Mono',consolas,'Courier New',monospace\"><span style=\"color: #800080; text-decoration-color: #800080; font-weight: bold\">MyOwnState</span><span style=\"font-weight: bold\">(</span>\n",
       "    <span style=\"color: #808000; text-decoration-color: #808000\">uuid</span>=<span style=\"color: #008000; text-decoration-color: #008000\">'0a0cc7db-3c2f-49a3-8043-3c4b7dab9c18'</span>,\n",
       "    <span style=\"color: #808000; text-decoration-color: #808000\">last_action</span>=<span style=\"color: #008000; text-decoration-color: #008000\">'Warm Up and Rest with Tea'</span>,\n",
       "    <span style=\"color: #808000; text-decoration-color: #808000\">previous_state_id</span>=<span style=\"color: #008000; text-decoration-color: #008000\">'de031c9b-bacd-4a59-9045-941013588b22'</span>,\n",
       "    <span style=\"color: #808000; text-decoration-color: #808000\">state_variables</span>=<span style=\"color: #800080; text-decoration-color: #800080; font-weight: bold\">StateVariables</span><span style=\"font-weight: bold\">(</span>\n",
       "        <span style=\"color: #808000; text-decoration-color: #808000\">context</span>=<span style=\"color: #008000; text-decoration-color: #008000\">'Returning indoors from your meditative walk in the snow, you shed your winter layers, feeling the </span>\n",
       "<span style=\"color: #008000; text-decoration-color: #008000\">contrast of warmth as you prepare a cup of soothing tea. The aroma and steam rising from the tea momentarily fill </span>\n",
       "<span style=\"color: #008000; text-decoration-color: #008000\">the air, mingling with your still-fresh memories of the serene, snowy streets of Baltimore. Sitting comfortably </span>\n",
       "<span style=\"color: #008000; text-decoration-color: #008000\">with your hot drink, wrapped in a blanket, you allow yourself to fully unwind. The warmth of the tea spreads </span>\n",
       "<span style=\"color: #008000; text-decoration-color: #008000\">through your body, driving away the remaining chill and soothing your senses. This act deepens your relaxation, </span>\n",
       "<span style=\"color: #008000; text-decoration-color: #008000\">bolstering your health and improving your focus slightly as you reflect on the tranquil beauty of your walk.'</span>,\n",
       "        <span style=\"color: #808000; text-decoration-color: #808000\">pain_level</span>=<span style=\"color: #008080; text-decoration-color: #008080; font-weight: bold\">30</span>,\n",
       "        <span style=\"color: #808000; text-decoration-color: #808000\">pleasure_level</span>=<span style=\"color: #008080; text-decoration-color: #008080; font-weight: bold\">75</span>,\n",
       "        <span style=\"color: #808000; text-decoration-color: #808000\">health_level</span>=<span style=\"color: #008080; text-decoration-color: #008080; font-weight: bold\">75</span>,\n",
       "        <span style=\"color: #808000; text-decoration-color: #808000\">focus_level</span>=<span style=\"color: #008080; text-decoration-color: #008080; font-weight: bold\">60</span>\n",
       "    <span style=\"font-weight: bold\">)</span>,\n",
       "    <span style=\"color: #808000; text-decoration-color: #808000\">environment_variables</span>=<span style=\"color: #800080; text-decoration-color: #800080; font-weight: bold\">EnvironmentVariables</span><span style=\"font-weight: bold\">(</span>\n",
       "        <span style=\"color: #808000; text-decoration-color: #808000\">context</span>=<span style=\"color: #008000; text-decoration-color: #008000\">'After returning indoors from your meditative walk in the snow, you immediately removed your </span>\n",
       "<span style=\"color: #008000; text-decoration-color: #008000\">outerwear to counteract the chill clinging to your clothes. Now seated in warmth, you prepared a cup of soothing </span>\n",
       "<span style=\"color: #008000; text-decoration-color: #008000\">tea, possibly chamomile or mint, infused with honey to enhance its calming effect. Wrapped in a blanket by the </span>\n",
       "<span style=\"color: #008000; text-decoration-color: #008000\">window, you slowly sipped this restorative drink, welcoming the comforting warmth spreading through your body. The </span>\n",
       "<span style=\"color: #008000; text-decoration-color: #008000\">moment offered not only physical relief from the cold, but also mental repose as you reflected on the serene beauty</span>\n",
       "<span style=\"color: #008000; text-decoration-color: #008000\">of the wintry Baltimore streets you just walked. Outside, the snowy midday transitioned to a slightly brighter </span>\n",
       "<span style=\"color: #008000; text-decoration-color: #008000\">afternoon as thinning clouds allowed muted sunlight to filter through, and the frosted streets began to shimmer </span>\n",
       "<span style=\"color: #008000; text-decoration-color: #008000\">faintly. This peaceful interlude forged a harmonious balance between rest and rejuvenation.'</span>,\n",
       "        <span style=\"color: #808000; text-decoration-color: #808000\">weather</span>=<span style=\"color: #008000; text-decoration-color: #008000\">'snowy'</span>,\n",
       "        <span style=\"color: #808000; text-decoration-color: #808000\">hour_of_day</span>=<span style=\"color: #008080; text-decoration-color: #008080; font-weight: bold\">13.0</span>,\n",
       "        <span style=\"color: #808000; text-decoration-color: #808000\">day_of_week</span>=<span style=\"color: #008000; text-decoration-color: #008000\">'sunday'</span>\n",
       "    <span style=\"font-weight: bold\">)</span>\n",
       "<span style=\"font-weight: bold\">)</span>\n",
       "</pre>\n"
      ],
      "text/plain": [
       "\u001b[1;35mMyOwnState\u001b[0m\u001b[1m(\u001b[0m\n",
       "    \u001b[33muuid\u001b[0m=\u001b[32m'0a0cc7db-3c2f-49a3-8043-3c4b7dab9c18'\u001b[0m,\n",
       "    \u001b[33mlast_action\u001b[0m=\u001b[32m'Warm Up and Rest with Tea'\u001b[0m,\n",
       "    \u001b[33mprevious_state_id\u001b[0m=\u001b[32m'de031c9b-bacd-4a59-9045-941013588b22'\u001b[0m,\n",
       "    \u001b[33mstate_variables\u001b[0m=\u001b[1;35mStateVariables\u001b[0m\u001b[1m(\u001b[0m\n",
       "        \u001b[33mcontext\u001b[0m=\u001b[32m'Returning indoors from your meditative walk in the snow, you shed your winter layers, feeling the \u001b[0m\n",
       "\u001b[32mcontrast of warmth as you prepare a cup of soothing tea. The aroma and steam rising from the tea momentarily fill \u001b[0m\n",
       "\u001b[32mthe air, mingling with your still-fresh memories of the serene, snowy streets of Baltimore. Sitting comfortably \u001b[0m\n",
       "\u001b[32mwith your hot drink, wrapped in a blanket, you allow yourself to fully unwind. The warmth of the tea spreads \u001b[0m\n",
       "\u001b[32mthrough your body, driving away the remaining chill and soothing your senses. This act deepens your relaxation, \u001b[0m\n",
       "\u001b[32mbolstering your health and improving your focus slightly as you reflect on the tranquil beauty of your walk.'\u001b[0m,\n",
       "        \u001b[33mpain_level\u001b[0m=\u001b[1;36m30\u001b[0m,\n",
       "        \u001b[33mpleasure_level\u001b[0m=\u001b[1;36m75\u001b[0m,\n",
       "        \u001b[33mhealth_level\u001b[0m=\u001b[1;36m75\u001b[0m,\n",
       "        \u001b[33mfocus_level\u001b[0m=\u001b[1;36m60\u001b[0m\n",
       "    \u001b[1m)\u001b[0m,\n",
       "    \u001b[33menvironment_variables\u001b[0m=\u001b[1;35mEnvironmentVariables\u001b[0m\u001b[1m(\u001b[0m\n",
       "        \u001b[33mcontext\u001b[0m=\u001b[32m'After returning indoors from your meditative walk in the snow, you immediately removed your \u001b[0m\n",
       "\u001b[32mouterwear to counteract the chill clinging to your clothes. Now seated in warmth, you prepared a cup of soothing \u001b[0m\n",
       "\u001b[32mtea, possibly chamomile or mint, infused with honey to enhance its calming effect. Wrapped in a blanket by the \u001b[0m\n",
       "\u001b[32mwindow, you slowly sipped this restorative drink, welcoming the comforting warmth spreading through your body. The \u001b[0m\n",
       "\u001b[32mmoment offered not only physical relief from the cold, but also mental repose as you reflected on the serene beauty\u001b[0m\n",
       "\u001b[32mof the wintry Baltimore streets you just walked. Outside, the snowy midday transitioned to a slightly brighter \u001b[0m\n",
       "\u001b[32mafternoon as thinning clouds allowed muted sunlight to filter through, and the frosted streets began to shimmer \u001b[0m\n",
       "\u001b[32mfaintly. This peaceful interlude forged a harmonious balance between rest and rejuvenation.'\u001b[0m,\n",
       "        \u001b[33mweather\u001b[0m=\u001b[32m'snowy'\u001b[0m,\n",
       "        \u001b[33mhour_of_day\u001b[0m=\u001b[1;36m13\u001b[0m\u001b[1;36m.0\u001b[0m,\n",
       "        \u001b[33mday_of_week\u001b[0m=\u001b[32m'sunday'\u001b[0m\n",
       "    \u001b[1m)\u001b[0m\n",
       "\u001b[1m)\u001b[0m\n"
      ]
     },
     "metadata": {},
     "output_type": "display_data"
    },
    {
     "data": {
      "text/html": [
       "<pre style=\"white-space:pre;overflow-x:auto;line-height:normal;font-family:Menlo,'DejaVu Sans Mono',consolas,'Courier New',monospace\"><span style=\"color: #800080; text-decoration-color: #800080; font-weight: bold\">Action</span><span style=\"font-weight: bold\">(</span>\n",
       "    <span style=\"color: #808000; text-decoration-color: #808000\">name</span>=<span style=\"color: #008000; text-decoration-color: #008000\">'Plan the Afternoon Ahead'</span>,\n",
       "    <span style=\"color: #808000; text-decoration-color: #808000\">details</span>=<span style=\"color: #008000; text-decoration-color: #008000\">'Now that you feel more relaxed and refreshed from the warmth of the tea and the rest it provided, take</span>\n",
       "<span style=\"color: #008000; text-decoration-color: #008000\">a few minutes to think ahead about how you’d like to spend the remainder of this snowy Sunday afternoon. Grab a </span>\n",
       "<span style=\"color: #008000; text-decoration-color: #008000\">notepad or your phone to jot down ideas. Consider activities that balance relaxation and productivity, such as </span>\n",
       "<span style=\"color: #008000; text-decoration-color: #008000\">reading a book, watching a comforting movie, doing light organizing or tidying up, or starting a creative project </span>\n",
       "<span style=\"color: #008000; text-decoration-color: #008000\">such as drawing or knitting. Prioritize activities that align with your current low-energy but peaceful state. This</span>\n",
       "<span style=\"color: #008000; text-decoration-color: #008000\">planning session will help you bring intentionality and focus to your afternoon while ensuring you don’t overexert </span>\n",
       "<span style=\"color: #008000; text-decoration-color: #008000\">yourself.'</span>,\n",
       "    <span style=\"color: #808000; text-decoration-color: #808000\">time_spent</span>=<span style=\"color: #008080; text-decoration-color: #008080; font-weight: bold\">0.25</span>,\n",
       "    <span style=\"color: #808000; text-decoration-color: #808000\">from_state_id</span>=<span style=\"color: #008000; text-decoration-color: #008000\">'0a0cc7db-3c2f-49a3-8043-3c4b7dab9c18'</span>,\n",
       "    <span style=\"color: #808000; text-decoration-color: #808000\">to_state_id</span>=<span style=\"color: #008000; text-decoration-color: #008000\">'79f9b403-5cc2-4e0f-91bd-a4fee2b07434'</span>\n",
       "<span style=\"font-weight: bold\">)</span>\n",
       "</pre>\n"
      ],
      "text/plain": [
       "\u001b[1;35mAction\u001b[0m\u001b[1m(\u001b[0m\n",
       "    \u001b[33mname\u001b[0m=\u001b[32m'Plan the Afternoon Ahead'\u001b[0m,\n",
       "    \u001b[33mdetails\u001b[0m=\u001b[32m'Now that you feel more relaxed and refreshed from the warmth of the tea and the rest it provided, take\u001b[0m\n",
       "\u001b[32ma few minutes to think ahead about how you’d like to spend the remainder of this snowy Sunday afternoon. Grab a \u001b[0m\n",
       "\u001b[32mnotepad or your phone to jot down ideas. Consider activities that balance relaxation and productivity, such as \u001b[0m\n",
       "\u001b[32mreading a book, watching a comforting movie, doing light organizing or tidying up, or starting a creative project \u001b[0m\n",
       "\u001b[32msuch as drawing or knitting. Prioritize activities that align with your current low-energy but peaceful state. This\u001b[0m\n",
       "\u001b[32mplanning session will help you bring intentionality and focus to your afternoon while ensuring you don’t overexert \u001b[0m\n",
       "\u001b[32myourself.'\u001b[0m,\n",
       "    \u001b[33mtime_spent\u001b[0m=\u001b[1;36m0\u001b[0m\u001b[1;36m.25\u001b[0m,\n",
       "    \u001b[33mfrom_state_id\u001b[0m=\u001b[32m'0a0cc7db-3c2f-49a3-8043-3c4b7dab9c18'\u001b[0m,\n",
       "    \u001b[33mto_state_id\u001b[0m=\u001b[32m'79f9b403-5cc2-4e0f-91bd-a4fee2b07434'\u001b[0m\n",
       "\u001b[1m)\u001b[0m\n"
      ]
     },
     "metadata": {},
     "output_type": "display_data"
    },
    {
     "data": {
      "text/html": [
       "<pre style=\"white-space:pre;overflow-x:auto;line-height:normal;font-family:Menlo,'DejaVu Sans Mono',consolas,'Courier New',monospace\"><span style=\"color: #800080; text-decoration-color: #800080; font-weight: bold\">MyOwnState</span><span style=\"font-weight: bold\">(</span>\n",
       "    <span style=\"color: #808000; text-decoration-color: #808000\">uuid</span>=<span style=\"color: #008000; text-decoration-color: #008000\">'79f9b403-5cc2-4e0f-91bd-a4fee2b07434'</span>,\n",
       "    <span style=\"color: #808000; text-decoration-color: #808000\">last_action</span>=<span style=\"color: #008000; text-decoration-color: #008000\">'Plan the Afternoon Ahead'</span>,\n",
       "    <span style=\"color: #808000; text-decoration-color: #808000\">previous_state_id</span>=<span style=\"color: #008000; text-decoration-color: #008000\">'0a0cc7db-3c2f-49a3-8043-3c4b7dab9c18'</span>,\n",
       "    <span style=\"color: #808000; text-decoration-color: #808000\">state_variables</span>=<span style=\"color: #800080; text-decoration-color: #800080; font-weight: bold\">StateVariables</span><span style=\"font-weight: bold\">(</span>\n",
       "        <span style=\"color: #808000; text-decoration-color: #808000\">context</span>=<span style=\"color: #008000; text-decoration-color: #008000\">'After warming up with a soothing cup of tea and fully unwinding in the comfort of your home, you </span>\n",
       "<span style=\"color: #008000; text-decoration-color: #008000\">decide to spend some time intentionally planning your snowy Sunday afternoon. With a notepad or phone in hand, you </span>\n",
       "<span style=\"color: #008000; text-decoration-color: #008000\">ponder gentle, low-energy yet fulfilling activities that resonate with your current calm and rested state. Ideas </span>\n",
       "<span style=\"color: #008000; text-decoration-color: #008000\">such as reading, watching a comforting movie, or pursuing light creative hobbies like drawing or knitting cross </span>\n",
       "<span style=\"color: #008000; text-decoration-color: #008000\">your mind. This reflective exercise instills a sense of focus, purpose, and control over your day, ensuring your </span>\n",
       "<span style=\"color: #008000; text-decoration-color: #008000\">choices support your well-being and relaxation without leading to overexertion.'</span>,\n",
       "        <span style=\"color: #808000; text-decoration-color: #808000\">pain_level</span>=<span style=\"color: #008080; text-decoration-color: #008080; font-weight: bold\">30</span>,\n",
       "        <span style=\"color: #808000; text-decoration-color: #808000\">pleasure_level</span>=<span style=\"color: #008080; text-decoration-color: #008080; font-weight: bold\">75</span>,\n",
       "        <span style=\"color: #808000; text-decoration-color: #808000\">health_level</span>=<span style=\"color: #008080; text-decoration-color: #008080; font-weight: bold\">75</span>,\n",
       "        <span style=\"color: #808000; text-decoration-color: #808000\">focus_level</span>=<span style=\"color: #008080; text-decoration-color: #008080; font-weight: bold\">65</span>\n",
       "    <span style=\"font-weight: bold\">)</span>,\n",
       "    <span style=\"color: #808000; text-decoration-color: #808000\">environment_variables</span>=<span style=\"color: #800080; text-decoration-color: #800080; font-weight: bold\">EnvironmentVariables</span><span style=\"font-weight: bold\">(</span>\n",
       "        <span style=\"color: #808000; text-decoration-color: #808000\">context</span>=<span style=\"color: #008000; text-decoration-color: #008000\">'After enjoying a restorative moment with tea, you settle down to plan your Sunday afternoon as the</span>\n",
       "<span style=\"color: #008000; text-decoration-color: #008000\">snowy day progresses. It is now early afternoon in Baltimore, and the clouds outside continue to thin, allowing </span>\n",
       "<span style=\"color: #008000; text-decoration-color: #008000\">soft, muted sunlight to filter through and brighten the frosted streets. The ambiance indoors is calm and </span>\n",
       "<span style=\"color: #008000; text-decoration-color: #008000\">reflective, warmed by the lingering comfort of your tea and the thoughtful rhythm of planning your next steps. The </span>\n",
       "<span style=\"color: #008000; text-decoration-color: #008000\">serenity of the morning has extended into this planning moment, lending a sense of quiet focus and intentionality </span>\n",
       "<span style=\"color: #008000; text-decoration-color: #008000\">to decisions about the activities ahead.'</span>,\n",
       "        <span style=\"color: #808000; text-decoration-color: #808000\">weather</span>=<span style=\"color: #008000; text-decoration-color: #008000\">'snowy'</span>,\n",
       "        <span style=\"color: #808000; text-decoration-color: #808000\">hour_of_day</span>=<span style=\"color: #008080; text-decoration-color: #008080; font-weight: bold\">13.25</span>,\n",
       "        <span style=\"color: #808000; text-decoration-color: #808000\">day_of_week</span>=<span style=\"color: #008000; text-decoration-color: #008000\">'sunday'</span>\n",
       "    <span style=\"font-weight: bold\">)</span>\n",
       "<span style=\"font-weight: bold\">)</span>\n",
       "</pre>\n"
      ],
      "text/plain": [
       "\u001b[1;35mMyOwnState\u001b[0m\u001b[1m(\u001b[0m\n",
       "    \u001b[33muuid\u001b[0m=\u001b[32m'79f9b403-5cc2-4e0f-91bd-a4fee2b07434'\u001b[0m,\n",
       "    \u001b[33mlast_action\u001b[0m=\u001b[32m'Plan the Afternoon Ahead'\u001b[0m,\n",
       "    \u001b[33mprevious_state_id\u001b[0m=\u001b[32m'0a0cc7db-3c2f-49a3-8043-3c4b7dab9c18'\u001b[0m,\n",
       "    \u001b[33mstate_variables\u001b[0m=\u001b[1;35mStateVariables\u001b[0m\u001b[1m(\u001b[0m\n",
       "        \u001b[33mcontext\u001b[0m=\u001b[32m'After warming up with a soothing cup of tea and fully unwinding in the comfort of your home, you \u001b[0m\n",
       "\u001b[32mdecide to spend some time intentionally planning your snowy Sunday afternoon. With a notepad or phone in hand, you \u001b[0m\n",
       "\u001b[32mponder gentle, low-energy yet fulfilling activities that resonate with your current calm and rested state. Ideas \u001b[0m\n",
       "\u001b[32msuch as reading, watching a comforting movie, or pursuing light creative hobbies like drawing or knitting cross \u001b[0m\n",
       "\u001b[32myour mind. This reflective exercise instills a sense of focus, purpose, and control over your day, ensuring your \u001b[0m\n",
       "\u001b[32mchoices support your well-being and relaxation without leading to overexertion.'\u001b[0m,\n",
       "        \u001b[33mpain_level\u001b[0m=\u001b[1;36m30\u001b[0m,\n",
       "        \u001b[33mpleasure_level\u001b[0m=\u001b[1;36m75\u001b[0m,\n",
       "        \u001b[33mhealth_level\u001b[0m=\u001b[1;36m75\u001b[0m,\n",
       "        \u001b[33mfocus_level\u001b[0m=\u001b[1;36m65\u001b[0m\n",
       "    \u001b[1m)\u001b[0m,\n",
       "    \u001b[33menvironment_variables\u001b[0m=\u001b[1;35mEnvironmentVariables\u001b[0m\u001b[1m(\u001b[0m\n",
       "        \u001b[33mcontext\u001b[0m=\u001b[32m'After enjoying a restorative moment with tea, you settle down to plan your Sunday afternoon as the\u001b[0m\n",
       "\u001b[32msnowy day progresses. It is now early afternoon in Baltimore, and the clouds outside continue to thin, allowing \u001b[0m\n",
       "\u001b[32msoft, muted sunlight to filter through and brighten the frosted streets. The ambiance indoors is calm and \u001b[0m\n",
       "\u001b[32mreflective, warmed by the lingering comfort of your tea and the thoughtful rhythm of planning your next steps. The \u001b[0m\n",
       "\u001b[32mserenity of the morning has extended into this planning moment, lending a sense of quiet focus and intentionality \u001b[0m\n",
       "\u001b[32mto decisions about the activities ahead.'\u001b[0m,\n",
       "        \u001b[33mweather\u001b[0m=\u001b[32m'snowy'\u001b[0m,\n",
       "        \u001b[33mhour_of_day\u001b[0m=\u001b[1;36m13\u001b[0m\u001b[1;36m.25\u001b[0m,\n",
       "        \u001b[33mday_of_week\u001b[0m=\u001b[32m'sunday'\u001b[0m\n",
       "    \u001b[1m)\u001b[0m\n",
       "\u001b[1m)\u001b[0m\n"
      ]
     },
     "metadata": {},
     "output_type": "display_data"
    },
    {
     "data": {
      "text/html": [
       "<pre style=\"white-space:pre;overflow-x:auto;line-height:normal;font-family:Menlo,'DejaVu Sans Mono',consolas,'Courier New',monospace\"><span style=\"color: #800080; text-decoration-color: #800080; font-weight: bold\">Action</span><span style=\"font-weight: bold\">(</span>\n",
       "    <span style=\"color: #808000; text-decoration-color: #808000\">name</span>=<span style=\"color: #008000; text-decoration-color: #008000\">'Read a Cozy Book by the Window'</span>,\n",
       "    <span style=\"color: #808000; text-decoration-color: #808000\">details</span>=<span style=\"color: #008000; text-decoration-color: #008000\">'Select a book that feels comforting or inspiring—something light-hearted, thought-provoking, or </span>\n",
       "<span style=\"color: #008000; text-decoration-color: #008000\">adventurous, depending on your mood. Arrange a cozy spot by the window where you can take advantage of the soft, </span>\n",
       "<span style=\"color: #008000; text-decoration-color: #008000\">muted sunlight filtering through the snowy scene. Wrap yourself in a blanket if desired and settle in with your </span>\n",
       "<span style=\"color: #008000; text-decoration-color: #008000\">book, allowing yourself to get lost in its pages. The calm, reflective ambiance from the earlier walk and tea will </span>\n",
       "<span style=\"color: #008000; text-decoration-color: #008000\">complement this quiet act of engagement with a story. Dedicate at least 45 minutes to reading, letting yourself </span>\n",
       "<span style=\"color: #008000; text-decoration-color: #008000\">fully relax and recharge while connecting with the narrative.'</span>,\n",
       "    <span style=\"color: #808000; text-decoration-color: #808000\">time_spent</span>=<span style=\"color: #008080; text-decoration-color: #008080; font-weight: bold\">0.75</span>,\n",
       "    <span style=\"color: #808000; text-decoration-color: #808000\">from_state_id</span>=<span style=\"color: #008000; text-decoration-color: #008000\">'79f9b403-5cc2-4e0f-91bd-a4fee2b07434'</span>,\n",
       "    <span style=\"color: #808000; text-decoration-color: #808000\">to_state_id</span>=<span style=\"color: #008000; text-decoration-color: #008000\">'23b0bbed-ea05-482a-b047-b323bc74487e'</span>\n",
       "<span style=\"font-weight: bold\">)</span>\n",
       "</pre>\n"
      ],
      "text/plain": [
       "\u001b[1;35mAction\u001b[0m\u001b[1m(\u001b[0m\n",
       "    \u001b[33mname\u001b[0m=\u001b[32m'Read a Cozy Book by the Window'\u001b[0m,\n",
       "    \u001b[33mdetails\u001b[0m=\u001b[32m'Select a book that feels comforting or inspiring—something light-hearted, thought-provoking, or \u001b[0m\n",
       "\u001b[32madventurous, depending on your mood. Arrange a cozy spot by the window where you can take advantage of the soft, \u001b[0m\n",
       "\u001b[32mmuted sunlight filtering through the snowy scene. Wrap yourself in a blanket if desired and settle in with your \u001b[0m\n",
       "\u001b[32mbook, allowing yourself to get lost in its pages. The calm, reflective ambiance from the earlier walk and tea will \u001b[0m\n",
       "\u001b[32mcomplement this quiet act of engagement with a story. Dedicate at least 45 minutes to reading, letting yourself \u001b[0m\n",
       "\u001b[32mfully relax and recharge while connecting with the narrative.'\u001b[0m,\n",
       "    \u001b[33mtime_spent\u001b[0m=\u001b[1;36m0\u001b[0m\u001b[1;36m.75\u001b[0m,\n",
       "    \u001b[33mfrom_state_id\u001b[0m=\u001b[32m'79f9b403-5cc2-4e0f-91bd-a4fee2b07434'\u001b[0m,\n",
       "    \u001b[33mto_state_id\u001b[0m=\u001b[32m'23b0bbed-ea05-482a-b047-b323bc74487e'\u001b[0m\n",
       "\u001b[1m)\u001b[0m\n"
      ]
     },
     "metadata": {},
     "output_type": "display_data"
    },
    {
     "data": {
      "text/html": [
       "<pre style=\"white-space:pre;overflow-x:auto;line-height:normal;font-family:Menlo,'DejaVu Sans Mono',consolas,'Courier New',monospace\"><span style=\"color: #800080; text-decoration-color: #800080; font-weight: bold\">MyOwnState</span><span style=\"font-weight: bold\">(</span>\n",
       "    <span style=\"color: #808000; text-decoration-color: #808000\">uuid</span>=<span style=\"color: #008000; text-decoration-color: #008000\">'23b0bbed-ea05-482a-b047-b323bc74487e'</span>,\n",
       "    <span style=\"color: #808000; text-decoration-color: #808000\">last_action</span>=<span style=\"color: #008000; text-decoration-color: #008000\">'Read a Cozy Book by the Window'</span>,\n",
       "    <span style=\"color: #808000; text-decoration-color: #808000\">previous_state_id</span>=<span style=\"color: #008000; text-decoration-color: #008000\">'79f9b403-5cc2-4e0f-91bd-a4fee2b07434'</span>,\n",
       "    <span style=\"color: #808000; text-decoration-color: #808000\">state_variables</span>=<span style=\"color: #800080; text-decoration-color: #800080; font-weight: bold\">StateVariables</span><span style=\"font-weight: bold\">(</span>\n",
       "        <span style=\"color: #808000; text-decoration-color: #808000\">context</span>=<span style=\"color: #008000; text-decoration-color: #008000\">'After selecting a cozy, comforting book, you settle into a snug spot by the window, enveloped in </span>\n",
       "<span style=\"color: #008000; text-decoration-color: #008000\">the warm embrace of a blanket. The soft, muted sunlight streaming through the snowy scene outside provides the </span>\n",
       "<span style=\"color: #008000; text-decoration-color: #008000\">perfect ambiance for your reading experience. As you turn the pages, you find yourself immersed in the narrative, </span>\n",
       "<span style=\"color: #008000; text-decoration-color: #008000\">the words painting vivid images and evoking a range of emotions. This quiet and reflective activity enhances your </span>\n",
       "<span style=\"color: #008000; text-decoration-color: #008000\">sense of relaxation while engaging your mind gently. The tactile and visual experience of reading by the window </span>\n",
       "<span style=\"color: #008000; text-decoration-color: #008000\">complements the serenity of the snowy day, reinforcing your state of peace and intention. Although your physical </span>\n",
       "<span style=\"color: #008000; text-decoration-color: #008000\">state remains at ease, the light mental engagement strengthens your sense of connection and focus, while also </span>\n",
       "<span style=\"color: #008000; text-decoration-color: #008000\">offering a subtle boost to your pleasure levels.'</span>,\n",
       "        <span style=\"color: #808000; text-decoration-color: #808000\">pain_level</span>=<span style=\"color: #008080; text-decoration-color: #008080; font-weight: bold\">30</span>,\n",
       "        <span style=\"color: #808000; text-decoration-color: #808000\">pleasure_level</span>=<span style=\"color: #008080; text-decoration-color: #008080; font-weight: bold\">80</span>,\n",
       "        <span style=\"color: #808000; text-decoration-color: #808000\">health_level</span>=<span style=\"color: #008080; text-decoration-color: #008080; font-weight: bold\">75</span>,\n",
       "        <span style=\"color: #808000; text-decoration-color: #808000\">focus_level</span>=<span style=\"color: #008080; text-decoration-color: #008080; font-weight: bold\">70</span>\n",
       "    <span style=\"font-weight: bold\">)</span>,\n",
       "    <span style=\"color: #808000; text-decoration-color: #808000\">environment_variables</span>=<span style=\"color: #800080; text-decoration-color: #800080; font-weight: bold\">EnvironmentVariables</span><span style=\"font-weight: bold\">(</span>\n",
       "        <span style=\"color: #808000; text-decoration-color: #808000\">context</span>=<span style=\"color: #008000; text-decoration-color: #008000\">'As you decide to read for a cozy, relaxing afternoon, the snowy Baltimore day continues to provide</span>\n",
       "<span style=\"color: #008000; text-decoration-color: #008000\">a serene backdrop. Selecting a comforting book, you settle by the window where the soft, muted sunlight filtering </span>\n",
       "<span style=\"color: #008000; text-decoration-color: #008000\">through the departing clouds highlights the frosted scenery outside. Wrapped in a warm blanket, you become </span>\n",
       "<span style=\"color: #008000; text-decoration-color: #008000\">engrossed in the peaceful silence of your surroundings, punctuated only by the reassuring weight of your book. This</span>\n",
       "<span style=\"color: #008000; text-decoration-color: #008000\">setting allows the quiet beauty of the snowy day to enhance the calming focus you bring to reading. With 45 minutes</span>\n",
       "<span style=\"color: #008000; text-decoration-color: #008000\">passing, the afternoon gradually matures, offering a subtle shift in the ambiance as the sun begins its downward </span>\n",
       "<span style=\"color: #008000; text-decoration-color: #008000\">slope, casting even softer hues across the snowy cityscape.'</span>,\n",
       "        <span style=\"color: #808000; text-decoration-color: #808000\">weather</span>=<span style=\"color: #008000; text-decoration-color: #008000\">'snowy'</span>,\n",
       "        <span style=\"color: #808000; text-decoration-color: #808000\">hour_of_day</span>=<span style=\"color: #008080; text-decoration-color: #008080; font-weight: bold\">14.0</span>,\n",
       "        <span style=\"color: #808000; text-decoration-color: #808000\">day_of_week</span>=<span style=\"color: #008000; text-decoration-color: #008000\">'sunday'</span>\n",
       "    <span style=\"font-weight: bold\">)</span>\n",
       "<span style=\"font-weight: bold\">)</span>\n",
       "</pre>\n"
      ],
      "text/plain": [
       "\u001b[1;35mMyOwnState\u001b[0m\u001b[1m(\u001b[0m\n",
       "    \u001b[33muuid\u001b[0m=\u001b[32m'23b0bbed-ea05-482a-b047-b323bc74487e'\u001b[0m,\n",
       "    \u001b[33mlast_action\u001b[0m=\u001b[32m'Read a Cozy Book by the Window'\u001b[0m,\n",
       "    \u001b[33mprevious_state_id\u001b[0m=\u001b[32m'79f9b403-5cc2-4e0f-91bd-a4fee2b07434'\u001b[0m,\n",
       "    \u001b[33mstate_variables\u001b[0m=\u001b[1;35mStateVariables\u001b[0m\u001b[1m(\u001b[0m\n",
       "        \u001b[33mcontext\u001b[0m=\u001b[32m'After selecting a cozy, comforting book, you settle into a snug spot by the window, enveloped in \u001b[0m\n",
       "\u001b[32mthe warm embrace of a blanket. The soft, muted sunlight streaming through the snowy scene outside provides the \u001b[0m\n",
       "\u001b[32mperfect ambiance for your reading experience. As you turn the pages, you find yourself immersed in the narrative, \u001b[0m\n",
       "\u001b[32mthe words painting vivid images and evoking a range of emotions. This quiet and reflective activity enhances your \u001b[0m\n",
       "\u001b[32msense of relaxation while engaging your mind gently. The tactile and visual experience of reading by the window \u001b[0m\n",
       "\u001b[32mcomplements the serenity of the snowy day, reinforcing your state of peace and intention. Although your physical \u001b[0m\n",
       "\u001b[32mstate remains at ease, the light mental engagement strengthens your sense of connection and focus, while also \u001b[0m\n",
       "\u001b[32moffering a subtle boost to your pleasure levels.'\u001b[0m,\n",
       "        \u001b[33mpain_level\u001b[0m=\u001b[1;36m30\u001b[0m,\n",
       "        \u001b[33mpleasure_level\u001b[0m=\u001b[1;36m80\u001b[0m,\n",
       "        \u001b[33mhealth_level\u001b[0m=\u001b[1;36m75\u001b[0m,\n",
       "        \u001b[33mfocus_level\u001b[0m=\u001b[1;36m70\u001b[0m\n",
       "    \u001b[1m)\u001b[0m,\n",
       "    \u001b[33menvironment_variables\u001b[0m=\u001b[1;35mEnvironmentVariables\u001b[0m\u001b[1m(\u001b[0m\n",
       "        \u001b[33mcontext\u001b[0m=\u001b[32m'As you decide to read for a cozy, relaxing afternoon, the snowy Baltimore day continues to provide\u001b[0m\n",
       "\u001b[32ma serene backdrop. Selecting a comforting book, you settle by the window where the soft, muted sunlight filtering \u001b[0m\n",
       "\u001b[32mthrough the departing clouds highlights the frosted scenery outside. Wrapped in a warm blanket, you become \u001b[0m\n",
       "\u001b[32mengrossed in the peaceful silence of your surroundings, punctuated only by the reassuring weight of your book. This\u001b[0m\n",
       "\u001b[32msetting allows the quiet beauty of the snowy day to enhance the calming focus you bring to reading. With 45 minutes\u001b[0m\n",
       "\u001b[32mpassing, the afternoon gradually matures, offering a subtle shift in the ambiance as the sun begins its downward \u001b[0m\n",
       "\u001b[32mslope, casting even softer hues across the snowy cityscape.'\u001b[0m,\n",
       "        \u001b[33mweather\u001b[0m=\u001b[32m'snowy'\u001b[0m,\n",
       "        \u001b[33mhour_of_day\u001b[0m=\u001b[1;36m14\u001b[0m\u001b[1;36m.0\u001b[0m,\n",
       "        \u001b[33mday_of_week\u001b[0m=\u001b[32m'sunday'\u001b[0m\n",
       "    \u001b[1m)\u001b[0m\n",
       "\u001b[1m)\u001b[0m\n"
      ]
     },
     "metadata": {},
     "output_type": "display_data"
    },
    {
     "data": {
      "text/html": [
       "<pre style=\"white-space:pre;overflow-x:auto;line-height:normal;font-family:Menlo,'DejaVu Sans Mono',consolas,'Courier New',monospace\"><span style=\"color: #800080; text-decoration-color: #800080; font-weight: bold\">Action</span><span style=\"font-weight: bold\">(</span>\n",
       "    <span style=\"color: #808000; text-decoration-color: #808000\">name</span>=<span style=\"color: #008000; text-decoration-color: #008000\">'Engage in Light Stretching or Yoga'</span>,\n",
       "    <span style=\"color: #808000; text-decoration-color: #808000\">details</span>=<span style=\"color: #008000; text-decoration-color: #008000\">'Spend 15 minutes engaging in light stretching or a gentle yoga sequence to refresh your body and </span>\n",
       "<span style=\"color: #008000; text-decoration-color: #008000\">support the circulation after the extended period of stillness from reading. Set up a comfortable space on a yoga </span>\n",
       "<span style=\"color: #008000; text-decoration-color: #008000\">mat or a soft floor area, and consider following a short online guided session or creating your own routine. Start </span>\n",
       "<span style=\"color: #008000; text-decoration-color: #008000\">with simple movements like neck rolls, shoulder stretches, and seated forward folds, followed by cat-cow stretches </span>\n",
       "<span style=\"color: #008000; text-decoration-color: #008000\">and downward-facing dog to release any tension. Focus on breathing deeply and mindfully throughout the process. </span>\n",
       "<span style=\"color: #008000; text-decoration-color: #008000\">This practice will invigorate your physical body while keeping you grounded in the peaceful ambiance of the day.'</span>,\n",
       "    <span style=\"color: #808000; text-decoration-color: #808000\">time_spent</span>=<span style=\"color: #008080; text-decoration-color: #008080; font-weight: bold\">0.25</span>,\n",
       "    <span style=\"color: #808000; text-decoration-color: #808000\">from_state_id</span>=<span style=\"color: #008000; text-decoration-color: #008000\">'23b0bbed-ea05-482a-b047-b323bc74487e'</span>,\n",
       "    <span style=\"color: #808000; text-decoration-color: #808000\">to_state_id</span>=<span style=\"color: #008000; text-decoration-color: #008000\">'b5a36c58-9e49-4601-be9a-718647b76793'</span>\n",
       "<span style=\"font-weight: bold\">)</span>\n",
       "</pre>\n"
      ],
      "text/plain": [
       "\u001b[1;35mAction\u001b[0m\u001b[1m(\u001b[0m\n",
       "    \u001b[33mname\u001b[0m=\u001b[32m'Engage in Light Stretching or Yoga'\u001b[0m,\n",
       "    \u001b[33mdetails\u001b[0m=\u001b[32m'Spend 15 minutes engaging in light stretching or a gentle yoga sequence to refresh your body and \u001b[0m\n",
       "\u001b[32msupport the circulation after the extended period of stillness from reading. Set up a comfortable space on a yoga \u001b[0m\n",
       "\u001b[32mmat or a soft floor area, and consider following a short online guided session or creating your own routine. Start \u001b[0m\n",
       "\u001b[32mwith simple movements like neck rolls, shoulder stretches, and seated forward folds, followed by cat-cow stretches \u001b[0m\n",
       "\u001b[32mand downward-facing dog to release any tension. Focus on breathing deeply and mindfully throughout the process. \u001b[0m\n",
       "\u001b[32mThis practice will invigorate your physical body while keeping you grounded in the peaceful ambiance of the day.'\u001b[0m,\n",
       "    \u001b[33mtime_spent\u001b[0m=\u001b[1;36m0\u001b[0m\u001b[1;36m.25\u001b[0m,\n",
       "    \u001b[33mfrom_state_id\u001b[0m=\u001b[32m'23b0bbed-ea05-482a-b047-b323bc74487e'\u001b[0m,\n",
       "    \u001b[33mto_state_id\u001b[0m=\u001b[32m'b5a36c58-9e49-4601-be9a-718647b76793'\u001b[0m\n",
       "\u001b[1m)\u001b[0m\n"
      ]
     },
     "metadata": {},
     "output_type": "display_data"
    },
    {
     "data": {
      "text/html": [
       "<pre style=\"white-space:pre;overflow-x:auto;line-height:normal;font-family:Menlo,'DejaVu Sans Mono',consolas,'Courier New',monospace\"><span style=\"color: #800080; text-decoration-color: #800080; font-weight: bold\">MyOwnState</span><span style=\"font-weight: bold\">(</span>\n",
       "    <span style=\"color: #808000; text-decoration-color: #808000\">uuid</span>=<span style=\"color: #008000; text-decoration-color: #008000\">'b5a36c58-9e49-4601-be9a-718647b76793'</span>,\n",
       "    <span style=\"color: #808000; text-decoration-color: #808000\">last_action</span>=<span style=\"color: #008000; text-decoration-color: #008000\">'Engage in Light Stretching or Yoga'</span>,\n",
       "    <span style=\"color: #808000; text-decoration-color: #808000\">previous_state_id</span>=<span style=\"color: #008000; text-decoration-color: #008000\">'23b0bbed-ea05-482a-b047-b323bc74487e'</span>,\n",
       "    <span style=\"color: #808000; text-decoration-color: #808000\">state_variables</span>=<span style=\"color: #800080; text-decoration-color: #800080; font-weight: bold\">StateVariables</span><span style=\"font-weight: bold\">(</span>\n",
       "        <span style=\"color: #808000; text-decoration-color: #808000\">context</span>=<span style=\"color: #008000; text-decoration-color: #008000\">'You dedicated 15 minutes to a session of light stretching and gentle yoga. Choosing a quiet corner</span>\n",
       "<span style=\"color: #008000; text-decoration-color: #008000\">and unrolling your yoga mat, you began with mindful breathing exercises to center yourself. You incorporated simple</span>\n",
       "<span style=\"color: #008000; text-decoration-color: #008000\">movements such as neck rolls, shoulder stretches, and gentle forward folds to loosen up stiff areas from your </span>\n",
       "<span style=\"color: #008000; text-decoration-color: #008000\">earlier reading. Following these, transitions into cat-cow stretches and downward-facing dog helped relieve any </span>\n",
       "<span style=\"color: #008000; text-decoration-color: #008000\">lingering tension in your spine and shoulders. The deep, intentional breaths synchronized with your movements </span>\n",
       "<span style=\"color: #008000; text-decoration-color: #008000\">bolstered your sense of mindfulness and connection to the present moment. Physically, this short practice left you </span>\n",
       "<span style=\"color: #008000; text-decoration-color: #008000\">feeling rejuvenated and slightly more flexible, with improved circulation and energy. While not overly demanding, </span>\n",
       "<span style=\"color: #008000; text-decoration-color: #008000\">it provided balance and subtle vitality, aligning perfectly with your calm and reflective day.'</span>,\n",
       "        <span style=\"color: #808000; text-decoration-color: #808000\">pain_level</span>=<span style=\"color: #008080; text-decoration-color: #008080; font-weight: bold\">25</span>,\n",
       "        <span style=\"color: #808000; text-decoration-color: #808000\">pleasure_level</span>=<span style=\"color: #008080; text-decoration-color: #008080; font-weight: bold\">85</span>,\n",
       "        <span style=\"color: #808000; text-decoration-color: #808000\">health_level</span>=<span style=\"color: #008080; text-decoration-color: #008080; font-weight: bold\">80</span>,\n",
       "        <span style=\"color: #808000; text-decoration-color: #808000\">focus_level</span>=<span style=\"color: #008080; text-decoration-color: #008080; font-weight: bold\">72</span>\n",
       "    <span style=\"font-weight: bold\">)</span>,\n",
       "    <span style=\"color: #808000; text-decoration-color: #808000\">environment_variables</span>=<span style=\"color: #800080; text-decoration-color: #800080; font-weight: bold\">EnvironmentVariables</span><span style=\"font-weight: bold\">(</span>\n",
       "        <span style=\"color: #808000; text-decoration-color: #808000\">context</span>=<span style=\"color: #008000; text-decoration-color: #008000\">'Having completed 45 minutes of reading in the cozy ambiance by the window, you decide to </span>\n",
       "<span style=\"color: #008000; text-decoration-color: #008000\">transition into a gentle physical activity. The snowy Baltimore afternoon continues peacefully, with the sun </span>\n",
       "<span style=\"color: #008000; text-decoration-color: #008000\">casting softer hues across the frosted streets as it subtly begins its descent. You clear a small, comfortable </span>\n",
       "<span style=\"color: #008000; text-decoration-color: #008000\">space indoors, either on a yoga mat or a soft surface, to engage in light stretching or yoga. By focusing on gentle</span>\n",
       "<span style=\"color: #008000; text-decoration-color: #008000\">movements and mindfulness, this practice invigorates your body while maintaining the serene tone of the day. </span>\n",
       "<span style=\"color: #008000; text-decoration-color: #008000\">Outside, the snow-covered city remains still and timeless under the cloudy sky, offering a grounding contrast to </span>\n",
       "<span style=\"color: #008000; text-decoration-color: #008000\">the slow, intentional flow of your stretches.'</span>,\n",
       "        <span style=\"color: #808000; text-decoration-color: #808000\">weather</span>=<span style=\"color: #008000; text-decoration-color: #008000\">'snowy'</span>,\n",
       "        <span style=\"color: #808000; text-decoration-color: #808000\">hour_of_day</span>=<span style=\"color: #008080; text-decoration-color: #008080; font-weight: bold\">14.25</span>,\n",
       "        <span style=\"color: #808000; text-decoration-color: #808000\">day_of_week</span>=<span style=\"color: #008000; text-decoration-color: #008000\">'sunday'</span>\n",
       "    <span style=\"font-weight: bold\">)</span>\n",
       "<span style=\"font-weight: bold\">)</span>\n",
       "</pre>\n"
      ],
      "text/plain": [
       "\u001b[1;35mMyOwnState\u001b[0m\u001b[1m(\u001b[0m\n",
       "    \u001b[33muuid\u001b[0m=\u001b[32m'b5a36c58-9e49-4601-be9a-718647b76793'\u001b[0m,\n",
       "    \u001b[33mlast_action\u001b[0m=\u001b[32m'Engage in Light Stretching or Yoga'\u001b[0m,\n",
       "    \u001b[33mprevious_state_id\u001b[0m=\u001b[32m'23b0bbed-ea05-482a-b047-b323bc74487e'\u001b[0m,\n",
       "    \u001b[33mstate_variables\u001b[0m=\u001b[1;35mStateVariables\u001b[0m\u001b[1m(\u001b[0m\n",
       "        \u001b[33mcontext\u001b[0m=\u001b[32m'You dedicated 15 minutes to a session of light stretching and gentle yoga. Choosing a quiet corner\u001b[0m\n",
       "\u001b[32mand unrolling your yoga mat, you began with mindful breathing exercises to center yourself. You incorporated simple\u001b[0m\n",
       "\u001b[32mmovements such as neck rolls, shoulder stretches, and gentle forward folds to loosen up stiff areas from your \u001b[0m\n",
       "\u001b[32mearlier reading. Following these, transitions into cat-cow stretches and downward-facing dog helped relieve any \u001b[0m\n",
       "\u001b[32mlingering tension in your spine and shoulders. The deep, intentional breaths synchronized with your movements \u001b[0m\n",
       "\u001b[32mbolstered your sense of mindfulness and connection to the present moment. Physically, this short practice left you \u001b[0m\n",
       "\u001b[32mfeeling rejuvenated and slightly more flexible, with improved circulation and energy. While not overly demanding, \u001b[0m\n",
       "\u001b[32mit provided balance and subtle vitality, aligning perfectly with your calm and reflective day.'\u001b[0m,\n",
       "        \u001b[33mpain_level\u001b[0m=\u001b[1;36m25\u001b[0m,\n",
       "        \u001b[33mpleasure_level\u001b[0m=\u001b[1;36m85\u001b[0m,\n",
       "        \u001b[33mhealth_level\u001b[0m=\u001b[1;36m80\u001b[0m,\n",
       "        \u001b[33mfocus_level\u001b[0m=\u001b[1;36m72\u001b[0m\n",
       "    \u001b[1m)\u001b[0m,\n",
       "    \u001b[33menvironment_variables\u001b[0m=\u001b[1;35mEnvironmentVariables\u001b[0m\u001b[1m(\u001b[0m\n",
       "        \u001b[33mcontext\u001b[0m=\u001b[32m'Having completed 45 minutes of reading in the cozy ambiance by the window, you decide to \u001b[0m\n",
       "\u001b[32mtransition into a gentle physical activity. The snowy Baltimore afternoon continues peacefully, with the sun \u001b[0m\n",
       "\u001b[32mcasting softer hues across the frosted streets as it subtly begins its descent. You clear a small, comfortable \u001b[0m\n",
       "\u001b[32mspace indoors, either on a yoga mat or a soft surface, to engage in light stretching or yoga. By focusing on gentle\u001b[0m\n",
       "\u001b[32mmovements and mindfulness, this practice invigorates your body while maintaining the serene tone of the day. \u001b[0m\n",
       "\u001b[32mOutside, the snow-covered city remains still and timeless under the cloudy sky, offering a grounding contrast to \u001b[0m\n",
       "\u001b[32mthe slow, intentional flow of your stretches.'\u001b[0m,\n",
       "        \u001b[33mweather\u001b[0m=\u001b[32m'snowy'\u001b[0m,\n",
       "        \u001b[33mhour_of_day\u001b[0m=\u001b[1;36m14\u001b[0m\u001b[1;36m.25\u001b[0m,\n",
       "        \u001b[33mday_of_week\u001b[0m=\u001b[32m'sunday'\u001b[0m\n",
       "    \u001b[1m)\u001b[0m\n",
       "\u001b[1m)\u001b[0m\n"
      ]
     },
     "metadata": {},
     "output_type": "display_data"
    },
    {
     "data": {
      "text/html": [
       "<pre style=\"white-space:pre;overflow-x:auto;line-height:normal;font-family:Menlo,'DejaVu Sans Mono',consolas,'Courier New',monospace\"><span style=\"color: #800080; text-decoration-color: #800080; font-weight: bold\">Action</span><span style=\"font-weight: bold\">(</span>\n",
       "    <span style=\"color: #808000; text-decoration-color: #808000\">name</span>=<span style=\"color: #008000; text-decoration-color: #008000\">'Prepare a Comforting Late Lunch'</span>,\n",
       "    <span style=\"color: #808000; text-decoration-color: #808000\">details</span>=<span style=\"color: #008000; text-decoration-color: #008000\">\"With your body feeling refreshed from the stretching session, take some time to prepare a late lunch </span>\n",
       "<span style=\"color: #008000; text-decoration-color: #008000\">that is warm and nourishing. Choose a simple dish like a hearty soup, pasta, or a warm grain bowl with roasted </span>\n",
       "<span style=\"color: #008000; text-decoration-color: #008000\">vegetables. Begin by gathering your ingredients and setting up your kitchen space. If you're opting for something </span>\n",
       "<span style=\"color: #008000; text-decoration-color: #008000\">quick, consider heating leftovers or crafting a sandwich with a warm drink on the side. As you cook or assemble the</span>\n",
       "<span style=\"color: #008000; text-decoration-color: #008000\">meal, engage your senses by appreciating the colors, aromas, and textures of your ingredients. Enjoy this act of </span>\n",
       "<span style=\"color: #008000; text-decoration-color: #008000\">self-care and intention. Once ready, serve your meal at the table or a comfortable dining spot and relish the </span>\n",
       "<span style=\"color: #008000; text-decoration-color: #008000\">satisfying flavors while reflecting on this tranquil day. Allocate about 45 minutes to an hour for the entire </span>\n",
       "<span style=\"color: #008000; text-decoration-color: #008000\">process, including preparation and eating.\"</span>,\n",
       "    <span style=\"color: #808000; text-decoration-color: #808000\">time_spent</span>=<span style=\"color: #008080; text-decoration-color: #008080; font-weight: bold\">1.0</span>,\n",
       "    <span style=\"color: #808000; text-decoration-color: #808000\">from_state_id</span>=<span style=\"color: #008000; text-decoration-color: #008000\">'b5a36c58-9e49-4601-be9a-718647b76793'</span>,\n",
       "    <span style=\"color: #808000; text-decoration-color: #808000\">to_state_id</span>=<span style=\"color: #008000; text-decoration-color: #008000\">'d1bed00f-1531-4cd4-b6d9-8bbdf33cad93'</span>\n",
       "<span style=\"font-weight: bold\">)</span>\n",
       "</pre>\n"
      ],
      "text/plain": [
       "\u001b[1;35mAction\u001b[0m\u001b[1m(\u001b[0m\n",
       "    \u001b[33mname\u001b[0m=\u001b[32m'Prepare a Comforting Late Lunch'\u001b[0m,\n",
       "    \u001b[33mdetails\u001b[0m=\u001b[32m\"With\u001b[0m\u001b[32m your body feeling refreshed from the stretching session, take some time to prepare a late lunch \u001b[0m\n",
       "\u001b[32mthat is warm and nourishing. Choose a simple dish like a hearty soup, pasta, or a warm grain bowl with roasted \u001b[0m\n",
       "\u001b[32mvegetables. Begin by gathering your ingredients and setting up your kitchen space. If you're opting for something \u001b[0m\n",
       "\u001b[32mquick, consider heating leftovers or crafting a sandwich with a warm drink on the side. As you cook or assemble the\u001b[0m\n",
       "\u001b[32mmeal, engage your senses by appreciating the colors, aromas, and textures of your ingredients. Enjoy this act of \u001b[0m\n",
       "\u001b[32mself-care and intention. Once ready, serve your meal at the table or a comfortable dining spot and relish the \u001b[0m\n",
       "\u001b[32msatisfying flavors while reflecting on this tranquil day. Allocate about 45 minutes to an hour for the entire \u001b[0m\n",
       "\u001b[32mprocess, including preparation and eating.\"\u001b[0m,\n",
       "    \u001b[33mtime_spent\u001b[0m=\u001b[1;36m1\u001b[0m\u001b[1;36m.0\u001b[0m,\n",
       "    \u001b[33mfrom_state_id\u001b[0m=\u001b[32m'b5a36c58-9e49-4601-be9a-718647b76793'\u001b[0m,\n",
       "    \u001b[33mto_state_id\u001b[0m=\u001b[32m'd1bed00f-1531-4cd4-b6d9-8bbdf33cad93'\u001b[0m\n",
       "\u001b[1m)\u001b[0m\n"
      ]
     },
     "metadata": {},
     "output_type": "display_data"
    },
    {
     "data": {
      "text/html": [
       "<pre style=\"white-space:pre;overflow-x:auto;line-height:normal;font-family:Menlo,'DejaVu Sans Mono',consolas,'Courier New',monospace\"><span style=\"color: #800080; text-decoration-color: #800080; font-weight: bold\">MyOwnState</span><span style=\"font-weight: bold\">(</span>\n",
       "    <span style=\"color: #808000; text-decoration-color: #808000\">uuid</span>=<span style=\"color: #008000; text-decoration-color: #008000\">'d1bed00f-1531-4cd4-b6d9-8bbdf33cad93'</span>,\n",
       "    <span style=\"color: #808000; text-decoration-color: #808000\">last_action</span>=<span style=\"color: #008000; text-decoration-color: #008000\">'Prepare a Comforting Late Lunch'</span>,\n",
       "    <span style=\"color: #808000; text-decoration-color: #808000\">previous_state_id</span>=<span style=\"color: #008000; text-decoration-color: #008000\">'b5a36c58-9e49-4601-be9a-718647b76793'</span>,\n",
       "    <span style=\"color: #808000; text-decoration-color: #808000\">state_variables</span>=<span style=\"color: #800080; text-decoration-color: #800080; font-weight: bold\">StateVariables</span><span style=\"font-weight: bold\">(</span>\n",
       "        <span style=\"color: #808000; text-decoration-color: #808000\">context</span>=<span style=\"color: #008000; text-decoration-color: #008000\">'After engaging in a refreshing 15-minute session of light yoga and stretching, you shifted your </span>\n",
       "<span style=\"color: #008000; text-decoration-color: #008000\">focus to preparing a comforting late lunch. Drawing inspiration from the tranquil mood of the snowy Sunday, you </span>\n",
       "<span style=\"color: #008000; text-decoration-color: #008000\">decided on a nourishing meal like a warm grain bowl or a hearty soup. Gathering ingredients in your kitchen, you </span>\n",
       "<span style=\"color: #008000; text-decoration-color: #008000\">allowed yourself to be immersed in the simple yet soothing act of cooking. The warmth radiating from your stove and</span>\n",
       "<span style=\"color: #008000; text-decoration-color: #008000\">the scents of fresh ingredients filled the space, creating an atmosphere of care and intentionality. You completed </span>\n",
       "<span style=\"color: #008000; text-decoration-color: #008000\">the meal preparation at a leisurely pace and sat down to enjoy the fruits of your effort. The act of cooking and </span>\n",
       "<span style=\"color: #008000; text-decoration-color: #008000\">eating not only nourished your body but also reinforced the harmony and mindfulness that have defined your day so </span>\n",
       "<span style=\"color: #008000; text-decoration-color: #008000\">far.'</span>,\n",
       "        <span style=\"color: #808000; text-decoration-color: #808000\">pain_level</span>=<span style=\"color: #008080; text-decoration-color: #008080; font-weight: bold\">25</span>,\n",
       "        <span style=\"color: #808000; text-decoration-color: #808000\">pleasure_level</span>=<span style=\"color: #008080; text-decoration-color: #008080; font-weight: bold\">85</span>,\n",
       "        <span style=\"color: #808000; text-decoration-color: #808000\">health_level</span>=<span style=\"color: #008080; text-decoration-color: #008080; font-weight: bold\">82</span>,\n",
       "        <span style=\"color: #808000; text-decoration-color: #808000\">focus_level</span>=<span style=\"color: #008080; text-decoration-color: #008080; font-weight: bold\">75</span>\n",
       "    <span style=\"font-weight: bold\">)</span>,\n",
       "    <span style=\"color: #808000; text-decoration-color: #808000\">environment_variables</span>=<span style=\"color: #800080; text-decoration-color: #800080; font-weight: bold\">EnvironmentVariables</span><span style=\"font-weight: bold\">(</span>\n",
       "        <span style=\"color: #808000; text-decoration-color: #808000\">context</span>=<span style=\"color: #008000; text-decoration-color: #008000\">\"Feeling physically refreshed from the earlier stretching session, you move into the kitchen to </span>\n",
       "<span style=\"color: #008000; text-decoration-color: #008000\">prepare a comforting late lunch. The snowy Baltimore afternoon remains serene outside, with soft sunlight filtering</span>\n",
       "<span style=\"color: #008000; text-decoration-color: #008000\">through the clouds and glinting off the frosted streets. Inside, the kitchen warms up as you work with vibrant </span>\n",
       "<span style=\"color: #008000; text-decoration-color: #008000\">ingredients to create a simple, nourishing dish such as soup, pasta, or a grain bowl. The aromas of cooking food </span>\n",
       "<span style=\"color: #008000; text-decoration-color: #008000\">bring a cozy and inviting atmosphere to your home. By the time you've finished the meal's preparation and taken </span>\n",
       "<span style=\"color: #008000; text-decoration-color: #008000\">time to savor it, the snowy day has edged toward mid-afternoon, with the outdoors still tranquil and the muted </span>\n",
       "<span style=\"color: #008000; text-decoration-color: #008000\">sunlight casting long shadows across the untouched snow.\"</span>,\n",
       "        <span style=\"color: #808000; text-decoration-color: #808000\">weather</span>=<span style=\"color: #008000; text-decoration-color: #008000\">'snowy'</span>,\n",
       "        <span style=\"color: #808000; text-decoration-color: #808000\">hour_of_day</span>=<span style=\"color: #008080; text-decoration-color: #008080; font-weight: bold\">15.25</span>,\n",
       "        <span style=\"color: #808000; text-decoration-color: #808000\">day_of_week</span>=<span style=\"color: #008000; text-decoration-color: #008000\">'sunday'</span>\n",
       "    <span style=\"font-weight: bold\">)</span>\n",
       "<span style=\"font-weight: bold\">)</span>\n",
       "</pre>\n"
      ],
      "text/plain": [
       "\u001b[1;35mMyOwnState\u001b[0m\u001b[1m(\u001b[0m\n",
       "    \u001b[33muuid\u001b[0m=\u001b[32m'd1bed00f-1531-4cd4-b6d9-8bbdf33cad93'\u001b[0m,\n",
       "    \u001b[33mlast_action\u001b[0m=\u001b[32m'Prepare a Comforting Late Lunch'\u001b[0m,\n",
       "    \u001b[33mprevious_state_id\u001b[0m=\u001b[32m'b5a36c58-9e49-4601-be9a-718647b76793'\u001b[0m,\n",
       "    \u001b[33mstate_variables\u001b[0m=\u001b[1;35mStateVariables\u001b[0m\u001b[1m(\u001b[0m\n",
       "        \u001b[33mcontext\u001b[0m=\u001b[32m'After engaging in a refreshing 15-minute session of light yoga and stretching, you shifted your \u001b[0m\n",
       "\u001b[32mfocus to preparing a comforting late lunch. Drawing inspiration from the tranquil mood of the snowy Sunday, you \u001b[0m\n",
       "\u001b[32mdecided on a nourishing meal like a warm grain bowl or a hearty soup. Gathering ingredients in your kitchen, you \u001b[0m\n",
       "\u001b[32mallowed yourself to be immersed in the simple yet soothing act of cooking. The warmth radiating from your stove and\u001b[0m\n",
       "\u001b[32mthe scents of fresh ingredients filled the space, creating an atmosphere of care and intentionality. You completed \u001b[0m\n",
       "\u001b[32mthe meal preparation at a leisurely pace and sat down to enjoy the fruits of your effort. The act of cooking and \u001b[0m\n",
       "\u001b[32meating not only nourished your body but also reinforced the harmony and mindfulness that have defined your day so \u001b[0m\n",
       "\u001b[32mfar.'\u001b[0m,\n",
       "        \u001b[33mpain_level\u001b[0m=\u001b[1;36m25\u001b[0m,\n",
       "        \u001b[33mpleasure_level\u001b[0m=\u001b[1;36m85\u001b[0m,\n",
       "        \u001b[33mhealth_level\u001b[0m=\u001b[1;36m82\u001b[0m,\n",
       "        \u001b[33mfocus_level\u001b[0m=\u001b[1;36m75\u001b[0m\n",
       "    \u001b[1m)\u001b[0m,\n",
       "    \u001b[33menvironment_variables\u001b[0m=\u001b[1;35mEnvironmentVariables\u001b[0m\u001b[1m(\u001b[0m\n",
       "        \u001b[33mcontext\u001b[0m=\u001b[32m\"Feeling\u001b[0m\u001b[32m physically refreshed from the earlier stretching session, you move into the kitchen to \u001b[0m\n",
       "\u001b[32mprepare a comforting late lunch. The snowy Baltimore afternoon remains serene outside, with soft sunlight filtering\u001b[0m\n",
       "\u001b[32mthrough the clouds and glinting off the frosted streets. Inside, the kitchen warms up as you work with vibrant \u001b[0m\n",
       "\u001b[32mingredients to create a simple, nourishing dish such as soup, pasta, or a grain bowl. The aromas of cooking food \u001b[0m\n",
       "\u001b[32mbring a cozy and inviting atmosphere to your home. By the time you've finished the meal's preparation and taken \u001b[0m\n",
       "\u001b[32mtime to savor it, the snowy day has edged toward mid-afternoon, with the outdoors still tranquil and the muted \u001b[0m\n",
       "\u001b[32msunlight casting long shadows across the untouched snow.\"\u001b[0m,\n",
       "        \u001b[33mweather\u001b[0m=\u001b[32m'snowy'\u001b[0m,\n",
       "        \u001b[33mhour_of_day\u001b[0m=\u001b[1;36m15\u001b[0m\u001b[1;36m.25\u001b[0m,\n",
       "        \u001b[33mday_of_week\u001b[0m=\u001b[32m'sunday'\u001b[0m\n",
       "    \u001b[1m)\u001b[0m\n",
       "\u001b[1m)\u001b[0m\n"
      ]
     },
     "metadata": {},
     "output_type": "display_data"
    },
    {
     "data": {
      "text/html": [
       "<pre style=\"white-space:pre;overflow-x:auto;line-height:normal;font-family:Menlo,'DejaVu Sans Mono',consolas,'Courier New',monospace\"><span style=\"color: #800080; text-decoration-color: #800080; font-weight: bold\">Action</span><span style=\"font-weight: bold\">(</span>\n",
       "    <span style=\"color: #808000; text-decoration-color: #808000\">name</span>=<span style=\"color: #008000; text-decoration-color: #008000\">'Tidy Up the Kitchen'</span>,\n",
       "    <span style=\"color: #808000; text-decoration-color: #808000\">details</span>=<span style=\"color: #008000; text-decoration-color: #008000\">'After enjoying your late lunch, spend 20 minutes tidying up the kitchen. Start by clearing the dishes </span>\n",
       "<span style=\"color: #008000; text-decoration-color: #008000\">from your meal and rinsing them off, or loading them into a dishwasher if you have one. Wipe down the counters to </span>\n",
       "<span style=\"color: #008000; text-decoration-color: #008000\">remove any crumbs or spills, and reorganize any ingredients or utensils you used during meal preparation. If you </span>\n",
       "<span style=\"color: #008000; text-decoration-color: #008000\">have the energy and time, take a moment to sweep the floor to remove any missed debris. This quick cleanup will </span>\n",
       "<span style=\"color: #008000; text-decoration-color: #008000\">leave the space neat and ready for use later, maintaining the calm and organized vibe of your Sunday while </span>\n",
       "<span style=\"color: #008000; text-decoration-color: #008000\">providing light movement after your meal.'</span>,\n",
       "    <span style=\"color: #808000; text-decoration-color: #808000\">time_spent</span>=<span style=\"color: #008080; text-decoration-color: #008080; font-weight: bold\">0.33</span>,\n",
       "    <span style=\"color: #808000; text-decoration-color: #808000\">from_state_id</span>=<span style=\"color: #008000; text-decoration-color: #008000\">'d1bed00f-1531-4cd4-b6d9-8bbdf33cad93'</span>,\n",
       "    <span style=\"color: #808000; text-decoration-color: #808000\">to_state_id</span>=<span style=\"color: #008000; text-decoration-color: #008000\">'de19163b-ec91-4ebe-a475-b84431a2434f'</span>\n",
       "<span style=\"font-weight: bold\">)</span>\n",
       "</pre>\n"
      ],
      "text/plain": [
       "\u001b[1;35mAction\u001b[0m\u001b[1m(\u001b[0m\n",
       "    \u001b[33mname\u001b[0m=\u001b[32m'Tidy Up the Kitchen'\u001b[0m,\n",
       "    \u001b[33mdetails\u001b[0m=\u001b[32m'After enjoying your late lunch, spend 20 minutes tidying up the kitchen. Start by clearing the dishes \u001b[0m\n",
       "\u001b[32mfrom your meal and rinsing them off, or loading them into a dishwasher if you have one. Wipe down the counters to \u001b[0m\n",
       "\u001b[32mremove any crumbs or spills, and reorganize any ingredients or utensils you used during meal preparation. If you \u001b[0m\n",
       "\u001b[32mhave the energy and time, take a moment to sweep the floor to remove any missed debris. This quick cleanup will \u001b[0m\n",
       "\u001b[32mleave the space neat and ready for use later, maintaining the calm and organized vibe of your Sunday while \u001b[0m\n",
       "\u001b[32mproviding light movement after your meal.'\u001b[0m,\n",
       "    \u001b[33mtime_spent\u001b[0m=\u001b[1;36m0\u001b[0m\u001b[1;36m.33\u001b[0m,\n",
       "    \u001b[33mfrom_state_id\u001b[0m=\u001b[32m'd1bed00f-1531-4cd4-b6d9-8bbdf33cad93'\u001b[0m,\n",
       "    \u001b[33mto_state_id\u001b[0m=\u001b[32m'de19163b-ec91-4ebe-a475-b84431a2434f'\u001b[0m\n",
       "\u001b[1m)\u001b[0m\n"
      ]
     },
     "metadata": {},
     "output_type": "display_data"
    },
    {
     "data": {
      "text/html": [
       "<pre style=\"white-space:pre;overflow-x:auto;line-height:normal;font-family:Menlo,'DejaVu Sans Mono',consolas,'Courier New',monospace\"><span style=\"color: #800080; text-decoration-color: #800080; font-weight: bold\">MyOwnState</span><span style=\"font-weight: bold\">(</span>\n",
       "    <span style=\"color: #808000; text-decoration-color: #808000\">uuid</span>=<span style=\"color: #008000; text-decoration-color: #008000\">'de19163b-ec91-4ebe-a475-b84431a2434f'</span>,\n",
       "    <span style=\"color: #808000; text-decoration-color: #808000\">last_action</span>=<span style=\"color: #008000; text-decoration-color: #008000\">'Tidy Up the Kitchen'</span>,\n",
       "    <span style=\"color: #808000; text-decoration-color: #808000\">previous_state_id</span>=<span style=\"color: #008000; text-decoration-color: #008000\">'d1bed00f-1531-4cd4-b6d9-8bbdf33cad93'</span>,\n",
       "    <span style=\"color: #808000; text-decoration-color: #808000\">state_variables</span>=<span style=\"color: #800080; text-decoration-color: #800080; font-weight: bold\">StateVariables</span><span style=\"font-weight: bold\">(</span>\n",
       "        <span style=\"color: #808000; text-decoration-color: #808000\">context</span>=<span style=\"color: #008000; text-decoration-color: #008000\">'After savoring a warm and nourishing late lunch that complemented the reflective and peaceful tone</span>\n",
       "<span style=\"color: #008000; text-decoration-color: #008000\">of your snowy day, you dedicated about 20 minutes to tidying up the kitchen. You cleared away dishes, rinsing them </span>\n",
       "<span style=\"color: #008000; text-decoration-color: #008000\">off or placing them in the dishwasher, and wiped down the counters to remove remnants of the meal preparation. The </span>\n",
       "<span style=\"color: #008000; text-decoration-color: #008000\">simple act of restoring order to your kitchen brought a sense of minor accomplishment, reinforcing the calm and </span>\n",
       "<span style=\"color: #008000; text-decoration-color: #008000\">intentional mindset cultivated throughout the day. This light, purposeful movement also aided digestion after your </span>\n",
       "<span style=\"color: #008000; text-decoration-color: #008000\">meal, promoting physical comfort without exertion. While the snowy Baltimore afternoon remains unchanged outside, </span>\n",
       "<span style=\"color: #008000; text-decoration-color: #008000\">the neatly organized kitchen now stands ready for later use, echoing the harmony and thoughtfulness shaping your </span>\n",
       "<span style=\"color: #008000; text-decoration-color: #008000\">Sunday.'</span>,\n",
       "        <span style=\"color: #808000; text-decoration-color: #808000\">pain_level</span>=<span style=\"color: #008080; text-decoration-color: #008080; font-weight: bold\">25</span>,\n",
       "        <span style=\"color: #808000; text-decoration-color: #808000\">pleasure_level</span>=<span style=\"color: #008080; text-decoration-color: #008080; font-weight: bold\">83</span>,\n",
       "        <span style=\"color: #808000; text-decoration-color: #808000\">health_level</span>=<span style=\"color: #008080; text-decoration-color: #008080; font-weight: bold\">83</span>,\n",
       "        <span style=\"color: #808000; text-decoration-color: #808000\">focus_level</span>=<span style=\"color: #008080; text-decoration-color: #008080; font-weight: bold\">76</span>\n",
       "    <span style=\"font-weight: bold\">)</span>,\n",
       "    <span style=\"color: #808000; text-decoration-color: #808000\">environment_variables</span>=<span style=\"color: #800080; text-decoration-color: #800080; font-weight: bold\">EnvironmentVariables</span><span style=\"font-weight: bold\">(</span>\n",
       "        <span style=\"color: #808000; text-decoration-color: #808000\">context</span>=<span style=\"color: #008000; text-decoration-color: #008000\">\"As you move on to tidying up the kitchen after your comforting late lunch, the serenity of the </span>\n",
       "<span style=\"color: #008000; text-decoration-color: #008000\">snowy Baltimore afternoon continues outside. The muted light filtering through the overcast sky reflects off the </span>\n",
       "<span style=\"color: #008000; text-decoration-color: #008000\">frosted urban landscape, maintaining a soft, tranquil atmosphere. Indoors, the kitchen hums quietly as you </span>\n",
       "<span style=\"color: #008000; text-decoration-color: #008000\">diligently clean up, clearing dishes, rinsing them, and wiping the counters. The repetitive, mindful tasks of </span>\n",
       "<span style=\"color: #008000; text-decoration-color: #008000\">tidying further reinforce the sense of harmony within your environment. By the time you complete your 20-minute </span>\n",
       "<span style=\"color: #008000; text-decoration-color: #008000\">cleanup, the wintry afternoon has progressed slightly, and the city's snowy silence outside serves as a gentle </span>\n",
       "<span style=\"color: #008000; text-decoration-color: #008000\">counterpoint to the light activity of organizing your space.\"</span>,\n",
       "        <span style=\"color: #808000; text-decoration-color: #808000\">weather</span>=<span style=\"color: #008000; text-decoration-color: #008000\">'snowy'</span>,\n",
       "        <span style=\"color: #808000; text-decoration-color: #808000\">hour_of_day</span>=<span style=\"color: #008080; text-decoration-color: #008080; font-weight: bold\">15.5</span>,\n",
       "        <span style=\"color: #808000; text-decoration-color: #808000\">day_of_week</span>=<span style=\"color: #008000; text-decoration-color: #008000\">'sunday'</span>\n",
       "    <span style=\"font-weight: bold\">)</span>\n",
       "<span style=\"font-weight: bold\">)</span>\n",
       "</pre>\n"
      ],
      "text/plain": [
       "\u001b[1;35mMyOwnState\u001b[0m\u001b[1m(\u001b[0m\n",
       "    \u001b[33muuid\u001b[0m=\u001b[32m'de19163b-ec91-4ebe-a475-b84431a2434f'\u001b[0m,\n",
       "    \u001b[33mlast_action\u001b[0m=\u001b[32m'Tidy Up the Kitchen'\u001b[0m,\n",
       "    \u001b[33mprevious_state_id\u001b[0m=\u001b[32m'd1bed00f-1531-4cd4-b6d9-8bbdf33cad93'\u001b[0m,\n",
       "    \u001b[33mstate_variables\u001b[0m=\u001b[1;35mStateVariables\u001b[0m\u001b[1m(\u001b[0m\n",
       "        \u001b[33mcontext\u001b[0m=\u001b[32m'After savoring a warm and nourishing late lunch that complemented the reflective and peaceful tone\u001b[0m\n",
       "\u001b[32mof your snowy day, you dedicated about 20 minutes to tidying up the kitchen. You cleared away dishes, rinsing them \u001b[0m\n",
       "\u001b[32moff or placing them in the dishwasher, and wiped down the counters to remove remnants of the meal preparation. The \u001b[0m\n",
       "\u001b[32msimple act of restoring order to your kitchen brought a sense of minor accomplishment, reinforcing the calm and \u001b[0m\n",
       "\u001b[32mintentional mindset cultivated throughout the day. This light, purposeful movement also aided digestion after your \u001b[0m\n",
       "\u001b[32mmeal, promoting physical comfort without exertion. While the snowy Baltimore afternoon remains unchanged outside, \u001b[0m\n",
       "\u001b[32mthe neatly organized kitchen now stands ready for later use, echoing the harmony and thoughtfulness shaping your \u001b[0m\n",
       "\u001b[32mSunday.'\u001b[0m,\n",
       "        \u001b[33mpain_level\u001b[0m=\u001b[1;36m25\u001b[0m,\n",
       "        \u001b[33mpleasure_level\u001b[0m=\u001b[1;36m83\u001b[0m,\n",
       "        \u001b[33mhealth_level\u001b[0m=\u001b[1;36m83\u001b[0m,\n",
       "        \u001b[33mfocus_level\u001b[0m=\u001b[1;36m76\u001b[0m\n",
       "    \u001b[1m)\u001b[0m,\n",
       "    \u001b[33menvironment_variables\u001b[0m=\u001b[1;35mEnvironmentVariables\u001b[0m\u001b[1m(\u001b[0m\n",
       "        \u001b[33mcontext\u001b[0m=\u001b[32m\"As\u001b[0m\u001b[32m you move on to tidying up the kitchen after your comforting late lunch, the serenity of the \u001b[0m\n",
       "\u001b[32msnowy Baltimore afternoon continues outside. The muted light filtering through the overcast sky reflects off the \u001b[0m\n",
       "\u001b[32mfrosted urban landscape, maintaining a soft, tranquil atmosphere. Indoors, the kitchen hums quietly as you \u001b[0m\n",
       "\u001b[32mdiligently clean up, clearing dishes, rinsing them, and wiping the counters. The repetitive, mindful tasks of \u001b[0m\n",
       "\u001b[32mtidying further reinforce the sense of harmony within your environment. By the time you complete your 20-minute \u001b[0m\n",
       "\u001b[32mcleanup, the wintry afternoon has progressed slightly, and the city's snowy silence outside serves as a gentle \u001b[0m\n",
       "\u001b[32mcounterpoint to the light activity of organizing your space.\"\u001b[0m,\n",
       "        \u001b[33mweather\u001b[0m=\u001b[32m'snowy'\u001b[0m,\n",
       "        \u001b[33mhour_of_day\u001b[0m=\u001b[1;36m15\u001b[0m\u001b[1;36m.5\u001b[0m,\n",
       "        \u001b[33mday_of_week\u001b[0m=\u001b[32m'sunday'\u001b[0m\n",
       "    \u001b[1m)\u001b[0m\n",
       "\u001b[1m)\u001b[0m\n"
      ]
     },
     "metadata": {},
     "output_type": "display_data"
    }
   ],
   "source": [
    "for n in range(10):\n",
    "    life.iterate()\n",
    "    rprint(life.actions[-1])\n",
    "    rprint(life.states[-1])"
   ]
  },
  {
   "cell_type": "code",
   "execution_count": 34,
   "metadata": {},
   "outputs": [
    {
     "data": {
      "text/html": [
       "<pre style=\"white-space:pre;overflow-x:auto;line-height:normal;font-family:Menlo,'DejaVu Sans Mono',consolas,'Courier New',monospace\"><span style=\"color: #800080; text-decoration-color: #800080; font-weight: bold\">Action</span><span style=\"font-weight: bold\">(</span>\n",
       "    <span style=\"color: #808000; text-decoration-color: #808000\">name</span>=<span style=\"color: #008000; text-decoration-color: #008000\">'Plan the Afternoon Ahead'</span>,\n",
       "    <span style=\"color: #808000; text-decoration-color: #808000\">details</span>=<span style=\"color: #008000; text-decoration-color: #008000\">'Now that you feel more relaxed and refreshed from the warmth of the tea and the rest it provided, take</span>\n",
       "<span style=\"color: #008000; text-decoration-color: #008000\">a few minutes to think ahead about how you’d like to spend the remainder of this snowy Sunday afternoon. Grab a </span>\n",
       "<span style=\"color: #008000; text-decoration-color: #008000\">notepad or your phone to jot down ideas. Consider activities that balance relaxation and productivity, such as </span>\n",
       "<span style=\"color: #008000; text-decoration-color: #008000\">reading a book, watching a comforting movie, doing light organizing or tidying up, or starting a creative project </span>\n",
       "<span style=\"color: #008000; text-decoration-color: #008000\">such as drawing or knitting. Prioritize activities that align with your current low-energy but peaceful state. This</span>\n",
       "<span style=\"color: #008000; text-decoration-color: #008000\">planning session will help you bring intentionality and focus to your afternoon while ensuring you don’t overexert </span>\n",
       "<span style=\"color: #008000; text-decoration-color: #008000\">yourself.'</span>,\n",
       "    <span style=\"color: #808000; text-decoration-color: #808000\">time_spent</span>=<span style=\"color: #008080; text-decoration-color: #008080; font-weight: bold\">0.25</span>,\n",
       "    <span style=\"color: #808000; text-decoration-color: #808000\">from_state_id</span>=<span style=\"color: #800080; text-decoration-color: #800080; font-style: italic\">None</span>,\n",
       "    <span style=\"color: #808000; text-decoration-color: #808000\">to_state_id</span>=<span style=\"color: #800080; text-decoration-color: #800080; font-style: italic\">None</span>\n",
       "<span style=\"font-weight: bold\">)</span>\n",
       "</pre>\n"
      ],
      "text/plain": [
       "\u001b[1;35mAction\u001b[0m\u001b[1m(\u001b[0m\n",
       "    \u001b[33mname\u001b[0m=\u001b[32m'Plan the Afternoon Ahead'\u001b[0m,\n",
       "    \u001b[33mdetails\u001b[0m=\u001b[32m'Now that you feel more relaxed and refreshed from the warmth of the tea and the rest it provided, take\u001b[0m\n",
       "\u001b[32ma few minutes to think ahead about how you’d like to spend the remainder of this snowy Sunday afternoon. Grab a \u001b[0m\n",
       "\u001b[32mnotepad or your phone to jot down ideas. Consider activities that balance relaxation and productivity, such as \u001b[0m\n",
       "\u001b[32mreading a book, watching a comforting movie, doing light organizing or tidying up, or starting a creative project \u001b[0m\n",
       "\u001b[32msuch as drawing or knitting. Prioritize activities that align with your current low-energy but peaceful state. This\u001b[0m\n",
       "\u001b[32mplanning session will help you bring intentionality and focus to your afternoon while ensuring you don’t overexert \u001b[0m\n",
       "\u001b[32myourself.'\u001b[0m,\n",
       "    \u001b[33mtime_spent\u001b[0m=\u001b[1;36m0\u001b[0m\u001b[1;36m.25\u001b[0m,\n",
       "    \u001b[33mfrom_state_id\u001b[0m=\u001b[3;35mNone\u001b[0m,\n",
       "    \u001b[33mto_state_id\u001b[0m=\u001b[3;35mNone\u001b[0m\n",
       "\u001b[1m)\u001b[0m\n"
      ]
     },
     "metadata": {},
     "output_type": "display_data"
    },
    {
     "data": {
      "text/html": [
       "<pre style=\"white-space:pre;overflow-x:auto;line-height:normal;font-family:Menlo,'DejaVu Sans Mono',consolas,'Courier New',monospace\"><span style=\"color: #800080; text-decoration-color: #800080; font-weight: bold\">StateVariables</span><span style=\"font-weight: bold\">(</span>\n",
       "    <span style=\"color: #808000; text-decoration-color: #808000\">context</span>=<span style=\"color: #008000; text-decoration-color: #008000\">'You take a brief moment to plan the remainder of your snowy Sunday afternoon. After feeling relaxed </span>\n",
       "<span style=\"color: #008000; text-decoration-color: #008000\">from earlier warm beverages and an atmosphere of calm, you prioritize activities that strike a balance between </span>\n",
       "<span style=\"color: #008000; text-decoration-color: #008000\">relaxation and light productivity. Using a notepad or your phone, you consider ideas to enhance your peaceful state</span>\n",
       "<span style=\"color: #008000; text-decoration-color: #008000\">without overexertion, including options like reading, organizing, creative projects, or even enjoying a comforting </span>\n",
       "<span style=\"color: #008000; text-decoration-color: #008000\">movie.'</span>,\n",
       "    <span style=\"color: #808000; text-decoration-color: #808000\">pain_level</span>=<span style=\"color: #008080; text-decoration-color: #008080; font-weight: bold\">25</span>,\n",
       "    <span style=\"color: #808000; text-decoration-color: #808000\">pleasure_level</span>=<span style=\"color: #008080; text-decoration-color: #008080; font-weight: bold\">83</span>,\n",
       "    <span style=\"color: #808000; text-decoration-color: #808000\">health_level</span>=<span style=\"color: #008080; text-decoration-color: #008080; font-weight: bold\">83</span>,\n",
       "    <span style=\"color: #808000; text-decoration-color: #808000\">focus_level</span>=<span style=\"color: #008080; text-decoration-color: #008080; font-weight: bold\">78</span>\n",
       "<span style=\"font-weight: bold\">)</span>\n",
       "</pre>\n"
      ],
      "text/plain": [
       "\u001b[1;35mStateVariables\u001b[0m\u001b[1m(\u001b[0m\n",
       "    \u001b[33mcontext\u001b[0m=\u001b[32m'You take a brief moment to plan the remainder of your snowy Sunday afternoon. After feeling relaxed \u001b[0m\n",
       "\u001b[32mfrom earlier warm beverages and an atmosphere of calm, you prioritize activities that strike a balance between \u001b[0m\n",
       "\u001b[32mrelaxation and light productivity. Using a notepad or your phone, you consider ideas to enhance your peaceful state\u001b[0m\n",
       "\u001b[32mwithout overexertion, including options like reading, organizing, creative projects, or even enjoying a comforting \u001b[0m\n",
       "\u001b[32mmovie.'\u001b[0m,\n",
       "    \u001b[33mpain_level\u001b[0m=\u001b[1;36m25\u001b[0m,\n",
       "    \u001b[33mpleasure_level\u001b[0m=\u001b[1;36m83\u001b[0m,\n",
       "    \u001b[33mhealth_level\u001b[0m=\u001b[1;36m83\u001b[0m,\n",
       "    \u001b[33mfocus_level\u001b[0m=\u001b[1;36m78\u001b[0m\n",
       "\u001b[1m)\u001b[0m\n"
      ]
     },
     "metadata": {},
     "output_type": "display_data"
    },
    {
     "data": {
      "text/html": [
       "<pre style=\"white-space:pre;overflow-x:auto;line-height:normal;font-family:Menlo,'DejaVu Sans Mono',consolas,'Courier New',monospace\"><span style=\"color: #800080; text-decoration-color: #800080; font-weight: bold\">Action</span><span style=\"font-weight: bold\">(</span>\n",
       "    <span style=\"color: #808000; text-decoration-color: #808000\">name</span>=<span style=\"color: #008000; text-decoration-color: #008000\">'Read a Cozy Book by the Window'</span>,\n",
       "    <span style=\"color: #808000; text-decoration-color: #808000\">details</span>=<span style=\"color: #008000; text-decoration-color: #008000\">'Select a book that feels comforting or inspiring—something light-hearted, thought-provoking, or </span>\n",
       "<span style=\"color: #008000; text-decoration-color: #008000\">adventurous, depending on your mood. Arrange a cozy spot by the window where you can take advantage of the soft, </span>\n",
       "<span style=\"color: #008000; text-decoration-color: #008000\">muted sunlight filtering through the snowy scene. Wrap yourself in a blanket if desired and settle in with your </span>\n",
       "<span style=\"color: #008000; text-decoration-color: #008000\">book, allowing yourself to get lost in its pages. The calm, reflective ambiance from the earlier walk and tea will </span>\n",
       "<span style=\"color: #008000; text-decoration-color: #008000\">complement this quiet act of engagement with a story. Dedicate at least 45 minutes to reading, letting yourself </span>\n",
       "<span style=\"color: #008000; text-decoration-color: #008000\">fully relax and recharge while connecting with the narrative.'</span>,\n",
       "    <span style=\"color: #808000; text-decoration-color: #808000\">time_spent</span>=<span style=\"color: #008080; text-decoration-color: #008080; font-weight: bold\">0.75</span>,\n",
       "    <span style=\"color: #808000; text-decoration-color: #808000\">from_state_id</span>=<span style=\"color: #800080; text-decoration-color: #800080; font-style: italic\">None</span>,\n",
       "    <span style=\"color: #808000; text-decoration-color: #808000\">to_state_id</span>=<span style=\"color: #800080; text-decoration-color: #800080; font-style: italic\">None</span>\n",
       "<span style=\"font-weight: bold\">)</span>\n",
       "</pre>\n"
      ],
      "text/plain": [
       "\u001b[1;35mAction\u001b[0m\u001b[1m(\u001b[0m\n",
       "    \u001b[33mname\u001b[0m=\u001b[32m'Read a Cozy Book by the Window'\u001b[0m,\n",
       "    \u001b[33mdetails\u001b[0m=\u001b[32m'Select a book that feels comforting or inspiring—something light-hearted, thought-provoking, or \u001b[0m\n",
       "\u001b[32madventurous, depending on your mood. Arrange a cozy spot by the window where you can take advantage of the soft, \u001b[0m\n",
       "\u001b[32mmuted sunlight filtering through the snowy scene. Wrap yourself in a blanket if desired and settle in with your \u001b[0m\n",
       "\u001b[32mbook, allowing yourself to get lost in its pages. The calm, reflective ambiance from the earlier walk and tea will \u001b[0m\n",
       "\u001b[32mcomplement this quiet act of engagement with a story. Dedicate at least 45 minutes to reading, letting yourself \u001b[0m\n",
       "\u001b[32mfully relax and recharge while connecting with the narrative.'\u001b[0m,\n",
       "    \u001b[33mtime_spent\u001b[0m=\u001b[1;36m0\u001b[0m\u001b[1;36m.75\u001b[0m,\n",
       "    \u001b[33mfrom_state_id\u001b[0m=\u001b[3;35mNone\u001b[0m,\n",
       "    \u001b[33mto_state_id\u001b[0m=\u001b[3;35mNone\u001b[0m\n",
       "\u001b[1m)\u001b[0m\n"
      ]
     },
     "metadata": {},
     "output_type": "display_data"
    },
    {
     "data": {
      "text/html": [
       "<pre style=\"white-space:pre;overflow-x:auto;line-height:normal;font-family:Menlo,'DejaVu Sans Mono',consolas,'Courier New',monospace\"><span style=\"color: #800080; text-decoration-color: #800080; font-weight: bold\">StateVariables</span><span style=\"font-weight: bold\">(</span>\n",
       "    <span style=\"color: #808000; text-decoration-color: #808000\">context</span>=<span style=\"color: #008000; text-decoration-color: #008000\">'After finishing tidying up the kitchen and feeling a sense of calm accomplishment, you decide to read </span>\n",
       "<span style=\"color: #008000; text-decoration-color: #008000\">a comforting book once again by the window. Recreating the cozy spot from earlier in the day, you settle in with a </span>\n",
       "<span style=\"color: #008000; text-decoration-color: #008000\">warm blanket and a light-hearted or thought-provoking book that aligns with your current reflective state. The </span>\n",
       "<span style=\"color: #008000; text-decoration-color: #008000\">soft, muted sunlight filtering through the snowy scene provides an ideal backdrop for diving into the narrative. </span>\n",
       "<span style=\"color: #008000; text-decoration-color: #008000\">This reading session encourages further relaxation while gently engaging your mind. Given the snowy patterns </span>\n",
       "<span style=\"color: #008000; text-decoration-color: #008000\">outdoors and the warmth of your indoor space, this activity complements the peaceful tone of the day.'</span>,\n",
       "    <span style=\"color: #808000; text-decoration-color: #808000\">pain_level</span>=<span style=\"color: #008080; text-decoration-color: #008080; font-weight: bold\">25</span>,\n",
       "    <span style=\"color: #808000; text-decoration-color: #808000\">pleasure_level</span>=<span style=\"color: #008080; text-decoration-color: #008080; font-weight: bold\">85</span>,\n",
       "    <span style=\"color: #808000; text-decoration-color: #808000\">health_level</span>=<span style=\"color: #008080; text-decoration-color: #008080; font-weight: bold\">83</span>,\n",
       "    <span style=\"color: #808000; text-decoration-color: #808000\">focus_level</span>=<span style=\"color: #008080; text-decoration-color: #008080; font-weight: bold\">78</span>\n",
       "<span style=\"font-weight: bold\">)</span>\n",
       "</pre>\n"
      ],
      "text/plain": [
       "\u001b[1;35mStateVariables\u001b[0m\u001b[1m(\u001b[0m\n",
       "    \u001b[33mcontext\u001b[0m=\u001b[32m'After finishing tidying up the kitchen and feeling a sense of calm accomplishment, you decide to read \u001b[0m\n",
       "\u001b[32ma comforting book once again by the window. Recreating the cozy spot from earlier in the day, you settle in with a \u001b[0m\n",
       "\u001b[32mwarm blanket and a light-hearted or thought-provoking book that aligns with your current reflective state. The \u001b[0m\n",
       "\u001b[32msoft, muted sunlight filtering through the snowy scene provides an ideal backdrop for diving into the narrative. \u001b[0m\n",
       "\u001b[32mThis reading session encourages further relaxation while gently engaging your mind. Given the snowy patterns \u001b[0m\n",
       "\u001b[32moutdoors and the warmth of your indoor space, this activity complements the peaceful tone of the day.'\u001b[0m,\n",
       "    \u001b[33mpain_level\u001b[0m=\u001b[1;36m25\u001b[0m,\n",
       "    \u001b[33mpleasure_level\u001b[0m=\u001b[1;36m85\u001b[0m,\n",
       "    \u001b[33mhealth_level\u001b[0m=\u001b[1;36m83\u001b[0m,\n",
       "    \u001b[33mfocus_level\u001b[0m=\u001b[1;36m78\u001b[0m\n",
       "\u001b[1m)\u001b[0m\n"
      ]
     },
     "metadata": {},
     "output_type": "display_data"
    },
    {
     "data": {
      "text/html": [
       "<pre style=\"white-space:pre;overflow-x:auto;line-height:normal;font-family:Menlo,'DejaVu Sans Mono',consolas,'Courier New',monospace\"><span style=\"color: #800080; text-decoration-color: #800080; font-weight: bold\">Action</span><span style=\"font-weight: bold\">(</span>\n",
       "    <span style=\"color: #808000; text-decoration-color: #808000\">name</span>=<span style=\"color: #008000; text-decoration-color: #008000\">'Engage in Light Stretching or Yoga'</span>,\n",
       "    <span style=\"color: #808000; text-decoration-color: #808000\">details</span>=<span style=\"color: #008000; text-decoration-color: #008000\">'Spend 15 minutes engaging in light stretching or a gentle yoga sequence to refresh your body and </span>\n",
       "<span style=\"color: #008000; text-decoration-color: #008000\">support the circulation after the extended period of stillness from reading. Set up a comfortable space on a yoga </span>\n",
       "<span style=\"color: #008000; text-decoration-color: #008000\">mat or a soft floor area, and consider following a short online guided session or creating your own routine. Start </span>\n",
       "<span style=\"color: #008000; text-decoration-color: #008000\">with simple movements like neck rolls, shoulder stretches, and seated forward folds, followed by cat-cow stretches </span>\n",
       "<span style=\"color: #008000; text-decoration-color: #008000\">and downward-facing dog to release any tension. Focus on breathing deeply and mindfully throughout the process. </span>\n",
       "<span style=\"color: #008000; text-decoration-color: #008000\">This practice will invigorate your physical body while keeping you grounded in the peaceful ambiance of the day.'</span>,\n",
       "    <span style=\"color: #808000; text-decoration-color: #808000\">time_spent</span>=<span style=\"color: #008080; text-decoration-color: #008080; font-weight: bold\">0.25</span>,\n",
       "    <span style=\"color: #808000; text-decoration-color: #808000\">from_state_id</span>=<span style=\"color: #800080; text-decoration-color: #800080; font-style: italic\">None</span>,\n",
       "    <span style=\"color: #808000; text-decoration-color: #808000\">to_state_id</span>=<span style=\"color: #800080; text-decoration-color: #800080; font-style: italic\">None</span>\n",
       "<span style=\"font-weight: bold\">)</span>\n",
       "</pre>\n"
      ],
      "text/plain": [
       "\u001b[1;35mAction\u001b[0m\u001b[1m(\u001b[0m\n",
       "    \u001b[33mname\u001b[0m=\u001b[32m'Engage in Light Stretching or Yoga'\u001b[0m,\n",
       "    \u001b[33mdetails\u001b[0m=\u001b[32m'Spend 15 minutes engaging in light stretching or a gentle yoga sequence to refresh your body and \u001b[0m\n",
       "\u001b[32msupport the circulation after the extended period of stillness from reading. Set up a comfortable space on a yoga \u001b[0m\n",
       "\u001b[32mmat or a soft floor area, and consider following a short online guided session or creating your own routine. Start \u001b[0m\n",
       "\u001b[32mwith simple movements like neck rolls, shoulder stretches, and seated forward folds, followed by cat-cow stretches \u001b[0m\n",
       "\u001b[32mand downward-facing dog to release any tension. Focus on breathing deeply and mindfully throughout the process. \u001b[0m\n",
       "\u001b[32mThis practice will invigorate your physical body while keeping you grounded in the peaceful ambiance of the day.'\u001b[0m,\n",
       "    \u001b[33mtime_spent\u001b[0m=\u001b[1;36m0\u001b[0m\u001b[1;36m.25\u001b[0m,\n",
       "    \u001b[33mfrom_state_id\u001b[0m=\u001b[3;35mNone\u001b[0m,\n",
       "    \u001b[33mto_state_id\u001b[0m=\u001b[3;35mNone\u001b[0m\n",
       "\u001b[1m)\u001b[0m\n"
      ]
     },
     "metadata": {},
     "output_type": "display_data"
    },
    {
     "data": {
      "text/html": [
       "<pre style=\"white-space:pre;overflow-x:auto;line-height:normal;font-family:Menlo,'DejaVu Sans Mono',consolas,'Courier New',monospace\"><span style=\"color: #800080; text-decoration-color: #800080; font-weight: bold\">StateVariables</span><span style=\"font-weight: bold\">(</span>\n",
       "    <span style=\"color: #808000; text-decoration-color: #808000\">context</span>=<span style=\"color: #008000; text-decoration-color: #008000\">'You decided to dedicate 15 minutes to light stretching or a gentle yoga session. Finding a quiet and </span>\n",
       "<span style=\"color: #008000; text-decoration-color: #008000\">cozy area at home, you laid down your yoga mat or chose a soft surface, and began by centering yourself through </span>\n",
       "<span style=\"color: #008000; text-decoration-color: #008000\">deep, mindful breathing. The session included simple movements such as neck rolls, shoulder stretches, and forward </span>\n",
       "<span style=\"color: #008000; text-decoration-color: #008000\">folds to release tension from previous hours of stillness. You also seamlessly integrated cat-cow stretches and </span>\n",
       "<span style=\"color: #008000; text-decoration-color: #008000\">downward-facing dog to further loosen your spine and improve circulation. The intentional focus on breath and </span>\n",
       "<span style=\"color: #008000; text-decoration-color: #008000\">movement brought a feeling of presence and relaxation, while the physical activity re-energized your body gently. </span>\n",
       "<span style=\"color: #008000; text-decoration-color: #008000\">This practice allowed you to contribute to your physical and mental balance on a snowy, serene Sunday.'</span>,\n",
       "    <span style=\"color: #808000; text-decoration-color: #808000\">pain_level</span>=<span style=\"color: #008080; text-decoration-color: #008080; font-weight: bold\">23</span>,\n",
       "    <span style=\"color: #808000; text-decoration-color: #808000\">pleasure_level</span>=<span style=\"color: #008080; text-decoration-color: #008080; font-weight: bold\">87</span>,\n",
       "    <span style=\"color: #808000; text-decoration-color: #808000\">health_level</span>=<span style=\"color: #008080; text-decoration-color: #008080; font-weight: bold\">85</span>,\n",
       "    <span style=\"color: #808000; text-decoration-color: #808000\">focus_level</span>=<span style=\"color: #008080; text-decoration-color: #008080; font-weight: bold\">80</span>\n",
       "<span style=\"font-weight: bold\">)</span>\n",
       "</pre>\n"
      ],
      "text/plain": [
       "\u001b[1;35mStateVariables\u001b[0m\u001b[1m(\u001b[0m\n",
       "    \u001b[33mcontext\u001b[0m=\u001b[32m'You decided to dedicate 15 minutes to light stretching or a gentle yoga session. Finding a quiet and \u001b[0m\n",
       "\u001b[32mcozy area at home, you laid down your yoga mat or chose a soft surface, and began by centering yourself through \u001b[0m\n",
       "\u001b[32mdeep, mindful breathing. The session included simple movements such as neck rolls, shoulder stretches, and forward \u001b[0m\n",
       "\u001b[32mfolds to release tension from previous hours of stillness. You also seamlessly integrated cat-cow stretches and \u001b[0m\n",
       "\u001b[32mdownward-facing dog to further loosen your spine and improve circulation. The intentional focus on breath and \u001b[0m\n",
       "\u001b[32mmovement brought a feeling of presence and relaxation, while the physical activity re-energized your body gently. \u001b[0m\n",
       "\u001b[32mThis practice allowed you to contribute to your physical and mental balance on a snowy, serene Sunday.'\u001b[0m,\n",
       "    \u001b[33mpain_level\u001b[0m=\u001b[1;36m23\u001b[0m,\n",
       "    \u001b[33mpleasure_level\u001b[0m=\u001b[1;36m87\u001b[0m,\n",
       "    \u001b[33mhealth_level\u001b[0m=\u001b[1;36m85\u001b[0m,\n",
       "    \u001b[33mfocus_level\u001b[0m=\u001b[1;36m80\u001b[0m\n",
       "\u001b[1m)\u001b[0m\n"
      ]
     },
     "metadata": {},
     "output_type": "display_data"
    },
    {
     "data": {
      "text/html": [
       "<pre style=\"white-space:pre;overflow-x:auto;line-height:normal;font-family:Menlo,'DejaVu Sans Mono',consolas,'Courier New',monospace\"><span style=\"color: #800080; text-decoration-color: #800080; font-weight: bold\">Action</span><span style=\"font-weight: bold\">(</span>\n",
       "    <span style=\"color: #808000; text-decoration-color: #808000\">name</span>=<span style=\"color: #008000; text-decoration-color: #008000\">'Prepare a Comforting Late Lunch'</span>,\n",
       "    <span style=\"color: #808000; text-decoration-color: #808000\">details</span>=<span style=\"color: #008000; text-decoration-color: #008000\">\"With your body feeling refreshed from the stretching session, take some time to prepare a late lunch </span>\n",
       "<span style=\"color: #008000; text-decoration-color: #008000\">that is warm and nourishing. Choose a simple dish like a hearty soup, pasta, or a warm grain bowl with roasted </span>\n",
       "<span style=\"color: #008000; text-decoration-color: #008000\">vegetables. Begin by gathering your ingredients and setting up your kitchen space. If you're opting for something </span>\n",
       "<span style=\"color: #008000; text-decoration-color: #008000\">quick, consider heating leftovers or crafting a sandwich with a warm drink on the side. As you cook or assemble the</span>\n",
       "<span style=\"color: #008000; text-decoration-color: #008000\">meal, engage your senses by appreciating the colors, aromas, and textures of your ingredients. Enjoy this act of </span>\n",
       "<span style=\"color: #008000; text-decoration-color: #008000\">self-care and intention. Once ready, serve your meal at the table or a comfortable dining spot and relish the </span>\n",
       "<span style=\"color: #008000; text-decoration-color: #008000\">satisfying flavors while reflecting on this tranquil day. Allocate about 45 minutes to an hour for the entire </span>\n",
       "<span style=\"color: #008000; text-decoration-color: #008000\">process, including preparation and eating.\"</span>,\n",
       "    <span style=\"color: #808000; text-decoration-color: #808000\">time_spent</span>=<span style=\"color: #008080; text-decoration-color: #008080; font-weight: bold\">1.0</span>,\n",
       "    <span style=\"color: #808000; text-decoration-color: #808000\">from_state_id</span>=<span style=\"color: #800080; text-decoration-color: #800080; font-style: italic\">None</span>,\n",
       "    <span style=\"color: #808000; text-decoration-color: #808000\">to_state_id</span>=<span style=\"color: #800080; text-decoration-color: #800080; font-style: italic\">None</span>\n",
       "<span style=\"font-weight: bold\">)</span>\n",
       "</pre>\n"
      ],
      "text/plain": [
       "\u001b[1;35mAction\u001b[0m\u001b[1m(\u001b[0m\n",
       "    \u001b[33mname\u001b[0m=\u001b[32m'Prepare a Comforting Late Lunch'\u001b[0m,\n",
       "    \u001b[33mdetails\u001b[0m=\u001b[32m\"With\u001b[0m\u001b[32m your body feeling refreshed from the stretching session, take some time to prepare a late lunch \u001b[0m\n",
       "\u001b[32mthat is warm and nourishing. Choose a simple dish like a hearty soup, pasta, or a warm grain bowl with roasted \u001b[0m\n",
       "\u001b[32mvegetables. Begin by gathering your ingredients and setting up your kitchen space. If you're opting for something \u001b[0m\n",
       "\u001b[32mquick, consider heating leftovers or crafting a sandwich with a warm drink on the side. As you cook or assemble the\u001b[0m\n",
       "\u001b[32mmeal, engage your senses by appreciating the colors, aromas, and textures of your ingredients. Enjoy this act of \u001b[0m\n",
       "\u001b[32mself-care and intention. Once ready, serve your meal at the table or a comfortable dining spot and relish the \u001b[0m\n",
       "\u001b[32msatisfying flavors while reflecting on this tranquil day. Allocate about 45 minutes to an hour for the entire \u001b[0m\n",
       "\u001b[32mprocess, including preparation and eating.\"\u001b[0m,\n",
       "    \u001b[33mtime_spent\u001b[0m=\u001b[1;36m1\u001b[0m\u001b[1;36m.0\u001b[0m,\n",
       "    \u001b[33mfrom_state_id\u001b[0m=\u001b[3;35mNone\u001b[0m,\n",
       "    \u001b[33mto_state_id\u001b[0m=\u001b[3;35mNone\u001b[0m\n",
       "\u001b[1m)\u001b[0m\n"
      ]
     },
     "metadata": {},
     "output_type": "display_data"
    },
    {
     "data": {
      "text/html": [
       "<pre style=\"white-space:pre;overflow-x:auto;line-height:normal;font-family:Menlo,'DejaVu Sans Mono',consolas,'Courier New',monospace\"><span style=\"color: #800080; text-decoration-color: #800080; font-weight: bold\">StateVariables</span><span style=\"font-weight: bold\">(</span>\n",
       "    <span style=\"color: #808000; text-decoration-color: #808000\">context</span>=<span style=\"color: #008000; text-decoration-color: #008000\">\"After a physically refreshing session of yoga and stretching, you begin making a comforting late lunch</span>\n",
       "<span style=\"color: #008000; text-decoration-color: #008000\">to nourish your body and align with the peaceful mood of a snowy Sunday. Your focus is on simple, warm dishes like </span>\n",
       "<span style=\"color: #008000; text-decoration-color: #008000\">soup, pasta, or a grain bowl with roasted vegetables, or you might opt for some quick leftovers or a thoughtfully </span>\n",
       "<span style=\"color: #008000; text-decoration-color: #008000\">crafted sandwich. While preparing your meal, there's an intentional engagement of the senses as you notice the </span>\n",
       "<span style=\"color: #008000; text-decoration-color: #008000\">colors, aromas, and textures of your ingredients. This act of cooking is not rushed but embraced as another layer </span>\n",
       "<span style=\"color: #008000; text-decoration-color: #008000\">of self-care in your day. After preparation, you sit down to savor your comforting meal, reflecting on the peaceful</span>\n",
       "<span style=\"color: #008000; text-decoration-color: #008000\">tone of the afternoon so far. This process provides both physical sustenance and mental relaxation, supporting your</span>\n",
       "<span style=\"color: #008000; text-decoration-color: #008000\">overall harmony and well-being.\"</span>,\n",
       "    <span style=\"color: #808000; text-decoration-color: #808000\">pain_level</span>=<span style=\"color: #008080; text-decoration-color: #008080; font-weight: bold\">25</span>,\n",
       "    <span style=\"color: #808000; text-decoration-color: #808000\">pleasure_level</span>=<span style=\"color: #008080; text-decoration-color: #008080; font-weight: bold\">87</span>,\n",
       "    <span style=\"color: #808000; text-decoration-color: #808000\">health_level</span>=<span style=\"color: #008080; text-decoration-color: #008080; font-weight: bold\">84</span>,\n",
       "    <span style=\"color: #808000; text-decoration-color: #808000\">focus_level</span>=<span style=\"color: #008080; text-decoration-color: #008080; font-weight: bold\">78</span>\n",
       "<span style=\"font-weight: bold\">)</span>\n",
       "</pre>\n"
      ],
      "text/plain": [
       "\u001b[1;35mStateVariables\u001b[0m\u001b[1m(\u001b[0m\n",
       "    \u001b[33mcontext\u001b[0m=\u001b[32m\"After\u001b[0m\u001b[32m a physically refreshing session of yoga and stretching, you begin making a comforting late lunch\u001b[0m\n",
       "\u001b[32mto nourish your body and align with the peaceful mood of a snowy Sunday. Your focus is on simple, warm dishes like \u001b[0m\n",
       "\u001b[32msoup, pasta, or a grain bowl with roasted vegetables, or you might opt for some quick leftovers or a thoughtfully \u001b[0m\n",
       "\u001b[32mcrafted sandwich. While preparing your meal, there's an intentional engagement of the senses as you notice the \u001b[0m\n",
       "\u001b[32mcolors, aromas, and textures of your ingredients. This act of cooking is not rushed but embraced as another layer \u001b[0m\n",
       "\u001b[32mof self-care in your day. After preparation, you sit down to savor your comforting meal, reflecting on the peaceful\u001b[0m\n",
       "\u001b[32mtone of the afternoon so far. This process provides both physical sustenance and mental relaxation, supporting your\u001b[0m\n",
       "\u001b[32moverall harmony and well-being.\"\u001b[0m,\n",
       "    \u001b[33mpain_level\u001b[0m=\u001b[1;36m25\u001b[0m,\n",
       "    \u001b[33mpleasure_level\u001b[0m=\u001b[1;36m87\u001b[0m,\n",
       "    \u001b[33mhealth_level\u001b[0m=\u001b[1;36m84\u001b[0m,\n",
       "    \u001b[33mfocus_level\u001b[0m=\u001b[1;36m78\u001b[0m\n",
       "\u001b[1m)\u001b[0m\n"
      ]
     },
     "metadata": {},
     "output_type": "display_data"
    },
    {
     "data": {
      "text/html": [
       "<pre style=\"white-space:pre;overflow-x:auto;line-height:normal;font-family:Menlo,'DejaVu Sans Mono',consolas,'Courier New',monospace\"><span style=\"color: #800080; text-decoration-color: #800080; font-weight: bold\">Action</span><span style=\"font-weight: bold\">(</span>\n",
       "    <span style=\"color: #808000; text-decoration-color: #808000\">name</span>=<span style=\"color: #008000; text-decoration-color: #008000\">'Tidy Up the Kitchen'</span>,\n",
       "    <span style=\"color: #808000; text-decoration-color: #808000\">details</span>=<span style=\"color: #008000; text-decoration-color: #008000\">'After enjoying your late lunch, spend 20 minutes tidying up the kitchen. Start by clearing the dishes </span>\n",
       "<span style=\"color: #008000; text-decoration-color: #008000\">from your meal and rinsing them off, or loading them into a dishwasher if you have one. Wipe down the counters to </span>\n",
       "<span style=\"color: #008000; text-decoration-color: #008000\">remove any crumbs or spills, and reorganize any ingredients or utensils you used during meal preparation. If you </span>\n",
       "<span style=\"color: #008000; text-decoration-color: #008000\">have the energy and time, take a moment to sweep the floor to remove any missed debris. This quick cleanup will </span>\n",
       "<span style=\"color: #008000; text-decoration-color: #008000\">leave the space neat and ready for use later, maintaining the calm and organized vibe of your Sunday while </span>\n",
       "<span style=\"color: #008000; text-decoration-color: #008000\">providing light movement after your meal.'</span>,\n",
       "    <span style=\"color: #808000; text-decoration-color: #808000\">time_spent</span>=<span style=\"color: #008080; text-decoration-color: #008080; font-weight: bold\">0.33</span>,\n",
       "    <span style=\"color: #808000; text-decoration-color: #808000\">from_state_id</span>=<span style=\"color: #800080; text-decoration-color: #800080; font-style: italic\">None</span>,\n",
       "    <span style=\"color: #808000; text-decoration-color: #808000\">to_state_id</span>=<span style=\"color: #800080; text-decoration-color: #800080; font-style: italic\">None</span>\n",
       "<span style=\"font-weight: bold\">)</span>\n",
       "</pre>\n"
      ],
      "text/plain": [
       "\u001b[1;35mAction\u001b[0m\u001b[1m(\u001b[0m\n",
       "    \u001b[33mname\u001b[0m=\u001b[32m'Tidy Up the Kitchen'\u001b[0m,\n",
       "    \u001b[33mdetails\u001b[0m=\u001b[32m'After enjoying your late lunch, spend 20 minutes tidying up the kitchen. Start by clearing the dishes \u001b[0m\n",
       "\u001b[32mfrom your meal and rinsing them off, or loading them into a dishwasher if you have one. Wipe down the counters to \u001b[0m\n",
       "\u001b[32mremove any crumbs or spills, and reorganize any ingredients or utensils you used during meal preparation. If you \u001b[0m\n",
       "\u001b[32mhave the energy and time, take a moment to sweep the floor to remove any missed debris. This quick cleanup will \u001b[0m\n",
       "\u001b[32mleave the space neat and ready for use later, maintaining the calm and organized vibe of your Sunday while \u001b[0m\n",
       "\u001b[32mproviding light movement after your meal.'\u001b[0m,\n",
       "    \u001b[33mtime_spent\u001b[0m=\u001b[1;36m0\u001b[0m\u001b[1;36m.33\u001b[0m,\n",
       "    \u001b[33mfrom_state_id\u001b[0m=\u001b[3;35mNone\u001b[0m,\n",
       "    \u001b[33mto_state_id\u001b[0m=\u001b[3;35mNone\u001b[0m\n",
       "\u001b[1m)\u001b[0m\n"
      ]
     },
     "metadata": {},
     "output_type": "display_data"
    },
    {
     "data": {
      "text/html": [
       "<pre style=\"white-space:pre;overflow-x:auto;line-height:normal;font-family:Menlo,'DejaVu Sans Mono',consolas,'Courier New',monospace\"><span style=\"color: #800080; text-decoration-color: #800080; font-weight: bold\">StateVariables</span><span style=\"font-weight: bold\">(</span>\n",
       "    <span style=\"color: #808000; text-decoration-color: #808000\">context</span>=<span style=\"color: #008000; text-decoration-color: #008000\">'After savoring a warm and nourishing late lunch, you dedicate about 20 minutes to tidying up the </span>\n",
       "<span style=\"color: #008000; text-decoration-color: #008000\">kitchen. Clearing dishes, rinsing or placing them in the dishwasher, and wiping the counters remove remnants from </span>\n",
       "<span style=\"color: #008000; text-decoration-color: #008000\">meal preparation. A quick sweep of the floor ensures a more thorough clean, enhancing the organized and peaceful </span>\n",
       "<span style=\"color: #008000; text-decoration-color: #008000\">atmosphere of your home. This light movement aids digestion and provides a minor sense of accomplishment, </span>\n",
       "<span style=\"color: #008000; text-decoration-color: #008000\">reinforcing the calm and intentional mindset cultivated across your snowy day. These tasks seamlessly align with </span>\n",
       "<span style=\"color: #008000; text-decoration-color: #008000\">your energy levels and maintain the cohesive, tranquil tone of your Sunday.'</span>,\n",
       "    <span style=\"color: #808000; text-decoration-color: #808000\">pain_level</span>=<span style=\"color: #008080; text-decoration-color: #008080; font-weight: bold\">25</span>,\n",
       "    <span style=\"color: #808000; text-decoration-color: #808000\">pleasure_level</span>=<span style=\"color: #008080; text-decoration-color: #008080; font-weight: bold\">83</span>,\n",
       "    <span style=\"color: #808000; text-decoration-color: #808000\">health_level</span>=<span style=\"color: #008080; text-decoration-color: #008080; font-weight: bold\">83</span>,\n",
       "    <span style=\"color: #808000; text-decoration-color: #808000\">focus_level</span>=<span style=\"color: #008080; text-decoration-color: #008080; font-weight: bold\">76</span>\n",
       "<span style=\"font-weight: bold\">)</span>\n",
       "</pre>\n"
      ],
      "text/plain": [
       "\u001b[1;35mStateVariables\u001b[0m\u001b[1m(\u001b[0m\n",
       "    \u001b[33mcontext\u001b[0m=\u001b[32m'After savoring a warm and nourishing late lunch, you dedicate about 20 minutes to tidying up the \u001b[0m\n",
       "\u001b[32mkitchen. Clearing dishes, rinsing or placing them in the dishwasher, and wiping the counters remove remnants from \u001b[0m\n",
       "\u001b[32mmeal preparation. A quick sweep of the floor ensures a more thorough clean, enhancing the organized and peaceful \u001b[0m\n",
       "\u001b[32matmosphere of your home. This light movement aids digestion and provides a minor sense of accomplishment, \u001b[0m\n",
       "\u001b[32mreinforcing the calm and intentional mindset cultivated across your snowy day. These tasks seamlessly align with \u001b[0m\n",
       "\u001b[32myour energy levels and maintain the cohesive, tranquil tone of your Sunday.'\u001b[0m,\n",
       "    \u001b[33mpain_level\u001b[0m=\u001b[1;36m25\u001b[0m,\n",
       "    \u001b[33mpleasure_level\u001b[0m=\u001b[1;36m83\u001b[0m,\n",
       "    \u001b[33mhealth_level\u001b[0m=\u001b[1;36m83\u001b[0m,\n",
       "    \u001b[33mfocus_level\u001b[0m=\u001b[1;36m76\u001b[0m\n",
       "\u001b[1m)\u001b[0m\n"
      ]
     },
     "metadata": {},
     "output_type": "display_data"
    },
    {
     "data": {
      "text/html": [
       "<pre style=\"white-space:pre;overflow-x:auto;line-height:normal;font-family:Menlo,'DejaVu Sans Mono',consolas,'Courier New',monospace\"><span style=\"color: #800080; text-decoration-color: #800080; font-weight: bold\">Action</span><span style=\"font-weight: bold\">(</span>\n",
       "    <span style=\"color: #808000; text-decoration-color: #808000\">name</span>=<span style=\"color: #008000; text-decoration-color: #008000\">'Take a Short Rest or Meditative Pause'</span>,\n",
       "    <span style=\"color: #808000; text-decoration-color: #808000\">details</span>=<span style=\"color: #008000; text-decoration-color: #008000\">'After tidying up the kitchen, spend 10-15 minutes taking a short rest or engaging in a meditative </span>\n",
       "<span style=\"color: #008000; text-decoration-color: #008000\">pause. Find a comfortable seat or lie down in a quiet area of your home. Close your eyes and breathe deeply while </span>\n",
       "<span style=\"color: #008000; text-decoration-color: #008000\">letting go of any residual tension. If you prefer an active form of meditation, try a guided session using an app </span>\n",
       "<span style=\"color: #008000; text-decoration-color: #008000\">or online resource. This restful pause will help anchor you in the calm rhythm of the day and recharge your energy </span>\n",
       "<span style=\"color: #008000; text-decoration-color: #008000\">for the remainder of the afternoon.'</span>,\n",
       "    <span style=\"color: #808000; text-decoration-color: #808000\">time_spent</span>=<span style=\"color: #008080; text-decoration-color: #008080; font-weight: bold\">0.25</span>,\n",
       "    <span style=\"color: #808000; text-decoration-color: #808000\">from_state_id</span>=<span style=\"color: #800080; text-decoration-color: #800080; font-style: italic\">None</span>,\n",
       "    <span style=\"color: #808000; text-decoration-color: #808000\">to_state_id</span>=<span style=\"color: #800080; text-decoration-color: #800080; font-style: italic\">None</span>\n",
       "<span style=\"font-weight: bold\">)</span>\n",
       "</pre>\n"
      ],
      "text/plain": [
       "\u001b[1;35mAction\u001b[0m\u001b[1m(\u001b[0m\n",
       "    \u001b[33mname\u001b[0m=\u001b[32m'Take a Short Rest or Meditative Pause'\u001b[0m,\n",
       "    \u001b[33mdetails\u001b[0m=\u001b[32m'After tidying up the kitchen, spend 10-15 minutes taking a short rest or engaging in a meditative \u001b[0m\n",
       "\u001b[32mpause. Find a comfortable seat or lie down in a quiet area of your home. Close your eyes and breathe deeply while \u001b[0m\n",
       "\u001b[32mletting go of any residual tension. If you prefer an active form of meditation, try a guided session using an app \u001b[0m\n",
       "\u001b[32mor online resource. This restful pause will help anchor you in the calm rhythm of the day and recharge your energy \u001b[0m\n",
       "\u001b[32mfor the remainder of the afternoon.'\u001b[0m,\n",
       "    \u001b[33mtime_spent\u001b[0m=\u001b[1;36m0\u001b[0m\u001b[1;36m.25\u001b[0m,\n",
       "    \u001b[33mfrom_state_id\u001b[0m=\u001b[3;35mNone\u001b[0m,\n",
       "    \u001b[33mto_state_id\u001b[0m=\u001b[3;35mNone\u001b[0m\n",
       "\u001b[1m)\u001b[0m\n"
      ]
     },
     "metadata": {},
     "output_type": "display_data"
    },
    {
     "data": {
      "text/html": [
       "<pre style=\"white-space:pre;overflow-x:auto;line-height:normal;font-family:Menlo,'DejaVu Sans Mono',consolas,'Courier New',monospace\"><span style=\"color: #800080; text-decoration-color: #800080; font-weight: bold\">StateVariables</span><span style=\"font-weight: bold\">(</span>\n",
       "    <span style=\"color: #808000; text-decoration-color: #808000\">context</span>=<span style=\"color: #008000; text-decoration-color: #008000\">\"After tidying up the kitchen and restoring order to your space, you decide to take a short rest or </span>\n",
       "<span style=\"color: #008000; text-decoration-color: #008000\">meditative pause to recharge your energy calmly. Finding a quiet area of your home, you settle into a comfortable </span>\n",
       "<span style=\"color: #008000; text-decoration-color: #008000\">position—either seated or lying down—and close your eyes. By taking deep, measured breaths and focusing on the </span>\n",
       "<span style=\"color: #008000; text-decoration-color: #008000\">rhythm of your breathing, you allow any residual tension from the day's light activities to unwind fully. This </span>\n",
       "<span style=\"color: #008000; text-decoration-color: #008000\">brief 10-15 minute pause gives you a mental and physical reset, aligning with the reflective and peaceful mood of </span>\n",
       "<span style=\"color: #008000; text-decoration-color: #008000\">this snowy Sunday. The restful practice enhances your sense of tranquility and mindfulness, providing a subtle but </span>\n",
       "<span style=\"color: #008000; text-decoration-color: #008000\">noticeable boost to your well-being.\"</span>,\n",
       "    <span style=\"color: #808000; text-decoration-color: #808000\">pain_level</span>=<span style=\"color: #008080; text-decoration-color: #008080; font-weight: bold\">22</span>,\n",
       "    <span style=\"color: #808000; text-decoration-color: #808000\">pleasure_level</span>=<span style=\"color: #008080; text-decoration-color: #008080; font-weight: bold\">85</span>,\n",
       "    <span style=\"color: #808000; text-decoration-color: #808000\">health_level</span>=<span style=\"color: #008080; text-decoration-color: #008080; font-weight: bold\">85</span>,\n",
       "    <span style=\"color: #808000; text-decoration-color: #808000\">focus_level</span>=<span style=\"color: #008080; text-decoration-color: #008080; font-weight: bold\">78</span>\n",
       "<span style=\"font-weight: bold\">)</span>\n",
       "</pre>\n"
      ],
      "text/plain": [
       "\u001b[1;35mStateVariables\u001b[0m\u001b[1m(\u001b[0m\n",
       "    \u001b[33mcontext\u001b[0m=\u001b[32m\"After\u001b[0m\u001b[32m tidying up the kitchen and restoring order to your space, you decide to take a short rest or \u001b[0m\n",
       "\u001b[32mmeditative pause to recharge your energy calmly. Finding a quiet area of your home, you settle into a comfortable \u001b[0m\n",
       "\u001b[32mposition—either seated or lying down—and close your eyes. By taking deep, measured breaths and focusing on the \u001b[0m\n",
       "\u001b[32mrhythm of your breathing, you allow any residual tension from the day's light activities to unwind fully. This \u001b[0m\n",
       "\u001b[32mbrief 10-15 minute pause gives you a mental and physical reset, aligning with the reflective and peaceful mood of \u001b[0m\n",
       "\u001b[32mthis snowy Sunday. The restful practice enhances your sense of tranquility and mindfulness, providing a subtle but \u001b[0m\n",
       "\u001b[32mnoticeable boost to your well-being.\"\u001b[0m,\n",
       "    \u001b[33mpain_level\u001b[0m=\u001b[1;36m22\u001b[0m,\n",
       "    \u001b[33mpleasure_level\u001b[0m=\u001b[1;36m85\u001b[0m,\n",
       "    \u001b[33mhealth_level\u001b[0m=\u001b[1;36m85\u001b[0m,\n",
       "    \u001b[33mfocus_level\u001b[0m=\u001b[1;36m78\u001b[0m\n",
       "\u001b[1m)\u001b[0m\n"
      ]
     },
     "metadata": {},
     "output_type": "display_data"
    },
    {
     "data": {
      "text/html": [
       "<pre style=\"white-space:pre;overflow-x:auto;line-height:normal;font-family:Menlo,'DejaVu Sans Mono',consolas,'Courier New',monospace\"><span style=\"color: #800080; text-decoration-color: #800080; font-weight: bold\">Action</span><span style=\"font-weight: bold\">(</span>\n",
       "    <span style=\"color: #808000; text-decoration-color: #808000\">name</span>=<span style=\"color: #008000; text-decoration-color: #008000\">'Go for a Brief Winter Walk'</span>,\n",
       "    <span style=\"color: #808000; text-decoration-color: #808000\">details</span>=<span style=\"color: #008000; text-decoration-color: #008000\">'Put on warm, comfortable clothes and step outside for a 20-minute walk around your neighborhood or a </span>\n",
       "<span style=\"color: #008000; text-decoration-color: #008000\">local park to enjoy the snowy environment. The fresh air and light activity will refresh you and provide a pleasant</span>\n",
       "<span style=\"color: #008000; text-decoration-color: #008000\">change of scenery. Observe the serene winter landscape, listen to the muffled sounds of the world under its snowy </span>\n",
       "<span style=\"color: #008000; text-decoration-color: #008000\">blanket, and savor the crisp air on your face. A short winter walk will not only invigorate your body but also </span>\n",
       "<span style=\"color: #008000; text-decoration-color: #008000\">enhance your appreciation for the peacefulness of the snowy day.'</span>,\n",
       "    <span style=\"color: #808000; text-decoration-color: #808000\">time_spent</span>=<span style=\"color: #008080; text-decoration-color: #008080; font-weight: bold\">0.33</span>,\n",
       "    <span style=\"color: #808000; text-decoration-color: #808000\">from_state_id</span>=<span style=\"color: #800080; text-decoration-color: #800080; font-style: italic\">None</span>,\n",
       "    <span style=\"color: #808000; text-decoration-color: #808000\">to_state_id</span>=<span style=\"color: #800080; text-decoration-color: #800080; font-style: italic\">None</span>\n",
       "<span style=\"font-weight: bold\">)</span>\n",
       "</pre>\n"
      ],
      "text/plain": [
       "\u001b[1;35mAction\u001b[0m\u001b[1m(\u001b[0m\n",
       "    \u001b[33mname\u001b[0m=\u001b[32m'Go for a Brief Winter Walk'\u001b[0m,\n",
       "    \u001b[33mdetails\u001b[0m=\u001b[32m'Put on warm, comfortable clothes and step outside for a 20-minute walk around your neighborhood or a \u001b[0m\n",
       "\u001b[32mlocal park to enjoy the snowy environment. The fresh air and light activity will refresh you and provide a pleasant\u001b[0m\n",
       "\u001b[32mchange of scenery. Observe the serene winter landscape, listen to the muffled sounds of the world under its snowy \u001b[0m\n",
       "\u001b[32mblanket, and savor the crisp air on your face. A short winter walk will not only invigorate your body but also \u001b[0m\n",
       "\u001b[32menhance your appreciation for the peacefulness of the snowy day.'\u001b[0m,\n",
       "    \u001b[33mtime_spent\u001b[0m=\u001b[1;36m0\u001b[0m\u001b[1;36m.33\u001b[0m,\n",
       "    \u001b[33mfrom_state_id\u001b[0m=\u001b[3;35mNone\u001b[0m,\n",
       "    \u001b[33mto_state_id\u001b[0m=\u001b[3;35mNone\u001b[0m\n",
       "\u001b[1m)\u001b[0m\n"
      ]
     },
     "metadata": {},
     "output_type": "display_data"
    },
    {
     "data": {
      "text/html": [
       "<pre style=\"white-space:pre;overflow-x:auto;line-height:normal;font-family:Menlo,'DejaVu Sans Mono',consolas,'Courier New',monospace\"><span style=\"color: #800080; text-decoration-color: #800080; font-weight: bold\">StateVariables</span><span style=\"font-weight: bold\">(</span>\n",
       "    <span style=\"color: #808000; text-decoration-color: #808000\">context</span>=<span style=\"color: #008000; text-decoration-color: #008000\">'You decided to step outside for a 20-minute winter walk to enjoy the snowy landscape and breathe in </span>\n",
       "<span style=\"color: #008000; text-decoration-color: #008000\">the invigorating crisp air. The serene atmosphere with muffled sounds adds to the tranquility of the experience. As</span>\n",
       "<span style=\"color: #008000; text-decoration-color: #008000\">you walk, you feel refreshed by the change in surroundings and the gentle exercise, which helps clear your mind </span>\n",
       "<span style=\"color: #008000; text-decoration-color: #008000\">while providing light physical activity. The wintry scenery heightens your appreciation for the beauty of the day, </span>\n",
       "<span style=\"color: #008000; text-decoration-color: #008000\">and the fresh air energizes you without overexertion. The walk reinforces the balance and peace already cultivated </span>\n",
       "<span style=\"color: #008000; text-decoration-color: #008000\">throughout your day.'</span>,\n",
       "    <span style=\"color: #808000; text-decoration-color: #808000\">pain_level</span>=<span style=\"color: #008080; text-decoration-color: #008080; font-weight: bold\">24</span>,\n",
       "    <span style=\"color: #808000; text-decoration-color: #808000\">pleasure_level</span>=<span style=\"color: #008080; text-decoration-color: #008080; font-weight: bold\">87</span>,\n",
       "    <span style=\"color: #808000; text-decoration-color: #808000\">health_level</span>=<span style=\"color: #008080; text-decoration-color: #008080; font-weight: bold\">85</span>,\n",
       "    <span style=\"color: #808000; text-decoration-color: #808000\">focus_level</span>=<span style=\"color: #008080; text-decoration-color: #008080; font-weight: bold\">78</span>\n",
       "<span style=\"font-weight: bold\">)</span>\n",
       "</pre>\n"
      ],
      "text/plain": [
       "\u001b[1;35mStateVariables\u001b[0m\u001b[1m(\u001b[0m\n",
       "    \u001b[33mcontext\u001b[0m=\u001b[32m'You decided to step outside for a 20-minute winter walk to enjoy the snowy landscape and breathe in \u001b[0m\n",
       "\u001b[32mthe invigorating crisp air. The serene atmosphere with muffled sounds adds to the tranquility of the experience. As\u001b[0m\n",
       "\u001b[32myou walk, you feel refreshed by the change in surroundings and the gentle exercise, which helps clear your mind \u001b[0m\n",
       "\u001b[32mwhile providing light physical activity. The wintry scenery heightens your appreciation for the beauty of the day, \u001b[0m\n",
       "\u001b[32mand the fresh air energizes you without overexertion. The walk reinforces the balance and peace already cultivated \u001b[0m\n",
       "\u001b[32mthroughout your day.'\u001b[0m,\n",
       "    \u001b[33mpain_level\u001b[0m=\u001b[1;36m24\u001b[0m,\n",
       "    \u001b[33mpleasure_level\u001b[0m=\u001b[1;36m87\u001b[0m,\n",
       "    \u001b[33mhealth_level\u001b[0m=\u001b[1;36m85\u001b[0m,\n",
       "    \u001b[33mfocus_level\u001b[0m=\u001b[1;36m78\u001b[0m\n",
       "\u001b[1m)\u001b[0m\n"
      ]
     },
     "metadata": {},
     "output_type": "display_data"
    },
    {
     "data": {
      "text/html": [
       "<pre style=\"white-space:pre;overflow-x:auto;line-height:normal;font-family:Menlo,'DejaVu Sans Mono',consolas,'Courier New',monospace\"><span style=\"color: #800080; text-decoration-color: #800080; font-weight: bold\">Action</span><span style=\"font-weight: bold\">(</span>\n",
       "    <span style=\"color: #808000; text-decoration-color: #808000\">name</span>=<span style=\"color: #008000; text-decoration-color: #008000\">'Engage in a Creative Hobby'</span>,\n",
       "    <span style=\"color: #808000; text-decoration-color: #808000\">details</span>=<span style=\"color: #008000; text-decoration-color: #008000\">'Spend 30-45 minutes engaging in a creative hobby that you enjoy, such as drawing, knitting, or </span>\n",
       "<span style=\"color: #008000; text-decoration-color: #008000\">writing. Gather your materials and settle into a cozy spot where you can focus and express yourself. Allow your </span>\n",
       "<span style=\"color: #008000; text-decoration-color: #008000\">creativity to flow naturally, without any pressure for perfection. This dedicated time for a hobby will nourish </span>\n",
       "<span style=\"color: #008000; text-decoration-color: #008000\">your mind and spirit, adding a touch of individuality and joy to your snowy Sunday.'</span>,\n",
       "    <span style=\"color: #808000; text-decoration-color: #808000\">time_spent</span>=<span style=\"color: #008080; text-decoration-color: #008080; font-weight: bold\">0.75</span>,\n",
       "    <span style=\"color: #808000; text-decoration-color: #808000\">from_state_id</span>=<span style=\"color: #800080; text-decoration-color: #800080; font-style: italic\">None</span>,\n",
       "    <span style=\"color: #808000; text-decoration-color: #808000\">to_state_id</span>=<span style=\"color: #800080; text-decoration-color: #800080; font-style: italic\">None</span>\n",
       "<span style=\"font-weight: bold\">)</span>\n",
       "</pre>\n"
      ],
      "text/plain": [
       "\u001b[1;35mAction\u001b[0m\u001b[1m(\u001b[0m\n",
       "    \u001b[33mname\u001b[0m=\u001b[32m'Engage in a Creative Hobby'\u001b[0m,\n",
       "    \u001b[33mdetails\u001b[0m=\u001b[32m'Spend 30-45 minutes engaging in a creative hobby that you enjoy, such as drawing, knitting, or \u001b[0m\n",
       "\u001b[32mwriting. Gather your materials and settle into a cozy spot where you can focus and express yourself. Allow your \u001b[0m\n",
       "\u001b[32mcreativity to flow naturally, without any pressure for perfection. This dedicated time for a hobby will nourish \u001b[0m\n",
       "\u001b[32myour mind and spirit, adding a touch of individuality and joy to your snowy Sunday.'\u001b[0m,\n",
       "    \u001b[33mtime_spent\u001b[0m=\u001b[1;36m0\u001b[0m\u001b[1;36m.75\u001b[0m,\n",
       "    \u001b[33mfrom_state_id\u001b[0m=\u001b[3;35mNone\u001b[0m,\n",
       "    \u001b[33mto_state_id\u001b[0m=\u001b[3;35mNone\u001b[0m\n",
       "\u001b[1m)\u001b[0m\n"
      ]
     },
     "metadata": {},
     "output_type": "display_data"
    },
    {
     "data": {
      "text/html": [
       "<pre style=\"white-space:pre;overflow-x:auto;line-height:normal;font-family:Menlo,'DejaVu Sans Mono',consolas,'Courier New',monospace\"><span style=\"color: #800080; text-decoration-color: #800080; font-weight: bold\">StateVariables</span><span style=\"font-weight: bold\">(</span>\n",
       "    <span style=\"color: #808000; text-decoration-color: #808000\">context</span>=<span style=\"color: #008000; text-decoration-color: #008000\">'You spent 30 to 45 minutes exploring a creative hobby as a continuation of your calm and intentional </span>\n",
       "<span style=\"color: #008000; text-decoration-color: #008000\">snowy Sunday. Whether drawing, knitting, or writing, this creative endeavor allowed you to express yourself freely </span>\n",
       "<span style=\"color: #008000; text-decoration-color: #008000\">in a cozy and serene atmosphere. The act of focusing on something deeply personal and engaging naturally uplifted </span>\n",
       "<span style=\"color: #008000; text-decoration-color: #008000\">your mood and provided a gentle mental challenge. This activity gave you an enriching sense of accomplishment while</span>\n",
       "<span style=\"color: #008000; text-decoration-color: #008000\">adding another layer of meaning and individuality to your day. While your body remained relaxed from the lack of </span>\n",
       "<span style=\"color: #008000; text-decoration-color: #008000\">any strenuous activity, your mind and spirit benefited from this nourishing outlet for self-expression.'</span>,\n",
       "    <span style=\"color: #808000; text-decoration-color: #808000\">pain_level</span>=<span style=\"color: #008080; text-decoration-color: #008080; font-weight: bold\">23</span>,\n",
       "    <span style=\"color: #808000; text-decoration-color: #808000\">pleasure_level</span>=<span style=\"color: #008080; text-decoration-color: #008080; font-weight: bold\">88</span>,\n",
       "    <span style=\"color: #808000; text-decoration-color: #808000\">health_level</span>=<span style=\"color: #008080; text-decoration-color: #008080; font-weight: bold\">85</span>,\n",
       "    <span style=\"color: #808000; text-decoration-color: #808000\">focus_level</span>=<span style=\"color: #008080; text-decoration-color: #008080; font-weight: bold\">80</span>\n",
       "<span style=\"font-weight: bold\">)</span>\n",
       "</pre>\n"
      ],
      "text/plain": [
       "\u001b[1;35mStateVariables\u001b[0m\u001b[1m(\u001b[0m\n",
       "    \u001b[33mcontext\u001b[0m=\u001b[32m'You spent 30 to 45 minutes exploring a creative hobby as a continuation of your calm and intentional \u001b[0m\n",
       "\u001b[32msnowy Sunday. Whether drawing, knitting, or writing, this creative endeavor allowed you to express yourself freely \u001b[0m\n",
       "\u001b[32min a cozy and serene atmosphere. The act of focusing on something deeply personal and engaging naturally uplifted \u001b[0m\n",
       "\u001b[32myour mood and provided a gentle mental challenge. This activity gave you an enriching sense of accomplishment while\u001b[0m\n",
       "\u001b[32madding another layer of meaning and individuality to your day. While your body remained relaxed from the lack of \u001b[0m\n",
       "\u001b[32many strenuous activity, your mind and spirit benefited from this nourishing outlet for self-expression.'\u001b[0m,\n",
       "    \u001b[33mpain_level\u001b[0m=\u001b[1;36m23\u001b[0m,\n",
       "    \u001b[33mpleasure_level\u001b[0m=\u001b[1;36m88\u001b[0m,\n",
       "    \u001b[33mhealth_level\u001b[0m=\u001b[1;36m85\u001b[0m,\n",
       "    \u001b[33mfocus_level\u001b[0m=\u001b[1;36m80\u001b[0m\n",
       "\u001b[1m)\u001b[0m\n"
      ]
     },
     "metadata": {},
     "output_type": "display_data"
    },
    {
     "data": {
      "text/html": [
       "<pre style=\"white-space:pre;overflow-x:auto;line-height:normal;font-family:Menlo,'DejaVu Sans Mono',consolas,'Courier New',monospace\"><span style=\"color: #800080; text-decoration-color: #800080; font-weight: bold\">Action</span><span style=\"font-weight: bold\">(</span>\n",
       "    <span style=\"color: #808000; text-decoration-color: #808000\">name</span>=<span style=\"color: #008000; text-decoration-color: #008000\">'Watch a Comforting Movie or TV Show'</span>,\n",
       "    <span style=\"color: #808000; text-decoration-color: #808000\">details</span>=<span style=\"color: #008000; text-decoration-color: #008000\">'Choose a comforting movie or a few episodes of a favorite TV show to watch in the later part of the </span>\n",
       "<span style=\"color: #008000; text-decoration-color: #008000\">afternoon. Set up a cozy space with blankets and a warm beverage like tea or hot cocoa. As you watch, allow </span>\n",
       "<span style=\"color: #008000; text-decoration-color: #008000\">yourself to simply relax and enjoy the entertainment without distraction. This activity serves as a soothing </span>\n",
       "<span style=\"color: #008000; text-decoration-color: #008000\">wind-down for the day while still keeping you engaged.'</span>,\n",
       "    <span style=\"color: #808000; text-decoration-color: #808000\">time_spent</span>=<span style=\"color: #008080; text-decoration-color: #008080; font-weight: bold\">1.5</span>,\n",
       "    <span style=\"color: #808000; text-decoration-color: #808000\">from_state_id</span>=<span style=\"color: #800080; text-decoration-color: #800080; font-style: italic\">None</span>,\n",
       "    <span style=\"color: #808000; text-decoration-color: #808000\">to_state_id</span>=<span style=\"color: #800080; text-decoration-color: #800080; font-style: italic\">None</span>\n",
       "<span style=\"font-weight: bold\">)</span>\n",
       "</pre>\n"
      ],
      "text/plain": [
       "\u001b[1;35mAction\u001b[0m\u001b[1m(\u001b[0m\n",
       "    \u001b[33mname\u001b[0m=\u001b[32m'Watch a Comforting Movie or TV Show'\u001b[0m,\n",
       "    \u001b[33mdetails\u001b[0m=\u001b[32m'Choose a comforting movie or a few episodes of a favorite TV show to watch in the later part of the \u001b[0m\n",
       "\u001b[32mafternoon. Set up a cozy space with blankets and a warm beverage like tea or hot cocoa. As you watch, allow \u001b[0m\n",
       "\u001b[32myourself to simply relax and enjoy the entertainment without distraction. This activity serves as a soothing \u001b[0m\n",
       "\u001b[32mwind-down for the day while still keeping you engaged.'\u001b[0m,\n",
       "    \u001b[33mtime_spent\u001b[0m=\u001b[1;36m1\u001b[0m\u001b[1;36m.5\u001b[0m,\n",
       "    \u001b[33mfrom_state_id\u001b[0m=\u001b[3;35mNone\u001b[0m,\n",
       "    \u001b[33mto_state_id\u001b[0m=\u001b[3;35mNone\u001b[0m\n",
       "\u001b[1m)\u001b[0m\n"
      ]
     },
     "metadata": {},
     "output_type": "display_data"
    },
    {
     "data": {
      "text/html": [
       "<pre style=\"white-space:pre;overflow-x:auto;line-height:normal;font-family:Menlo,'DejaVu Sans Mono',consolas,'Courier New',monospace\"><span style=\"color: #800080; text-decoration-color: #800080; font-weight: bold\">StateVariables</span><span style=\"font-weight: bold\">(</span>\n",
       "    <span style=\"color: #808000; text-decoration-color: #808000\">context</span>=<span style=\"color: #008000; text-decoration-color: #008000\">'After tidying the kitchen and maintaining the calm and intentional tone of your snowy Sunday, you </span>\n",
       "<span style=\"color: #008000; text-decoration-color: #008000\">transition to the later afternoon with a comforting activity: watching a movie or a favorite TV show. You create a </span>\n",
       "<span style=\"color: #008000; text-decoration-color: #008000\">cozy environment with blankets and prepare a warm beverage like tea or hot cocoa. Seated comfortably, you lean into</span>\n",
       "<span style=\"color: #008000; text-decoration-color: #008000\">the relaxing mood of being entertained, appreciating the storytelling and visuals. This soothing activity not only </span>\n",
       "<span style=\"color: #008000; text-decoration-color: #008000\">reinforces the peaceful rhythm of your day but also allows your mind and body to fully unwind in preparation for </span>\n",
       "<span style=\"color: #008000; text-decoration-color: #008000\">the evening ahead.'</span>,\n",
       "    <span style=\"color: #808000; text-decoration-color: #808000\">pain_level</span>=<span style=\"color: #008080; text-decoration-color: #008080; font-weight: bold\">23</span>,\n",
       "    <span style=\"color: #808000; text-decoration-color: #808000\">pleasure_level</span>=<span style=\"color: #008080; text-decoration-color: #008080; font-weight: bold\">90</span>,\n",
       "    <span style=\"color: #808000; text-decoration-color: #808000\">health_level</span>=<span style=\"color: #008080; text-decoration-color: #008080; font-weight: bold\">85</span>,\n",
       "    <span style=\"color: #808000; text-decoration-color: #808000\">focus_level</span>=<span style=\"color: #008080; text-decoration-color: #008080; font-weight: bold\">70</span>\n",
       "<span style=\"font-weight: bold\">)</span>\n",
       "</pre>\n"
      ],
      "text/plain": [
       "\u001b[1;35mStateVariables\u001b[0m\u001b[1m(\u001b[0m\n",
       "    \u001b[33mcontext\u001b[0m=\u001b[32m'After tidying the kitchen and maintaining the calm and intentional tone of your snowy Sunday, you \u001b[0m\n",
       "\u001b[32mtransition to the later afternoon with a comforting activity: watching a movie or a favorite TV show. You create a \u001b[0m\n",
       "\u001b[32mcozy environment with blankets and prepare a warm beverage like tea or hot cocoa. Seated comfortably, you lean into\u001b[0m\n",
       "\u001b[32mthe relaxing mood of being entertained, appreciating the storytelling and visuals. This soothing activity not only \u001b[0m\n",
       "\u001b[32mreinforces the peaceful rhythm of your day but also allows your mind and body to fully unwind in preparation for \u001b[0m\n",
       "\u001b[32mthe evening ahead.'\u001b[0m,\n",
       "    \u001b[33mpain_level\u001b[0m=\u001b[1;36m23\u001b[0m,\n",
       "    \u001b[33mpleasure_level\u001b[0m=\u001b[1;36m90\u001b[0m,\n",
       "    \u001b[33mhealth_level\u001b[0m=\u001b[1;36m85\u001b[0m,\n",
       "    \u001b[33mfocus_level\u001b[0m=\u001b[1;36m70\u001b[0m\n",
       "\u001b[1m)\u001b[0m\n"
      ]
     },
     "metadata": {},
     "output_type": "display_data"
    },
    {
     "data": {
      "text/html": [
       "<pre style=\"white-space:pre;overflow-x:auto;line-height:normal;font-family:Menlo,'DejaVu Sans Mono',consolas,'Courier New',monospace\"><span style=\"color: #800080; text-decoration-color: #800080; font-weight: bold\">Action</span><span style=\"font-weight: bold\">(</span>\n",
       "    <span style=\"color: #808000; text-decoration-color: #808000\">name</span>=<span style=\"color: #008000; text-decoration-color: #008000\">'Prepare for the Week Ahead'</span>,\n",
       "    <span style=\"color: #808000; text-decoration-color: #808000\">details</span>=<span style=\"color: #008000; text-decoration-color: #008000\">'Later in the afternoon, reflect on the upcoming week and spend 30 minutes organizing and planning. </span>\n",
       "<span style=\"color: #008000; text-decoration-color: #008000\">Review any appointments, tasks, or commitments and jot them down in a planner or digital calendar. If needed, </span>\n",
       "<span style=\"color: #008000; text-decoration-color: #008000\">prepare any materials or make a simple to-do list. This action will help you transition smoothly from the restful </span>\n",
       "<span style=\"color: #008000; text-decoration-color: #008000\">Sunday into a productive start of the week, ensuring you feel poised and in control of your time.'</span>,\n",
       "    <span style=\"color: #808000; text-decoration-color: #808000\">time_spent</span>=<span style=\"color: #008080; text-decoration-color: #008080; font-weight: bold\">0.5</span>,\n",
       "    <span style=\"color: #808000; text-decoration-color: #808000\">from_state_id</span>=<span style=\"color: #800080; text-decoration-color: #800080; font-style: italic\">None</span>,\n",
       "    <span style=\"color: #808000; text-decoration-color: #808000\">to_state_id</span>=<span style=\"color: #800080; text-decoration-color: #800080; font-style: italic\">None</span>\n",
       "<span style=\"font-weight: bold\">)</span>\n",
       "</pre>\n"
      ],
      "text/plain": [
       "\u001b[1;35mAction\u001b[0m\u001b[1m(\u001b[0m\n",
       "    \u001b[33mname\u001b[0m=\u001b[32m'Prepare for the Week Ahead'\u001b[0m,\n",
       "    \u001b[33mdetails\u001b[0m=\u001b[32m'Later in the afternoon, reflect on the upcoming week and spend 30 minutes organizing and planning. \u001b[0m\n",
       "\u001b[32mReview any appointments, tasks, or commitments and jot them down in a planner or digital calendar. If needed, \u001b[0m\n",
       "\u001b[32mprepare any materials or make a simple to-do list. This action will help you transition smoothly from the restful \u001b[0m\n",
       "\u001b[32mSunday into a productive start of the week, ensuring you feel poised and in control of your time.'\u001b[0m,\n",
       "    \u001b[33mtime_spent\u001b[0m=\u001b[1;36m0\u001b[0m\u001b[1;36m.5\u001b[0m,\n",
       "    \u001b[33mfrom_state_id\u001b[0m=\u001b[3;35mNone\u001b[0m,\n",
       "    \u001b[33mto_state_id\u001b[0m=\u001b[3;35mNone\u001b[0m\n",
       "\u001b[1m)\u001b[0m\n"
      ]
     },
     "metadata": {},
     "output_type": "display_data"
    },
    {
     "data": {
      "text/html": [
       "<pre style=\"white-space:pre;overflow-x:auto;line-height:normal;font-family:Menlo,'DejaVu Sans Mono',consolas,'Courier New',monospace\"><span style=\"color: #800080; text-decoration-color: #800080; font-weight: bold\">StateVariables</span><span style=\"font-weight: bold\">(</span>\n",
       "    <span style=\"color: #808000; text-decoration-color: #808000\">context</span>=<span style=\"color: #008000; text-decoration-color: #008000\">'You took the opportunity in the late afternoon to spend 30 minutes organizing and planning for the </span>\n",
       "<span style=\"color: #008000; text-decoration-color: #008000\">week ahead. Sitting quietly with your planner or digital calendar, you reviewed appointments, tasks, and </span>\n",
       "<span style=\"color: #008000; text-decoration-color: #008000\">commitments, jotting them down methodically. The act of preparing a simple to-do list or assembling necessary </span>\n",
       "<span style=\"color: #008000; text-decoration-color: #008000\">materials helped you to mentally transition from the relaxing Sunday mindset into a proactive, prepared state. This</span>\n",
       "<span style=\"color: #008000; text-decoration-color: #008000\">planning session reinforced a sense of calm control, easing any potential anxieties about the week to come while </span>\n",
       "<span style=\"color: #008000; text-decoration-color: #008000\">maintaining the tranquil energy of your day. The snowy day outside persisted, providing a serene and neutral </span>\n",
       "<span style=\"color: #008000; text-decoration-color: #008000\">backdrop to this reflective and practical activity.'</span>,\n",
       "    <span style=\"color: #808000; text-decoration-color: #808000\">pain_level</span>=<span style=\"color: #008080; text-decoration-color: #008080; font-weight: bold\">25</span>,\n",
       "    <span style=\"color: #808000; text-decoration-color: #808000\">pleasure_level</span>=<span style=\"color: #008080; text-decoration-color: #008080; font-weight: bold\">80</span>,\n",
       "    <span style=\"color: #808000; text-decoration-color: #808000\">health_level</span>=<span style=\"color: #008080; text-decoration-color: #008080; font-weight: bold\">83</span>,\n",
       "    <span style=\"color: #808000; text-decoration-color: #808000\">focus_level</span>=<span style=\"color: #008080; text-decoration-color: #008080; font-weight: bold\">80</span>\n",
       "<span style=\"font-weight: bold\">)</span>\n",
       "</pre>\n"
      ],
      "text/plain": [
       "\u001b[1;35mStateVariables\u001b[0m\u001b[1m(\u001b[0m\n",
       "    \u001b[33mcontext\u001b[0m=\u001b[32m'You took the opportunity in the late afternoon to spend 30 minutes organizing and planning for the \u001b[0m\n",
       "\u001b[32mweek ahead. Sitting quietly with your planner or digital calendar, you reviewed appointments, tasks, and \u001b[0m\n",
       "\u001b[32mcommitments, jotting them down methodically. The act of preparing a simple to-do list or assembling necessary \u001b[0m\n",
       "\u001b[32mmaterials helped you to mentally transition from the relaxing Sunday mindset into a proactive, prepared state. This\u001b[0m\n",
       "\u001b[32mplanning session reinforced a sense of calm control, easing any potential anxieties about the week to come while \u001b[0m\n",
       "\u001b[32mmaintaining the tranquil energy of your day. The snowy day outside persisted, providing a serene and neutral \u001b[0m\n",
       "\u001b[32mbackdrop to this reflective and practical activity.'\u001b[0m,\n",
       "    \u001b[33mpain_level\u001b[0m=\u001b[1;36m25\u001b[0m,\n",
       "    \u001b[33mpleasure_level\u001b[0m=\u001b[1;36m80\u001b[0m,\n",
       "    \u001b[33mhealth_level\u001b[0m=\u001b[1;36m83\u001b[0m,\n",
       "    \u001b[33mfocus_level\u001b[0m=\u001b[1;36m80\u001b[0m\n",
       "\u001b[1m)\u001b[0m\n"
      ]
     },
     "metadata": {},
     "output_type": "display_data"
    }
   ],
   "source": [
    "actions = life.sample_actions()\n",
    "for action in actions:\n",
    "    rprint(action)"
   ]
  },
  {
   "cell_type": "code",
   "execution_count": 18,
   "metadata": {},
   "outputs": [],
   "source": [
    "import pandas\n",
    "\n",
    "pandas.options.plotting.backend = \"plotly\"\n",
    "\n",
    "df = pandas.DataFrame(\n",
    "    [\n",
    "        {**x.state_variables.model_dump(), **x.environment_variables.model_dump()}\n",
    "        for x in life.states\n",
    "    ]\n",
    ")[\n",
    "    [\n",
    "        \"pain_level\",\n",
    "        \"pleasure_level\",\n",
    "        \"health_level\",\n",
    "        \"focus_level\",\n",
    "        \"hour_of_day\",\n",
    "    ]\n",
    "]"
   ]
  },
  {
   "cell_type": "code",
   "execution_count": 19,
   "metadata": {},
   "outputs": [
    {
     "data": {
      "application/vnd.plotly.v1+json": {
       "config": {
        "plotlyServerURL": "https://plot.ly"
       },
       "data": [
        {
         "hovertemplate": "variable=pain_level<br>hour_of_day=%{x}<br>value=%{y}<extra></extra>",
         "legendgroup": "pain_level",
         "line": {
          "color": "#636efa",
          "dash": "solid"
         },
         "marker": {
          "symbol": "circle"
         },
         "mode": "lines",
         "name": "pain_level",
         "orientation": "v",
         "showlegend": true,
         "type": "scatter",
         "x": {
          "bdata": "AAAAAAAAJEAAAAAAAAAmQAAAAAAAAChAAAAAAAAAKUAAAAAAAIAqQAAAAAAAgCxAAAAAAAAALUAAAAAAAAAwQAAAAAAAwDBAAAAAAADAMUAAAAAAAMAyQA==",
          "dtype": "f8"
         },
         "xaxis": "x",
         "y": {
          "bdata": "UDw3MjAtKy0uLCo=",
          "dtype": "i1"
         },
         "yaxis": "y"
        },
        {
         "hovertemplate": "variable=pleasure_level<br>hour_of_day=%{x}<br>value=%{y}<extra></extra>",
         "legendgroup": "pleasure_level",
         "line": {
          "color": "#EF553B",
          "dash": "solid"
         },
         "marker": {
          "symbol": "circle"
         },
         "mode": "lines",
         "name": "pleasure_level",
         "orientation": "v",
         "showlegend": true,
         "type": "scatter",
         "x": {
          "bdata": "AAAAAAAAJEAAAAAAAAAmQAAAAAAAAChAAAAAAAAAKUAAAAAAAIAqQAAAAAAAgCxAAAAAAAAALUAAAAAAAAAwQAAAAAAAwDBAAAAAAADAMUAAAAAAAMAyQA==",
          "dtype": "f8"
         },
         "xaxis": "x",
         "y": {
          "bdata": "FCgtMjc8PkRGSkw=",
          "dtype": "i1"
         },
         "yaxis": "y"
        },
        {
         "hovertemplate": "variable=health_level<br>hour_of_day=%{x}<br>value=%{y}<extra></extra>",
         "legendgroup": "health_level",
         "line": {
          "color": "#00cc96",
          "dash": "solid"
         },
         "marker": {
          "symbol": "circle"
         },
         "mode": "lines",
         "name": "health_level",
         "orientation": "v",
         "showlegend": true,
         "type": "scatter",
         "x": {
          "bdata": "AAAAAAAAJEAAAAAAAAAmQAAAAAAAAChAAAAAAAAAKUAAAAAAAIAqQAAAAAAAgCxAAAAAAAAALUAAAAAAAAAwQAAAAAAAwDBAAAAAAADAMUAAAAAAAMAyQA==",
          "dtype": "f8"
         },
         "xaxis": "x",
         "y": {
          "bdata": "KDc8PkFDRURFR0g=",
          "dtype": "i1"
         },
         "yaxis": "y"
        },
        {
         "hovertemplate": "variable=focus_level<br>hour_of_day=%{x}<br>value=%{y}<extra></extra>",
         "legendgroup": "focus_level",
         "line": {
          "color": "#ab63fa",
          "dash": "solid"
         },
         "marker": {
          "symbol": "circle"
         },
         "mode": "lines",
         "name": "focus_level",
         "orientation": "v",
         "showlegend": true,
         "type": "scatter",
         "x": {
          "bdata": "AAAAAAAAJEAAAAAAAAAmQAAAAAAAAChAAAAAAAAAKUAAAAAAAIAqQAAAAAAAgCxAAAAAAAAALUAAAAAAAAAwQAAAAAAAwDBAAAAAAADAMUAAAAAAAMAyQA==",
          "dtype": "f8"
         },
         "xaxis": "x",
         "y": {
          "bdata": "Hi0yNzxBQ0ZEQkA=",
          "dtype": "i1"
         },
         "yaxis": "y"
        }
       ],
       "layout": {
        "legend": {
         "title": {
          "text": "variable"
         },
         "tracegroupgap": 0
        },
        "margin": {
         "t": 60
        },
        "template": {
         "data": {
          "bar": [
           {
            "error_x": {
             "color": "#2a3f5f"
            },
            "error_y": {
             "color": "#2a3f5f"
            },
            "marker": {
             "line": {
              "color": "#E5ECF6",
              "width": 0.5
             },
             "pattern": {
              "fillmode": "overlay",
              "size": 10,
              "solidity": 0.2
             }
            },
            "type": "bar"
           }
          ],
          "barpolar": [
           {
            "marker": {
             "line": {
              "color": "#E5ECF6",
              "width": 0.5
             },
             "pattern": {
              "fillmode": "overlay",
              "size": 10,
              "solidity": 0.2
             }
            },
            "type": "barpolar"
           }
          ],
          "carpet": [
           {
            "aaxis": {
             "endlinecolor": "#2a3f5f",
             "gridcolor": "white",
             "linecolor": "white",
             "minorgridcolor": "white",
             "startlinecolor": "#2a3f5f"
            },
            "baxis": {
             "endlinecolor": "#2a3f5f",
             "gridcolor": "white",
             "linecolor": "white",
             "minorgridcolor": "white",
             "startlinecolor": "#2a3f5f"
            },
            "type": "carpet"
           }
          ],
          "choropleth": [
           {
            "colorbar": {
             "outlinewidth": 0,
             "ticks": ""
            },
            "type": "choropleth"
           }
          ],
          "contour": [
           {
            "colorbar": {
             "outlinewidth": 0,
             "ticks": ""
            },
            "colorscale": [
             [
              0,
              "#0d0887"
             ],
             [
              0.1111111111111111,
              "#46039f"
             ],
             [
              0.2222222222222222,
              "#7201a8"
             ],
             [
              0.3333333333333333,
              "#9c179e"
             ],
             [
              0.4444444444444444,
              "#bd3786"
             ],
             [
              0.5555555555555556,
              "#d8576b"
             ],
             [
              0.6666666666666666,
              "#ed7953"
             ],
             [
              0.7777777777777778,
              "#fb9f3a"
             ],
             [
              0.8888888888888888,
              "#fdca26"
             ],
             [
              1,
              "#f0f921"
             ]
            ],
            "type": "contour"
           }
          ],
          "contourcarpet": [
           {
            "colorbar": {
             "outlinewidth": 0,
             "ticks": ""
            },
            "type": "contourcarpet"
           }
          ],
          "heatmap": [
           {
            "colorbar": {
             "outlinewidth": 0,
             "ticks": ""
            },
            "colorscale": [
             [
              0,
              "#0d0887"
             ],
             [
              0.1111111111111111,
              "#46039f"
             ],
             [
              0.2222222222222222,
              "#7201a8"
             ],
             [
              0.3333333333333333,
              "#9c179e"
             ],
             [
              0.4444444444444444,
              "#bd3786"
             ],
             [
              0.5555555555555556,
              "#d8576b"
             ],
             [
              0.6666666666666666,
              "#ed7953"
             ],
             [
              0.7777777777777778,
              "#fb9f3a"
             ],
             [
              0.8888888888888888,
              "#fdca26"
             ],
             [
              1,
              "#f0f921"
             ]
            ],
            "type": "heatmap"
           }
          ],
          "histogram": [
           {
            "marker": {
             "pattern": {
              "fillmode": "overlay",
              "size": 10,
              "solidity": 0.2
             }
            },
            "type": "histogram"
           }
          ],
          "histogram2d": [
           {
            "colorbar": {
             "outlinewidth": 0,
             "ticks": ""
            },
            "colorscale": [
             [
              0,
              "#0d0887"
             ],
             [
              0.1111111111111111,
              "#46039f"
             ],
             [
              0.2222222222222222,
              "#7201a8"
             ],
             [
              0.3333333333333333,
              "#9c179e"
             ],
             [
              0.4444444444444444,
              "#bd3786"
             ],
             [
              0.5555555555555556,
              "#d8576b"
             ],
             [
              0.6666666666666666,
              "#ed7953"
             ],
             [
              0.7777777777777778,
              "#fb9f3a"
             ],
             [
              0.8888888888888888,
              "#fdca26"
             ],
             [
              1,
              "#f0f921"
             ]
            ],
            "type": "histogram2d"
           }
          ],
          "histogram2dcontour": [
           {
            "colorbar": {
             "outlinewidth": 0,
             "ticks": ""
            },
            "colorscale": [
             [
              0,
              "#0d0887"
             ],
             [
              0.1111111111111111,
              "#46039f"
             ],
             [
              0.2222222222222222,
              "#7201a8"
             ],
             [
              0.3333333333333333,
              "#9c179e"
             ],
             [
              0.4444444444444444,
              "#bd3786"
             ],
             [
              0.5555555555555556,
              "#d8576b"
             ],
             [
              0.6666666666666666,
              "#ed7953"
             ],
             [
              0.7777777777777778,
              "#fb9f3a"
             ],
             [
              0.8888888888888888,
              "#fdca26"
             ],
             [
              1,
              "#f0f921"
             ]
            ],
            "type": "histogram2dcontour"
           }
          ],
          "mesh3d": [
           {
            "colorbar": {
             "outlinewidth": 0,
             "ticks": ""
            },
            "type": "mesh3d"
           }
          ],
          "parcoords": [
           {
            "line": {
             "colorbar": {
              "outlinewidth": 0,
              "ticks": ""
             }
            },
            "type": "parcoords"
           }
          ],
          "pie": [
           {
            "automargin": true,
            "type": "pie"
           }
          ],
          "scatter": [
           {
            "fillpattern": {
             "fillmode": "overlay",
             "size": 10,
             "solidity": 0.2
            },
            "type": "scatter"
           }
          ],
          "scatter3d": [
           {
            "line": {
             "colorbar": {
              "outlinewidth": 0,
              "ticks": ""
             }
            },
            "marker": {
             "colorbar": {
              "outlinewidth": 0,
              "ticks": ""
             }
            },
            "type": "scatter3d"
           }
          ],
          "scattercarpet": [
           {
            "marker": {
             "colorbar": {
              "outlinewidth": 0,
              "ticks": ""
             }
            },
            "type": "scattercarpet"
           }
          ],
          "scattergeo": [
           {
            "marker": {
             "colorbar": {
              "outlinewidth": 0,
              "ticks": ""
             }
            },
            "type": "scattergeo"
           }
          ],
          "scattergl": [
           {
            "marker": {
             "colorbar": {
              "outlinewidth": 0,
              "ticks": ""
             }
            },
            "type": "scattergl"
           }
          ],
          "scattermap": [
           {
            "marker": {
             "colorbar": {
              "outlinewidth": 0,
              "ticks": ""
             }
            },
            "type": "scattermap"
           }
          ],
          "scattermapbox": [
           {
            "marker": {
             "colorbar": {
              "outlinewidth": 0,
              "ticks": ""
             }
            },
            "type": "scattermapbox"
           }
          ],
          "scatterpolar": [
           {
            "marker": {
             "colorbar": {
              "outlinewidth": 0,
              "ticks": ""
             }
            },
            "type": "scatterpolar"
           }
          ],
          "scatterpolargl": [
           {
            "marker": {
             "colorbar": {
              "outlinewidth": 0,
              "ticks": ""
             }
            },
            "type": "scatterpolargl"
           }
          ],
          "scatterternary": [
           {
            "marker": {
             "colorbar": {
              "outlinewidth": 0,
              "ticks": ""
             }
            },
            "type": "scatterternary"
           }
          ],
          "surface": [
           {
            "colorbar": {
             "outlinewidth": 0,
             "ticks": ""
            },
            "colorscale": [
             [
              0,
              "#0d0887"
             ],
             [
              0.1111111111111111,
              "#46039f"
             ],
             [
              0.2222222222222222,
              "#7201a8"
             ],
             [
              0.3333333333333333,
              "#9c179e"
             ],
             [
              0.4444444444444444,
              "#bd3786"
             ],
             [
              0.5555555555555556,
              "#d8576b"
             ],
             [
              0.6666666666666666,
              "#ed7953"
             ],
             [
              0.7777777777777778,
              "#fb9f3a"
             ],
             [
              0.8888888888888888,
              "#fdca26"
             ],
             [
              1,
              "#f0f921"
             ]
            ],
            "type": "surface"
           }
          ],
          "table": [
           {
            "cells": {
             "fill": {
              "color": "#EBF0F8"
             },
             "line": {
              "color": "white"
             }
            },
            "header": {
             "fill": {
              "color": "#C8D4E3"
             },
             "line": {
              "color": "white"
             }
            },
            "type": "table"
           }
          ]
         },
         "layout": {
          "annotationdefaults": {
           "arrowcolor": "#2a3f5f",
           "arrowhead": 0,
           "arrowwidth": 1
          },
          "autotypenumbers": "strict",
          "coloraxis": {
           "colorbar": {
            "outlinewidth": 0,
            "ticks": ""
           }
          },
          "colorscale": {
           "diverging": [
            [
             0,
             "#8e0152"
            ],
            [
             0.1,
             "#c51b7d"
            ],
            [
             0.2,
             "#de77ae"
            ],
            [
             0.3,
             "#f1b6da"
            ],
            [
             0.4,
             "#fde0ef"
            ],
            [
             0.5,
             "#f7f7f7"
            ],
            [
             0.6,
             "#e6f5d0"
            ],
            [
             0.7,
             "#b8e186"
            ],
            [
             0.8,
             "#7fbc41"
            ],
            [
             0.9,
             "#4d9221"
            ],
            [
             1,
             "#276419"
            ]
           ],
           "sequential": [
            [
             0,
             "#0d0887"
            ],
            [
             0.1111111111111111,
             "#46039f"
            ],
            [
             0.2222222222222222,
             "#7201a8"
            ],
            [
             0.3333333333333333,
             "#9c179e"
            ],
            [
             0.4444444444444444,
             "#bd3786"
            ],
            [
             0.5555555555555556,
             "#d8576b"
            ],
            [
             0.6666666666666666,
             "#ed7953"
            ],
            [
             0.7777777777777778,
             "#fb9f3a"
            ],
            [
             0.8888888888888888,
             "#fdca26"
            ],
            [
             1,
             "#f0f921"
            ]
           ],
           "sequentialminus": [
            [
             0,
             "#0d0887"
            ],
            [
             0.1111111111111111,
             "#46039f"
            ],
            [
             0.2222222222222222,
             "#7201a8"
            ],
            [
             0.3333333333333333,
             "#9c179e"
            ],
            [
             0.4444444444444444,
             "#bd3786"
            ],
            [
             0.5555555555555556,
             "#d8576b"
            ],
            [
             0.6666666666666666,
             "#ed7953"
            ],
            [
             0.7777777777777778,
             "#fb9f3a"
            ],
            [
             0.8888888888888888,
             "#fdca26"
            ],
            [
             1,
             "#f0f921"
            ]
           ]
          },
          "colorway": [
           "#636efa",
           "#EF553B",
           "#00cc96",
           "#ab63fa",
           "#FFA15A",
           "#19d3f3",
           "#FF6692",
           "#B6E880",
           "#FF97FF",
           "#FECB52"
          ],
          "font": {
           "color": "#2a3f5f"
          },
          "geo": {
           "bgcolor": "white",
           "lakecolor": "white",
           "landcolor": "#E5ECF6",
           "showlakes": true,
           "showland": true,
           "subunitcolor": "white"
          },
          "hoverlabel": {
           "align": "left"
          },
          "hovermode": "closest",
          "mapbox": {
           "style": "light"
          },
          "paper_bgcolor": "white",
          "plot_bgcolor": "#E5ECF6",
          "polar": {
           "angularaxis": {
            "gridcolor": "white",
            "linecolor": "white",
            "ticks": ""
           },
           "bgcolor": "#E5ECF6",
           "radialaxis": {
            "gridcolor": "white",
            "linecolor": "white",
            "ticks": ""
           }
          },
          "scene": {
           "xaxis": {
            "backgroundcolor": "#E5ECF6",
            "gridcolor": "white",
            "gridwidth": 2,
            "linecolor": "white",
            "showbackground": true,
            "ticks": "",
            "zerolinecolor": "white"
           },
           "yaxis": {
            "backgroundcolor": "#E5ECF6",
            "gridcolor": "white",
            "gridwidth": 2,
            "linecolor": "white",
            "showbackground": true,
            "ticks": "",
            "zerolinecolor": "white"
           },
           "zaxis": {
            "backgroundcolor": "#E5ECF6",
            "gridcolor": "white",
            "gridwidth": 2,
            "linecolor": "white",
            "showbackground": true,
            "ticks": "",
            "zerolinecolor": "white"
           }
          },
          "shapedefaults": {
           "line": {
            "color": "#2a3f5f"
           }
          },
          "ternary": {
           "aaxis": {
            "gridcolor": "white",
            "linecolor": "white",
            "ticks": ""
           },
           "baxis": {
            "gridcolor": "white",
            "linecolor": "white",
            "ticks": ""
           },
           "bgcolor": "#E5ECF6",
           "caxis": {
            "gridcolor": "white",
            "linecolor": "white",
            "ticks": ""
           }
          },
          "title": {
           "x": 0.05
          },
          "xaxis": {
           "automargin": true,
           "gridcolor": "white",
           "linecolor": "white",
           "ticks": "",
           "title": {
            "standoff": 15
           },
           "zerolinecolor": "white",
           "zerolinewidth": 2
          },
          "yaxis": {
           "automargin": true,
           "gridcolor": "white",
           "linecolor": "white",
           "ticks": "",
           "title": {
            "standoff": 15
           },
           "zerolinecolor": "white",
           "zerolinewidth": 2
          }
         }
        },
        "xaxis": {
         "anchor": "y",
         "domain": [
          0,
          1
         ],
         "title": {
          "text": "hour_of_day"
         }
        },
        "yaxis": {
         "anchor": "x",
         "domain": [
          0,
          1
         ],
         "title": {
          "text": "value"
         }
        }
       }
      }
     },
     "metadata": {},
     "output_type": "display_data"
    }
   ],
   "source": [
    "df.set_index(\"hour_of_day\").plot()"
   ]
  },
  {
   "cell_type": "code",
   "execution_count": null,
   "metadata": {},
   "outputs": [],
   "source": []
  }
 ],
 "metadata": {
  "kernelspec": {
   "display_name": ".venv",
   "language": "python",
   "name": "python3"
  },
  "language_info": {
   "codemirror_mode": {
    "name": "ipython",
    "version": 3
   },
   "file_extension": ".py",
   "mimetype": "text/x-python",
   "name": "python",
   "nbconvert_exporter": "python",
   "pygments_lexer": "ipython3",
   "version": "3.10.16"
  }
 },
 "nbformat": 4,
 "nbformat_minor": 2
}
